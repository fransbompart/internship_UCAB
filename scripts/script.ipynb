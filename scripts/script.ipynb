{
 "cells": [
  {
   "cell_type": "code",
   "execution_count": 1,
   "metadata": {},
   "outputs": [],
   "source": [
    "import os\n",
    "# for the model\n",
    "import tensorflow as tf\n",
    "import tensorflow_docs as tfdocs\n",
    "import tensorflow_docs.plots\n",
    "import tensorflow_docs.modeling\n",
    "from tensorflow import keras\n",
    "from tensorflow.keras.models import Sequential\n",
    "from tensorflow.keras.layers import *\n",
    "from tensorflow.keras import optimizers\n",
    "from tensorflow.keras.callbacks import TensorBoard\n",
    "\n",
    "from sklearn.model_selection import train_test_split, KFold, GridSearchCV\n",
    "from sklearn.svm import SVR\n",
    "from sklearn.metrics import mean_squared_error, mean_absolute_error\n",
    "\n",
    "# for data manipulation and graphing\n",
    "import pathlib\n",
    "import numpy as np\n",
    "import matplotlib.pyplot as plt\n",
    "import pandas as pd\n",
    "import seaborn as sns\n",
    "\n",
    "from IPython.display import display, HTML\n",
    "\n",
    "import netron\n",
    "\n",
    "tf.random.set_seed(42) # set seed for reproducibility\n",
    "tf.debugging.set_log_device_placement(False)"
   ]
  },
  {
   "cell_type": "markdown",
   "metadata": {},
   "source": [
    "## Data preprocessing"
   ]
  },
  {
   "cell_type": "code",
   "execution_count": 4,
   "metadata": {},
   "outputs": [
    {
     "data": {
      "text/html": [
       "<div>\n",
       "<style scoped>\n",
       "    .dataframe tbody tr th:only-of-type {\n",
       "        vertical-align: middle;\n",
       "    }\n",
       "\n",
       "    .dataframe tbody tr th {\n",
       "        vertical-align: top;\n",
       "    }\n",
       "\n",
       "    .dataframe thead th {\n",
       "        text-align: right;\n",
       "    }\n",
       "</style>\n",
       "<table border=\"1\" class=\"dataframe\">\n",
       "  <thead>\n",
       "    <tr style=\"text-align: right;\">\n",
       "      <th></th>\n",
       "      <th>Task_ID</th>\n",
       "      <th>Priority</th>\n",
       "      <th>Project_ID</th>\n",
       "      <th>Project_code</th>\n",
       "      <th>Category</th>\n",
       "      <th>Total_developers</th>\n",
       "      <th>TaskPerformance</th>\n",
       "      <th>DeveloperPerformance</th>\n",
       "      <th>Hours_estimate</th>\n",
       "      <th>Hours_logged</th>\n",
       "      <th>Difference</th>\n",
       "      <th>Estimate_Effort</th>\n",
       "    </tr>\n",
       "  </thead>\n",
       "  <tbody>\n",
       "    <tr>\n",
       "      <th>0</th>\n",
       "      <td>13728</td>\n",
       "      <td>1</td>\n",
       "      <td>10</td>\n",
       "      <td>PC10</td>\n",
       "      <td>Enhancement</td>\n",
       "      <td>1</td>\n",
       "      <td>6.47</td>\n",
       "      <td>6.47</td>\n",
       "      <td>28.0</td>\n",
       "      <td>21.53</td>\n",
       "      <td>6.47</td>\n",
       "      <td>4.568966</td>\n",
       "    </tr>\n",
       "    <tr>\n",
       "      <th>1</th>\n",
       "      <td>3530</td>\n",
       "      <td>1</td>\n",
       "      <td>9</td>\n",
       "      <td>PC9</td>\n",
       "      <td>Bug</td>\n",
       "      <td>1</td>\n",
       "      <td>6.46</td>\n",
       "      <td>6.46</td>\n",
       "      <td>7.0</td>\n",
       "      <td>0.54</td>\n",
       "      <td>6.46</td>\n",
       "      <td>1.853448</td>\n",
       "    </tr>\n",
       "    <tr>\n",
       "      <th>2</th>\n",
       "      <td>6163</td>\n",
       "      <td>1</td>\n",
       "      <td>9</td>\n",
       "      <td>PC9</td>\n",
       "      <td>Release</td>\n",
       "      <td>1</td>\n",
       "      <td>-6.45</td>\n",
       "      <td>-3.95</td>\n",
       "      <td>2.0</td>\n",
       "      <td>8.45</td>\n",
       "      <td>6.45</td>\n",
       "      <td>1.206897</td>\n",
       "    </tr>\n",
       "    <tr>\n",
       "      <th>3</th>\n",
       "      <td>6163</td>\n",
       "      <td>1</td>\n",
       "      <td>9</td>\n",
       "      <td>PC9</td>\n",
       "      <td>Release</td>\n",
       "      <td>1</td>\n",
       "      <td>-6.45</td>\n",
       "      <td>NaN</td>\n",
       "      <td>2.0</td>\n",
       "      <td>8.45</td>\n",
       "      <td>6.45</td>\n",
       "      <td>1.206897</td>\n",
       "    </tr>\n",
       "    <tr>\n",
       "      <th>4</th>\n",
       "      <td>11241</td>\n",
       "      <td>1</td>\n",
       "      <td>9</td>\n",
       "      <td>PC9</td>\n",
       "      <td>Enhancement</td>\n",
       "      <td>1</td>\n",
       "      <td>-6.38</td>\n",
       "      <td>-5.68</td>\n",
       "      <td>70.0</td>\n",
       "      <td>76.38</td>\n",
       "      <td>6.38</td>\n",
       "      <td>10.000000</td>\n",
       "    </tr>\n",
       "  </tbody>\n",
       "</table>\n",
       "</div>"
      ],
      "text/plain": [
       "   Task_ID  Priority  Project_ID Project_code     Category  Total_developers  \\\n",
       "0    13728         1          10         PC10  Enhancement                 1   \n",
       "1     3530         1           9          PC9          Bug                 1   \n",
       "2     6163         1           9          PC9      Release                 1   \n",
       "3     6163         1           9          PC9      Release                 1   \n",
       "4    11241         1           9          PC9  Enhancement                 1   \n",
       "\n",
       "   TaskPerformance  DeveloperPerformance  Hours_estimate  Hours_logged  \\\n",
       "0             6.47                  6.47            28.0         21.53   \n",
       "1             6.46                  6.46             7.0          0.54   \n",
       "2            -6.45                 -3.95             2.0          8.45   \n",
       "3            -6.45                   NaN             2.0          8.45   \n",
       "4            -6.38                 -5.68            70.0         76.38   \n",
       "\n",
       "   Difference  Estimate_Effort  \n",
       "0        6.47         4.568966  \n",
       "1        6.46         1.853448  \n",
       "2        6.45         1.206897  \n",
       "3        6.45         1.206897  \n",
       "4        6.38        10.000000  "
      ]
     },
     "execution_count": 4,
     "metadata": {},
     "output_type": "execute_result"
    }
   ],
   "source": [
    "original_dataset = pd.read_csv(r'..\\datasets\\data_sip.csv')\n",
    "original_dataset.head()"
   ]
  },
  {
   "cell_type": "code",
   "execution_count": 5,
   "metadata": {},
   "outputs": [
    {
     "name": "stdout",
     "output_type": "stream",
     "text": [
      "<class 'pandas.core.frame.DataFrame'>\n",
      "RangeIndex: 3937 entries, 0 to 3936\n",
      "Data columns (total 12 columns):\n",
      " #   Column                Non-Null Count  Dtype  \n",
      "---  ------                --------------  -----  \n",
      " 0   Task_ID               3937 non-null   int64  \n",
      " 1   Priority              3937 non-null   int64  \n",
      " 2   Project_ID            3937 non-null   int64  \n",
      " 3   Project_code          3937 non-null   object \n",
      " 4   Category              3937 non-null   object \n",
      " 5   Total_developers      3937 non-null   int64  \n",
      " 6   TaskPerformance       3937 non-null   float64\n",
      " 7   DeveloperPerformance  3548 non-null   float64\n",
      " 8   Hours_estimate        3937 non-null   float64\n",
      " 9   Hours_logged          3937 non-null   float64\n",
      " 10  Difference            3937 non-null   float64\n",
      " 11  Estimate_Effort       3937 non-null   float64\n",
      "dtypes: float64(6), int64(4), object(2)\n",
      "memory usage: 369.2+ KB\n"
     ]
    }
   ],
   "source": [
    "# show the metadata\n",
    "original_dataset.info()"
   ]
  },
  {
   "cell_type": "code",
   "execution_count": 6,
   "metadata": {},
   "outputs": [],
   "source": [
    "# drop all the unnecessary columns\n",
    "clean_dataset = original_dataset[[\n",
    "    'Priority',\n",
    "    'Category',\n",
    "    'Total_developers',\n",
    "    'Estimate_Effort',\n",
    "    'Hours_logged',\n",
    "]]\n",
    "\n",
    "# desnormalizing data\n",
    "clean_dataset = pd.get_dummies(clean_dataset, columns=['Category'])\n",
    "clean_dataset = clean_dataset.astype(int)"
   ]
  },
  {
   "cell_type": "code",
   "execution_count": 7,
   "metadata": {},
   "outputs": [
    {
     "data": {
      "text/html": [
       "<div>\n",
       "<style scoped>\n",
       "    .dataframe tbody tr th:only-of-type {\n",
       "        vertical-align: middle;\n",
       "    }\n",
       "\n",
       "    .dataframe tbody tr th {\n",
       "        vertical-align: top;\n",
       "    }\n",
       "\n",
       "    .dataframe thead th {\n",
       "        text-align: right;\n",
       "    }\n",
       "</style>\n",
       "<table border=\"1\" class=\"dataframe\">\n",
       "  <thead>\n",
       "    <tr style=\"text-align: right;\">\n",
       "      <th></th>\n",
       "      <th>Priority</th>\n",
       "      <th>Total_developers</th>\n",
       "      <th>Estimate_Effort</th>\n",
       "      <th>Hours_logged</th>\n",
       "      <th>Category_Bug</th>\n",
       "      <th>Category_Enhancement</th>\n",
       "      <th>Category_Release</th>\n",
       "      <th>Category_Testing</th>\n",
       "    </tr>\n",
       "  </thead>\n",
       "  <tbody>\n",
       "    <tr>\n",
       "      <th>0</th>\n",
       "      <td>1</td>\n",
       "      <td>1</td>\n",
       "      <td>4</td>\n",
       "      <td>21</td>\n",
       "      <td>0</td>\n",
       "      <td>1</td>\n",
       "      <td>0</td>\n",
       "      <td>0</td>\n",
       "    </tr>\n",
       "    <tr>\n",
       "      <th>1</th>\n",
       "      <td>1</td>\n",
       "      <td>1</td>\n",
       "      <td>1</td>\n",
       "      <td>0</td>\n",
       "      <td>1</td>\n",
       "      <td>0</td>\n",
       "      <td>0</td>\n",
       "      <td>0</td>\n",
       "    </tr>\n",
       "    <tr>\n",
       "      <th>2</th>\n",
       "      <td>1</td>\n",
       "      <td>1</td>\n",
       "      <td>1</td>\n",
       "      <td>8</td>\n",
       "      <td>0</td>\n",
       "      <td>0</td>\n",
       "      <td>1</td>\n",
       "      <td>0</td>\n",
       "    </tr>\n",
       "    <tr>\n",
       "      <th>3</th>\n",
       "      <td>1</td>\n",
       "      <td>1</td>\n",
       "      <td>1</td>\n",
       "      <td>8</td>\n",
       "      <td>0</td>\n",
       "      <td>0</td>\n",
       "      <td>1</td>\n",
       "      <td>0</td>\n",
       "    </tr>\n",
       "    <tr>\n",
       "      <th>4</th>\n",
       "      <td>1</td>\n",
       "      <td>1</td>\n",
       "      <td>10</td>\n",
       "      <td>76</td>\n",
       "      <td>0</td>\n",
       "      <td>1</td>\n",
       "      <td>0</td>\n",
       "      <td>0</td>\n",
       "    </tr>\n",
       "  </tbody>\n",
       "</table>\n",
       "</div>"
      ],
      "text/plain": [
       "   Priority  Total_developers  Estimate_Effort  Hours_logged  Category_Bug  \\\n",
       "0         1                 1                4            21             0   \n",
       "1         1                 1                1             0             1   \n",
       "2         1                 1                1             8             0   \n",
       "3         1                 1                1             8             0   \n",
       "4         1                 1               10            76             0   \n",
       "\n",
       "   Category_Enhancement  Category_Release  Category_Testing  \n",
       "0                     1                 0                 0  \n",
       "1                     0                 0                 0  \n",
       "2                     0                 1                 0  \n",
       "3                     0                 1                 0  \n",
       "4                     1                 0                 0  "
      ]
     },
     "execution_count": 7,
     "metadata": {},
     "output_type": "execute_result"
    }
   ],
   "source": [
    "clean_dataset.head()"
   ]
  },
  {
   "cell_type": "code",
   "execution_count": 8,
   "metadata": {},
   "outputs": [
    {
     "name": "stdout",
     "output_type": "stream",
     "text": [
      "<class 'pandas.core.frame.DataFrame'>\n",
      "RangeIndex: 3937 entries, 0 to 3936\n",
      "Data columns (total 8 columns):\n",
      " #   Column                Non-Null Count  Dtype\n",
      "---  ------                --------------  -----\n",
      " 0   Priority              3937 non-null   int32\n",
      " 1   Total_developers      3937 non-null   int32\n",
      " 2   Estimate_Effort       3937 non-null   int32\n",
      " 3   Hours_logged          3937 non-null   int32\n",
      " 4   Category_Bug          3937 non-null   int32\n",
      " 5   Category_Enhancement  3937 non-null   int32\n",
      " 6   Category_Release      3937 non-null   int32\n",
      " 7   Category_Testing      3937 non-null   int32\n",
      "dtypes: int32(8)\n",
      "memory usage: 123.2 KB\n"
     ]
    }
   ],
   "source": [
    "clean_dataset.info()"
   ]
  },
  {
   "cell_type": "markdown",
   "metadata": {},
   "source": [
    "### Data sampling\n",
    "\n",
    "Split the data into train, test and validate samples to fit and evaluate the model\n",
    "\n",
    "The percentage of each one will be\n",
    "\n",
    "- 60% training\n",
    "- 20% testing\n",
    "- 20% validating"
   ]
  },
  {
   "cell_type": "code",
   "execution_count": 9,
   "metadata": {},
   "outputs": [
    {
     "name": "stdout",
     "output_type": "stream",
     "text": [
      "Samples shape\n",
      "    Train: (3149, 8)\n",
      "    Test: (394, 8)\n",
      "    Validation: (394, 8)\n"
     ]
    }
   ],
   "source": [
    "train_dataset, temp_test_dataset = train_test_split(clean_dataset, test_size=0.20)\n",
    "\n",
    "validation_dataset, test_dataset = train_test_split(temp_test_dataset, test_size=0.50)\n",
    "\n",
    "print(\"Samples shape\")\n",
    "print(f\"    Train: {train_dataset.shape}\")\n",
    "print(f\"    Test: {test_dataset.shape}\")\n",
    "print(f\"    Validation: {validation_dataset.shape}\")"
   ]
  },
  {
   "cell_type": "markdown",
   "metadata": {},
   "source": [
    "### Data analysis\n",
    "\n",
    "Calculate the correlation and other statistics on the train dataset"
   ]
  },
  {
   "cell_type": "code",
   "execution_count": 10,
   "metadata": {},
   "outputs": [
    {
     "data": {
      "image/png": "[encoded data removed]",
      "text/plain": [
       "<Figure size 1200x400 with 2 Axes>"
      ]
     },
     "metadata": {},
     "output_type": "display_data"
    }
   ],
   "source": [
    "# correlation between the features and the target\n",
    "correlation_matrix = clean_dataset.corr()\n",
    "correlation_matrix['Hours_logged'].sort_values(ascending=False)\n",
    "\n",
    "# plot the correlation matrix\n",
    "plt.figure(figsize=(12, 4))\n",
    "sns.heatmap(correlation_matrix, annot=True, cmap='coolwarm')\n",
    "plt.title('Correlation Matrix')\n",
    "plt.show()"
   ]
  },
  {
   "cell_type": "code",
   "execution_count": 11,
   "metadata": {},
   "outputs": [
    {
     "data": {
      "text/html": [
       "<div>\n",
       "<style scoped>\n",
       "    .dataframe tbody tr th:only-of-type {\n",
       "        vertical-align: middle;\n",
       "    }\n",
       "\n",
       "    .dataframe tbody tr th {\n",
       "        vertical-align: top;\n",
       "    }\n",
       "\n",
       "    .dataframe thead th {\n",
       "        text-align: right;\n",
       "    }\n",
       "</style>\n",
       "<table border=\"1\" class=\"dataframe\">\n",
       "  <thead>\n",
       "    <tr style=\"text-align: right;\">\n",
       "      <th></th>\n",
       "      <th>count</th>\n",
       "      <th>mean</th>\n",
       "      <th>std</th>\n",
       "      <th>min</th>\n",
       "      <th>25%</th>\n",
       "      <th>50%</th>\n",
       "      <th>75%</th>\n",
       "      <th>max</th>\n",
       "    </tr>\n",
       "  </thead>\n",
       "  <tbody>\n",
       "    <tr>\n",
       "      <th>Priority</th>\n",
       "      <td>3149.0</td>\n",
       "      <td>2.282629</td>\n",
       "      <td>1.776636</td>\n",
       "      <td>1.0</td>\n",
       "      <td>1.0</td>\n",
       "      <td>1.0</td>\n",
       "      <td>3.0</td>\n",
       "      <td>10.0</td>\n",
       "    </tr>\n",
       "    <tr>\n",
       "      <th>Total_developers</th>\n",
       "      <td>3149.0</td>\n",
       "      <td>1.000000</td>\n",
       "      <td>0.000000</td>\n",
       "      <td>1.0</td>\n",
       "      <td>1.0</td>\n",
       "      <td>1.0</td>\n",
       "      <td>1.0</td>\n",
       "      <td>1.0</td>\n",
       "    </tr>\n",
       "    <tr>\n",
       "      <th>Estimate_Effort</th>\n",
       "      <td>3149.0</td>\n",
       "      <td>1.161639</td>\n",
       "      <td>0.706821</td>\n",
       "      <td>1.0</td>\n",
       "      <td>1.0</td>\n",
       "      <td>1.0</td>\n",
       "      <td>1.0</td>\n",
       "      <td>10.0</td>\n",
       "    </tr>\n",
       "    <tr>\n",
       "      <th>Category_Bug</th>\n",
       "      <td>3149.0</td>\n",
       "      <td>0.444268</td>\n",
       "      <td>0.496963</td>\n",
       "      <td>0.0</td>\n",
       "      <td>0.0</td>\n",
       "      <td>0.0</td>\n",
       "      <td>1.0</td>\n",
       "      <td>1.0</td>\n",
       "    </tr>\n",
       "    <tr>\n",
       "      <th>Category_Enhancement</th>\n",
       "      <td>3149.0</td>\n",
       "      <td>0.419498</td>\n",
       "      <td>0.493555</td>\n",
       "      <td>0.0</td>\n",
       "      <td>0.0</td>\n",
       "      <td>0.0</td>\n",
       "      <td>1.0</td>\n",
       "      <td>1.0</td>\n",
       "    </tr>\n",
       "    <tr>\n",
       "      <th>Category_Release</th>\n",
       "      <td>3149.0</td>\n",
       "      <td>0.098444</td>\n",
       "      <td>0.297961</td>\n",
       "      <td>0.0</td>\n",
       "      <td>0.0</td>\n",
       "      <td>0.0</td>\n",
       "      <td>0.0</td>\n",
       "      <td>1.0</td>\n",
       "    </tr>\n",
       "    <tr>\n",
       "      <th>Category_Testing</th>\n",
       "      <td>3149.0</td>\n",
       "      <td>0.037790</td>\n",
       "      <td>0.190718</td>\n",
       "      <td>0.0</td>\n",
       "      <td>0.0</td>\n",
       "      <td>0.0</td>\n",
       "      <td>0.0</td>\n",
       "      <td>1.0</td>\n",
       "    </tr>\n",
       "  </tbody>\n",
       "</table>\n",
       "</div>"
      ],
      "text/plain": [
       "                       count      mean       std  min  25%  50%  75%   max\n",
       "Priority              3149.0  2.282629  1.776636  1.0  1.0  1.0  3.0  10.0\n",
       "Total_developers      3149.0  1.000000  0.000000  1.0  1.0  1.0  1.0   1.0\n",
       "Estimate_Effort       3149.0  1.161639  0.706821  1.0  1.0  1.0  1.0  10.0\n",
       "Category_Bug          3149.0  0.444268  0.496963  0.0  0.0  0.0  1.0   1.0\n",
       "Category_Enhancement  3149.0  0.419498  0.493555  0.0  0.0  0.0  1.0   1.0\n",
       "Category_Release      3149.0  0.098444  0.297961  0.0  0.0  0.0  0.0   1.0\n",
       "Category_Testing      3149.0  0.037790  0.190718  0.0  0.0  0.0  0.0   1.0"
      ]
     },
     "execution_count": 11,
     "metadata": {},
     "output_type": "execute_result"
    }
   ],
   "source": [
    "# another interesting statistics like the count, mean, std, min, quartiles and max, all per feature\n",
    "train_stats = train_dataset.describe()\n",
    "train_stats.pop(\"Hours_logged\")\n",
    "train_stats = train_stats.transpose()\n",
    "train_stats"
   ]
  },
  {
   "cell_type": "markdown",
   "metadata": {},
   "source": [
    "### Feature prediction\n",
    "\n",
    "The label \"Hours Logged\" is the actual goal for our model, we will remove it from every sample and keep it apart"
   ]
  },
  {
   "cell_type": "code",
   "execution_count": 12,
   "metadata": {},
   "outputs": [],
   "source": [
    "train_label = train_dataset.pop('Hours_logged')\n",
    "test_label = test_dataset.pop('Hours_logged')\n",
    "validation_label = validation_dataset.pop('Hours_logged')"
   ]
  },
  {
   "cell_type": "markdown",
   "metadata": {},
   "source": [
    "### Data normalization/Scaling\n",
    "\n",
    "Subtract the mean of the training data and divide by the standard deviation of the training data."
   ]
  },
  {
   "cell_type": "code",
   "execution_count": 13,
   "metadata": {},
   "outputs": [],
   "source": [
    "def norm(x):\n",
    "    return (x - train_stats['mean']) / train_stats['std']\n",
    "\n",
    "normed_train_data = norm(train_dataset)\n",
    "normed_test_data = norm(test_dataset)\n",
    "normed_validation_data = norm(validation_dataset)\n",
    "\n",
    "# is some of the data is NaN, fill it with 1\n",
    "if normed_train_data['Total_developers'].isna().any():\n",
    "    normed_train_data['Total_developers'] = normed_train_data['Total_developers'].fillna(1)\n",
    "    normed_test_data['Total_developers'] = normed_test_data['Total_developers'].fillna(1)\n",
    "    normed_validation_data['Total_developers'] = normed_validation_data['Total_developers'].fillna(1)"
   ]
  },
  {
   "cell_type": "code",
   "execution_count": 14,
   "metadata": {},
   "outputs": [
    {
     "data": {
      "text/html": [
       "<div>\n",
       "<style scoped>\n",
       "    .dataframe tbody tr th:only-of-type {\n",
       "        vertical-align: middle;\n",
       "    }\n",
       "\n",
       "    .dataframe tbody tr th {\n",
       "        vertical-align: top;\n",
       "    }\n",
       "\n",
       "    .dataframe thead th {\n",
       "        text-align: right;\n",
       "    }\n",
       "</style>\n",
       "<table border=\"1\" class=\"dataframe\">\n",
       "  <thead>\n",
       "    <tr style=\"text-align: right;\">\n",
       "      <th></th>\n",
       "      <th>Priority</th>\n",
       "      <th>Total_developers</th>\n",
       "      <th>Estimate_Effort</th>\n",
       "      <th>Category_Bug</th>\n",
       "      <th>Category_Enhancement</th>\n",
       "      <th>Category_Release</th>\n",
       "      <th>Category_Testing</th>\n",
       "    </tr>\n",
       "  </thead>\n",
       "  <tbody>\n",
       "    <tr>\n",
       "      <th>1494</th>\n",
       "      <td>-0.721943</td>\n",
       "      <td>1.0</td>\n",
       "      <td>-0.228684</td>\n",
       "      <td>-0.893966</td>\n",
       "      <td>1.176164</td>\n",
       "      <td>-0.330392</td>\n",
       "      <td>-0.198145</td>\n",
       "    </tr>\n",
       "    <tr>\n",
       "      <th>2470</th>\n",
       "      <td>-0.721943</td>\n",
       "      <td>1.0</td>\n",
       "      <td>-0.228684</td>\n",
       "      <td>1.118256</td>\n",
       "      <td>-0.849952</td>\n",
       "      <td>-0.330392</td>\n",
       "      <td>-0.198145</td>\n",
       "    </tr>\n",
       "    <tr>\n",
       "      <th>55</th>\n",
       "      <td>-0.721943</td>\n",
       "      <td>1.0</td>\n",
       "      <td>1.186102</td>\n",
       "      <td>1.118256</td>\n",
       "      <td>-0.849952</td>\n",
       "      <td>-0.330392</td>\n",
       "      <td>-0.198145</td>\n",
       "    </tr>\n",
       "    <tr>\n",
       "      <th>2228</th>\n",
       "      <td>-0.721943</td>\n",
       "      <td>1.0</td>\n",
       "      <td>-0.228684</td>\n",
       "      <td>1.118256</td>\n",
       "      <td>-0.849952</td>\n",
       "      <td>-0.330392</td>\n",
       "      <td>-0.198145</td>\n",
       "    </tr>\n",
       "    <tr>\n",
       "      <th>660</th>\n",
       "      <td>-0.159081</td>\n",
       "      <td>1.0</td>\n",
       "      <td>2.600888</td>\n",
       "      <td>1.118256</td>\n",
       "      <td>-0.849952</td>\n",
       "      <td>-0.330392</td>\n",
       "      <td>-0.198145</td>\n",
       "    </tr>\n",
       "  </tbody>\n",
       "</table>\n",
       "</div>"
      ],
      "text/plain": [
       "      Priority  Total_developers  Estimate_Effort  Category_Bug  \\\n",
       "1494 -0.721943               1.0        -0.228684     -0.893966   \n",
       "2470 -0.721943               1.0        -0.228684      1.118256   \n",
       "55   -0.721943               1.0         1.186102      1.118256   \n",
       "2228 -0.721943               1.0        -0.228684      1.118256   \n",
       "660  -0.159081               1.0         2.600888      1.118256   \n",
       "\n",
       "      Category_Enhancement  Category_Release  Category_Testing  \n",
       "1494              1.176164         -0.330392         -0.198145  \n",
       "2470             -0.849952         -0.330392         -0.198145  \n",
       "55               -0.849952         -0.330392         -0.198145  \n",
       "2228             -0.849952         -0.330392         -0.198145  \n",
       "660              -0.849952         -0.330392         -0.198145  "
      ]
     },
     "execution_count": 14,
     "metadata": {},
     "output_type": "execute_result"
    }
   ],
   "source": [
    "# show a part of the normalized data\n",
    "normed_train_data.head()"
   ]
  },
  {
   "cell_type": "markdown",
   "metadata": {},
   "source": [
    "## Building the Models"
   ]
  },
  {
   "cell_type": "markdown",
   "metadata": {},
   "source": [
    "### Firts Model\n",
    "Two hidden layers with 50 neurons each\n",
    "\n",
    "Learning rate at 0.001"
   ]
  },
  {
   "cell_type": "code",
   "execution_count": 15,
   "metadata": {},
   "outputs": [],
   "source": [
    "def build_first_model_two_hidden_layers():\n",
    "    model = Sequential(name = \"FirstModelTwoHiddenLayers\")\n",
    "\n",
    "    # Input layer\n",
    "    model.add(Input(shape=(normed_train_data.shape[1],)))\n",
    "\n",
    "    # Hidden layer \n",
    "    model.add(Dense(50, Activation('relu'), name='hidden_layer_1'))\n",
    "    model.add(Dense(50, Activation('relu'), name='hidden_layer_2'))\n",
    "\n",
    "    # Output layer \n",
    "    model.add(Dense(1))\n",
    "\n",
    "    learnig_rate = 0.0001\n",
    "    optimizer = optimizers.RMSprop(learning_rate=learnig_rate)\n",
    "    model.compile(loss='mse', optimizer=optimizer, metrics=['accuracy', 'mae', 'mse'])\n",
    "\n",
    "    return model"
   ]
  },
  {
   "cell_type": "markdown",
   "metadata": {},
   "source": [
    "### Second Model\n",
    "\n",
    "Three hidden layers with 32, 64 and 128 neurons, respectively\n",
    "\n",
    "Learning rate at 0.01"
   ]
  },
  {
   "cell_type": "code",
   "execution_count": 16,
   "metadata": {},
   "outputs": [],
   "source": [
    "def build_second_model_three_hidden_layers():\n",
    "    model = Sequential(name = \"SecondModelThreeHiddenLayers\")\n",
    "\n",
    "    # Input layer\n",
    "    model.add(Input(shape=(normed_train_data.shape[1],)))\n",
    "\n",
    "    # Hidden layer \n",
    "    model.add(Dense(128, Activation('relu'), name='hidden_layer_1'))\n",
    "    model.add(Dense(64, Activation('relu'), name='hidden_layer_3'))\n",
    "    model.add(Dense(32, Activation('relu'), name='hidden_layer_2'))\n",
    "    \n",
    "    \n",
    "    # Output layer \n",
    "    model.add(Dense(1))\n",
    "\n",
    "    learnig_rate = 0.0001\n",
    "    optimizer = optimizers.RMSprop(learning_rate=learnig_rate)\n",
    "    model.compile(loss='mse', optimizer=optimizer, metrics=['accuracy', 'mae', 'mse'])\n",
    "\n",
    "    return model"
   ]
  },
  {
   "cell_type": "markdown",
   "metadata": {},
   "source": [
    "### Third Model\n",
    "\n",
    "Recurrent Neural Network"
   ]
  },
  {
   "cell_type": "code",
   "execution_count": 17,
   "metadata": {},
   "outputs": [],
   "source": [
    "def build_third_model_LSTM_hidden_layers():\n",
    "    model = Sequential(name = \"ThirdModelLSTMHiddenLayer\")\n",
    "\n",
    "    model.add(Input(shape=(normed_train_data.shape[1],)))\n",
    "\n",
    "    model.add(Reshape((normed_train_data.shape[1], 1)))\n",
    "\n",
    "    model.add(LSTM(128, return_sequences=True))\n",
    "    model.add(Dropout(0.3))\n",
    "    model.add(Flatten())\n",
    "    model.add(Dense(32, Activation('relu')))\n",
    "  \n",
    "    \n",
    "    model.add(Dense(1))\n",
    "\n",
    "    learnig_rate = 0.0001\n",
    "    optimizer = optimizers.Adam(learning_rate=learnig_rate)\n",
    "    model.compile(\n",
    "        loss='mse',\n",
    "        optimizer=optimizer,\n",
    "        metrics=['accuracy', 'mae', 'mse'])\n",
    "\n",
    "    return model    "
   ]
  },
  {
   "cell_type": "markdown",
   "metadata": {},
   "source": [
    "### Fith Model\n",
    "\n",
    "Support Vector Machine"
   ]
  },
  {
   "cell_type": "code",
   "execution_count": 18,
   "metadata": {},
   "outputs": [],
   "source": [
    "def build_model_svc():\n",
    "    parameters = {'kernel':('linear', 'rbf')}\n",
    "    svr = SVR()\n",
    "    return GridSearchCV(svr, parameters)"
   ]
  },
  {
   "cell_type": "markdown",
   "metadata": {},
   "source": [
    "### Choose the model"
   ]
  },
  {
   "cell_type": "code",
   "execution_count": 19,
   "metadata": {},
   "outputs": [],
   "source": [
    "def choose_model(model_type, model_number):\n",
    "    if (model_type == 'Neuronal Network'):\n",
    "        if (model_number == 1):\n",
    "            return build_first_model_two_hidden_layers()\n",
    "        elif (model_number == 2):\n",
    "            return build_second_model_three_hidden_layers()\n",
    "        elif (model_number == 3):\n",
    "            return build_third_model_LSTM_hidden_layers()\n",
    "    else:\n",
    "        return build_model_svc()"
   ]
  },
  {
   "cell_type": "markdown",
   "metadata": {},
   "source": [
    "Save checkpoints during training"
   ]
  },
  {
   "cell_type": "code",
   "execution_count": 20,
   "metadata": {},
   "outputs": [],
   "source": [
    "directory = \".\\checkpoint_logs\"\n",
    "\n",
    "if not os.path.exists(directory):\n",
    "    os.makedirs(directory)\n",
    "\n",
    "checkpoint_path = r\".\\checkpoint_logs\\data.weights.h5\"\n",
    "\n",
    "ckpt_callback = tf.keras.callbacks.ModelCheckpoint(filepath=checkpoint_path,\n",
    "                                                 monitor='val_loss', \n",
    "                                                 save_best_only=True, # Default false. If you don't change the file name then the output will be overritten at each step and only the last model will be saved.\n",
    "                                                 save_weights_only=True, # True => model.save_weights (weights and no structure, you need JSON file for structure), False => model.save (saves weights & structure)\n",
    "                                                 verbose=0,\n",
    ")\n",
    "\n",
    "tensorboard_callback = TensorBoard(log_dir='./logs', histogram_freq=1, write_graph=True)"
   ]
  },
  {
   "cell_type": "markdown",
   "metadata": {},
   "source": [
    "## Model training"
   ]
  },
  {
   "cell_type": "code",
   "execution_count": 22,
   "metadata": {},
   "outputs": [],
   "source": [
    "def training_neural_network_model(model):\n",
    "        \n",
    "        # for first model - worst for now\n",
    "        # epochs = 90\n",
    "        # batch_size = 25\n",
    "\n",
    "        # for second model - second place\n",
    "        # epochs = 90\n",
    "        # batch_size = 25\n",
    "\n",
    "        # for third model - is winning\n",
    "        epochs = 180\n",
    "        batch_size = 80\n",
    "\n",
    "        history = model.fit(\n",
    "            normed_train_data,\n",
    "            train_label,\n",
    "            batch_size=batch_size,  \n",
    "            epochs=epochs, \n",
    "            verbose=0,\n",
    "            shuffle=True,\n",
    "            steps_per_epoch = int(normed_train_data.shape[0] / batch_size),\n",
    "            validation_data=(normed_validation_data, validation_label),\n",
    "            callbacks=[\n",
    "                tfdocs.modeling.EpochDots(),\n",
    "                tensorboard_callback,\n",
    "                ckpt_callback,\n",
    "            ]\n",
    "        )\n",
    "\n",
    "        return history"
   ]
  },
  {
   "cell_type": "code",
   "execution_count": 23,
   "metadata": {},
   "outputs": [],
   "source": [
    "def training_support_vector_machine_model(model):\n",
    "    model.fit(normed_train_data, train_label)\n",
    "    \n",
    "    history = pd.DataFrame({\n",
    "        'Accuracy': [model.score(normed_test_data, test_label)],\n",
    "        'Best params hash': [model.best_params_],\n",
    "        'Best score': [model.best_score_],\n",
    "        'Best estimator': [model.best_estimator_],\n",
    "    })\n",
    "\n",
    "    print(history)\n",
    "    return history"
   ]
  },
  {
   "cell_type": "markdown",
   "metadata": {},
   "source": [
    "To train a NN model"
   ]
  },
  {
   "cell_type": "code",
   "execution_count": 24,
   "metadata": {},
   "outputs": [
    {
     "name": "stdout",
     "output_type": "stream",
     "text": [
      "\n",
      "Epoch: 0, accuracy:0.1997,  loss:55.7143,  mae:3.9306,  mse:55.7143,  val_accuracy:0.1980,  val_loss:76.4656,  val_mae:4.2801,  val_mse:76.9132,  \n",
      ".."
     ]
    },
    {
     "name": "stderr",
     "output_type": "stream",
     "text": [
      "c:\\Users\\franc\\anaconda3\\envs\\pasantia_ia\\lib\\contextlib.py:153: UserWarning: Your input ran out of data; interrupting training. Make sure that your dataset or generator can generate at least `steps_per_epoch * epochs` batches. You may need to use the `.repeat()` function when building your dataset.\n",
      "  self.gen.throw(typ, value, traceback)\n"
     ]
    },
    {
     "name": "stdout",
     "output_type": "stream",
     "text": [
      "..................................................................................................\n",
      "Epoch: 100, accuracy:0.2311,  loss:8.2378,  mae:2.2553,  mse:8.2378,  val_accuracy:0.2259,  val_loss:7.5104,  val_mae:2.1572,  val_mse:7.5486,  \n",
      "................................................................................CPU times: total: 53.3 s\n",
      "Wall time: 1min 51s\n"
     ]
    }
   ],
   "source": [
    "%%time\n",
    "model = choose_model('Neuronal Network', 3)\n",
    "history = training_neural_network_model(model)"
   ]
  },
  {
   "cell_type": "markdown",
   "metadata": {},
   "source": [
    "To train the SVM model"
   ]
  },
  {
   "cell_type": "code",
   "execution_count": 104,
   "metadata": {},
   "outputs": [
    {
     "name": "stdout",
     "output_type": "stream",
     "text": [
      "   Accuracy      Best params hash  Best score        Best estimator\n",
      "0  0.833856  {'kernel': 'linear'}    0.785877  SVR(kernel='linear')\n",
      "CPU times: total: 2.92 s\n",
      "Wall time: 6.91 s\n"
     ]
    }
   ],
   "source": [
    "%%time\n",
    "model = choose_model('Support Vector Machine', 0)\n",
    "history = training_support_vector_machine_model(model)"
   ]
  },
  {
   "cell_type": "markdown",
   "metadata": {},
   "source": [
    "## Predicting the data"
   ]
  },
  {
   "cell_type": "markdown",
   "metadata": {},
   "source": [
    "### Predicted and real values\n",
    "\n",
    "Here we will see the first 10 rows of the predicted data, comparing it with the real one"
   ]
  },
  {
   "cell_type": "code",
   "execution_count": 25,
   "metadata": {},
   "outputs": [
    {
     "name": "stdout",
     "output_type": "stream",
     "text": [
      "\u001b[1m1/1\u001b[0m \u001b[32m━━━━━━━━━━━━━━━━━━━━\u001b[0m\u001b[37m\u001b[0m \u001b[1m0s\u001b[0m 435ms/step\n",
      "Example for the first 5 samples\n",
      "Predicted Hours Logged\n",
      "[[ 2.842322 ]\n",
      " [ 2.1225588]\n",
      " [ 9.964092 ]\n",
      " [ 2.1225588]\n",
      " [19.079802 ]]\n",
      "Real Hours Logged\n",
      "1494     1\n",
      "2470     1\n",
      "55       8\n",
      "2228     0\n",
      "660     13\n",
      "Name: Hours_logged, dtype: int32\n",
      "\u001b[1m13/13\u001b[0m \u001b[32m━━━━━━━━━━━━━━━━━━━━\u001b[0m\u001b[37m\u001b[0m \u001b[1m1s\u001b[0m 8ms/step\n"
     ]
    }
   ],
   "source": [
    "example_batch = normed_train_data[:5]\n",
    "example_result = model.predict(example_batch)\n",
    "\n",
    "print(\"Example for the first 5 samples\")\n",
    "print(\"Predicted Hours Logged\")\n",
    "print(example_result)\n",
    "    \n",
    "print(\"Real Hours Logged\")\n",
    "print(train_label[:5])\n",
    "\n",
    "test_predictions = model.predict(normed_test_data)"
   ]
  },
  {
   "cell_type": "code",
   "execution_count": 26,
   "metadata": {},
   "outputs": [
    {
     "name": "stdout",
     "output_type": "stream",
     "text": [
      "\u001b[1m13/13\u001b[0m \u001b[32m━━━━━━━━━━━━━━━━━━━━\u001b[0m\u001b[37m\u001b[0m \u001b[1m0s\u001b[0m 7ms/step\n"
     ]
    }
   ],
   "source": [
    "test_predictions = model.predict(normed_test_data).flatten()\n",
    "\n",
    "predictions_dataset = pd.DataFrame({\n",
    "    'Logged': test_label,\n",
    "    'Predicted': test_predictions\n",
    "})\n",
    "\n",
    "predictions_dataset_csv = predictions_dataset"
   ]
  },
  {
   "cell_type": "markdown",
   "metadata": {},
   "source": [
    "To save predictions from the NN model"
   ]
  },
  {
   "cell_type": "code",
   "execution_count": 27,
   "metadata": {},
   "outputs": [],
   "source": [
    "directory = \"./outputs/neural_network\"\n",
    "\n",
    "if not os.path.exists(directory):\n",
    "    os.makedirs(directory)\n",
    "    \n",
    "predictions_dataset_csv.to_csv(r\"./outputs/neural_network/predictions_sip.csv\", index=False)"
   ]
  },
  {
   "cell_type": "markdown",
   "metadata": {},
   "source": [
    "To save predictions from the SVR model"
   ]
  },
  {
   "cell_type": "code",
   "execution_count": 107,
   "metadata": {},
   "outputs": [],
   "source": [
    "directory = \"./outputs/svr\"\n",
    "\n",
    "if not os.path.exists(directory):\n",
    "    os.makedirs(directory)\n",
    "\n",
    "predictions_dataset_csv.to_csv(r\"./outputs/svr/predictions_sip.csv\", index=False)"
   ]
  },
  {
   "cell_type": "markdown",
   "metadata": {},
   "source": [
    "Predictions VS. True Values for Hours Logged"
   ]
  },
  {
   "cell_type": "code",
   "execution_count": 28,
   "metadata": {},
   "outputs": [
    {
     "data": {
      "image/png": "[encoded data removed]",
      "text/plain": [
       "<Figure size 640x480 with 1 Axes>"
      ]
     },
     "metadata": {},
     "output_type": "display_data"
    }
   ],
   "source": [
    "axes = plt.axes(aspect='equal')\n",
    "plt.scatter(test_label, test_predictions)\n",
    "plt.xlabel('True Values [Hours Logged]')\n",
    "plt.ylabel('Predictions [Hours Logged]')\n",
    "# calculate the limit\n",
    "max_value = max(test_label.max(), test_predictions[0].max())\n",
    "_ = plt.plot([0, max_value], [0, max_value])\n",
    "plt.savefig(r\"./outputs/neural_network/prediction_plot_sip.png\")"
   ]
  },
  {
   "cell_type": "markdown",
   "metadata": {},
   "source": [
    "## Evaluating the model\n",
    "\n",
    "The metrics we choose to evaluate the model were **Mean Abs. Error** and **Mean squarred Error**"
   ]
  },
  {
   "cell_type": "markdown",
   "metadata": {},
   "source": [
    "### Showing the resulting metrics from the training"
   ]
  },
  {
   "cell_type": "code",
   "execution_count": 29,
   "metadata": {},
   "outputs": [],
   "source": [
    "def evaluating_neural_network_model(history):\n",
    "\n",
    "    history_dataset = pd.DataFrame(history.history)\n",
    "    history_dataset['epoch'] = history.epoch\n",
    "\n",
    "\n",
    "    print(\"Resume of the training history model\")\n",
    "    display(HTML(history_dataset.tail(5).to_html()))\n",
    "\n",
    "    history_dataset_csv = history_dataset\n",
    "    history_dataset_csv.to_csv(r\"./outputs/neural_network/history_sip.csv\", index=False)  \n",
    "\n",
    "    print(\"Plotting the training history model per epoch\")\n",
    "\n",
    "    plotter = tfdocs.plots.HistoryPlotter(smoothing_std=2)\n",
    "    plotter.plot({'Basic': history}, metric=\"mse\")\n",
    "    plt.ylabel('MSE [Metric]')\n",
    "\n",
    "    plt.savefig(r\"./outputs/neural_network/training_plot_sip.png\")\n",
    "    plt.show()\n"
   ]
  },
  {
   "cell_type": "code",
   "execution_count": 30,
   "metadata": {},
   "outputs": [],
   "source": [
    "def evaluating_svc_model(history, test_predictions):\n",
    "    history['MAE'] = [mean_absolute_error(test_label, test_predictions)]\n",
    "    history['MSE'] = [mean_squared_error(test_label, test_predictions)]\n",
    "\n",
    "    display(HTML(history.to_html()))\n",
    "\n",
    "    history.to_csv(r\"./outputs/svr/history_sip.csv\", index=False)   \n",
    "\n",
    "    # saving the results\n",
    "    pd.DataFrame({\n",
    "        'Logged': test_label,\n",
    "        'Predicted': test_predictions\n",
    "    }).to_csv(r\"./outputs/svr/history_sip.csv\", index=False)"
   ]
  },
  {
   "cell_type": "markdown",
   "metadata": {},
   "source": [
    "To evaluate the NN model"
   ]
  },
  {
   "cell_type": "code",
   "execution_count": 31,
   "metadata": {},
   "outputs": [
    {
     "name": "stdout",
     "output_type": "stream",
     "text": [
      "Resume of the training history model\n"
     ]
    },
    {
     "data": {
      "text/html": [
       "<table border=\"1\" class=\"dataframe\">\n",
       "  <thead>\n",
       "    <tr style=\"text-align: right;\">\n",
       "      <th></th>\n",
       "      <th>accuracy</th>\n",
       "      <th>loss</th>\n",
       "      <th>mae</th>\n",
       "      <th>mse</th>\n",
       "      <th>val_accuracy</th>\n",
       "      <th>val_loss</th>\n",
       "      <th>val_mae</th>\n",
       "      <th>val_mse</th>\n",
       "      <th>epoch</th>\n",
       "    </tr>\n",
       "  </thead>\n",
       "  <tbody>\n",
       "    <tr>\n",
       "      <th>175</th>\n",
       "      <td>0.206897</td>\n",
       "      <td>3.366246</td>\n",
       "      <td>1.778603</td>\n",
       "      <td>6.732492</td>\n",
       "      <td>0.225888</td>\n",
       "      <td>7.416620</td>\n",
       "      <td>2.134423</td>\n",
       "      <td>7.453847</td>\n",
       "      <td>175</td>\n",
       "    </tr>\n",
       "    <tr>\n",
       "      <th>176</th>\n",
       "      <td>0.230449</td>\n",
       "      <td>7.868688</td>\n",
       "      <td>2.197703</td>\n",
       "      <td>7.868688</td>\n",
       "      <td>0.225888</td>\n",
       "      <td>7.407073</td>\n",
       "      <td>2.135714</td>\n",
       "      <td>7.444199</td>\n",
       "      <td>176</td>\n",
       "    </tr>\n",
       "    <tr>\n",
       "      <th>177</th>\n",
       "      <td>0.206897</td>\n",
       "      <td>3.297772</td>\n",
       "      <td>1.807244</td>\n",
       "      <td>6.595545</td>\n",
       "      <td>0.225888</td>\n",
       "      <td>7.406646</td>\n",
       "      <td>2.132982</td>\n",
       "      <td>7.444092</td>\n",
       "      <td>177</td>\n",
       "    </tr>\n",
       "    <tr>\n",
       "      <th>178</th>\n",
       "      <td>0.229808</td>\n",
       "      <td>7.933893</td>\n",
       "      <td>2.201483</td>\n",
       "      <td>7.933892</td>\n",
       "      <td>0.225888</td>\n",
       "      <td>7.454475</td>\n",
       "      <td>2.157869</td>\n",
       "      <td>7.489568</td>\n",
       "      <td>178</td>\n",
       "    </tr>\n",
       "    <tr>\n",
       "      <th>179</th>\n",
       "      <td>0.206897</td>\n",
       "      <td>3.045803</td>\n",
       "      <td>1.766025</td>\n",
       "      <td>6.091606</td>\n",
       "      <td>0.225888</td>\n",
       "      <td>7.436572</td>\n",
       "      <td>2.141058</td>\n",
       "      <td>7.473128</td>\n",
       "      <td>179</td>\n",
       "    </tr>\n",
       "  </tbody>\n",
       "</table>"
      ],
      "text/plain": [
       "<IPython.core.display.HTML object>"
      ]
     },
     "metadata": {},
     "output_type": "display_data"
    },
    {
     "name": "stdout",
     "output_type": "stream",
     "text": [
      "Plotting the training history model per epoch\n"
     ]
    },
    {
     "data": {
      "image/png": "[encoded data removed]",
      "text/plain": [
       "<Figure size 640x480 with 1 Axes>"
      ]
     },
     "metadata": {},
     "output_type": "display_data"
    }
   ],
   "source": [
    "evaluating_neural_network_model(history)"
   ]
  },
  {
   "cell_type": "markdown",
   "metadata": {},
   "source": [
    "To evaluate the SVR model"
   ]
  },
  {
   "cell_type": "code",
   "execution_count": 109,
   "metadata": {},
   "outputs": [
    {
     "data": {
      "text/html": [
       "<table border=\"1\" class=\"dataframe\">\n",
       "  <thead>\n",
       "    <tr style=\"text-align: right;\">\n",
       "      <th></th>\n",
       "      <th>Accuracy</th>\n",
       "      <th>Best params hash</th>\n",
       "      <th>Best score</th>\n",
       "      <th>Best estimator</th>\n",
       "      <th>MAE</th>\n",
       "      <th>MSE</th>\n",
       "    </tr>\n",
       "  </thead>\n",
       "  <tbody>\n",
       "    <tr>\n",
       "      <th>0</th>\n",
       "      <td>0.833856</td>\n",
       "      <td>{'kernel': 'linear'}</td>\n",
       "      <td>0.785877</td>\n",
       "      <td>SVR(kernel='linear')</td>\n",
       "      <td>2.094469</td>\n",
       "      <td>9.00389</td>\n",
       "    </tr>\n",
       "  </tbody>\n",
       "</table>"
      ],
      "text/plain": [
       "<IPython.core.display.HTML object>"
      ]
     },
     "metadata": {},
     "output_type": "display_data"
    }
   ],
   "source": [
    "evaluating_svc_model(history, test_predictions)"
   ]
  },
  {
   "cell_type": "markdown",
   "metadata": {},
   "source": [
    "Only if the model is a NN"
   ]
  },
  {
   "cell_type": "code",
   "execution_count": 32,
   "metadata": {},
   "outputs": [
    {
     "name": "stdout",
     "output_type": "stream",
     "text": [
      "Serving './outputs/neural_network/model_sip.keras' at http://localhost:8080\n"
     ]
    },
    {
     "data": {
      "text/plain": [
       "('localhost', 8080)"
      ]
     },
     "execution_count": 32,
     "metadata": {},
     "output_type": "execute_result"
    }
   ],
   "source": [
    "model.save(r\"./outputs/neural_network/model_sip.keras\")\n",
    "netron.start(r\"./outputs/neural_network/model_sip.keras\")"
   ]
  }
 ],
 "metadata": {
  "kernelspec": {
   "display_name": "Python 3",
   "language": "python",
   "name": "python3"
  },
  "language_info": {
   "codemirror_mode": {
    "name": "ipython",
    "version": 3
   },
   "file_extension": ".py",
   "mimetype": "text/x-python",
   "name": "python",
   "nbconvert_exporter": "python",
   "pygments_lexer": "ipython3",
   "version": "3.10.11"
  }
 },
 "nbformat": 4,
 "nbformat_minor": 2
}
