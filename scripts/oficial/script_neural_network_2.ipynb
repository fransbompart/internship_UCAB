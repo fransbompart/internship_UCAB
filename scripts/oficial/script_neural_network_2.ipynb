{
 "cells": [
  {
   "cell_type": "code",
   "execution_count": 1,
   "metadata": {},
   "outputs": [
    {
     "name": "stdout",
     "output_type": "stream",
     "text": [
      "WARNING:tensorflow:From C:\\Users\\franc\\AppData\\Local\\Packages\\PythonSoftwareFoundation.Python.3.10_qbz5n2kfra8p0\\LocalCache\\local-packages\\Python310\\site-packages\\keras\\src\\losses.py:2976: The name tf.losses.sparse_softmax_cross_entropy is deprecated. Please use tf.compat.v1.losses.sparse_softmax_cross_entropy instead.\n",
      "\n"
     ]
    }
   ],
   "source": [
    "# imports\n",
    "import os\n",
    "# for the model\n",
    "import tensorflow as tf\n",
    "import tensorflow_docs as tfdocs\n",
    "import tensorflow_docs.plots\n",
    "import tensorflow_docs.modeling\n",
    "from tensorflow import keras\n",
    "from tensorflow.keras.models import Sequential\n",
    "from tensorflow.keras.layers import Activation, Dense, InputLayer, SimpleRNN, LSTM, Reshape , BatchNormalization, Dropout \n",
    "from tensorflow.keras import optimizers\n",
    "from sklearn.model_selection import train_test_split\n",
    "from sklearn.metrics import mean_squared_error\n",
    "\n",
    "# for data manipulation and graphing\n",
    "import pathlib\n",
    "import numpy as np\n",
    "import matplotlib.pyplot as plt\n",
    "import pandas as pd\n",
    "import seaborn as sns\n",
    "\n",
    "tf.random.set_seed(42) # set seed for reproducibility\n",
    "tf.debugging.set_log_device_placement(False)"
   ]
  },
  {
   "cell_type": "markdown",
   "metadata": {},
   "source": [
    "## Data preprocessing"
   ]
  },
  {
   "cell_type": "code",
   "execution_count": 2,
   "metadata": {},
   "outputs": [
    {
     "data": {
      "text/html": [
       "<div>\n",
       "<style scoped>\n",
       "    .dataframe tbody tr th:only-of-type {\n",
       "        vertical-align: middle;\n",
       "    }\n",
       "\n",
       "    .dataframe tbody tr th {\n",
       "        vertical-align: top;\n",
       "    }\n",
       "\n",
       "    .dataframe thead th {\n",
       "        text-align: right;\n",
       "    }\n",
       "</style>\n",
       "<table border=\"1\" class=\"dataframe\">\n",
       "  <thead>\n",
       "    <tr style=\"text-align: right;\">\n",
       "      <th></th>\n",
       "      <th>Task_ID</th>\n",
       "      <th>Priority</th>\n",
       "      <th>Project_ID</th>\n",
       "      <th>Project_code</th>\n",
       "      <th>Category</th>\n",
       "      <th>Total_developers</th>\n",
       "      <th>TaskPerformance</th>\n",
       "      <th>DeveloperPerformance</th>\n",
       "      <th>Hours_estimate</th>\n",
       "      <th>Hours_logged</th>\n",
       "      <th>Difference</th>\n",
       "    </tr>\n",
       "  </thead>\n",
       "  <tbody>\n",
       "    <tr>\n",
       "      <th>0</th>\n",
       "      <td>7963</td>\n",
       "      <td>4</td>\n",
       "      <td>9</td>\n",
       "      <td>PC9</td>\n",
       "      <td>Release</td>\n",
       "      <td>1</td>\n",
       "      <td>-8.95</td>\n",
       "      <td>-5.95</td>\n",
       "      <td>3.0</td>\n",
       "      <td>11.95</td>\n",
       "      <td>8.95</td>\n",
       "    </tr>\n",
       "    <tr>\n",
       "      <th>1</th>\n",
       "      <td>7963</td>\n",
       "      <td>4</td>\n",
       "      <td>9</td>\n",
       "      <td>PC9</td>\n",
       "      <td>Release</td>\n",
       "      <td>1</td>\n",
       "      <td>-8.95</td>\n",
       "      <td>NaN</td>\n",
       "      <td>3.0</td>\n",
       "      <td>11.95</td>\n",
       "      <td>8.95</td>\n",
       "    </tr>\n",
       "    <tr>\n",
       "      <th>2</th>\n",
       "      <td>12609</td>\n",
       "      <td>1</td>\n",
       "      <td>6</td>\n",
       "      <td>PC6</td>\n",
       "      <td>Enhancement</td>\n",
       "      <td>1</td>\n",
       "      <td>-8.94</td>\n",
       "      <td>-8.94</td>\n",
       "      <td>35.0</td>\n",
       "      <td>43.94</td>\n",
       "      <td>8.94</td>\n",
       "    </tr>\n",
       "    <tr>\n",
       "      <th>3</th>\n",
       "      <td>13397</td>\n",
       "      <td>1</td>\n",
       "      <td>5</td>\n",
       "      <td>PC5</td>\n",
       "      <td>Testing</td>\n",
       "      <td>1</td>\n",
       "      <td>-8.92</td>\n",
       "      <td>-8.92</td>\n",
       "      <td>14.0</td>\n",
       "      <td>22.92</td>\n",
       "      <td>8.92</td>\n",
       "    </tr>\n",
       "    <tr>\n",
       "      <th>4</th>\n",
       "      <td>6063</td>\n",
       "      <td>1</td>\n",
       "      <td>9</td>\n",
       "      <td>PC9</td>\n",
       "      <td>Enhancement</td>\n",
       "      <td>1</td>\n",
       "      <td>8.82</td>\n",
       "      <td>NaN</td>\n",
       "      <td>35.0</td>\n",
       "      <td>26.18</td>\n",
       "      <td>8.82</td>\n",
       "    </tr>\n",
       "  </tbody>\n",
       "</table>\n",
       "</div>"
      ],
      "text/plain": [
       "   Task_ID  Priority  Project_ID Project_code     Category  Total_developers  \\\n",
       "0     7963         4           9          PC9      Release                 1   \n",
       "1     7963         4           9          PC9      Release                 1   \n",
       "2    12609         1           6          PC6  Enhancement                 1   \n",
       "3    13397         1           5          PC5      Testing                 1   \n",
       "4     6063         1           9          PC9  Enhancement                 1   \n",
       "\n",
       "   TaskPerformance  DeveloperPerformance  Hours_estimate  Hours_logged  \\\n",
       "0            -8.95                 -5.95             3.0         11.95   \n",
       "1            -8.95                   NaN             3.0         11.95   \n",
       "2            -8.94                 -8.94            35.0         43.94   \n",
       "3            -8.92                 -8.92            14.0         22.92   \n",
       "4             8.82                   NaN            35.0         26.18   \n",
       "\n",
       "   Difference  \n",
       "0        8.95  \n",
       "1        8.95  \n",
       "2        8.94  \n",
       "3        8.92  \n",
       "4        8.82  "
      ]
     },
     "execution_count": 2,
     "metadata": {},
     "output_type": "execute_result"
    }
   ],
   "source": [
    "# load the dataset\n",
    "# connectium\n",
    "# original_dataset = pd.read_csv(\"C:/Users/franc/pasantia_IA/datasets/data_connectium.csv\")\n",
    "# another enterprise\n",
    "original_dataset = pd.read_csv(\"C:/Users/franc/pasantia_IA/datasets/data_sip.csv\")\n",
    "\n",
    "# show the original data\n",
    "original_dataset.head()"
   ]
  },
  {
   "cell_type": "code",
   "execution_count": 3,
   "metadata": {},
   "outputs": [
    {
     "name": "stdout",
     "output_type": "stream",
     "text": [
      "<class 'pandas.core.frame.DataFrame'>\n",
      "RangeIndex: 4267 entries, 0 to 4266\n",
      "Data columns (total 11 columns):\n",
      " #   Column                Non-Null Count  Dtype  \n",
      "---  ------                --------------  -----  \n",
      " 0   Task_ID               4267 non-null   int64  \n",
      " 1   Priority              4267 non-null   int64  \n",
      " 2   Project_ID            4267 non-null   int64  \n",
      " 3   Project_code          4267 non-null   object \n",
      " 4   Category              4267 non-null   object \n",
      " 5   Total_developers      4267 non-null   int64  \n",
      " 6   TaskPerformance       4267 non-null   float64\n",
      " 7   DeveloperPerformance  3830 non-null   float64\n",
      " 8   Hours_estimate        4267 non-null   float64\n",
      " 9   Hours_logged          4267 non-null   float64\n",
      " 10  Difference            4267 non-null   float64\n",
      "dtypes: float64(5), int64(4), object(2)\n",
      "memory usage: 366.8+ KB\n"
     ]
    }
   ],
   "source": [
    "# show the metadata\n",
    "original_dataset.info()"
   ]
  },
  {
   "cell_type": "code",
   "execution_count": 4,
   "metadata": {},
   "outputs": [],
   "source": [
    "# drop all the unnecessary columns\n",
    "clean_dataset = original_dataset[[\n",
    "    'Task_ID',\n",
    "    'Project_ID',\n",
    "    'Priority',\n",
    "    'Category',\n",
    "    'Total_developers',\n",
    "    'Hours_estimate',\n",
    "    'Hours_logged',\n",
    "]]\n",
    "\n",
    "# desnormalizing data\n",
    "clean_dataset = pd.get_dummies(clean_dataset, columns=['Category'])\n",
    "clean_dataset = clean_dataset.astype(int)\n",
    "\n",
    "# check if is necessary to drop any row with NaN/empty/null values"
   ]
  },
  {
   "cell_type": "code",
   "execution_count": 5,
   "metadata": {},
   "outputs": [
    {
     "data": {
      "text/html": [
       "<div>\n",
       "<style scoped>\n",
       "    .dataframe tbody tr th:only-of-type {\n",
       "        vertical-align: middle;\n",
       "    }\n",
       "\n",
       "    .dataframe tbody tr th {\n",
       "        vertical-align: top;\n",
       "    }\n",
       "\n",
       "    .dataframe thead th {\n",
       "        text-align: right;\n",
       "    }\n",
       "</style>\n",
       "<table border=\"1\" class=\"dataframe\">\n",
       "  <thead>\n",
       "    <tr style=\"text-align: right;\">\n",
       "      <th></th>\n",
       "      <th>Task_ID</th>\n",
       "      <th>Project_ID</th>\n",
       "      <th>Priority</th>\n",
       "      <th>Total_developers</th>\n",
       "      <th>Hours_estimate</th>\n",
       "      <th>Hours_logged</th>\n",
       "      <th>Category_Bug</th>\n",
       "      <th>Category_Enhancement</th>\n",
       "      <th>Category_Release</th>\n",
       "      <th>Category_Testing</th>\n",
       "    </tr>\n",
       "  </thead>\n",
       "  <tbody>\n",
       "    <tr>\n",
       "      <th>0</th>\n",
       "      <td>7963</td>\n",
       "      <td>9</td>\n",
       "      <td>4</td>\n",
       "      <td>1</td>\n",
       "      <td>3</td>\n",
       "      <td>11</td>\n",
       "      <td>0</td>\n",
       "      <td>0</td>\n",
       "      <td>1</td>\n",
       "      <td>0</td>\n",
       "    </tr>\n",
       "    <tr>\n",
       "      <th>1</th>\n",
       "      <td>7963</td>\n",
       "      <td>9</td>\n",
       "      <td>4</td>\n",
       "      <td>1</td>\n",
       "      <td>3</td>\n",
       "      <td>11</td>\n",
       "      <td>0</td>\n",
       "      <td>0</td>\n",
       "      <td>1</td>\n",
       "      <td>0</td>\n",
       "    </tr>\n",
       "    <tr>\n",
       "      <th>2</th>\n",
       "      <td>12609</td>\n",
       "      <td>6</td>\n",
       "      <td>1</td>\n",
       "      <td>1</td>\n",
       "      <td>35</td>\n",
       "      <td>43</td>\n",
       "      <td>0</td>\n",
       "      <td>1</td>\n",
       "      <td>0</td>\n",
       "      <td>0</td>\n",
       "    </tr>\n",
       "    <tr>\n",
       "      <th>3</th>\n",
       "      <td>13397</td>\n",
       "      <td>5</td>\n",
       "      <td>1</td>\n",
       "      <td>1</td>\n",
       "      <td>14</td>\n",
       "      <td>22</td>\n",
       "      <td>0</td>\n",
       "      <td>0</td>\n",
       "      <td>0</td>\n",
       "      <td>1</td>\n",
       "    </tr>\n",
       "    <tr>\n",
       "      <th>4</th>\n",
       "      <td>6063</td>\n",
       "      <td>9</td>\n",
       "      <td>1</td>\n",
       "      <td>1</td>\n",
       "      <td>35</td>\n",
       "      <td>26</td>\n",
       "      <td>0</td>\n",
       "      <td>1</td>\n",
       "      <td>0</td>\n",
       "      <td>0</td>\n",
       "    </tr>\n",
       "  </tbody>\n",
       "</table>\n",
       "</div>"
      ],
      "text/plain": [
       "   Task_ID  Project_ID  Priority  Total_developers  Hours_estimate  \\\n",
       "0     7963           9         4                 1               3   \n",
       "1     7963           9         4                 1               3   \n",
       "2    12609           6         1                 1              35   \n",
       "3    13397           5         1                 1              14   \n",
       "4     6063           9         1                 1              35   \n",
       "\n",
       "   Hours_logged  Category_Bug  Category_Enhancement  Category_Release  \\\n",
       "0            11             0                     0                 1   \n",
       "1            11             0                     0                 1   \n",
       "2            43             0                     1                 0   \n",
       "3            22             0                     0                 0   \n",
       "4            26             0                     1                 0   \n",
       "\n",
       "   Category_Testing  \n",
       "0                 0  \n",
       "1                 0  \n",
       "2                 0  \n",
       "3                 1  \n",
       "4                 0  "
      ]
     },
     "execution_count": 5,
     "metadata": {},
     "output_type": "execute_result"
    }
   ],
   "source": [
    "clean_dataset.head()"
   ]
  },
  {
   "cell_type": "code",
   "execution_count": 6,
   "metadata": {},
   "outputs": [
    {
     "name": "stdout",
     "output_type": "stream",
     "text": [
      "<class 'pandas.core.frame.DataFrame'>\n",
      "RangeIndex: 4267 entries, 0 to 4266\n",
      "Data columns (total 10 columns):\n",
      " #   Column                Non-Null Count  Dtype\n",
      "---  ------                --------------  -----\n",
      " 0   Task_ID               4267 non-null   int32\n",
      " 1   Project_ID            4267 non-null   int32\n",
      " 2   Priority              4267 non-null   int32\n",
      " 3   Total_developers      4267 non-null   int32\n",
      " 4   Hours_estimate        4267 non-null   int32\n",
      " 5   Hours_logged          4267 non-null   int32\n",
      " 6   Category_Bug          4267 non-null   int32\n",
      " 7   Category_Enhancement  4267 non-null   int32\n",
      " 8   Category_Release      4267 non-null   int32\n",
      " 9   Category_Testing      4267 non-null   int32\n",
      "dtypes: int32(10)\n",
      "memory usage: 166.8 KB\n"
     ]
    }
   ],
   "source": [
    "clean_dataset.info()"
   ]
  },
  {
   "cell_type": "markdown",
   "metadata": {},
   "source": [
    "### Data sampling\n",
    "\n",
    "Split the data into train, test and validate samples to fit and evaluate the model\n",
    "\n",
    "The percentage of each one will be\n",
    "\n",
    "- 60% training\n",
    "- 20% testing\n",
    "- 20% validating"
   ]
  },
  {
   "cell_type": "code",
   "execution_count": 7,
   "metadata": {},
   "outputs": [
    {
     "name": "stdout",
     "output_type": "stream",
     "text": [
      "Samples shape\n",
      "    Train: (2560, 10)\n",
      "    Test: (854, 10)\n",
      "    Validation: (853, 10)\n"
     ]
    }
   ],
   "source": [
    "train_dataset, temp_test_dataset = train_test_split(clean_dataset, test_size=0.4)\n",
    "\n",
    "validation_dataset, test_dataset = train_test_split(temp_test_dataset, test_size=0.50)\n",
    "\n",
    "print(\"Samples shape\")\n",
    "print(f\"    Train: {train_dataset.shape}\")\n",
    "print(f\"    Test: {test_dataset.shape}\")\n",
    "print(f\"    Validation: {validation_dataset.shape}\")"
   ]
  },
  {
   "cell_type": "markdown",
   "metadata": {},
   "source": [
    "### Data analysis\n",
    "\n",
    "Calculate the correlation and other statistics on the train dataset"
   ]
  },
  {
   "cell_type": "code",
   "execution_count": 8,
   "metadata": {},
   "outputs": [
    {
     "data": {
      "image/png": "[encoded data removed]",
      "text/plain": [
       "<Figure size 1200x400 with 2 Axes>"
      ]
     },
     "metadata": {},
     "output_type": "display_data"
    }
   ],
   "source": [
    "# correlation between the features and the target\n",
    "\n",
    "correlation_matrix = clean_dataset.corr()\n",
    "correlation_matrix['Hours_logged'].sort_values(ascending=False)\n",
    "\n",
    "# plot the correlation matrix\n",
    "plt.figure(figsize=(12, 4))\n",
    "sns.heatmap(correlation_matrix, annot=True, cmap='coolwarm')\n",
    "plt.title('Correlation Matrix')\n",
    "plt.show()"
   ]
  },
  {
   "cell_type": "code",
   "execution_count": 9,
   "metadata": {},
   "outputs": [
    {
     "data": {
      "text/html": [
       "<div>\n",
       "<style scoped>\n",
       "    .dataframe tbody tr th:only-of-type {\n",
       "        vertical-align: middle;\n",
       "    }\n",
       "\n",
       "    .dataframe tbody tr th {\n",
       "        vertical-align: top;\n",
       "    }\n",
       "\n",
       "    .dataframe thead th {\n",
       "        text-align: right;\n",
       "    }\n",
       "</style>\n",
       "<table border=\"1\" class=\"dataframe\">\n",
       "  <thead>\n",
       "    <tr style=\"text-align: right;\">\n",
       "      <th></th>\n",
       "      <th>count</th>\n",
       "      <th>mean</th>\n",
       "      <th>std</th>\n",
       "      <th>min</th>\n",
       "      <th>25%</th>\n",
       "      <th>50%</th>\n",
       "      <th>75%</th>\n",
       "      <th>max</th>\n",
       "    </tr>\n",
       "  </thead>\n",
       "  <tbody>\n",
       "    <tr>\n",
       "      <th>Task_ID</th>\n",
       "      <td>2560.0</td>\n",
       "      <td>7250.140625</td>\n",
       "      <td>2878.347491</td>\n",
       "      <td>1742.0</td>\n",
       "      <td>4932.75</td>\n",
       "      <td>7052.5</td>\n",
       "      <td>8989.25</td>\n",
       "      <td>14346.0</td>\n",
       "    </tr>\n",
       "    <tr>\n",
       "      <th>Project_ID</th>\n",
       "      <td>2560.0</td>\n",
       "      <td>5.060547</td>\n",
       "      <td>4.288156</td>\n",
       "      <td>2.0</td>\n",
       "      <td>2.00</td>\n",
       "      <td>2.0</td>\n",
       "      <td>9.00</td>\n",
       "      <td>18.0</td>\n",
       "    </tr>\n",
       "    <tr>\n",
       "      <th>Priority</th>\n",
       "      <td>2560.0</td>\n",
       "      <td>2.252734</td>\n",
       "      <td>1.775114</td>\n",
       "      <td>1.0</td>\n",
       "      <td>1.00</td>\n",
       "      <td>1.0</td>\n",
       "      <td>3.00</td>\n",
       "      <td>10.0</td>\n",
       "    </tr>\n",
       "    <tr>\n",
       "      <th>Total_developers</th>\n",
       "      <td>2560.0</td>\n",
       "      <td>1.000000</td>\n",
       "      <td>0.000000</td>\n",
       "      <td>1.0</td>\n",
       "      <td>1.00</td>\n",
       "      <td>1.0</td>\n",
       "      <td>1.00</td>\n",
       "      <td>1.0</td>\n",
       "    </tr>\n",
       "    <tr>\n",
       "      <th>Hours_estimate</th>\n",
       "      <td>2560.0</td>\n",
       "      <td>4.520313</td>\n",
       "      <td>8.642727</td>\n",
       "      <td>0.0</td>\n",
       "      <td>1.00</td>\n",
       "      <td>2.0</td>\n",
       "      <td>7.00</td>\n",
       "      <td>260.0</td>\n",
       "    </tr>\n",
       "    <tr>\n",
       "      <th>Category_Bug</th>\n",
       "      <td>2560.0</td>\n",
       "      <td>0.440625</td>\n",
       "      <td>0.496559</td>\n",
       "      <td>0.0</td>\n",
       "      <td>0.00</td>\n",
       "      <td>0.0</td>\n",
       "      <td>1.00</td>\n",
       "      <td>1.0</td>\n",
       "    </tr>\n",
       "    <tr>\n",
       "      <th>Category_Enhancement</th>\n",
       "      <td>2560.0</td>\n",
       "      <td>0.427344</td>\n",
       "      <td>0.494790</td>\n",
       "      <td>0.0</td>\n",
       "      <td>0.00</td>\n",
       "      <td>0.0</td>\n",
       "      <td>1.00</td>\n",
       "      <td>1.0</td>\n",
       "    </tr>\n",
       "    <tr>\n",
       "      <th>Category_Release</th>\n",
       "      <td>2560.0</td>\n",
       "      <td>0.098047</td>\n",
       "      <td>0.297436</td>\n",
       "      <td>0.0</td>\n",
       "      <td>0.00</td>\n",
       "      <td>0.0</td>\n",
       "      <td>0.00</td>\n",
       "      <td>1.0</td>\n",
       "    </tr>\n",
       "    <tr>\n",
       "      <th>Category_Testing</th>\n",
       "      <td>2560.0</td>\n",
       "      <td>0.033984</td>\n",
       "      <td>0.181224</td>\n",
       "      <td>0.0</td>\n",
       "      <td>0.00</td>\n",
       "      <td>0.0</td>\n",
       "      <td>0.00</td>\n",
       "      <td>1.0</td>\n",
       "    </tr>\n",
       "  </tbody>\n",
       "</table>\n",
       "</div>"
      ],
      "text/plain": [
       "                       count         mean          std     min      25%  \\\n",
       "Task_ID               2560.0  7250.140625  2878.347491  1742.0  4932.75   \n",
       "Project_ID            2560.0     5.060547     4.288156     2.0     2.00   \n",
       "Priority              2560.0     2.252734     1.775114     1.0     1.00   \n",
       "Total_developers      2560.0     1.000000     0.000000     1.0     1.00   \n",
       "Hours_estimate        2560.0     4.520313     8.642727     0.0     1.00   \n",
       "Category_Bug          2560.0     0.440625     0.496559     0.0     0.00   \n",
       "Category_Enhancement  2560.0     0.427344     0.494790     0.0     0.00   \n",
       "Category_Release      2560.0     0.098047     0.297436     0.0     0.00   \n",
       "Category_Testing      2560.0     0.033984     0.181224     0.0     0.00   \n",
       "\n",
       "                         50%      75%      max  \n",
       "Task_ID               7052.5  8989.25  14346.0  \n",
       "Project_ID               2.0     9.00     18.0  \n",
       "Priority                 1.0     3.00     10.0  \n",
       "Total_developers         1.0     1.00      1.0  \n",
       "Hours_estimate           2.0     7.00    260.0  \n",
       "Category_Bug             0.0     1.00      1.0  \n",
       "Category_Enhancement     0.0     1.00      1.0  \n",
       "Category_Release         0.0     0.00      1.0  \n",
       "Category_Testing         0.0     0.00      1.0  "
      ]
     },
     "execution_count": 9,
     "metadata": {},
     "output_type": "execute_result"
    }
   ],
   "source": [
    "# another interesting statistics \n",
    "train_stats = train_dataset.describe()\n",
    "train_stats.pop(\"Hours_logged\")\n",
    "train_stats = train_stats.transpose()\n",
    "train_stats"
   ]
  },
  {
   "cell_type": "markdown",
   "metadata": {},
   "source": [
    "### Feature prediction\n",
    "\n",
    "The label \"Hours Logged\" is the actual goal for our model, we will remove it from every sample and keep it apart"
   ]
  },
  {
   "cell_type": "code",
   "execution_count": 10,
   "metadata": {},
   "outputs": [],
   "source": [
    "train_label = train_dataset.pop('Hours_logged')\n",
    "test_label = test_dataset.pop('Hours_logged')\n",
    "validation_label = validation_dataset.pop('Hours_logged')"
   ]
  },
  {
   "cell_type": "markdown",
   "metadata": {},
   "source": [
    "### Data normalization/Scaling\n",
    "\n",
    "Subtract the mean of the training data and divide by the standard deviation of the training data."
   ]
  },
  {
   "cell_type": "code",
   "execution_count": 11,
   "metadata": {},
   "outputs": [],
   "source": [
    "def norm(x):\n",
    "    return (x - train_stats['mean']) / train_stats['std']\n",
    "\n",
    "normed_train_data = norm(train_dataset)\n",
    "normed_test_data = norm(test_dataset)\n",
    "normed_validation_data = norm(validation_dataset)\n",
    "\n",
    "# is some of the data is NaN, fill it with 1\n",
    "if normed_train_data['Total_developers'].isna().any():\n",
    "    normed_train_data['Total_developers'] = normed_train_data['Total_developers'].fillna(1)\n",
    "    normed_test_data['Total_developers'] = normed_test_data['Total_developers'].fillna(1)\n",
    "    normed_validation_data['Total_developers'] = normed_validation_data['Total_developers'].fillna(1)"
   ]
  },
  {
   "cell_type": "code",
   "execution_count": 12,
   "metadata": {},
   "outputs": [
    {
     "data": {
      "text/html": [
       "<div>\n",
       "<style scoped>\n",
       "    .dataframe tbody tr th:only-of-type {\n",
       "        vertical-align: middle;\n",
       "    }\n",
       "\n",
       "    .dataframe tbody tr th {\n",
       "        vertical-align: top;\n",
       "    }\n",
       "\n",
       "    .dataframe thead th {\n",
       "        text-align: right;\n",
       "    }\n",
       "</style>\n",
       "<table border=\"1\" class=\"dataframe\">\n",
       "  <thead>\n",
       "    <tr style=\"text-align: right;\">\n",
       "      <th></th>\n",
       "      <th>Task_ID</th>\n",
       "      <th>Project_ID</th>\n",
       "      <th>Priority</th>\n",
       "      <th>Total_developers</th>\n",
       "      <th>Hours_estimate</th>\n",
       "      <th>Category_Bug</th>\n",
       "      <th>Category_Enhancement</th>\n",
       "      <th>Category_Release</th>\n",
       "      <th>Category_Testing</th>\n",
       "    </tr>\n",
       "  </thead>\n",
       "  <tbody>\n",
       "    <tr>\n",
       "      <th>1157</th>\n",
       "      <td>-1.029806</td>\n",
       "      <td>-0.713721</td>\n",
       "      <td>2.674345</td>\n",
       "      <td>1.0</td>\n",
       "      <td>-0.060202</td>\n",
       "      <td>1.126502</td>\n",
       "      <td>-0.863688</td>\n",
       "      <td>-0.32964</td>\n",
       "      <td>-0.187527</td>\n",
       "    </tr>\n",
       "    <tr>\n",
       "      <th>2467</th>\n",
       "      <td>0.562427</td>\n",
       "      <td>-0.713721</td>\n",
       "      <td>-0.705721</td>\n",
       "      <td>1.0</td>\n",
       "      <td>-0.291611</td>\n",
       "      <td>1.126502</td>\n",
       "      <td>-0.863688</td>\n",
       "      <td>-0.32964</td>\n",
       "      <td>-0.187527</td>\n",
       "    </tr>\n",
       "    <tr>\n",
       "      <th>2531</th>\n",
       "      <td>1.137409</td>\n",
       "      <td>-0.247320</td>\n",
       "      <td>-0.705721</td>\n",
       "      <td>1.0</td>\n",
       "      <td>-0.291611</td>\n",
       "      <td>1.126502</td>\n",
       "      <td>-0.863688</td>\n",
       "      <td>-0.32964</td>\n",
       "      <td>-0.187527</td>\n",
       "    </tr>\n",
       "    <tr>\n",
       "      <th>370</th>\n",
       "      <td>-0.296052</td>\n",
       "      <td>-0.713721</td>\n",
       "      <td>-0.705721</td>\n",
       "      <td>1.0</td>\n",
       "      <td>0.286910</td>\n",
       "      <td>-0.887357</td>\n",
       "      <td>1.157373</td>\n",
       "      <td>-0.32964</td>\n",
       "      <td>-0.187527</td>\n",
       "    </tr>\n",
       "    <tr>\n",
       "      <th>261</th>\n",
       "      <td>-0.195995</td>\n",
       "      <td>-0.713721</td>\n",
       "      <td>-0.705721</td>\n",
       "      <td>1.0</td>\n",
       "      <td>0.634023</td>\n",
       "      <td>-0.887357</td>\n",
       "      <td>1.157373</td>\n",
       "      <td>-0.32964</td>\n",
       "      <td>-0.187527</td>\n",
       "    </tr>\n",
       "  </tbody>\n",
       "</table>\n",
       "</div>"
      ],
      "text/plain": [
       "       Task_ID  Project_ID  Priority  Total_developers  Hours_estimate  \\\n",
       "1157 -1.029806   -0.713721  2.674345               1.0       -0.060202   \n",
       "2467  0.562427   -0.713721 -0.705721               1.0       -0.291611   \n",
       "2531  1.137409   -0.247320 -0.705721               1.0       -0.291611   \n",
       "370  -0.296052   -0.713721 -0.705721               1.0        0.286910   \n",
       "261  -0.195995   -0.713721 -0.705721               1.0        0.634023   \n",
       "\n",
       "      Category_Bug  Category_Enhancement  Category_Release  Category_Testing  \n",
       "1157      1.126502             -0.863688          -0.32964         -0.187527  \n",
       "2467      1.126502             -0.863688          -0.32964         -0.187527  \n",
       "2531      1.126502             -0.863688          -0.32964         -0.187527  \n",
       "370      -0.887357              1.157373          -0.32964         -0.187527  \n",
       "261      -0.887357              1.157373          -0.32964         -0.187527  "
      ]
     },
     "execution_count": 12,
     "metadata": {},
     "output_type": "execute_result"
    }
   ],
   "source": [
    "# show a part of the normalized data\n",
    "normed_train_data.head()"
   ]
  },
  {
   "cell_type": "markdown",
   "metadata": {},
   "source": [
    "## Building the Neural Network Model"
   ]
  },
  {
   "cell_type": "markdown",
   "metadata": {},
   "source": [
    "## Firts Model\n",
    "Two hidden layers with 50 neurons each\n",
    "\n",
    "Learning rate at 0.001"
   ]
  },
  {
   "cell_type": "code",
   "execution_count": 13,
   "metadata": {},
   "outputs": [],
   "source": [
    "def build_first_model_two_hidden_layers():\n",
    "    model = Sequential(name = \"FirstModelTwoHiddenLayers\")\n",
    "\n",
    "    # Input layer\n",
    "    model.add(Dense(10, input_shape = (normed_train_data.shape[1],)))\n",
    "\n",
    "    # Hidden layer \n",
    "    model.add(Dense(50, Activation('relu'), name='hidden_layer_1'))\n",
    "    model.add(Dense(50, Activation('relu'), name='hidden_layer_2'))\n",
    "\n",
    "    # Output layer \n",
    "    model.add(Dense(1))\n",
    "\n",
    "    learnig_rate = 0.001\n",
    "    optimizer = optimizers.RMSprop(learning_rate=learnig_rate)\n",
    "    model.compile(\n",
    "        loss='mse',\n",
    "        optimizer=optimizer,\n",
    "        metrics=['accuracy', 'mae', 'mse']\n",
    "    )\n",
    "\n",
    "    return model"
   ]
  },
  {
   "cell_type": "markdown",
   "metadata": {},
   "source": [
    "### Second Model\n",
    "\n",
    "Three hidden layers with 32, 64 and 128 neurons, respectively\n",
    "\n",
    "Learning rate at 0.01"
   ]
  },
  {
   "cell_type": "code",
   "execution_count": 45,
   "metadata": {},
   "outputs": [],
   "source": [
    "def build_second_model_three_hidden_layers():\n",
    "    model = Sequential(name = \"SecondModelThreeHiddenLayers\")\n",
    "\n",
    "    # Input layer\n",
    "    model.add(Dense(10, input_shape = (normed_train_data.shape[1],)))\n",
    "\n",
    "    # Hidden layer \n",
    "    model.add(Dense(32, Activation('relu'), name='hidden_layer_1'))\n",
    "    model.add(Dense(64, Activation('relu'), name='hidden_layer_2'))\n",
    "    model.add(Dense(128, Activation('relu'), name='hidden_layer_3'))\n",
    "\n",
    "    # Output layer \n",
    "    model.add(Dense(1))\n",
    "\n",
    "    learnig_rate = 0.01\n",
    "    optimizer = optimizers.RMSprop(learning_rate=learnig_rate)\n",
    "    model.compile(\n",
    "        loss='mse',\n",
    "        optimizer=optimizer,\n",
    "        metrics=['accuracy', 'mae', 'mse']\n",
    "    )\n",
    "\n",
    "    return model"
   ]
  },
  {
   "cell_type": "markdown",
   "metadata": {},
   "source": [
    "### Third Model\n",
    "\n",
    "Five hidden layers, all with 64 neurons\n",
    "\n",
    "Learning rate at 0.001"
   ]
  },
  {
   "cell_type": "code",
   "execution_count": 46,
   "metadata": {},
   "outputs": [],
   "source": [
    "def build_third_model_five_hidden_layers():\n",
    "    model = Sequential(name = \"ThirdModelFiveHiddenLayers\")\n",
    "\n",
    "    # Input layer\n",
    "    model.add(Dense(10, input_shape = (normed_train_data.shape[1],)))\n",
    "\n",
    "    # Hidden layer \n",
    "    model.add(Dense(64, Activation('relu'), name='hidden_layer_1'))\n",
    "    model.add(Dense(64, Activation('relu'), name='hidden_layer_2'))\n",
    "    model.add(Dense(64, Activation('relu'), name='hidden_layer_3'))\n",
    "    model.add(Dense(64, Activation('relu'), name='hidden_layer_4'))\n",
    "    model.add(Dense(64, Activation('relu'), name='hidden_layer_5'))\n",
    "\n",
    "    # Output layer \n",
    "    model.add(Dense(1))\n",
    "\n",
    "    learnig_rate = 0.01\n",
    "    optimizer = optimizers.RMSprop(learning_rate=learnig_rate)\n",
    "    model.compile(\n",
    "        loss='mse',\n",
    "        optimizer=optimizer,\n",
    "        metrics=['accuracy', 'mae', 'mse']\n",
    "    )\n",
    "\n",
    "    return model"
   ]
  },
  {
   "cell_type": "markdown",
   "metadata": {},
   "source": [
    "### Fourth Model\n",
    "\n",
    "Recurrent Neural Network"
   ]
  },
  {
   "cell_type": "code",
   "execution_count": 40,
   "metadata": {},
   "outputs": [],
   "source": [
    "def build_fourth_model_LSTM_hidden_layers():\n",
    "    model = Sequential(name = \"FourthModelLSTMHiddenLayers\")\n",
    "\n",
    "    model.add(Reshape(\n",
    "        (normed_train_data.shape[1], 1),\n",
    "        input_shape=(normed_train_data.shape[1],)\n",
    "    ))\n",
    "\n",
    "    model.add(SimpleRNN(128, return_sequences=True))\n",
    "    model.add(Dropout(0.2))\n",
    "    model.add(Dense(32, activation='relu'))\n",
    "    model.add(Dropout(0.2))\n",
    "  \n",
    "    model.add(Dense(1, Activation('linear')))\n",
    "\n",
    "    learnig_rate = 0.0001\n",
    "    optimizer = optimizers.Adam(learning_rate=learnig_rate)\n",
    "    model.compile(\n",
    "        loss='mse',\n",
    "        optimizer=optimizer,\n",
    "        metrics=['accuracy', 'mae', 'mse']\n",
    "    )\n",
    "\n",
    "    return model    "
   ]
  },
  {
   "cell_type": "markdown",
   "metadata": {},
   "source": [
    "### Fith Model\n",
    "\n",
    "Support Vector Machine"
   ]
  },
  {
   "cell_type": "code",
   "execution_count": 72,
   "metadata": {},
   "outputs": [
    {
     "name": "stdout",
     "output_type": "stream",
     "text": [
      "Best params hash: {'kernel': 'linear'}\n",
      "Accuracy:  0.8744658023545171\n",
      "Best estimator:  SVR(kernel='linear')\n",
      "Best index:  0\n",
      "Best score:  0.9055576293410604\n",
      "Scorer:  <sklearn.metrics._scorer._PassthroughScorer object at 0x00000170E8C8C850>\n",
      "MSE: 7.2444411276601866\n"
     ]
    },
    {
     "data": {
      "image/png": "[encoded data removed]",
      "text/plain": [
       "<Figure size 640x480 with 1 Axes>"
      ]
     },
     "metadata": {},
     "output_type": "display_data"
    }
   ],
   "source": [
    "from sklearn.svm import SVR\n",
    "from sklearn.model_selection import GridSearchCV\n",
    "\n",
    "parameters = {'kernel':('linear', 'rbf')}\n",
    "\n",
    "svr = SVR()\n",
    "LinearSVC = GridSearchCV(svr, parameters)\n",
    "history = LinearSVC.fit(normed_train_data, train_label)\n",
    "\n",
    "print(\"Best params hash: {}\".format(LinearSVC.best_params_))\n",
    "print(\"Accuracy: \" , LinearSVC.score(normed_test_data, test_label))\n",
    "print(\"Best estimator: \" , LinearSVC.best_estimator_)\n",
    "print(\"Best index: \" , LinearSVC.best_index_)\n",
    "print(\"Best score: \" , LinearSVC.best_score_)\n",
    "print(\"Scorer: \" , LinearSVC.scorer_)\n",
    "\n",
    "\n",
    "test_predictions = LinearSVC.predict(normed_test_data)\n",
    "print(\"MSE:\" , mean_squared_error(test_label, test_predictions))\n",
    "\n",
    "axes = plt.axes(aspect='equal')\n",
    "plt.scatter(test_label, test_predictions)\n",
    "plt.xlabel('True Values [Hours Logged]')\n",
    "plt.ylabel('Predictions [Hours Logged]')\n",
    "_ = plt.plot([0,100], [0,100])\n",
    "\n",
    "\n"
   ]
  },
  {
   "cell_type": "markdown",
   "metadata": {},
   "source": [
    "### Choose the model\n",
    "\n",
    "To choose the model uncomment the line of the one that you want yo fit"
   ]
  },
  {
   "cell_type": "code",
   "execution_count": 14,
   "metadata": {},
   "outputs": [
    {
     "name": "stdout",
     "output_type": "stream",
     "text": [
      "WARNING:tensorflow:From C:\\Users\\franc\\AppData\\Local\\Packages\\PythonSoftwareFoundation.Python.3.10_qbz5n2kfra8p0\\LocalCache\\local-packages\\Python310\\site-packages\\keras\\src\\backend.py:873: The name tf.get_default_graph is deprecated. Please use tf.compat.v1.get_default_graph instead.\n",
      "\n"
     ]
    }
   ],
   "source": [
    "model = build_first_model_two_hidden_layers()\n",
    "# model = build_second_model_three_hidden_layers()\n",
    "# model = build_third_model_five_hidden_layers()\n",
    "# model = build_fourth_model_LSTM_hidden_layers()"
   ]
  },
  {
   "cell_type": "markdown",
   "metadata": {},
   "source": [
    "Test the model before training (this will use the initial weights) which in fact will generate random values. We will take the first 10 rows"
   ]
  },
  {
   "cell_type": "code",
   "execution_count": 15,
   "metadata": {},
   "outputs": [
    {
     "name": "stdout",
     "output_type": "stream",
     "text": [
      "1/1 [==============================] - 0s 113ms/step\n"
     ]
    },
    {
     "data": {
      "text/plain": [
       "array([[1.3144681 ],\n",
       "       [0.19334388],\n",
       "       [0.21341786],\n",
       "       [0.1759548 ],\n",
       "       [0.14139259],\n",
       "       [0.48491424],\n",
       "       [0.32812643],\n",
       "       [0.24024743],\n",
       "       [0.4130914 ],\n",
       "       [0.47457257]], dtype=float32)"
      ]
     },
     "execution_count": 15,
     "metadata": {},
     "output_type": "execute_result"
    }
   ],
   "source": [
    "example_batch = normed_train_data[:10]\n",
    "example_result = model.predict(example_batch)\n",
    "example_result"
   ]
  },
  {
   "cell_type": "markdown",
   "metadata": {},
   "source": [
    "Save checkpoints during training"
   ]
  },
  {
   "cell_type": "code",
   "execution_count": 16,
   "metadata": {},
   "outputs": [],
   "source": [
    "# checkpoint_path = r\".\\checkpoint_logs\\connectium\\data.ckpt\"\n",
    "checkpoint_path = r\".\\checkpoint_logs\\sip\\data.ckpt\"\n",
    "\n",
    "# Create a callback that saves the model's weights\n",
    "ckpt_callback = tf.keras.callbacks.ModelCheckpoint(filepath=checkpoint_path,\n",
    "                                                 monitor='val_loss', # or val_accuracy if you have it.\n",
    "                                                 save_best_only=True, # Default false. If you don't change the file name then the output will be overritten at each step and only the last model will be saved.\n",
    "                                                 save_weights_only=True, # True => model.save_weights (weights and no structure, you need JSON file for structure), False => model.save (saves weights & structure)\n",
    "                                                 verbose=0,\n",
    "                                                  )"
   ]
  },
  {
   "cell_type": "markdown",
   "metadata": {},
   "source": [
    "## Model training"
   ]
  },
  {
   "cell_type": "code",
   "execution_count": 17,
   "metadata": {},
   "outputs": [
    {
     "name": "stdout",
     "output_type": "stream",
     "text": [
      "Summary of the model\n",
      "Model: \"FirstModelTwoHiddenLayers\"\n",
      "_________________________________________________________________\n",
      " Layer (type)                Output Shape              Param #   \n",
      "=================================================================\n",
      " dense (Dense)               (None, 10)                100       \n",
      "                                                                 \n",
      " hidden_layer_1 (Dense)      (None, 50)                550       \n",
      "                                                                 \n",
      " hidden_layer_2 (Dense)      (None, 50)                2550      \n",
      "                                                                 \n",
      " dense_1 (Dense)             (None, 1)                 51        \n",
      "                                                                 \n",
      "=================================================================\n",
      "Total params: 3251 (12.70 KB)\n",
      "Trainable params: 3251 (12.70 KB)\n",
      "Non-trainable params: 0 (0.00 Byte)\n",
      "_________________________________________________________________\n",
      "WARNING:tensorflow:From C:\\Users\\franc\\AppData\\Local\\Packages\\PythonSoftwareFoundation.Python.3.10_qbz5n2kfra8p0\\LocalCache\\local-packages\\Python310\\site-packages\\keras\\src\\utils\\tf_utils.py:492: The name tf.ragged.RaggedTensorValue is deprecated. Please use tf.compat.v1.ragged.RaggedTensorValue instead.\n",
      "\n",
      "WARNING:tensorflow:From C:\\Users\\franc\\AppData\\Local\\Packages\\PythonSoftwareFoundation.Python.3.10_qbz5n2kfra8p0\\LocalCache\\local-packages\\Python310\\site-packages\\keras\\src\\engine\\base_layer_utils.py:384: The name tf.executing_eagerly_outside_functions is deprecated. Please use tf.compat.v1.executing_eagerly_outside_functions instead.\n",
      "\n",
      "\n",
      "Epoch: 0, accuracy:0.2121,  loss:53.1171,  mae:3.3012,  mse:53.1171,  val_accuracy:0.2227,  val_loss:11.2379,  val_mae:2.3072,  val_mse:11.2379,  \n",
      "................................................................CPU times: total: 18.7 s\n",
      "Wall time: 36.9 s\n"
     ]
    }
   ],
   "source": [
    "%%time\n",
    "\n",
    "# for first model - is winning\n",
    "epochs = 64\n",
    "batch_size = 10\n",
    "\n",
    "# for second model\n",
    "# epochs = 600\n",
    "# batch_size = 100\n",
    "# for third model\n",
    "\n",
    "print(\"Summary of the model\")\n",
    "model.summary()\n",
    "\n",
    "history = model.fit(\n",
    "    normed_train_data,\n",
    "    train_label,\n",
    "    batch_size=batch_size,  \n",
    "    epochs=epochs, \n",
    "    verbose=0,\n",
    "    shuffle=True,\n",
    "    steps_per_epoch = int(normed_train_data.shape[0] / batch_size),\n",
    "    validation_data=(normed_validation_data, validation_label),\n",
    "    callbacks=[\n",
    "        tfdocs.modeling.EpochDots(),\n",
    "        ckpt_callback,\n",
    "    ]\n",
    ")"
   ]
  },
  {
   "cell_type": "markdown",
   "metadata": {},
   "source": [
    "Summary of the results after earch epoch"
   ]
  },
  {
   "cell_type": "code",
   "execution_count": 18,
   "metadata": {},
   "outputs": [
    {
     "data": {
      "text/html": [
       "<div>\n",
       "<style scoped>\n",
       "    .dataframe tbody tr th:only-of-type {\n",
       "        vertical-align: middle;\n",
       "    }\n",
       "\n",
       "    .dataframe tbody tr th {\n",
       "        vertical-align: top;\n",
       "    }\n",
       "\n",
       "    .dataframe thead th {\n",
       "        text-align: right;\n",
       "    }\n",
       "</style>\n",
       "<table border=\"1\" class=\"dataframe\">\n",
       "  <thead>\n",
       "    <tr style=\"text-align: right;\">\n",
       "      <th></th>\n",
       "      <th>loss</th>\n",
       "      <th>accuracy</th>\n",
       "      <th>mae</th>\n",
       "      <th>mse</th>\n",
       "      <th>val_loss</th>\n",
       "      <th>val_accuracy</th>\n",
       "      <th>val_mae</th>\n",
       "      <th>val_mse</th>\n",
       "      <th>epoch</th>\n",
       "    </tr>\n",
       "  </thead>\n",
       "  <tbody>\n",
       "    <tr>\n",
       "      <th>59</th>\n",
       "      <td>5.776804</td>\n",
       "      <td>0.304297</td>\n",
       "      <td>1.583455</td>\n",
       "      <td>5.776804</td>\n",
       "      <td>7.497548</td>\n",
       "      <td>0.325909</td>\n",
       "      <td>1.749410</td>\n",
       "      <td>7.497548</td>\n",
       "      <td>59</td>\n",
       "    </tr>\n",
       "    <tr>\n",
       "      <th>60</th>\n",
       "      <td>5.858843</td>\n",
       "      <td>0.304297</td>\n",
       "      <td>1.595360</td>\n",
       "      <td>5.858843</td>\n",
       "      <td>7.491855</td>\n",
       "      <td>0.300117</td>\n",
       "      <td>1.809331</td>\n",
       "      <td>7.491855</td>\n",
       "      <td>60</td>\n",
       "    </tr>\n",
       "    <tr>\n",
       "      <th>61</th>\n",
       "      <td>5.692716</td>\n",
       "      <td>0.298828</td>\n",
       "      <td>1.594638</td>\n",
       "      <td>5.692716</td>\n",
       "      <td>7.543660</td>\n",
       "      <td>0.295428</td>\n",
       "      <td>1.837776</td>\n",
       "      <td>7.543660</td>\n",
       "      <td>61</td>\n",
       "    </tr>\n",
       "    <tr>\n",
       "      <th>62</th>\n",
       "      <td>5.677431</td>\n",
       "      <td>0.300000</td>\n",
       "      <td>1.580971</td>\n",
       "      <td>5.677431</td>\n",
       "      <td>7.999631</td>\n",
       "      <td>0.223916</td>\n",
       "      <td>2.057765</td>\n",
       "      <td>7.999631</td>\n",
       "      <td>62</td>\n",
       "    </tr>\n",
       "    <tr>\n",
       "      <th>63</th>\n",
       "      <td>5.837199</td>\n",
       "      <td>0.299609</td>\n",
       "      <td>1.597312</td>\n",
       "      <td>5.837199</td>\n",
       "      <td>7.722159</td>\n",
       "      <td>0.304807</td>\n",
       "      <td>1.822457</td>\n",
       "      <td>7.722159</td>\n",
       "      <td>63</td>\n",
       "    </tr>\n",
       "  </tbody>\n",
       "</table>\n",
       "</div>"
      ],
      "text/plain": [
       "        loss  accuracy       mae       mse  val_loss  val_accuracy   val_mae  \\\n",
       "59  5.776804  0.304297  1.583455  5.776804  7.497548      0.325909  1.749410   \n",
       "60  5.858843  0.304297  1.595360  5.858843  7.491855      0.300117  1.809331   \n",
       "61  5.692716  0.298828  1.594638  5.692716  7.543660      0.295428  1.837776   \n",
       "62  5.677431  0.300000  1.580971  5.677431  7.999631      0.223916  2.057765   \n",
       "63  5.837199  0.299609  1.597312  5.837199  7.722159      0.304807  1.822457   \n",
       "\n",
       "     val_mse  epoch  \n",
       "59  7.497548     59  \n",
       "60  7.491855     60  \n",
       "61  7.543660     61  \n",
       "62  7.999631     62  \n",
       "63  7.722159     63  "
      ]
     },
     "execution_count": 18,
     "metadata": {},
     "output_type": "execute_result"
    }
   ],
   "source": [
    "history_dataset = pd.DataFrame(history.history)\n",
    "history_dataset['epoch'] = history.epoch\n",
    "history_dataset.tail()"
   ]
  },
  {
   "cell_type": "markdown",
   "metadata": {},
   "source": [
    "Saving error results"
   ]
  },
  {
   "cell_type": "code",
   "execution_count": 19,
   "metadata": {},
   "outputs": [],
   "source": [
    "# hystory_dataset.to_csv(r\".\\outputs\\history_connectium.csv\")\n",
    "history_dataset.to_csv(r\"./outputs/history_sip.csv\", index=False)"
   ]
  },
  {
   "cell_type": "markdown",
   "metadata": {},
   "source": [
    "### Predicted and real values\n",
    "\n",
    "Here we will see the first 10 rows of the predicted data, comparing it with the real one"
   ]
  },
  {
   "cell_type": "code",
   "execution_count": 20,
   "metadata": {},
   "outputs": [
    {
     "name": "stdout",
     "output_type": "stream",
     "text": [
      "1/1 [==============================] - 0s 33ms/step\n",
      "Predicted Hours Logged\n"
     ]
    },
    {
     "data": {
      "text/plain": [
       "array([[ 3.9425857 ],\n",
       "       [ 2.0719132 ],\n",
       "       [ 1.61623   ],\n",
       "       [ 7.5808825 ],\n",
       "       [10.342769  ],\n",
       "       [ 2.0384738 ],\n",
       "       [ 0.13561787],\n",
       "       [ 2.0411122 ],\n",
       "       [ 1.7582986 ],\n",
       "       [ 1.207072  ]], dtype=float32)"
      ]
     },
     "execution_count": 20,
     "metadata": {},
     "output_type": "execute_result"
    }
   ],
   "source": [
    "example_batch = normed_train_data[:10]\n",
    "example_result = model.predict(example_batch)\n",
    "print(\"Predicted Hours Logged\")\n",
    "example_result"
   ]
  },
  {
   "cell_type": "code",
   "execution_count": 21,
   "metadata": {},
   "outputs": [
    {
     "name": "stdout",
     "output_type": "stream",
     "text": [
      "Real Hours Logged\n"
     ]
    },
    {
     "data": {
      "text/plain": [
       "1157     2\n",
       "2467     2\n",
       "2531     1\n",
       "370      1\n",
       "261     16\n",
       "3471     2\n",
       "3489     0\n",
       "3815     2\n",
       "3808     2\n",
       "2268     0\n",
       "Name: Hours_logged, dtype: int32"
      ]
     },
     "execution_count": 21,
     "metadata": {},
     "output_type": "execute_result"
    }
   ],
   "source": [
    "print(\"Real Hours Logged\")\n",
    "train_label[:10]"
   ]
  },
  {
   "cell_type": "markdown",
   "metadata": {},
   "source": [
    "## Evaluating the model\n",
    "\n",
    "The metrics we choose to evaluate the model were **Mean Abs. Error** and **Mean squarred Error**\n",
    "\n",
    "We will graph the error metrics across epochs and then see how the model evalutes itself"
   ]
  },
  {
   "cell_type": "code",
   "execution_count": 22,
   "metadata": {},
   "outputs": [
    {
     "data": {
      "text/plain": [
       "Text(0, 0.5, 'MAE [Hours Logged]')"
      ]
     },
     "execution_count": 22,
     "metadata": {},
     "output_type": "execute_result"
    },
    {
     "data": {
      "image/png": "[encoded data removed]",
      "text/plain": [
       "<Figure size 640x480 with 1 Axes>"
      ]
     },
     "metadata": {},
     "output_type": "display_data"
    }
   ],
   "source": [
    "plotter = tfdocs.plots.HistoryPlotter(smoothing_std=2)\n",
    "plotter.plot({'Basic': history}, metric = \"mae\")\n",
    "plt.ylabel('MAE [Hours Logged]')"
   ]
  },
  {
   "cell_type": "markdown",
   "metadata": {},
   "source": [
    "### Error rate on Train Sample"
   ]
  },
  {
   "cell_type": "code",
   "execution_count": 23,
   "metadata": {},
   "outputs": [
    {
     "name": "stdout",
     "output_type": "stream",
     "text": [
      "80/80 - 0s - loss: 5.9692 - accuracy: 0.3035 - mae: 1.5737 - mse: 5.9692 - 138ms/epoch - 2ms/step\n",
      "Mean Abs Error:  1.57 Hours_logged\n",
      "Mean Squared Error:  5.97 Hours_logged\n"
     ]
    }
   ],
   "source": [
    "loss, accuracy, mae, mse = model.evaluate(normed_train_data, train_label, verbose=2)\n",
    "\n",
    "print(\"Mean Abs Error: {:5.2f} Hours_logged\".format(mae))\n",
    "print(\"Mean Squared Error: {:5.2f} Hours_logged\".format(mse))\n"
   ]
  },
  {
   "cell_type": "markdown",
   "metadata": {},
   "source": [
    "### Error rate on Validation Sample"
   ]
  },
  {
   "cell_type": "code",
   "execution_count": 24,
   "metadata": {},
   "outputs": [
    {
     "name": "stdout",
     "output_type": "stream",
     "text": [
      "27/27 - 0s - loss: 7.7222 - accuracy: 0.3048 - mae: 1.8225 - mse: 7.7222 - 65ms/epoch - 2ms/step\n",
      "Mean Abs Error:  1.82 Hours Logged\n",
      "Mean Squared Error:  7.72 Hours Logged\n"
     ]
    }
   ],
   "source": [
    "loss, accuracy, mae, mse = model.evaluate(normed_validation_data, validation_label, verbose=2)\n",
    "\n",
    "print(\"Mean Abs Error: {:5.2f} Hours Logged\".format(mae))\n",
    "print(\"Mean Squared Error: {:5.2f} Hours Logged\".format(mse))"
   ]
  },
  {
   "cell_type": "markdown",
   "metadata": {},
   "source": [
    "## Predicting the data"
   ]
  },
  {
   "cell_type": "code",
   "execution_count": 35,
   "metadata": {},
   "outputs": [
    {
     "name": "stdout",
     "output_type": "stream",
     "text": [
      "27/27 [==============================] - 0s 2ms/step\n"
     ]
    }
   ],
   "source": [
    "test_predictions = model.predict(normed_test_data).flatten()\n",
    "\n",
    "test_predictions_to_csv = pd.DataFrame(test_predictions).to_csv(r\"./outputs/test_predictions_sip.csv\", index=False)\n",
    "test_label_to_csv = pd.DataFrame(test_label).to_csv(r\"./outputs/test_label_sip.csv\", index=False)"
   ]
  },
  {
   "cell_type": "markdown",
   "metadata": {},
   "source": [
    "Predictions VS. True Values for Hours Logged"
   ]
  },
  {
   "cell_type": "code",
   "execution_count": 36,
   "metadata": {},
   "outputs": [
    {
     "data": {
      "image/png": "[encoded data removed]",
      "text/plain": [
       "<Figure size 640x480 with 1 Axes>"
      ]
     },
     "metadata": {},
     "output_type": "display_data"
    }
   ],
   "source": [
    "axes = plt.axes(aspect='equal')\n",
    "plt.scatter(test_label, test_predictions)\n",
    "plt.xlabel('True Values [Hours Logged]')\n",
    "plt.ylabel('Predictions [Hours Logged]')\n",
    "# calculate the limit\n",
    "max_value = max(test_label.max(), test_predictions[0].max())\n",
    "_ = plt.plot([0, max_value], [0, max_value]) "
   ]
  }
 ],
 "metadata": {
  "kernelspec": {
   "display_name": "Python 3",
   "language": "python",
   "name": "python3"
  },
  "language_info": {
   "codemirror_mode": {
    "name": "ipython",
    "version": 3
   },
   "file_extension": ".py",
   "mimetype": "text/x-python",
   "name": "python",
   "nbconvert_exporter": "python",
   "pygments_lexer": "ipython3",
   "version": "3.10.11"
  }
 },
 "nbformat": 4,
 "nbformat_minor": 2
}
