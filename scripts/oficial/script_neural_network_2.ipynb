{
 "cells": [
  {
   "cell_type": "code",
   "execution_count": 40,
   "metadata": {},
   "outputs": [],
   "source": [
    "import os\n",
    "# for the model\n",
    "import tensorflow as tf\n",
    "import tensorflow_docs as tfdocs\n",
    "import tensorflow_docs.plots\n",
    "import tensorflow_docs.modeling\n",
    "from tensorflow import keras\n",
    "from tensorflow.keras.models import Sequential\n",
    "from tensorflow.keras.layers import *\n",
    "from tensorflow.keras import optimizers\n",
    "from tensorflow.keras.callbacks import TensorBoard\n",
    "\n",
    "from sklearn.model_selection import train_test_split, KFold, GridSearchCV, cross_val_score\n",
    "from sklearn.svm import SVR\n",
    "from sklearn.metrics import mean_squared_error, mean_absolute_error\n",
    "\n",
    "# for data manipulation and graphing\n",
    "import pathlib\n",
    "import numpy as np\n",
    "import matplotlib.pyplot as plt\n",
    "import pandas as pd\n",
    "import seaborn as sns\n",
    "\n",
    "from IPython.display import display, HTML\n",
    "\n",
    "tf.random.set_seed(42) # set seed for reproducibility\n",
    "tf.debugging.set_log_device_placement(False)"
   ]
  },
  {
   "cell_type": "markdown",
   "metadata": {},
   "source": [
    "## Data preprocessing"
   ]
  },
  {
   "cell_type": "code",
   "execution_count": 41,
   "metadata": {},
   "outputs": [
    {
     "data": {
      "text/html": [
       "<div>\n",
       "<style scoped>\n",
       "    .dataframe tbody tr th:only-of-type {\n",
       "        vertical-align: middle;\n",
       "    }\n",
       "\n",
       "    .dataframe tbody tr th {\n",
       "        vertical-align: top;\n",
       "    }\n",
       "\n",
       "    .dataframe thead th {\n",
       "        text-align: right;\n",
       "    }\n",
       "</style>\n",
       "<table border=\"1\" class=\"dataframe\">\n",
       "  <thead>\n",
       "    <tr style=\"text-align: right;\">\n",
       "      <th></th>\n",
       "      <th>Task_ID</th>\n",
       "      <th>Priority</th>\n",
       "      <th>Project_ID</th>\n",
       "      <th>Project_code</th>\n",
       "      <th>Category</th>\n",
       "      <th>Total_developers</th>\n",
       "      <th>TaskPerformance</th>\n",
       "      <th>DeveloperPerformance</th>\n",
       "      <th>Hours_estimate</th>\n",
       "      <th>Hours_logged</th>\n",
       "      <th>Difference</th>\n",
       "    </tr>\n",
       "  </thead>\n",
       "  <tbody>\n",
       "    <tr>\n",
       "      <th>0</th>\n",
       "      <td>13728</td>\n",
       "      <td>1</td>\n",
       "      <td>10</td>\n",
       "      <td>PC10</td>\n",
       "      <td>Enhancement</td>\n",
       "      <td>1</td>\n",
       "      <td>6.47</td>\n",
       "      <td>6.47</td>\n",
       "      <td>28.0</td>\n",
       "      <td>21.53</td>\n",
       "      <td>6.47</td>\n",
       "    </tr>\n",
       "    <tr>\n",
       "      <th>1</th>\n",
       "      <td>3530</td>\n",
       "      <td>1</td>\n",
       "      <td>9</td>\n",
       "      <td>PC9</td>\n",
       "      <td>Bug</td>\n",
       "      <td>1</td>\n",
       "      <td>6.46</td>\n",
       "      <td>6.46</td>\n",
       "      <td>7.0</td>\n",
       "      <td>0.54</td>\n",
       "      <td>6.46</td>\n",
       "    </tr>\n",
       "    <tr>\n",
       "      <th>2</th>\n",
       "      <td>6163</td>\n",
       "      <td>1</td>\n",
       "      <td>9</td>\n",
       "      <td>PC9</td>\n",
       "      <td>Release</td>\n",
       "      <td>1</td>\n",
       "      <td>-6.45</td>\n",
       "      <td>-3.95</td>\n",
       "      <td>2.0</td>\n",
       "      <td>8.45</td>\n",
       "      <td>6.45</td>\n",
       "    </tr>\n",
       "    <tr>\n",
       "      <th>3</th>\n",
       "      <td>6163</td>\n",
       "      <td>1</td>\n",
       "      <td>9</td>\n",
       "      <td>PC9</td>\n",
       "      <td>Release</td>\n",
       "      <td>1</td>\n",
       "      <td>-6.45</td>\n",
       "      <td>NaN</td>\n",
       "      <td>2.0</td>\n",
       "      <td>8.45</td>\n",
       "      <td>6.45</td>\n",
       "    </tr>\n",
       "    <tr>\n",
       "      <th>4</th>\n",
       "      <td>11241</td>\n",
       "      <td>1</td>\n",
       "      <td>9</td>\n",
       "      <td>PC9</td>\n",
       "      <td>Enhancement</td>\n",
       "      <td>1</td>\n",
       "      <td>-6.38</td>\n",
       "      <td>-5.68</td>\n",
       "      <td>70.0</td>\n",
       "      <td>76.38</td>\n",
       "      <td>6.38</td>\n",
       "    </tr>\n",
       "  </tbody>\n",
       "</table>\n",
       "</div>"
      ],
      "text/plain": [
       "   Task_ID  Priority  Project_ID Project_code     Category  Total_developers  \\\n",
       "0    13728         1          10         PC10  Enhancement                 1   \n",
       "1     3530         1           9          PC9          Bug                 1   \n",
       "2     6163         1           9          PC9      Release                 1   \n",
       "3     6163         1           9          PC9      Release                 1   \n",
       "4    11241         1           9          PC9  Enhancement                 1   \n",
       "\n",
       "   TaskPerformance  DeveloperPerformance  Hours_estimate  Hours_logged  \\\n",
       "0             6.47                  6.47            28.0         21.53   \n",
       "1             6.46                  6.46             7.0          0.54   \n",
       "2            -6.45                 -3.95             2.0          8.45   \n",
       "3            -6.45                   NaN             2.0          8.45   \n",
       "4            -6.38                 -5.68            70.0         76.38   \n",
       "\n",
       "   Difference  \n",
       "0        6.47  \n",
       "1        6.46  \n",
       "2        6.45  \n",
       "3        6.45  \n",
       "4        6.38  "
      ]
     },
     "execution_count": 41,
     "metadata": {},
     "output_type": "execute_result"
    }
   ],
   "source": [
    "# load the dataset\n",
    "# connectium\n",
    "# original_dataset = pd.read_csv(\"C:/Users/franc/pasantia_IA/datasets/data_connectium.csv\")\n",
    "# sip\n",
    "original_dataset = pd.read_csv(\"C:/Users/franc/pasantia_IA/datasets/data_sip.csv\")\n",
    "\n",
    "# show the original data\n",
    "original_dataset.head()"
   ]
  },
  {
   "cell_type": "code",
   "execution_count": 42,
   "metadata": {},
   "outputs": [
    {
     "name": "stdout",
     "output_type": "stream",
     "text": [
      "<class 'pandas.core.frame.DataFrame'>\n",
      "RangeIndex: 4055 entries, 0 to 4054\n",
      "Data columns (total 11 columns):\n",
      " #   Column                Non-Null Count  Dtype  \n",
      "---  ------                --------------  -----  \n",
      " 0   Task_ID               4055 non-null   int64  \n",
      " 1   Priority              4055 non-null   int64  \n",
      " 2   Project_ID            4055 non-null   int64  \n",
      " 3   Project_code          4055 non-null   object \n",
      " 4   Category              4055 non-null   object \n",
      " 5   Total_developers      4055 non-null   int64  \n",
      " 6   TaskPerformance       4055 non-null   float64\n",
      " 7   DeveloperPerformance  3662 non-null   float64\n",
      " 8   Hours_estimate        4055 non-null   float64\n",
      " 9   Hours_logged          4055 non-null   float64\n",
      " 10  Difference            4055 non-null   float64\n",
      "dtypes: float64(5), int64(4), object(2)\n",
      "memory usage: 348.6+ KB\n"
     ]
    }
   ],
   "source": [
    "# show the metadata\n",
    "original_dataset.info()"
   ]
  },
  {
   "cell_type": "code",
   "execution_count": 43,
   "metadata": {},
   "outputs": [],
   "source": [
    "# drop all the unnecessary columns\n",
    "clean_dataset = original_dataset[[\n",
    "    \n",
    "    'Priority',\n",
    "    'Category',\n",
    "    'Total_developers',\n",
    "    'Hours_estimate',\n",
    "    'Hours_logged',\n",
    "]]\n",
    "\n",
    "# desnormalizing data\n",
    "clean_dataset = pd.get_dummies(clean_dataset, columns=['Category'])\n",
    "clean_dataset = clean_dataset.astype(int)"
   ]
  },
  {
   "cell_type": "code",
   "execution_count": 44,
   "metadata": {},
   "outputs": [
    {
     "data": {
      "text/html": [
       "<div>\n",
       "<style scoped>\n",
       "    .dataframe tbody tr th:only-of-type {\n",
       "        vertical-align: middle;\n",
       "    }\n",
       "\n",
       "    .dataframe tbody tr th {\n",
       "        vertical-align: top;\n",
       "    }\n",
       "\n",
       "    .dataframe thead th {\n",
       "        text-align: right;\n",
       "    }\n",
       "</style>\n",
       "<table border=\"1\" class=\"dataframe\">\n",
       "  <thead>\n",
       "    <tr style=\"text-align: right;\">\n",
       "      <th></th>\n",
       "      <th>Priority</th>\n",
       "      <th>Total_developers</th>\n",
       "      <th>Hours_estimate</th>\n",
       "      <th>Hours_logged</th>\n",
       "      <th>Category_Bug</th>\n",
       "      <th>Category_Enhancement</th>\n",
       "      <th>Category_Release</th>\n",
       "      <th>Category_Testing</th>\n",
       "    </tr>\n",
       "  </thead>\n",
       "  <tbody>\n",
       "    <tr>\n",
       "      <th>0</th>\n",
       "      <td>1</td>\n",
       "      <td>1</td>\n",
       "      <td>28</td>\n",
       "      <td>21</td>\n",
       "      <td>0</td>\n",
       "      <td>1</td>\n",
       "      <td>0</td>\n",
       "      <td>0</td>\n",
       "    </tr>\n",
       "    <tr>\n",
       "      <th>1</th>\n",
       "      <td>1</td>\n",
       "      <td>1</td>\n",
       "      <td>7</td>\n",
       "      <td>0</td>\n",
       "      <td>1</td>\n",
       "      <td>0</td>\n",
       "      <td>0</td>\n",
       "      <td>0</td>\n",
       "    </tr>\n",
       "    <tr>\n",
       "      <th>2</th>\n",
       "      <td>1</td>\n",
       "      <td>1</td>\n",
       "      <td>2</td>\n",
       "      <td>8</td>\n",
       "      <td>0</td>\n",
       "      <td>0</td>\n",
       "      <td>1</td>\n",
       "      <td>0</td>\n",
       "    </tr>\n",
       "    <tr>\n",
       "      <th>3</th>\n",
       "      <td>1</td>\n",
       "      <td>1</td>\n",
       "      <td>2</td>\n",
       "      <td>8</td>\n",
       "      <td>0</td>\n",
       "      <td>0</td>\n",
       "      <td>1</td>\n",
       "      <td>0</td>\n",
       "    </tr>\n",
       "    <tr>\n",
       "      <th>4</th>\n",
       "      <td>1</td>\n",
       "      <td>1</td>\n",
       "      <td>70</td>\n",
       "      <td>76</td>\n",
       "      <td>0</td>\n",
       "      <td>1</td>\n",
       "      <td>0</td>\n",
       "      <td>0</td>\n",
       "    </tr>\n",
       "  </tbody>\n",
       "</table>\n",
       "</div>"
      ],
      "text/plain": [
       "   Priority  Total_developers  Hours_estimate  Hours_logged  Category_Bug  \\\n",
       "0         1                 1              28            21             0   \n",
       "1         1                 1               7             0             1   \n",
       "2         1                 1               2             8             0   \n",
       "3         1                 1               2             8             0   \n",
       "4         1                 1              70            76             0   \n",
       "\n",
       "   Category_Enhancement  Category_Release  Category_Testing  \n",
       "0                     1                 0                 0  \n",
       "1                     0                 0                 0  \n",
       "2                     0                 1                 0  \n",
       "3                     0                 1                 0  \n",
       "4                     1                 0                 0  "
      ]
     },
     "execution_count": 44,
     "metadata": {},
     "output_type": "execute_result"
    }
   ],
   "source": [
    "clean_dataset.head()"
   ]
  },
  {
   "cell_type": "code",
   "execution_count": 45,
   "metadata": {},
   "outputs": [
    {
     "name": "stdout",
     "output_type": "stream",
     "text": [
      "<class 'pandas.core.frame.DataFrame'>\n",
      "RangeIndex: 4055 entries, 0 to 4054\n",
      "Data columns (total 8 columns):\n",
      " #   Column                Non-Null Count  Dtype\n",
      "---  ------                --------------  -----\n",
      " 0   Priority              4055 non-null   int32\n",
      " 1   Total_developers      4055 non-null   int32\n",
      " 2   Hours_estimate        4055 non-null   int32\n",
      " 3   Hours_logged          4055 non-null   int32\n",
      " 4   Category_Bug          4055 non-null   int32\n",
      " 5   Category_Enhancement  4055 non-null   int32\n",
      " 6   Category_Release      4055 non-null   int32\n",
      " 7   Category_Testing      4055 non-null   int32\n",
      "dtypes: int32(8)\n",
      "memory usage: 126.8 KB\n"
     ]
    }
   ],
   "source": [
    "clean_dataset.info()"
   ]
  },
  {
   "cell_type": "markdown",
   "metadata": {},
   "source": [
    "### Data sampling\n",
    "\n",
    "Split the data into train, test and validate samples to fit and evaluate the model\n",
    "\n",
    "The percentage of each one will be\n",
    "\n",
    "- 60% training\n",
    "- 20% testing\n",
    "- 20% validating"
   ]
  },
  {
   "cell_type": "code",
   "execution_count": 47,
   "metadata": {},
   "outputs": [
    {
     "name": "stdout",
     "output_type": "stream",
     "text": [
      "Samples shape\n",
      "    Train: (3244, 8)\n",
      "    Test: (406, 8)\n",
      "    Validation: (405, 8)\n"
     ]
    }
   ],
   "source": [
    "train_dataset, temp_test_dataset = train_test_split(clean_dataset, test_size=0.20)\n",
    "\n",
    "validation_dataset, test_dataset = train_test_split(temp_test_dataset, test_size=0.50)\n",
    "\n",
    "print(\"Samples shape\")\n",
    "print(f\"    Train: {train_dataset.shape}\")\n",
    "print(f\"    Test: {test_dataset.shape}\")\n",
    "print(f\"    Validation: {validation_dataset.shape}\")"
   ]
  },
  {
   "cell_type": "markdown",
   "metadata": {},
   "source": [
    "### Data analysis\n",
    "\n",
    "Calculate the correlation and other statistics on the train dataset"
   ]
  },
  {
   "cell_type": "code",
   "execution_count": 48,
   "metadata": {},
   "outputs": [
    {
     "data": {
      "image/png": "[encoded data removed]",
      "text/plain": [
       "<Figure size 1200x400 with 2 Axes>"
      ]
     },
     "metadata": {},
     "output_type": "display_data"
    }
   ],
   "source": [
    "# correlation between the features and the target\n",
    "\n",
    "correlation_matrix = clean_dataset.corr()\n",
    "correlation_matrix['Hours_logged'].sort_values(ascending=False)\n",
    "\n",
    "# plot the correlation matrix\n",
    "plt.figure(figsize=(12, 4))\n",
    "sns.heatmap(correlation_matrix, annot=True, cmap='coolwarm')\n",
    "plt.title('Correlation Matrix')\n",
    "plt.show()"
   ]
  },
  {
   "cell_type": "code",
   "execution_count": 49,
   "metadata": {},
   "outputs": [
    {
     "data": {
      "text/html": [
       "<div>\n",
       "<style scoped>\n",
       "    .dataframe tbody tr th:only-of-type {\n",
       "        vertical-align: middle;\n",
       "    }\n",
       "\n",
       "    .dataframe tbody tr th {\n",
       "        vertical-align: top;\n",
       "    }\n",
       "\n",
       "    .dataframe thead th {\n",
       "        text-align: right;\n",
       "    }\n",
       "</style>\n",
       "<table border=\"1\" class=\"dataframe\">\n",
       "  <thead>\n",
       "    <tr style=\"text-align: right;\">\n",
       "      <th></th>\n",
       "      <th>count</th>\n",
       "      <th>mean</th>\n",
       "      <th>std</th>\n",
       "      <th>min</th>\n",
       "      <th>25%</th>\n",
       "      <th>50%</th>\n",
       "      <th>75%</th>\n",
       "      <th>max</th>\n",
       "    </tr>\n",
       "  </thead>\n",
       "  <tbody>\n",
       "    <tr>\n",
       "      <th>Priority</th>\n",
       "      <td>3244.0</td>\n",
       "      <td>2.298705</td>\n",
       "      <td>1.793327</td>\n",
       "      <td>1.0</td>\n",
       "      <td>1.0</td>\n",
       "      <td>1.0</td>\n",
       "      <td>3.0</td>\n",
       "      <td>10.0</td>\n",
       "    </tr>\n",
       "    <tr>\n",
       "      <th>Total_developers</th>\n",
       "      <td>3244.0</td>\n",
       "      <td>1.000000</td>\n",
       "      <td>0.000000</td>\n",
       "      <td>1.0</td>\n",
       "      <td>1.0</td>\n",
       "      <td>1.0</td>\n",
       "      <td>1.0</td>\n",
       "      <td>1.0</td>\n",
       "    </tr>\n",
       "    <tr>\n",
       "      <th>Hours_estimate</th>\n",
       "      <td>3244.0</td>\n",
       "      <td>4.427867</td>\n",
       "      <td>9.288140</td>\n",
       "      <td>0.0</td>\n",
       "      <td>1.0</td>\n",
       "      <td>2.0</td>\n",
       "      <td>5.0</td>\n",
       "      <td>260.0</td>\n",
       "    </tr>\n",
       "    <tr>\n",
       "      <th>Category_Bug</th>\n",
       "      <td>3244.0</td>\n",
       "      <td>0.442355</td>\n",
       "      <td>0.496743</td>\n",
       "      <td>0.0</td>\n",
       "      <td>0.0</td>\n",
       "      <td>0.0</td>\n",
       "      <td>1.0</td>\n",
       "      <td>1.0</td>\n",
       "    </tr>\n",
       "    <tr>\n",
       "      <th>Category_Enhancement</th>\n",
       "      <td>3244.0</td>\n",
       "      <td>0.421702</td>\n",
       "      <td>0.493907</td>\n",
       "      <td>0.0</td>\n",
       "      <td>0.0</td>\n",
       "      <td>0.0</td>\n",
       "      <td>1.0</td>\n",
       "      <td>1.0</td>\n",
       "    </tr>\n",
       "    <tr>\n",
       "      <th>Category_Release</th>\n",
       "      <td>3244.0</td>\n",
       "      <td>0.100493</td>\n",
       "      <td>0.300703</td>\n",
       "      <td>0.0</td>\n",
       "      <td>0.0</td>\n",
       "      <td>0.0</td>\n",
       "      <td>0.0</td>\n",
       "      <td>1.0</td>\n",
       "    </tr>\n",
       "    <tr>\n",
       "      <th>Category_Testing</th>\n",
       "      <td>3244.0</td>\n",
       "      <td>0.035450</td>\n",
       "      <td>0.184943</td>\n",
       "      <td>0.0</td>\n",
       "      <td>0.0</td>\n",
       "      <td>0.0</td>\n",
       "      <td>0.0</td>\n",
       "      <td>1.0</td>\n",
       "    </tr>\n",
       "  </tbody>\n",
       "</table>\n",
       "</div>"
      ],
      "text/plain": [
       "                       count      mean       std  min  25%  50%  75%    max\n",
       "Priority              3244.0  2.298705  1.793327  1.0  1.0  1.0  3.0   10.0\n",
       "Total_developers      3244.0  1.000000  0.000000  1.0  1.0  1.0  1.0    1.0\n",
       "Hours_estimate        3244.0  4.427867  9.288140  0.0  1.0  2.0  5.0  260.0\n",
       "Category_Bug          3244.0  0.442355  0.496743  0.0  0.0  0.0  1.0    1.0\n",
       "Category_Enhancement  3244.0  0.421702  0.493907  0.0  0.0  0.0  1.0    1.0\n",
       "Category_Release      3244.0  0.100493  0.300703  0.0  0.0  0.0  0.0    1.0\n",
       "Category_Testing      3244.0  0.035450  0.184943  0.0  0.0  0.0  0.0    1.0"
      ]
     },
     "execution_count": 49,
     "metadata": {},
     "output_type": "execute_result"
    }
   ],
   "source": [
    "# another interesting statistics like the count, mean, std, min, quartiles and max, all per feature\n",
    "train_stats = train_dataset.describe()\n",
    "train_stats.pop(\"Hours_logged\")\n",
    "train_stats = train_stats.transpose()\n",
    "train_stats"
   ]
  },
  {
   "cell_type": "markdown",
   "metadata": {},
   "source": [
    "### Feature prediction\n",
    "\n",
    "The label \"Hours Logged\" is the actual goal for our model, we will remove it from every sample and keep it apart"
   ]
  },
  {
   "cell_type": "code",
   "execution_count": 50,
   "metadata": {},
   "outputs": [],
   "source": [
    "train_label = train_dataset.pop('Hours_logged')\n",
    "test_label = test_dataset.pop('Hours_logged')\n",
    "validation_label = validation_dataset.pop('Hours_logged')"
   ]
  },
  {
   "cell_type": "markdown",
   "metadata": {},
   "source": [
    "### Data normalization/Scaling\n",
    "\n",
    "Subtract the mean of the training data and divide by the standard deviation of the training data."
   ]
  },
  {
   "cell_type": "code",
   "execution_count": 51,
   "metadata": {},
   "outputs": [],
   "source": [
    "def norm(x):\n",
    "    return (x - train_stats['mean']) / train_stats['std']\n",
    "\n",
    "normed_train_data = norm(train_dataset)\n",
    "normed_test_data = norm(test_dataset)\n",
    "normed_validation_data = norm(validation_dataset)\n",
    "\n",
    "# is some of the data is NaN, fill it with 1\n",
    "if normed_train_data['Total_developers'].isna().any():\n",
    "    normed_train_data['Total_developers'] = normed_train_data['Total_developers'].fillna(1)\n",
    "    normed_test_data['Total_developers'] = normed_test_data['Total_developers'].fillna(1)\n",
    "    normed_validation_data['Total_developers'] = normed_validation_data['Total_developers'].fillna(1)"
   ]
  },
  {
   "cell_type": "code",
   "execution_count": 52,
   "metadata": {},
   "outputs": [
    {
     "data": {
      "text/html": [
       "<div>\n",
       "<style scoped>\n",
       "    .dataframe tbody tr th:only-of-type {\n",
       "        vertical-align: middle;\n",
       "    }\n",
       "\n",
       "    .dataframe tbody tr th {\n",
       "        vertical-align: top;\n",
       "    }\n",
       "\n",
       "    .dataframe thead th {\n",
       "        text-align: right;\n",
       "    }\n",
       "</style>\n",
       "<table border=\"1\" class=\"dataframe\">\n",
       "  <thead>\n",
       "    <tr style=\"text-align: right;\">\n",
       "      <th></th>\n",
       "      <th>Priority</th>\n",
       "      <th>Total_developers</th>\n",
       "      <th>Hours_estimate</th>\n",
       "      <th>Category_Bug</th>\n",
       "      <th>Category_Enhancement</th>\n",
       "      <th>Category_Release</th>\n",
       "      <th>Category_Testing</th>\n",
       "    </tr>\n",
       "  </thead>\n",
       "  <tbody>\n",
       "    <tr>\n",
       "      <th>1623</th>\n",
       "      <td>1.506304</td>\n",
       "      <td>1.0</td>\n",
       "      <td>-0.369058</td>\n",
       "      <td>-0.890512</td>\n",
       "      <td>1.170864</td>\n",
       "      <td>-0.334194</td>\n",
       "      <td>-0.191681</td>\n",
       "    </tr>\n",
       "    <tr>\n",
       "      <th>3207</th>\n",
       "      <td>0.391058</td>\n",
       "      <td>1.0</td>\n",
       "      <td>-0.476723</td>\n",
       "      <td>1.122603</td>\n",
       "      <td>-0.853807</td>\n",
       "      <td>-0.334194</td>\n",
       "      <td>-0.191681</td>\n",
       "    </tr>\n",
       "    <tr>\n",
       "      <th>1757</th>\n",
       "      <td>-0.724188</td>\n",
       "      <td>1.0</td>\n",
       "      <td>-0.369058</td>\n",
       "      <td>-0.890512</td>\n",
       "      <td>1.170864</td>\n",
       "      <td>-0.334194</td>\n",
       "      <td>-0.191681</td>\n",
       "    </tr>\n",
       "    <tr>\n",
       "      <th>417</th>\n",
       "      <td>-0.724188</td>\n",
       "      <td>1.0</td>\n",
       "      <td>-0.261394</td>\n",
       "      <td>1.122603</td>\n",
       "      <td>-0.853807</td>\n",
       "      <td>-0.334194</td>\n",
       "      <td>-0.191681</td>\n",
       "    </tr>\n",
       "    <tr>\n",
       "      <th>2535</th>\n",
       "      <td>1.506304</td>\n",
       "      <td>1.0</td>\n",
       "      <td>0.276927</td>\n",
       "      <td>-0.890512</td>\n",
       "      <td>-0.853807</td>\n",
       "      <td>2.991348</td>\n",
       "      <td>-0.191681</td>\n",
       "    </tr>\n",
       "  </tbody>\n",
       "</table>\n",
       "</div>"
      ],
      "text/plain": [
       "      Priority  Total_developers  Hours_estimate  Category_Bug  \\\n",
       "1623  1.506304               1.0       -0.369058     -0.890512   \n",
       "3207  0.391058               1.0       -0.476723      1.122603   \n",
       "1757 -0.724188               1.0       -0.369058     -0.890512   \n",
       "417  -0.724188               1.0       -0.261394      1.122603   \n",
       "2535  1.506304               1.0        0.276927     -0.890512   \n",
       "\n",
       "      Category_Enhancement  Category_Release  Category_Testing  \n",
       "1623              1.170864         -0.334194         -0.191681  \n",
       "3207             -0.853807         -0.334194         -0.191681  \n",
       "1757              1.170864         -0.334194         -0.191681  \n",
       "417              -0.853807         -0.334194         -0.191681  \n",
       "2535             -0.853807          2.991348         -0.191681  "
      ]
     },
     "execution_count": 52,
     "metadata": {},
     "output_type": "execute_result"
    }
   ],
   "source": [
    "# show a part of the normalized data\n",
    "normed_train_data.head()"
   ]
  },
  {
   "cell_type": "markdown",
   "metadata": {},
   "source": [
    "## Building the Models"
   ]
  },
  {
   "cell_type": "markdown",
   "metadata": {},
   "source": [
    "### Firts Model\n",
    "Two hidden layers with 50 neurons each"
   ]
  },
  {
   "cell_type": "code",
   "execution_count": 53,
   "metadata": {},
   "outputs": [],
   "source": [
    "def build_first_model_two_hidden_layers():\n",
    "    model = Sequential(name = \"FirstModelTwoHiddenLayers\")\n",
    "\n",
    "    # Input layer\n",
    "    model.add(Dense(10, input_shape = (normed_train_data.shape[1],)))\n",
    "\n",
    "    # Hidden layer \n",
    "    model.add(Dense(50, Activation('relu'), name='hidden_layer_1'))\n",
    "    model.add(Dense(50, Activation('relu'), name='hidden_layer_2'))\n",
    "\n",
    "    # Output layer \n",
    "    model.add(Dense(1))\n",
    "\n",
    "    learnig_rate = 0.001\n",
    "    optimizer = optimizers.RMSprop(learning_rate=learnig_rate)\n",
    "    model.compile(loss='mse', optimizer=optimizer, metrics=['accuracy', 'mae', 'mse'])\n",
    "\n",
    "    return model"
   ]
  },
  {
   "cell_type": "markdown",
   "metadata": {},
   "source": [
    "### Second Model\n",
    "\n",
    "Three hidden layers with 32, 64 and 128 neurons, respectively"
   ]
  },
  {
   "cell_type": "code",
   "execution_count": 56,
   "metadata": {},
   "outputs": [],
   "source": [
    "def build_second_model_three_hidden_layers():\n",
    "    model = Sequential(name = \"SecondModelThreeHiddenLayers\")\n",
    "\n",
    "    # Input layer\n",
    "    model.add(Dense(10, input_shape = (normed_train_data.shape[1],)))\n",
    "\n",
    "    # Hidden layer \n",
    "    model.add(Dense(128, Activation('relu'), name='hidden_layer_1'))\n",
    "    model.add(Dense(64, Activation('relu'), name='hidden_layer_3'))\n",
    "    model.add(Dense(32, Activation('relu'), name='hidden_layer_2'))\n",
    "    \n",
    "    \n",
    "    # Output layer \n",
    "    model.add(Dense(1))\n",
    "\n",
    "    learnig_rate = 0.001\n",
    "    optimizer = optimizers.RMSprop(learning_rate=learnig_rate)\n",
    "    model.compile(loss='mse', optimizer=optimizer, metrics=['accuracy', 'mae', 'mse'])\n",
    "\n",
    "    return model"
   ]
  },
  {
   "cell_type": "markdown",
   "metadata": {},
   "source": [
    "### Third Model\n",
    "\n",
    "Five hidden layers, all with 64 neurons"
   ]
  },
  {
   "cell_type": "code",
   "execution_count": 57,
   "metadata": {},
   "outputs": [],
   "source": [
    "def build_third_model_five_hidden_layers():\n",
    "    model = Sequential(name = \"ThirdModelFiveHiddenLayers\")\n",
    "\n",
    "    # Input layer\n",
    "    model.add(Dense(10, input_shape = (normed_train_data.shape[1],)))\n",
    "\n",
    "    # Hidden layer \n",
    "    model.add(Dense(64, Activation('relu'), name='hidden_layer_1'))\n",
    "    model.add(Dense(64, Activation('relu'), name='hidden_layer_2'))\n",
    "    model.add(Dense(64, Activation('relu'), name='hidden_layer_3'))\n",
    "    \n",
    "    # Output layer \n",
    "    model.add(Dense(1))\n",
    "\n",
    "    learnig_rate = 0.01\n",
    "    optimizer = optimizers.RMSprop(learning_rate=learnig_rate)\n",
    "    model.compile(\n",
    "        loss='mse',\n",
    "        optimizer=optimizer,\n",
    "        metrics=['accuracy', 'mae', 'mse']\n",
    "    )\n",
    "\n",
    "    return model"
   ]
  },
  {
   "cell_type": "markdown",
   "metadata": {},
   "source": [
    "### Fourth Model\n",
    "\n",
    "LSTM Neural Network"
   ]
  },
  {
   "cell_type": "code",
   "execution_count": 58,
   "metadata": {},
   "outputs": [],
   "source": [
    "def build_fourth_model_LSTM_hidden_layers():\n",
    "    model = Sequential(name = \"FourthModelLSTMHiddenLayers\")\n",
    "\n",
    "    model.add(Reshape(\n",
    "        (normed_train_data.shape[1], 1),\n",
    "        input_shape=(normed_train_data.shape[1],)\n",
    "    ))\n",
    "\n",
    "    model.add(LSTM(128, return_sequences=True))\n",
    "    model.add(Dropout(0.3))\n",
    "    model.add(Flatten())\n",
    "    model.add(Dense(32, Activation('relu')))\n",
    "  \n",
    "    \n",
    "    model.add(Dense(1))\n",
    "\n",
    "    learnig_rate = 0.0001\n",
    "    optimizer = optimizers.Adam(learning_rate=learnig_rate)\n",
    "    model.compile(loss='mse', optimizer=optimizer, metrics=['accuracy', 'mae', 'mse'])\n",
    "\n",
    "    return model    "
   ]
  },
  {
   "cell_type": "markdown",
   "metadata": {},
   "source": [
    "### Fith Model\n",
    "\n",
    "Support Vector Machine"
   ]
  },
  {
   "cell_type": "code",
   "execution_count": 59,
   "metadata": {},
   "outputs": [],
   "source": [
    "def build_model_svc():\n",
    "    parameters = {'kernel':('linear', 'rbf')}\n",
    "    svr = SVR()\n",
    "    return GridSearchCV(svr, parameters)"
   ]
  },
  {
   "cell_type": "markdown",
   "metadata": {},
   "source": [
    "### Choose the model"
   ]
  },
  {
   "cell_type": "code",
   "execution_count": 60,
   "metadata": {},
   "outputs": [],
   "source": [
    "def choose_model(model_type, model_number):\n",
    "    if (model_type == 'Neuronal Network'):\n",
    "        if (model_number == 1):\n",
    "            return build_first_model_two_hidden_layers()\n",
    "        elif (model_number == 2):\n",
    "            return build_second_model_three_hidden_layers()\n",
    "        elif (model_number == 3):\n",
    "            return build_third_model_five_hidden_layers()\n",
    "        elif (model_number == 4):\n",
    "            return build_fourth_model_LSTM_hidden_layers()\n",
    "    else:\n",
    "        return build_model_svc()"
   ]
  },
  {
   "cell_type": "markdown",
   "metadata": {},
   "source": [
    "Save checkpoints during training"
   ]
  },
  {
   "cell_type": "code",
   "execution_count": 61,
   "metadata": {},
   "outputs": [],
   "source": [
    "# checkpoint_path = r\".\\checkpoint_logs\\connectium\\data.ckpt\"\n",
    "checkpoint_path = r\".\\checkpoint_logs\\sip\\data.ckpt\"\n",
    "\n",
    "# Create a callback that saves the model's weights\n",
    "ckpt_callback = tf.keras.callbacks.ModelCheckpoint(filepath=checkpoint_path,\n",
    "                                                 monitor='val_loss', # or val_accuracy if you have it.\n",
    "                                                 save_best_only=True, # Default false. If you don't change the file name then the output will be overritten at each step and only the last model will be saved.\n",
    "                                                 save_weights_only=True, # True => model.save_weights (weights and no structure, you need JSON file for structure), False => model.save (saves weights & structure)\n",
    "                                                 verbose=0,\n",
    ")\n",
    "\n",
    "tensorboard_callback = TensorBoard(log_dir='./logs', histogram_freq=1, write_graph=True)"
   ]
  },
  {
   "cell_type": "markdown",
   "metadata": {},
   "source": [
    "## Model training"
   ]
  },
  {
   "cell_type": "code",
   "execution_count": 62,
   "metadata": {},
   "outputs": [],
   "source": [
    "def training_neural_network_model(model, n_folds):\n",
    "    kFold = KFold(n_splits=n_folds)\n",
    "\n",
    "    histories = []\n",
    "\n",
    "    print(\"Summary of the model\")\n",
    "    model.summary()\n",
    "\n",
    "    i = 0\n",
    "\n",
    "    for train_index, val_index in kFold.split(normed_train_data):\n",
    "        train_data_i, val_data_i = normed_train_data.iloc[train_index], normed_train_data.iloc[val_index]\n",
    "        train_label_i, val_label_i = train_label.iloc[train_index], train_label.iloc[val_index]\n",
    "\n",
    "\n",
    "        # for first model - second place\n",
    "        # epochs = 64\n",
    "        # batch_size = 10 \n",
    "\n",
    "        # for second model - worst for now\n",
    "        # epochs = 400\n",
    "        # batch_size = 60\n",
    "\n",
    "        # for third model -\n",
    "        # epochs = 64\n",
    "        # batch_size = 10\n",
    "\n",
    "        # for fourth model - is winning\n",
    "        epochs = 300\n",
    "        batch_size = 100\n",
    "\n",
    "        print(\"\\nTraining the model - K Validation: \", i, \"\\n\")\n",
    "\n",
    "        history = model.fit(\n",
    "            train_data_i,\n",
    "            train_label_i,\n",
    "            batch_size=batch_size,  \n",
    "            epochs=epochs, \n",
    "            verbose=0,\n",
    "            shuffle=True,\n",
    "            steps_per_epoch = int(train_data_i.shape[0] / batch_size),\n",
    "            validation_data=(val_data_i, val_label_i),\n",
    "            callbacks=[\n",
    "                tfdocs.modeling.EpochDots(),\n",
    "                ckpt_callback,\n",
    "            ]\n",
    "        )\n",
    "\n",
    "        histories.append(history)\n",
    "        i = i + 1\n",
    "    \n",
    "    return histories"
   ]
  },
  {
   "cell_type": "code",
   "execution_count": 63,
   "metadata": {},
   "outputs": [],
   "source": [
    "def training_support_vector_machine_model(model, folds):\n",
    "    scores = cross_val_score(model, normed_train_data, train_label, cv=folds)\n",
    "    \n",
    "    print(\"Scores:\", scores)\n",
    "    print(\"Mean:\", scores.mean())\n",
    "    print(\"Standard deviation:\", scores.std())\n",
    "    \n",
    "    model.fit(normed_train_data, train_label)\n",
    "    model.fit(normed_train_data, train_label)\n",
    "    \n",
    "    history = pd.DataFrame({\n",
    "        'Accuracy': [model.score(normed_test_data, test_label)],\n",
    "        'Best params hash': [model.best_params_],\n",
    "        'Best score': [model.best_score_],\n",
    "        'Best estimator': [model.best_estimator_],\n",
    "    })\n",
    "\n",
    "    print(history)\n",
    "    return history"
   ]
  },
  {
   "cell_type": "code",
   "execution_count": 64,
   "metadata": {},
   "outputs": [
    {
     "name": "stdout",
     "output_type": "stream",
     "text": [
      "Summary of the model\n",
      "Model: \"FourthModelLSTMHiddenLayers\"\n",
      "_________________________________________________________________\n",
      " Layer (type)                Output Shape              Param #   \n",
      "=================================================================\n",
      " reshape_2 (Reshape)         (None, 7, 1)              0         \n",
      "                                                                 \n",
      " lstm_2 (LSTM)               (None, 7, 128)            66560     \n",
      "                                                                 \n",
      " dropout_2 (Dropout)         (None, 7, 128)            0         \n",
      "                                                                 \n",
      " flatten_2 (Flatten)         (None, 896)               0         \n",
      "                                                                 \n",
      " dense_4 (Dense)             (None, 32)                28704     \n",
      "                                                                 \n",
      " dense_5 (Dense)             (None, 1)                 33        \n",
      "                                                                 \n",
      "=================================================================\n",
      "Total params: 95297 (372.25 KB)\n",
      "Trainable params: 95297 (372.25 KB)\n",
      "Non-trainable params: 0 (0.00 Byte)\n",
      "_________________________________________________________________\n",
      "\n",
      "Training the model - K Validation:  0 \n",
      "\n",
      "\n",
      "Epoch: 0, accuracy:0.2272,  loss:113.6018,  mae:3.9799,  mse:113.6018,  val_accuracy:0.2133,  val_loss:46.6081,  val_mae:3.2777,  val_mse:46.6081,  \n",
      ".Unexpected exception formatting exception. Falling back to standard exception\n"
     ]
    },
    {
     "name": "stderr",
     "output_type": "stream",
     "text": [
      "Traceback (most recent call last):\n",
      "  File \"C:\\Users\\franc\\AppData\\Local\\Packages\\PythonSoftwareFoundation.Python.3.10_qbz5n2kfra8p0\\LocalCache\\local-packages\\Python310\\site-packages\\IPython\\core\\magics\\execution.py\", line 1340, in time\n",
      "    exec(code, glob, local_ns)\n",
      "  File \"<timed exec>\", line 4, in <module>\n",
      "  File \"C:\\Users\\franc\\AppData\\Local\\Temp\\ipykernel_10084\\3629522322.py\", line 22, in training_neural_network_model\n",
      "    history = model.fit(\n",
      "  File \"C:\\Users\\franc\\AppData\\Local\\Packages\\PythonSoftwareFoundation.Python.3.10_qbz5n2kfra8p0\\LocalCache\\local-packages\\Python310\\site-packages\\keras\\src\\utils\\traceback_utils.py\", line 65, in error_handler\n",
      "    return fn(*args, **kwargs)\n",
      "  File \"C:\\Users\\franc\\AppData\\Local\\Packages\\PythonSoftwareFoundation.Python.3.10_qbz5n2kfra8p0\\LocalCache\\local-packages\\Python310\\site-packages\\keras\\src\\engine\\training.py\", line 1874, in fit\n",
      "    callbacks.on_epoch_end(epoch, epoch_logs)\n",
      "  File \"C:\\Users\\franc\\AppData\\Local\\Packages\\PythonSoftwareFoundation.Python.3.10_qbz5n2kfra8p0\\LocalCache\\local-packages\\Python310\\site-packages\\keras\\src\\callbacks.py\", line 453, in on_epoch_end\n",
      "    callback.on_epoch_end(epoch, logs)\n",
      "  File \"C:\\Users\\franc\\AppData\\Local\\Packages\\PythonSoftwareFoundation.Python.3.10_qbz5n2kfra8p0\\LocalCache\\local-packages\\Python310\\site-packages\\keras\\src\\callbacks.py\", line 1483, in on_epoch_end\n",
      "    self._save_model(epoch=epoch, batch=None, logs=logs)\n",
      "  File \"C:\\Users\\franc\\AppData\\Local\\Packages\\PythonSoftwareFoundation.Python.3.10_qbz5n2kfra8p0\\LocalCache\\local-packages\\Python310\\site-packages\\keras\\src\\callbacks.py\", line 1551, in _save_model\n",
      "    self._save_handler(filepath)\n",
      "  File \"C:\\Users\\franc\\AppData\\Local\\Packages\\PythonSoftwareFoundation.Python.3.10_qbz5n2kfra8p0\\LocalCache\\local-packages\\Python310\\site-packages\\keras\\src\\callbacks.py\", line 1595, in _save_handler\n",
      "    self.model.save_weights(\n",
      "  File \"C:\\Users\\franc\\AppData\\Local\\Packages\\PythonSoftwareFoundation.Python.3.10_qbz5n2kfra8p0\\LocalCache\\local-packages\\Python310\\site-packages\\keras\\src\\utils\\traceback_utils.py\", line 65, in error_handler\n",
      "    return fn(*args, **kwargs)\n",
      "  File \"C:\\Users\\franc\\AppData\\Local\\Packages\\PythonSoftwareFoundation.Python.3.10_qbz5n2kfra8p0\\LocalCache\\local-packages\\Python310\\site-packages\\keras\\src\\engine\\training.py\", line 3175, in save_weights\n",
      "    saving_api.save_weights(\n",
      "  File \"C:\\Users\\franc\\AppData\\Local\\Packages\\PythonSoftwareFoundation.Python.3.10_qbz5n2kfra8p0\\LocalCache\\local-packages\\Python310\\site-packages\\keras\\src\\saving\\saving_api.py\", line 284, in save_weights\n",
      "    legacy_sm_saving_lib.save_weights(\n",
      "  File \"C:\\Users\\franc\\AppData\\Local\\Packages\\PythonSoftwareFoundation.Python.3.10_qbz5n2kfra8p0\\LocalCache\\local-packages\\Python310\\site-packages\\keras\\src\\saving\\legacy\\save.py\", line 375, in save_weights\n",
      "    model._checkpoint.write(filepath, options=options)\n",
      "  File \"C:\\Users\\franc\\AppData\\Local\\Packages\\PythonSoftwareFoundation.Python.3.10_qbz5n2kfra8p0\\LocalCache\\local-packages\\Python310\\site-packages\\tensorflow\\python\\checkpoint\\checkpoint.py\", line 2295, in write\n",
      "    return self._write(file_prefix, options)\n",
      "  File \"C:\\Users\\franc\\AppData\\Local\\Packages\\PythonSoftwareFoundation.Python.3.10_qbz5n2kfra8p0\\LocalCache\\local-packages\\Python310\\site-packages\\tensorflow\\python\\checkpoint\\checkpoint.py\", line 2344, in _write\n",
      "    output = self._saver.save(file_prefix=file_prefix, options=options)\n",
      "  File \"C:\\Users\\franc\\AppData\\Local\\Packages\\PythonSoftwareFoundation.Python.3.10_qbz5n2kfra8p0\\LocalCache\\local-packages\\Python310\\site-packages\\tensorflow\\python\\checkpoint\\checkpoint.py\", line 1332, in save\n",
      "    save_path, new_feed_additions = self._save_cached_when_graph_building(\n",
      "  File \"C:\\Users\\franc\\AppData\\Local\\Packages\\PythonSoftwareFoundation.Python.3.10_qbz5n2kfra8p0\\LocalCache\\local-packages\\Python310\\site-packages\\tensorflow\\python\\checkpoint\\checkpoint.py\", line 1270, in _save_cached_when_graph_building\n",
      "    save_op = saver.save(file_prefix, options=options)\n",
      "  File \"C:\\Users\\franc\\AppData\\Local\\Packages\\PythonSoftwareFoundation.Python.3.10_qbz5n2kfra8p0\\LocalCache\\local-packages\\Python310\\site-packages\\tensorflow\\python\\checkpoint\\functional_saver.py\", line 407, in save\n",
      "    return save_fn()\n",
      "  File \"C:\\Users\\franc\\AppData\\Local\\Packages\\PythonSoftwareFoundation.Python.3.10_qbz5n2kfra8p0\\LocalCache\\local-packages\\Python310\\site-packages\\tensorflow\\python\\checkpoint\\functional_saver.py\", line 393, in save_fn\n",
      "    return gen_io_ops.merge_v2_checkpoints(\n",
      "  File \"C:\\Users\\franc\\AppData\\Local\\Packages\\PythonSoftwareFoundation.Python.3.10_qbz5n2kfra8p0\\LocalCache\\local-packages\\Python310\\site-packages\\tensorflow\\python\\ops\\gen_io_ops.py\", line 520, in merge_v2_checkpoints\n",
      "    return merge_v2_checkpoints_eager_fallback(\n",
      "  File \"C:\\Users\\franc\\AppData\\Local\\Packages\\PythonSoftwareFoundation.Python.3.10_qbz5n2kfra8p0\\LocalCache\\local-packages\\Python310\\site-packages\\tensorflow\\python\\ops\\gen_io_ops.py\", line 550, in merge_v2_checkpoints_eager_fallback\n",
      "    checkpoint_prefixes = _ops.convert_to_tensor(checkpoint_prefixes, _dtypes.string)\n",
      "  File \"C:\\Users\\franc\\AppData\\Local\\Packages\\PythonSoftwareFoundation.Python.3.10_qbz5n2kfra8p0\\LocalCache\\local-packages\\Python310\\site-packages\\tensorflow\\python\\profiler\\trace.py\", line 183, in wrapped\n",
      "    return func(*args, **kwargs)\n",
      "  File \"C:\\Users\\franc\\AppData\\Local\\Packages\\PythonSoftwareFoundation.Python.3.10_qbz5n2kfra8p0\\LocalCache\\local-packages\\Python310\\site-packages\\tensorflow\\python\\framework\\ops.py\", line 696, in convert_to_tensor\n",
      "    return tensor_conversion_registry.convert(\n",
      "  File \"C:\\Users\\franc\\AppData\\Local\\Packages\\PythonSoftwareFoundation.Python.3.10_qbz5n2kfra8p0\\LocalCache\\local-packages\\Python310\\site-packages\\tensorflow\\python\\framework\\tensor_conversion_registry.py\", line 234, in convert\n",
      "    ret = conversion_func(value, dtype=dtype, name=name, as_ref=as_ref)\n",
      "  File \"C:\\Users\\franc\\AppData\\Local\\Packages\\PythonSoftwareFoundation.Python.3.10_qbz5n2kfra8p0\\LocalCache\\local-packages\\Python310\\site-packages\\tensorflow\\python\\ops\\array_ops.py\", line 1585, in _autopacking_conversion_function\n",
      "    return _autopacking_helper(v, dtype, name or \"packed\")\n",
      "  File \"C:\\Users\\franc\\AppData\\Local\\Packages\\PythonSoftwareFoundation.Python.3.10_qbz5n2kfra8p0\\LocalCache\\local-packages\\Python310\\site-packages\\tensorflow\\python\\ops\\array_ops.py\", line 1492, in _autopacking_helper\n",
      "    return gen_array_ops.pack(list_or_tuple, name=name)\n",
      "  File \"C:\\Users\\franc\\AppData\\Local\\Packages\\PythonSoftwareFoundation.Python.3.10_qbz5n2kfra8p0\\LocalCache\\local-packages\\Python310\\site-packages\\tensorflow\\python\\ops\\gen_array_ops.py\", line 6715, in pack\n",
      "    _result = pywrap_tfe.TFE_Py_FastPathExecute(\n",
      "KeyboardInterrupt\n",
      "\n",
      "During handling of the above exception, another exception occurred:\n",
      "\n",
      "Traceback (most recent call last):\n",
      "  File \"C:\\Users\\franc\\AppData\\Local\\Packages\\PythonSoftwareFoundation.Python.3.10_qbz5n2kfra8p0\\LocalCache\\local-packages\\Python310\\site-packages\\IPython\\core\\interactiveshell.py\", line 2142, in showtraceback\n",
      "    stb = self.InteractiveTB.structured_traceback(\n",
      "  File \"C:\\Users\\franc\\AppData\\Local\\Packages\\PythonSoftwareFoundation.Python.3.10_qbz5n2kfra8p0\\LocalCache\\local-packages\\Python310\\site-packages\\IPython\\core\\ultratb.py\", line 1435, in structured_traceback\n",
      "    return FormattedTB.structured_traceback(\n",
      "  File \"C:\\Users\\franc\\AppData\\Local\\Packages\\PythonSoftwareFoundation.Python.3.10_qbz5n2kfra8p0\\LocalCache\\local-packages\\Python310\\site-packages\\IPython\\core\\ultratb.py\", line 1326, in structured_traceback\n",
      "    return VerboseTB.structured_traceback(\n",
      "  File \"C:\\Users\\franc\\AppData\\Local\\Packages\\PythonSoftwareFoundation.Python.3.10_qbz5n2kfra8p0\\LocalCache\\local-packages\\Python310\\site-packages\\IPython\\core\\ultratb.py\", line 1173, in structured_traceback\n",
      "    formatted_exception = self.format_exception_as_a_whole(etype, evalue, etb, number_of_lines_of_context,\n",
      "  File \"C:\\Users\\franc\\AppData\\Local\\Packages\\PythonSoftwareFoundation.Python.3.10_qbz5n2kfra8p0\\LocalCache\\local-packages\\Python310\\site-packages\\IPython\\core\\ultratb.py\", line 1063, in format_exception_as_a_whole\n",
      "    self.get_records(etb, number_of_lines_of_context, tb_offset) if etb else []\n",
      "  File \"C:\\Users\\franc\\AppData\\Local\\Packages\\PythonSoftwareFoundation.Python.3.10_qbz5n2kfra8p0\\LocalCache\\local-packages\\Python310\\site-packages\\IPython\\core\\ultratb.py\", line 1155, in get_records\n",
      "    FrameInfo(\n",
      "  File \"C:\\Users\\franc\\AppData\\Local\\Packages\\PythonSoftwareFoundation.Python.3.10_qbz5n2kfra8p0\\LocalCache\\local-packages\\Python310\\site-packages\\IPython\\core\\ultratb.py\", line 780, in __init__\n",
      "    ix = inspect.getsourcelines(frame)\n",
      "  File \"C:\\Program Files\\WindowsApps\\PythonSoftwareFoundation.Python.3.10_3.10.3056.0_x64__qbz5n2kfra8p0\\lib\\inspect.py\", line 1121, in getsourcelines\n",
      "    lines, lnum = findsource(object)\n",
      "  File \"C:\\Program Files\\WindowsApps\\PythonSoftwareFoundation.Python.3.10_3.10.3056.0_x64__qbz5n2kfra8p0\\lib\\inspect.py\", line 958, in findsource\n",
      "    raise OSError('could not get source code')\n",
      "OSError: could not get source code\n"
     ]
    }
   ],
   "source": [
    "%%time\n",
    "\n",
    "model = choose_model('Neuronal Network', 4)\n",
    "# model = choose_model('Support Vector Machine', 0)\n",
    "\n",
    "histories = training_neural_network_model(model, 4)\n",
    "# history = training_support_vector_machine_model(model, 4)"
   ]
  },
  {
   "cell_type": "markdown",
   "metadata": {},
   "source": [
    "## Predicting the data"
   ]
  },
  {
   "cell_type": "markdown",
   "metadata": {},
   "source": [
    "### Predicted and real values\n",
    "\n",
    "Here we will see the first 10 rows of the predicted data, comparing it with the real one"
   ]
  },
  {
   "cell_type": "code",
   "execution_count": 23,
   "metadata": {},
   "outputs": [
    {
     "name": "stdout",
     "output_type": "stream",
     "text": [
      "1/1 [==============================] - 1s 1s/step\n",
      "Example for the first 5 samples\n",
      "Predicted Hours Logged\n",
      "[[ 0.6195295]\n",
      " [12.594316 ]\n",
      " [ 3.8341568]\n",
      " [ 6.423166 ]\n",
      " [ 1.7897207]]\n",
      "Real Hours Logged\n",
      "3536     0\n",
      "2761    14\n",
      "926      1\n",
      "240      2\n",
      "2604     2\n",
      "Name: Hours_logged, dtype: int32\n",
      "13/13 [==============================] - 0s 7ms/step\n"
     ]
    }
   ],
   "source": [
    "example_batch = normed_train_data[:5]\n",
    "example_result = model.predict(example_batch)\n",
    "\n",
    "print(\"Example for the first 5 samples\")\n",
    "print(\"Predicted Hours Logged\")\n",
    "print(example_result)\n",
    "    \n",
    "print(\"Real Hours Logged\")\n",
    "print(train_label[:5])\n",
    "\n",
    "test_predictions = model.predict(normed_test_data)"
   ]
  },
  {
   "cell_type": "code",
   "execution_count": 24,
   "metadata": {},
   "outputs": [
    {
     "name": "stdout",
     "output_type": "stream",
     "text": [
      "13/13 [==============================] - 0s 7ms/step\n"
     ]
    }
   ],
   "source": [
    "test_predictions = model.predict(normed_test_data).flatten()\n",
    "\n",
    "predictions_dataset = pd.DataFrame({\n",
    "    'Logged': test_label,\n",
    "    'Predicted': test_predictions\n",
    "})\n",
    "\n",
    "# test_predictions_to_csv = pd.DataFrame(test_predictions).to_csv(r\"./outputs/neural_network/test_predictions_sip.csv\", index=False)\n",
    "# test_label_to_csv = pd.DataFrame(test_label).to_csv(r\"./outputs/neural_network/test_label_sip.csv\", index=False)\n",
    "\n",
    "predictions_dataset_csv = predictions_dataset\n",
    "predictions_dataset_csv.to_csv(r\"./outputs/neural_network/predictions_sip.csv\", index=False)"
   ]
  },
  {
   "cell_type": "markdown",
   "metadata": {},
   "source": [
    "Predictions VS. True Values for Hours Logged"
   ]
  },
  {
   "cell_type": "code",
   "execution_count": 29,
   "metadata": {},
   "outputs": [
    {
     "data": {
      "image/png": "[encoded data removed]",
      "text/plain": [
       "<Figure size 640x480 with 1 Axes>"
      ]
     },
     "metadata": {},
     "output_type": "display_data"
    }
   ],
   "source": [
    "axes = plt.axes(aspect='equal')\n",
    "plt.scatter(test_label, test_predictions)\n",
    "plt.xlabel('True Values [Hours Logged]')\n",
    "plt.ylabel('Predictions [Hours Logged]')\n",
    "# calculate the limit\n",
    "max_value = max(test_label.max(), test_predictions[0].max())\n",
    "_ = plt.plot([0, max_value], [0, max_value])\n",
    "plt.savefig(r\"./outputs/neural_network/prediction_plot_sip.png\")"
   ]
  },
  {
   "cell_type": "markdown",
   "metadata": {},
   "source": [
    "## Evaluating the model\n",
    "\n",
    "The metrics we choose to evaluate the model were **Mean Abs. Error** and **Mean squarred Error**"
   ]
  },
  {
   "cell_type": "markdown",
   "metadata": {},
   "source": [
    "### Showing the resulting metrics from the training"
   ]
  },
  {
   "cell_type": "code",
   "execution_count": 26,
   "metadata": {},
   "outputs": [],
   "source": [
    "\n",
    "def evaluating_neural_network_model(histories):\n",
    "    i = 0\n",
    "    history_datasets = []\n",
    "    for history in histories:\n",
    "        history_dataset = pd.DataFrame(history.history)\n",
    "        history_dataset['epoch'] = history.epoch\n",
    "        history_dataset['fold'] = i\n",
    "        i = i+1\n",
    "        history_datasets.append(history_dataset)\n",
    "\n",
    "        \n",
    "    history_dataset = pd.concat(history_datasets)\n",
    "\n",
    "    print(\"Resume of the training history model\")\n",
    "    display(HTML(history_dataset.head().to_html()))\n",
    "\n",
    "    history_datasets_csv = history_dataset\n",
    "    history_datasets_csv.to_csv(r\"./outputs/neural_network/history_sip.csv\", index=False)  \n",
    "\n",
    "    fold_histories = {\n",
    "        f'Fold {i}': history for i, history in enumerate(histories)\n",
    "    }\n",
    "\n",
    "    print(\"Plotting the training history model per epoch\")\n",
    "\n",
    "    plotter = tfdocs.plots.HistoryPlotter(smoothing_std=2)\n",
    "    plotter.plot(fold_histories, metric=\"mse\")\n",
    "    plt.ylabel('MSE [Metric]')\n",
    "    plt.show()"
   ]
  },
  {
   "cell_type": "code",
   "execution_count": 27,
   "metadata": {},
   "outputs": [],
   "source": [
    "def evaluating_svc_model(history, test_predictions):\n",
    "    history['MAE'] = [mean_absolute_error(test_label, test_predictions)]\n",
    "    history['MSE'] = [mean_squared_error(test_label, test_predictions)]\n",
    "\n",
    "    display(HTML(history.to_html()))\n",
    "\n",
    "    history.to_csv(r\"./outputs/svr/history_sip.csv\", index=False)   \n",
    "\n",
    "    # saving the results\n",
    "    pd.DataFrame({\n",
    "        'Logged': test_label,\n",
    "        'Predicted': test_predictions\n",
    "    }).to_csv(r\"./outputs/svr/history_sip.csv\", index=False)"
   ]
  },
  {
   "cell_type": "code",
   "execution_count": 28,
   "metadata": {},
   "outputs": [
    {
     "name": "stdout",
     "output_type": "stream",
     "text": [
      "Resume of the training history model\n"
     ]
    },
    {
     "data": {
      "text/html": [
       "<table border=\"1\" class=\"dataframe\">\n",
       "  <thead>\n",
       "    <tr style=\"text-align: right;\">\n",
       "      <th></th>\n",
       "      <th>loss</th>\n",
       "      <th>accuracy</th>\n",
       "      <th>mae</th>\n",
       "      <th>mse</th>\n",
       "      <th>val_loss</th>\n",
       "      <th>val_accuracy</th>\n",
       "      <th>val_mae</th>\n",
       "      <th>val_mse</th>\n",
       "      <th>epoch</th>\n",
       "    </tr>\n",
       "  </thead>\n",
       "  <tbody>\n",
       "    <tr>\n",
       "      <th>295</th>\n",
       "      <td>4.419940</td>\n",
       "      <td>0.300573</td>\n",
       "      <td>1.444720</td>\n",
       "      <td>4.419940</td>\n",
       "      <td>4.316308</td>\n",
       "      <td>0.318519</td>\n",
       "      <td>1.391977</td>\n",
       "      <td>4.316308</td>\n",
       "      <td>295</td>\n",
       "    </tr>\n",
       "    <tr>\n",
       "      <th>296</th>\n",
       "      <td>4.279715</td>\n",
       "      <td>0.313613</td>\n",
       "      <td>1.422082</td>\n",
       "      <td>4.279715</td>\n",
       "      <td>4.329107</td>\n",
       "      <td>0.311111</td>\n",
       "      <td>1.393596</td>\n",
       "      <td>4.329107</td>\n",
       "      <td>296</td>\n",
       "    </tr>\n",
       "    <tr>\n",
       "      <th>297</th>\n",
       "      <td>4.262016</td>\n",
       "      <td>0.303438</td>\n",
       "      <td>1.431027</td>\n",
       "      <td>4.262016</td>\n",
       "      <td>4.463668</td>\n",
       "      <td>0.320988</td>\n",
       "      <td>1.387453</td>\n",
       "      <td>4.463668</td>\n",
       "      <td>297</td>\n",
       "    </tr>\n",
       "    <tr>\n",
       "      <th>298</th>\n",
       "      <td>4.352972</td>\n",
       "      <td>0.310115</td>\n",
       "      <td>1.429977</td>\n",
       "      <td>4.352971</td>\n",
       "      <td>4.423932</td>\n",
       "      <td>0.316049</td>\n",
       "      <td>1.397459</td>\n",
       "      <td>4.423932</td>\n",
       "      <td>298</td>\n",
       "    </tr>\n",
       "    <tr>\n",
       "      <th>299</th>\n",
       "      <td>4.569749</td>\n",
       "      <td>0.308524</td>\n",
       "      <td>1.465431</td>\n",
       "      <td>4.569749</td>\n",
       "      <td>4.330206</td>\n",
       "      <td>0.288889</td>\n",
       "      <td>1.451572</td>\n",
       "      <td>4.330206</td>\n",
       "      <td>299</td>\n",
       "    </tr>\n",
       "  </tbody>\n",
       "</table>"
      ],
      "text/plain": [
       "<IPython.core.display.HTML object>"
      ]
     },
     "metadata": {},
     "output_type": "display_data"
    },
    {
     "name": "stdout",
     "output_type": "stream",
     "text": [
      "Plotting the training history model per epoch\n"
     ]
    },
    {
     "data": {
      "image/png": "[encoded data removed]",
      "text/plain": [
       "<Figure size 640x480 with 1 Axes>"
      ]
     },
     "metadata": {},
     "output_type": "display_data"
    }
   ],
   "source": [
    "evaluating_neural_network_model(history)\n",
    "# evaluating_svc_model(history, test_predictions)"
   ]
  },
  {
   "cell_type": "code",
   "execution_count": 30,
   "metadata": {},
   "outputs": [
    {
     "name": "stderr",
     "output_type": "stream",
     "text": [
      "C:\\Users\\franc\\AppData\\Local\\Packages\\PythonSoftwareFoundation.Python.3.10_qbz5n2kfra8p0\\LocalCache\\local-packages\\Python310\\site-packages\\keras\\src\\engine\\training.py:3103: UserWarning: You are saving your model as an HDF5 file via `model.save()`. This file format is considered legacy. We recommend using instead the native Keras format, e.g. `model.save('my_model.keras')`.\n",
      "  saving_api.save_model(\n"
     ]
    }
   ],
   "source": [
    "model.save(r\"./outputs/neural_network/model_sip.h5\")"
   ]
  },
  {
   "cell_type": "code",
   "execution_count": 31,
   "metadata": {},
   "outputs": [
    {
     "name": "stdout",
     "output_type": "stream",
     "text": [
      "Serving './outputs/neural_network/model_sip.h5' at http://localhost:8080\n"
     ]
    },
    {
     "data": {
      "text/plain": [
       "('localhost', 8080)"
      ]
     },
     "execution_count": 31,
     "metadata": {},
     "output_type": "execute_result"
    }
   ],
   "source": [
    "import netron\n",
    "netron.start(r\"./outputs/neural_network/model_sip.h5\")"
   ]
  }
 ],
 "metadata": {
  "kernelspec": {
   "display_name": "Python 3",
   "language": "python",
   "name": "python3"
  },
  "language_info": {
   "codemirror_mode": {
    "name": "ipython",
    "version": 3
   },
   "file_extension": ".py",
   "mimetype": "text/x-python",
   "name": "python",
   "nbconvert_exporter": "python",
   "pygments_lexer": "ipython3",
   "version": "3.10.11"
  }
 },
 "nbformat": 4,
 "nbformat_minor": 2
}
