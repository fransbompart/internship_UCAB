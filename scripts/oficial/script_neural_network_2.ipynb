{
 "cells": [
  {
   "cell_type": "code",
   "execution_count": 1,
   "metadata": {},
   "outputs": [
    {
     "name": "stdout",
     "output_type": "stream",
     "text": [
      "WARNING:tensorflow:From C:\\Users\\franc\\AppData\\Local\\Packages\\PythonSoftwareFoundation.Python.3.10_qbz5n2kfra8p0\\LocalCache\\local-packages\\Python310\\site-packages\\keras\\src\\losses.py:2976: The name tf.losses.sparse_softmax_cross_entropy is deprecated. Please use tf.compat.v1.losses.sparse_softmax_cross_entropy instead.\n",
      "\n"
     ]
    }
   ],
   "source": [
    "import os\n",
    "# for the model\n",
    "import tensorflow as tf\n",
    "import tensorflow_docs as tfdocs\n",
    "import tensorflow_docs.plots\n",
    "import tensorflow_docs.modeling\n",
    "from tensorflow import keras\n",
    "from tensorflow.keras.models import Sequential\n",
    "from tensorflow.keras.layers import *\n",
    "from tensorflow.keras import optimizers\n",
    "from sklearn.model_selection import train_test_split, KFold, GridSearchCV\n",
    "from sklearn.svm import SVR\n",
    "from sklearn.metrics import mean_squared_error\n",
    "\n",
    "# for data manipulation and graphing\n",
    "import pathlib\n",
    "import numpy as np\n",
    "import matplotlib.pyplot as plt\n",
    "import pandas as pd\n",
    "import seaborn as sns\n",
    "\n",
    "from IPython.display import display, HTML\n",
    "\n",
    "tf.random.set_seed(42) # set seed for reproducibility\n",
    "tf.debugging.set_log_device_placement(False)"
   ]
  },
  {
   "cell_type": "markdown",
   "metadata": {},
   "source": [
    "## Data preprocessing"
   ]
  },
  {
   "cell_type": "code",
   "execution_count": 2,
   "metadata": {},
   "outputs": [
    {
     "data": {
      "text/html": [
       "<div>\n",
       "<style scoped>\n",
       "    .dataframe tbody tr th:only-of-type {\n",
       "        vertical-align: middle;\n",
       "    }\n",
       "\n",
       "    .dataframe tbody tr th {\n",
       "        vertical-align: top;\n",
       "    }\n",
       "\n",
       "    .dataframe thead th {\n",
       "        text-align: right;\n",
       "    }\n",
       "</style>\n",
       "<table border=\"1\" class=\"dataframe\">\n",
       "  <thead>\n",
       "    <tr style=\"text-align: right;\">\n",
       "      <th></th>\n",
       "      <th>Task_ID</th>\n",
       "      <th>Priority</th>\n",
       "      <th>Project_ID</th>\n",
       "      <th>Project_code</th>\n",
       "      <th>Category</th>\n",
       "      <th>Total_developers</th>\n",
       "      <th>TaskPerformance</th>\n",
       "      <th>DeveloperPerformance</th>\n",
       "      <th>Hours_estimate</th>\n",
       "      <th>Hours_logged</th>\n",
       "      <th>Difference</th>\n",
       "    </tr>\n",
       "  </thead>\n",
       "  <tbody>\n",
       "    <tr>\n",
       "      <th>0</th>\n",
       "      <td>13728</td>\n",
       "      <td>1</td>\n",
       "      <td>10</td>\n",
       "      <td>PC10</td>\n",
       "      <td>Enhancement</td>\n",
       "      <td>1</td>\n",
       "      <td>6.47</td>\n",
       "      <td>6.47</td>\n",
       "      <td>28.0</td>\n",
       "      <td>21.53</td>\n",
       "      <td>6.47</td>\n",
       "    </tr>\n",
       "    <tr>\n",
       "      <th>1</th>\n",
       "      <td>3530</td>\n",
       "      <td>1</td>\n",
       "      <td>9</td>\n",
       "      <td>PC9</td>\n",
       "      <td>Bug</td>\n",
       "      <td>1</td>\n",
       "      <td>6.46</td>\n",
       "      <td>6.46</td>\n",
       "      <td>7.0</td>\n",
       "      <td>0.54</td>\n",
       "      <td>6.46</td>\n",
       "    </tr>\n",
       "    <tr>\n",
       "      <th>2</th>\n",
       "      <td>6163</td>\n",
       "      <td>1</td>\n",
       "      <td>9</td>\n",
       "      <td>PC9</td>\n",
       "      <td>Release</td>\n",
       "      <td>1</td>\n",
       "      <td>-6.45</td>\n",
       "      <td>-3.95</td>\n",
       "      <td>2.0</td>\n",
       "      <td>8.45</td>\n",
       "      <td>6.45</td>\n",
       "    </tr>\n",
       "    <tr>\n",
       "      <th>3</th>\n",
       "      <td>6163</td>\n",
       "      <td>1</td>\n",
       "      <td>9</td>\n",
       "      <td>PC9</td>\n",
       "      <td>Release</td>\n",
       "      <td>1</td>\n",
       "      <td>-6.45</td>\n",
       "      <td>NaN</td>\n",
       "      <td>2.0</td>\n",
       "      <td>8.45</td>\n",
       "      <td>6.45</td>\n",
       "    </tr>\n",
       "    <tr>\n",
       "      <th>4</th>\n",
       "      <td>11241</td>\n",
       "      <td>1</td>\n",
       "      <td>9</td>\n",
       "      <td>PC9</td>\n",
       "      <td>Enhancement</td>\n",
       "      <td>1</td>\n",
       "      <td>-6.38</td>\n",
       "      <td>-5.68</td>\n",
       "      <td>70.0</td>\n",
       "      <td>76.38</td>\n",
       "      <td>6.38</td>\n",
       "    </tr>\n",
       "  </tbody>\n",
       "</table>\n",
       "</div>"
      ],
      "text/plain": [
       "   Task_ID  Priority  Project_ID Project_code     Category  Total_developers  \\\n",
       "0    13728         1          10         PC10  Enhancement                 1   \n",
       "1     3530         1           9          PC9          Bug                 1   \n",
       "2     6163         1           9          PC9      Release                 1   \n",
       "3     6163         1           9          PC9      Release                 1   \n",
       "4    11241         1           9          PC9  Enhancement                 1   \n",
       "\n",
       "   TaskPerformance  DeveloperPerformance  Hours_estimate  Hours_logged  \\\n",
       "0             6.47                  6.47            28.0         21.53   \n",
       "1             6.46                  6.46             7.0          0.54   \n",
       "2            -6.45                 -3.95             2.0          8.45   \n",
       "3            -6.45                   NaN             2.0          8.45   \n",
       "4            -6.38                 -5.68            70.0         76.38   \n",
       "\n",
       "   Difference  \n",
       "0        6.47  \n",
       "1        6.46  \n",
       "2        6.45  \n",
       "3        6.45  \n",
       "4        6.38  "
      ]
     },
     "execution_count": 2,
     "metadata": {},
     "output_type": "execute_result"
    }
   ],
   "source": [
    "# load the dataset\n",
    "# connectium\n",
    "# original_dataset = pd.read_csv(\"C:/Users/franc/pasantia_IA/datasets/data_connectium.csv\")\n",
    "# sip\n",
    "original_dataset = pd.read_csv(\"C:/Users/franc/pasantia_IA/datasets/data_sip.csv\")\n",
    "\n",
    "# show the original data\n",
    "original_dataset.head()"
   ]
  },
  {
   "cell_type": "code",
   "execution_count": 3,
   "metadata": {},
   "outputs": [
    {
     "name": "stdout",
     "output_type": "stream",
     "text": [
      "<class 'pandas.core.frame.DataFrame'>\n",
      "RangeIndex: 4055 entries, 0 to 4054\n",
      "Data columns (total 11 columns):\n",
      " #   Column                Non-Null Count  Dtype  \n",
      "---  ------                --------------  -----  \n",
      " 0   Task_ID               4055 non-null   int64  \n",
      " 1   Priority              4055 non-null   int64  \n",
      " 2   Project_ID            4055 non-null   int64  \n",
      " 3   Project_code          4055 non-null   object \n",
      " 4   Category              4055 non-null   object \n",
      " 5   Total_developers      4055 non-null   int64  \n",
      " 6   TaskPerformance       4055 non-null   float64\n",
      " 7   DeveloperPerformance  3662 non-null   float64\n",
      " 8   Hours_estimate        4055 non-null   float64\n",
      " 9   Hours_logged          4055 non-null   float64\n",
      " 10  Difference            4055 non-null   float64\n",
      "dtypes: float64(5), int64(4), object(2)\n",
      "memory usage: 348.6+ KB\n"
     ]
    }
   ],
   "source": [
    "# show the metadata\n",
    "original_dataset.info()"
   ]
  },
  {
   "cell_type": "code",
   "execution_count": 4,
   "metadata": {},
   "outputs": [],
   "source": [
    "# drop all the unnecessary columns\n",
    "clean_dataset = original_dataset[[\n",
    "    \n",
    "    'Priority',\n",
    "    'Category',\n",
    "    'Total_developers',\n",
    "    'Hours_estimate',\n",
    "    'Hours_logged',\n",
    "]]\n",
    "\n",
    "# desnormalizing data\n",
    "clean_dataset = pd.get_dummies(clean_dataset, columns=['Category'])\n",
    "clean_dataset = clean_dataset.astype(int)"
   ]
  },
  {
   "cell_type": "code",
   "execution_count": 5,
   "metadata": {},
   "outputs": [
    {
     "data": {
      "text/html": [
       "<div>\n",
       "<style scoped>\n",
       "    .dataframe tbody tr th:only-of-type {\n",
       "        vertical-align: middle;\n",
       "    }\n",
       "\n",
       "    .dataframe tbody tr th {\n",
       "        vertical-align: top;\n",
       "    }\n",
       "\n",
       "    .dataframe thead th {\n",
       "        text-align: right;\n",
       "    }\n",
       "</style>\n",
       "<table border=\"1\" class=\"dataframe\">\n",
       "  <thead>\n",
       "    <tr style=\"text-align: right;\">\n",
       "      <th></th>\n",
       "      <th>Priority</th>\n",
       "      <th>Total_developers</th>\n",
       "      <th>Hours_estimate</th>\n",
       "      <th>Hours_logged</th>\n",
       "      <th>Category_Bug</th>\n",
       "      <th>Category_Enhancement</th>\n",
       "      <th>Category_Release</th>\n",
       "      <th>Category_Testing</th>\n",
       "    </tr>\n",
       "  </thead>\n",
       "  <tbody>\n",
       "    <tr>\n",
       "      <th>0</th>\n",
       "      <td>1</td>\n",
       "      <td>1</td>\n",
       "      <td>28</td>\n",
       "      <td>21</td>\n",
       "      <td>0</td>\n",
       "      <td>1</td>\n",
       "      <td>0</td>\n",
       "      <td>0</td>\n",
       "    </tr>\n",
       "    <tr>\n",
       "      <th>1</th>\n",
       "      <td>1</td>\n",
       "      <td>1</td>\n",
       "      <td>7</td>\n",
       "      <td>0</td>\n",
       "      <td>1</td>\n",
       "      <td>0</td>\n",
       "      <td>0</td>\n",
       "      <td>0</td>\n",
       "    </tr>\n",
       "    <tr>\n",
       "      <th>2</th>\n",
       "      <td>1</td>\n",
       "      <td>1</td>\n",
       "      <td>2</td>\n",
       "      <td>8</td>\n",
       "      <td>0</td>\n",
       "      <td>0</td>\n",
       "      <td>1</td>\n",
       "      <td>0</td>\n",
       "    </tr>\n",
       "    <tr>\n",
       "      <th>3</th>\n",
       "      <td>1</td>\n",
       "      <td>1</td>\n",
       "      <td>2</td>\n",
       "      <td>8</td>\n",
       "      <td>0</td>\n",
       "      <td>0</td>\n",
       "      <td>1</td>\n",
       "      <td>0</td>\n",
       "    </tr>\n",
       "    <tr>\n",
       "      <th>4</th>\n",
       "      <td>1</td>\n",
       "      <td>1</td>\n",
       "      <td>70</td>\n",
       "      <td>76</td>\n",
       "      <td>0</td>\n",
       "      <td>1</td>\n",
       "      <td>0</td>\n",
       "      <td>0</td>\n",
       "    </tr>\n",
       "  </tbody>\n",
       "</table>\n",
       "</div>"
      ],
      "text/plain": [
       "   Priority  Total_developers  Hours_estimate  Hours_logged  Category_Bug  \\\n",
       "0         1                 1              28            21             0   \n",
       "1         1                 1               7             0             1   \n",
       "2         1                 1               2             8             0   \n",
       "3         1                 1               2             8             0   \n",
       "4         1                 1              70            76             0   \n",
       "\n",
       "   Category_Enhancement  Category_Release  Category_Testing  \n",
       "0                     1                 0                 0  \n",
       "1                     0                 0                 0  \n",
       "2                     0                 1                 0  \n",
       "3                     0                 1                 0  \n",
       "4                     1                 0                 0  "
      ]
     },
     "execution_count": 5,
     "metadata": {},
     "output_type": "execute_result"
    }
   ],
   "source": [
    "clean_dataset.head()"
   ]
  },
  {
   "cell_type": "code",
   "execution_count": 6,
   "metadata": {},
   "outputs": [
    {
     "name": "stdout",
     "output_type": "stream",
     "text": [
      "<class 'pandas.core.frame.DataFrame'>\n",
      "RangeIndex: 4055 entries, 0 to 4054\n",
      "Data columns (total 8 columns):\n",
      " #   Column                Non-Null Count  Dtype\n",
      "---  ------                --------------  -----\n",
      " 0   Priority              4055 non-null   int32\n",
      " 1   Total_developers      4055 non-null   int32\n",
      " 2   Hours_estimate        4055 non-null   int32\n",
      " 3   Hours_logged          4055 non-null   int32\n",
      " 4   Category_Bug          4055 non-null   int32\n",
      " 5   Category_Enhancement  4055 non-null   int32\n",
      " 6   Category_Release      4055 non-null   int32\n",
      " 7   Category_Testing      4055 non-null   int32\n",
      "dtypes: int32(8)\n",
      "memory usage: 126.8 KB\n"
     ]
    }
   ],
   "source": [
    "clean_dataset.info()"
   ]
  },
  {
   "cell_type": "markdown",
   "metadata": {},
   "source": [
    "### Data sampling\n",
    "\n",
    "Split the data into train, test and validate samples to fit and evaluate the model\n",
    "\n",
    "The percentage of each one will be\n",
    "\n",
    "- 60% training\n",
    "- 20% testing\n",
    "- 20% validating"
   ]
  },
  {
   "cell_type": "code",
   "execution_count": 7,
   "metadata": {},
   "outputs": [
    {
     "name": "stdout",
     "output_type": "stream",
     "text": [
      "Samples shape\n",
      "    Train: (3244, 8)\n",
      "    Test: (406, 8)\n",
      "    Validation: (405, 8)\n"
     ]
    }
   ],
   "source": [
    "train_dataset, temp_test_dataset = train_test_split(clean_dataset, test_size=0.20)\n",
    "\n",
    "validation_dataset, test_dataset = train_test_split(temp_test_dataset, test_size=0.50)\n",
    "\n",
    "print(\"Samples shape\")\n",
    "print(f\"    Train: {train_dataset.shape}\")\n",
    "print(f\"    Test: {test_dataset.shape}\")\n",
    "print(f\"    Validation: {validation_dataset.shape}\")"
   ]
  },
  {
   "cell_type": "markdown",
   "metadata": {},
   "source": [
    "### Data analysis\n",
    "\n",
    "Calculate the correlation and other statistics on the train dataset"
   ]
  },
  {
   "cell_type": "code",
   "execution_count": 8,
   "metadata": {},
   "outputs": [
    {
     "data": {
      "image/png": "[encoded data removed]",
      "text/plain": [
       "<Figure size 1200x400 with 2 Axes>"
      ]
     },
     "metadata": {},
     "output_type": "display_data"
    }
   ],
   "source": [
    "# correlation between the features and the target\n",
    "\n",
    "correlation_matrix = clean_dataset.corr()\n",
    "correlation_matrix['Hours_logged'].sort_values(ascending=False)\n",
    "\n",
    "# plot the correlation matrix\n",
    "plt.figure(figsize=(12, 4))\n",
    "sns.heatmap(correlation_matrix, annot=True, cmap='coolwarm')\n",
    "plt.title('Correlation Matrix')\n",
    "plt.show()"
   ]
  },
  {
   "cell_type": "code",
   "execution_count": 9,
   "metadata": {},
   "outputs": [
    {
     "data": {
      "text/html": [
       "<div>\n",
       "<style scoped>\n",
       "    .dataframe tbody tr th:only-of-type {\n",
       "        vertical-align: middle;\n",
       "    }\n",
       "\n",
       "    .dataframe tbody tr th {\n",
       "        vertical-align: top;\n",
       "    }\n",
       "\n",
       "    .dataframe thead th {\n",
       "        text-align: right;\n",
       "    }\n",
       "</style>\n",
       "<table border=\"1\" class=\"dataframe\">\n",
       "  <thead>\n",
       "    <tr style=\"text-align: right;\">\n",
       "      <th></th>\n",
       "      <th>count</th>\n",
       "      <th>mean</th>\n",
       "      <th>std</th>\n",
       "      <th>min</th>\n",
       "      <th>25%</th>\n",
       "      <th>50%</th>\n",
       "      <th>75%</th>\n",
       "      <th>max</th>\n",
       "    </tr>\n",
       "  </thead>\n",
       "  <tbody>\n",
       "    <tr>\n",
       "      <th>Priority</th>\n",
       "      <td>3244.0</td>\n",
       "      <td>2.296239</td>\n",
       "      <td>1.781662</td>\n",
       "      <td>1.0</td>\n",
       "      <td>1.0</td>\n",
       "      <td>1.0</td>\n",
       "      <td>3.0</td>\n",
       "      <td>10.0</td>\n",
       "    </tr>\n",
       "    <tr>\n",
       "      <th>Total_developers</th>\n",
       "      <td>3244.0</td>\n",
       "      <td>1.000000</td>\n",
       "      <td>0.000000</td>\n",
       "      <td>1.0</td>\n",
       "      <td>1.0</td>\n",
       "      <td>1.0</td>\n",
       "      <td>1.0</td>\n",
       "      <td>1.0</td>\n",
       "    </tr>\n",
       "    <tr>\n",
       "      <th>Hours_estimate</th>\n",
       "      <td>3244.0</td>\n",
       "      <td>4.358200</td>\n",
       "      <td>9.403317</td>\n",
       "      <td>0.0</td>\n",
       "      <td>1.0</td>\n",
       "      <td>2.0</td>\n",
       "      <td>5.0</td>\n",
       "      <td>260.0</td>\n",
       "    </tr>\n",
       "    <tr>\n",
       "      <th>Category_Bug</th>\n",
       "      <td>3244.0</td>\n",
       "      <td>0.437115</td>\n",
       "      <td>0.496106</td>\n",
       "      <td>0.0</td>\n",
       "      <td>0.0</td>\n",
       "      <td>0.0</td>\n",
       "      <td>1.0</td>\n",
       "      <td>1.0</td>\n",
       "    </tr>\n",
       "    <tr>\n",
       "      <th>Category_Enhancement</th>\n",
       "      <td>3244.0</td>\n",
       "      <td>0.428175</td>\n",
       "      <td>0.494891</td>\n",
       "      <td>0.0</td>\n",
       "      <td>0.0</td>\n",
       "      <td>0.0</td>\n",
       "      <td>1.0</td>\n",
       "      <td>1.0</td>\n",
       "    </tr>\n",
       "    <tr>\n",
       "      <th>Category_Release</th>\n",
       "      <td>3244.0</td>\n",
       "      <td>0.098952</td>\n",
       "      <td>0.298643</td>\n",
       "      <td>0.0</td>\n",
       "      <td>0.0</td>\n",
       "      <td>0.0</td>\n",
       "      <td>0.0</td>\n",
       "      <td>1.0</td>\n",
       "    </tr>\n",
       "    <tr>\n",
       "      <th>Category_Testing</th>\n",
       "      <td>3244.0</td>\n",
       "      <td>0.035758</td>\n",
       "      <td>0.185716</td>\n",
       "      <td>0.0</td>\n",
       "      <td>0.0</td>\n",
       "      <td>0.0</td>\n",
       "      <td>0.0</td>\n",
       "      <td>1.0</td>\n",
       "    </tr>\n",
       "  </tbody>\n",
       "</table>\n",
       "</div>"
      ],
      "text/plain": [
       "                       count      mean       std  min  25%  50%  75%    max\n",
       "Priority              3244.0  2.296239  1.781662  1.0  1.0  1.0  3.0   10.0\n",
       "Total_developers      3244.0  1.000000  0.000000  1.0  1.0  1.0  1.0    1.0\n",
       "Hours_estimate        3244.0  4.358200  9.403317  0.0  1.0  2.0  5.0  260.0\n",
       "Category_Bug          3244.0  0.437115  0.496106  0.0  0.0  0.0  1.0    1.0\n",
       "Category_Enhancement  3244.0  0.428175  0.494891  0.0  0.0  0.0  1.0    1.0\n",
       "Category_Release      3244.0  0.098952  0.298643  0.0  0.0  0.0  0.0    1.0\n",
       "Category_Testing      3244.0  0.035758  0.185716  0.0  0.0  0.0  0.0    1.0"
      ]
     },
     "execution_count": 9,
     "metadata": {},
     "output_type": "execute_result"
    }
   ],
   "source": [
    "# another interesting statistics like the count, mean, std, min, quartiles and max, all per feature\n",
    "train_stats = train_dataset.describe()\n",
    "train_stats.pop(\"Hours_logged\")\n",
    "train_stats = train_stats.transpose()\n",
    "train_stats"
   ]
  },
  {
   "cell_type": "markdown",
   "metadata": {},
   "source": [
    "### Feature prediction\n",
    "\n",
    "The label \"Hours Logged\" is the actual goal for our model, we will remove it from every sample and keep it apart"
   ]
  },
  {
   "cell_type": "code",
   "execution_count": 10,
   "metadata": {},
   "outputs": [],
   "source": [
    "train_label = train_dataset.pop('Hours_logged')\n",
    "test_label = test_dataset.pop('Hours_logged')\n",
    "validation_label = validation_dataset.pop('Hours_logged')"
   ]
  },
  {
   "cell_type": "markdown",
   "metadata": {},
   "source": [
    "### Data normalization/Scaling\n",
    "\n",
    "Subtract the mean of the training data and divide by the standard deviation of the training data."
   ]
  },
  {
   "cell_type": "code",
   "execution_count": 11,
   "metadata": {},
   "outputs": [],
   "source": [
    "def norm(x):\n",
    "    return (x - train_stats['mean']) / train_stats['std']\n",
    "\n",
    "normed_train_data = norm(train_dataset)\n",
    "normed_test_data = norm(test_dataset)\n",
    "normed_validation_data = norm(validation_dataset)\n",
    "\n",
    "# is some of the data is NaN, fill it with 1\n",
    "if normed_train_data['Total_developers'].isna().any():\n",
    "    normed_train_data['Total_developers'] = normed_train_data['Total_developers'].fillna(1)\n",
    "    normed_test_data['Total_developers'] = normed_test_data['Total_developers'].fillna(1)\n",
    "    normed_validation_data['Total_developers'] = normed_validation_data['Total_developers'].fillna(1)"
   ]
  },
  {
   "cell_type": "code",
   "execution_count": 12,
   "metadata": {},
   "outputs": [
    {
     "data": {
      "text/html": [
       "<div>\n",
       "<style scoped>\n",
       "    .dataframe tbody tr th:only-of-type {\n",
       "        vertical-align: middle;\n",
       "    }\n",
       "\n",
       "    .dataframe tbody tr th {\n",
       "        vertical-align: top;\n",
       "    }\n",
       "\n",
       "    .dataframe thead th {\n",
       "        text-align: right;\n",
       "    }\n",
       "</style>\n",
       "<table border=\"1\" class=\"dataframe\">\n",
       "  <thead>\n",
       "    <tr style=\"text-align: right;\">\n",
       "      <th></th>\n",
       "      <th>Priority</th>\n",
       "      <th>Total_developers</th>\n",
       "      <th>Hours_estimate</th>\n",
       "      <th>Category_Bug</th>\n",
       "      <th>Category_Enhancement</th>\n",
       "      <th>Category_Release</th>\n",
       "      <th>Category_Testing</th>\n",
       "    </tr>\n",
       "  </thead>\n",
       "  <tbody>\n",
       "    <tr>\n",
       "      <th>3791</th>\n",
       "      <td>-0.727545</td>\n",
       "      <td>1.0</td>\n",
       "      <td>-0.144438</td>\n",
       "      <td>1.134607</td>\n",
       "      <td>-0.865191</td>\n",
       "      <td>-0.331338</td>\n",
       "      <td>-0.192543</td>\n",
       "    </tr>\n",
       "    <tr>\n",
       "      <th>2912</th>\n",
       "      <td>0.956276</td>\n",
       "      <td>1.0</td>\n",
       "      <td>-0.038093</td>\n",
       "      <td>-0.881091</td>\n",
       "      <td>1.155457</td>\n",
       "      <td>-0.331338</td>\n",
       "      <td>-0.192543</td>\n",
       "    </tr>\n",
       "    <tr>\n",
       "      <th>1695</th>\n",
       "      <td>-0.727545</td>\n",
       "      <td>1.0</td>\n",
       "      <td>-0.144438</td>\n",
       "      <td>-0.881091</td>\n",
       "      <td>1.155457</td>\n",
       "      <td>-0.331338</td>\n",
       "      <td>-0.192543</td>\n",
       "    </tr>\n",
       "    <tr>\n",
       "      <th>1665</th>\n",
       "      <td>-0.727545</td>\n",
       "      <td>1.0</td>\n",
       "      <td>-0.144438</td>\n",
       "      <td>1.134607</td>\n",
       "      <td>-0.865191</td>\n",
       "      <td>-0.331338</td>\n",
       "      <td>-0.192543</td>\n",
       "    </tr>\n",
       "    <tr>\n",
       "      <th>1221</th>\n",
       "      <td>-0.727545</td>\n",
       "      <td>1.0</td>\n",
       "      <td>-0.038093</td>\n",
       "      <td>-0.881091</td>\n",
       "      <td>1.155457</td>\n",
       "      <td>-0.331338</td>\n",
       "      <td>-0.192543</td>\n",
       "    </tr>\n",
       "  </tbody>\n",
       "</table>\n",
       "</div>"
      ],
      "text/plain": [
       "      Priority  Total_developers  Hours_estimate  Category_Bug  \\\n",
       "3791 -0.727545               1.0       -0.144438      1.134607   \n",
       "2912  0.956276               1.0       -0.038093     -0.881091   \n",
       "1695 -0.727545               1.0       -0.144438     -0.881091   \n",
       "1665 -0.727545               1.0       -0.144438      1.134607   \n",
       "1221 -0.727545               1.0       -0.038093     -0.881091   \n",
       "\n",
       "      Category_Enhancement  Category_Release  Category_Testing  \n",
       "3791             -0.865191         -0.331338         -0.192543  \n",
       "2912              1.155457         -0.331338         -0.192543  \n",
       "1695              1.155457         -0.331338         -0.192543  \n",
       "1665             -0.865191         -0.331338         -0.192543  \n",
       "1221              1.155457         -0.331338         -0.192543  "
      ]
     },
     "execution_count": 12,
     "metadata": {},
     "output_type": "execute_result"
    }
   ],
   "source": [
    "# show a part of the normalized data\n",
    "normed_train_data.head()"
   ]
  },
  {
   "cell_type": "markdown",
   "metadata": {},
   "source": [
    "## Building the Models"
   ]
  },
  {
   "cell_type": "markdown",
   "metadata": {},
   "source": [
    "### Firts Model\n",
    "Two hidden layers with 50 neurons each\n",
    "\n",
    "Learning rate at 0.001"
   ]
  },
  {
   "cell_type": "code",
   "execution_count": 13,
   "metadata": {},
   "outputs": [],
   "source": [
    "def build_first_model_two_hidden_layers():\n",
    "    model = Sequential(name = \"FirstModelTwoHiddenLayers\")\n",
    "\n",
    "    # Input layer\n",
    "    model.add(Dense(10, input_shape = (normed_train_data.shape[1],)))\n",
    "\n",
    "    # Hidden layer \n",
    "    model.add(Dense(50, Activation('relu'), name='hidden_layer_1'))\n",
    "    model.add(Dense(50, Activation('relu'), name='hidden_layer_2'))\n",
    "\n",
    "    # Output layer \n",
    "    model.add(Dense(1))\n",
    "\n",
    "    learnig_rate = 0.001\n",
    "    optimizer = optimizers.RMSprop(learning_rate=learnig_rate)\n",
    "    model.compile(loss='mse', optimizer=optimizer, metrics=['accuracy', 'mae', 'mse'])\n",
    "\n",
    "    return model"
   ]
  },
  {
   "cell_type": "markdown",
   "metadata": {},
   "source": [
    "### Second Model\n",
    "\n",
    "Three hidden layers with 32, 64 and 128 neurons, respectively\n",
    "\n",
    "Learning rate at 0.01"
   ]
  },
  {
   "cell_type": "code",
   "execution_count": 14,
   "metadata": {},
   "outputs": [],
   "source": [
    "def build_second_model_three_hidden_layers():\n",
    "    model = Sequential(name = \"SecondModelThreeHiddenLayers\")\n",
    "\n",
    "    # Input layer\n",
    "    model.add(Dense(10, input_shape = (normed_train_data.shape[1],)))\n",
    "\n",
    "    # Hidden layer \n",
    "    model.add(Dense(128, Activation('relu'), name='hidden_layer_1'))\n",
    "    model.add(Dense(64, Activation('relu'), name='hidden_layer_3'))\n",
    "    model.add(Dense(32, Activation('relu'), name='hidden_layer_2'))\n",
    "    \n",
    "    \n",
    "    # Output layer \n",
    "    model.add(Dense(1))\n",
    "\n",
    "    learnig_rate = 0.01\n",
    "    optimizer = optimizers.RMSprop(learning_rate=learnig_rate)\n",
    "    model.compile(loss='mse', optimizer=optimizer, metrics=['accuracy', 'mae', 'mse'])\n",
    "\n",
    "    return model"
   ]
  },
  {
   "cell_type": "markdown",
   "metadata": {},
   "source": [
    "### Third Model\n",
    "\n",
    "Five hidden layers, all with 64 neurons\n",
    "\n",
    "Learning rate at 0.001"
   ]
  },
  {
   "cell_type": "code",
   "execution_count": 30,
   "metadata": {},
   "outputs": [],
   "source": [
    "def build_third_model_five_hidden_layers():\n",
    "    model = Sequential(name = \"ThirdModelFiveHiddenLayers\")\n",
    "\n",
    "    # Input layer\n",
    "    model.add(Dense(10, input_shape = (normed_train_data.shape[1],)))\n",
    "\n",
    "    # Hidden layer \n",
    "    model.add(Dense(64, Activation('relu'), name='hidden_layer_1'))\n",
    "    model.add(Dense(64, Activation('relu'), name='hidden_layer_2'))\n",
    "    model.add(Dense(64, Activation('relu'), name='hidden_layer_3'))\n",
    "    \n",
    "    # Output layer \n",
    "    model.add(Dense(1))\n",
    "\n",
    "    learnig_rate = 0.01\n",
    "    optimizer = optimizers.RMSprop(learning_rate=learnig_rate)\n",
    "    model.compile(\n",
    "        loss='mse',\n",
    "        optimizer=optimizer,\n",
    "        metrics=['accuracy', 'mae', 'mse']\n",
    "    )\n",
    "\n",
    "    return model"
   ]
  },
  {
   "cell_type": "markdown",
   "metadata": {},
   "source": [
    "### Fourth Model\n",
    "\n",
    "Recurrent Neural Network"
   ]
  },
  {
   "cell_type": "code",
   "execution_count": 55,
   "metadata": {},
   "outputs": [],
   "source": [
    "def build_fourth_model_LSTM_hidden_layers():\n",
    "    model = Sequential(name = \"FourthModelLSTMHiddenLayers\")\n",
    "\n",
    "    model.add(Reshape(\n",
    "        (normed_train_data.shape[1], 1),\n",
    "        input_shape=(normed_train_data.shape[1],)\n",
    "    ))\n",
    "\n",
    "    model.add(LSTM(128, return_sequences=True))\n",
    "    model.add(Dropout(0.3))\n",
    "    model.add(Flatten())\n",
    "    model.add(Dense(32, Activation('relu')))\n",
    "  \n",
    "    \n",
    "    model.add(Dense(1))\n",
    "\n",
    "    learnig_rate = 0.0001\n",
    "    optimizer = optimizers.Adam(learning_rate=learnig_rate)\n",
    "    model.compile(loss='mse', optimizer=optimizer, metrics=['accuracy', 'mae', 'mse'])\n",
    "\n",
    "    return model    "
   ]
  },
  {
   "cell_type": "markdown",
   "metadata": {},
   "source": [
    "### Fith Model\n",
    "\n",
    "Support Vector Machine"
   ]
  },
  {
   "cell_type": "code",
   "execution_count": 18,
   "metadata": {},
   "outputs": [],
   "source": [
    "def build_model_svc():\n",
    "    parameters = {'kernel':('linear', 'rbf')}\n",
    "    svr = SVR()\n",
    "    return GridSearchCV(svr, parameters)"
   ]
  },
  {
   "cell_type": "markdown",
   "metadata": {},
   "source": [
    "### Choose the model"
   ]
  },
  {
   "cell_type": "code",
   "execution_count": 31,
   "metadata": {},
   "outputs": [],
   "source": [
    "def choose_model(model_type, model_number):\n",
    "    if (model_type == 'Neuronal Network'):\n",
    "        if (model_number == 1):\n",
    "            return build_first_model_two_hidden_layers()\n",
    "        elif (model_number == 2):\n",
    "            return build_second_model_three_hidden_layers()\n",
    "        elif (model_number == 3):\n",
    "            return build_third_model_five_hidden_layers()\n",
    "        elif (model_number == 4):\n",
    "            return build_fourth_model_LSTM_hidden_layers()\n",
    "    else:\n",
    "        return build_model_svc()"
   ]
  },
  {
   "cell_type": "markdown",
   "metadata": {},
   "source": [
    "Save checkpoints during training"
   ]
  },
  {
   "cell_type": "code",
   "execution_count": 15,
   "metadata": {},
   "outputs": [],
   "source": [
    "# checkpoint_path = r\".\\checkpoint_logs\\connectium\\data.ckpt\"\n",
    "checkpoint_path = r\".\\checkpoint_logs\\sip\\data.ckpt\"\n",
    "\n",
    "# Create a callback that saves the model's weights\n",
    "ckpt_callback = tf.keras.callbacks.ModelCheckpoint(filepath=checkpoint_path,\n",
    "                                                 monitor='val_loss', # or val_accuracy if you have it.\n",
    "                                                 save_best_only=True, # Default false. If you don't change the file name then the output will be overritten at each step and only the last model will be saved.\n",
    "                                                 save_weights_only=True, # True => model.save_weights (weights and no structure, you need JSON file for structure), False => model.save (saves weights & structure)\n",
    "                                                 verbose=0,\n",
    ")"
   ]
  },
  {
   "cell_type": "markdown",
   "metadata": {},
   "source": [
    "## Model training"
   ]
  },
  {
   "cell_type": "code",
   "execution_count": 32,
   "metadata": {},
   "outputs": [],
   "source": [
    "def training_neural_network_model(model):\n",
    "        # for first model - second place\n",
    "        # epochs = 64\n",
    "        # batch_size = 10 \n",
    "\n",
    "        # for second model - worst for now\n",
    "        # epochs = 400\n",
    "        # batch_size = 60\n",
    "\n",
    "        # for third model -\n",
    "        # epochs = 64\n",
    "        # batch_size = 10\n",
    "\n",
    "        # for fourth model - is winning\n",
    "        epochs = 300\n",
    "        batch_size = 100\n",
    "\n",
    "\n",
    "\n",
    "\n",
    "        history = model.fit(\n",
    "            normed_train_data,\n",
    "            train_label,\n",
    "            batch_size=batch_size,  \n",
    "            epochs=epochs, \n",
    "            verbose=0,\n",
    "            shuffle=True,\n",
    "            steps_per_epoch = int(normed_train_data.shape[0] / batch_size),\n",
    "            validation_data=(normed_validation_data, validation_label),\n",
    "            callbacks=[\n",
    "                tfdocs.modeling.EpochDots(),\n",
    "                ckpt_callback,\n",
    "            ]\n",
    "        )\n",
    "\n",
    "        return history"
   ]
  },
  {
   "cell_type": "code",
   "execution_count": 22,
   "metadata": {},
   "outputs": [],
   "source": [
    "def training_support_vector_machine_model(model):\n",
    "    model.fit(normed_train_data, train_label)\n",
    "    \n",
    "    history = pd.DataFrame({\n",
    "        'Accuracy': [model.score(normed_test_data, test_label)],\n",
    "        'Best params hash': [model.best_params_],\n",
    "        'Best score': [model.best_score_],\n",
    "        'Best estimator': [model.best_estimator_],\n",
    "    })\n",
    "\n",
    "    print(history)\n",
    "    return history"
   ]
  },
  {
   "cell_type": "code",
   "execution_count": 33,
   "metadata": {},
   "outputs": [
    {
     "name": "stdout",
     "output_type": "stream",
     "text": [
      "\n",
      "Epoch: 0, accuracy:0.2340,  loss:14.1323,  mae:2.1305,  mse:14.1323,  val_accuracy:0.2049,  val_loss:5.8323,  val_mae:1.5644,  val_mse:5.8323,  \n",
      "................................................................CPU times: total: 18 s\n",
      "Wall time: 46.4 s\n"
     ]
    }
   ],
   "source": [
    "%%time\n",
    "\n",
    "model = choose_model('Neuronal Network', 4)\n",
    "# model = choose_model('Support Vector Machine', 0)\n",
    "\n",
    "history = training_neural_network_model(model)\n",
    "# history = training_support_vector_machine_model(model)"
   ]
  },
  {
   "cell_type": "markdown",
   "metadata": {},
   "source": [
    "### Predicted and real values\n",
    "\n",
    "Here we will see the first 10 rows of the predicted data, comparing it with the real one"
   ]
  },
  {
   "cell_type": "markdown",
   "metadata": {},
   "source": [
    "## Evaluating the model\n",
    "\n",
    "The metrics we choose to evaluate the model were **Mean Abs. Error** and **Mean squarred Error**"
   ]
  },
  {
   "cell_type": "markdown",
   "metadata": {},
   "source": [
    "### Showing the resulting metrics from the training"
   ]
  },
  {
   "cell_type": "code",
   "execution_count": 18,
   "metadata": {},
   "outputs": [],
   "source": [
    "def evaluating_neural_network_model(history):\n",
    "\n",
    "    history_dataset = pd.DataFrame(history.history)\n",
    "    history_dataset['epoch'] = history.epoch\n",
    "\n",
    "\n",
    "    print(\"Resume of the training history model\")\n",
    "    display(HTML(history_dataset.tail(5).to_html()))\n",
    "\n",
    "    history_dataset_csv = history_dataset\n",
    "    history_dataset_csv.to_csv(r\"./outputs/neural_network/history_sip.csv\", index=False)  \n",
    "\n",
    "    print(\"Plotting the training history model per epoch\")\n",
    "\n",
    "    plotter = tfdocs.plots.HistoryPlotter(smoothing_std=2)\n",
    "    plotter.plot({'Basic': history}, metric=\"mse\")\n",
    "    plt.ylabel('MSE [Metric]')\n",
    "    plt.show()\n"
   ]
  },
  {
   "cell_type": "code",
   "execution_count": 25,
   "metadata": {},
   "outputs": [],
   "source": [
    "def evaluating_svc_model(history, test_predictions):\n",
    "    history['MSE'] = [mean_squared_error(test_label, test_predictions)],\n",
    "    \n",
    "    print(history)\n",
    "\n",
    "    history.to_csv(r\"./outputs/svr/history_sip.csv\", index=False)   \n",
    "\n",
    "    # saving the results\n",
    "    pd.DataFrame({\n",
    "        'Logged': test_label,\n",
    "        'Predicted': test_predictions\n",
    "    }).to_csv(r\"./outputs/svr/history_sip.csv\", index=False)"
   ]
  },
  {
   "cell_type": "code",
   "execution_count": 34,
   "metadata": {},
   "outputs": [
    {
     "name": "stdout",
     "output_type": "stream",
     "text": [
      "Resume of the training history model\n"
     ]
    },
    {
     "data": {
      "text/html": [
       "<table border=\"1\" class=\"dataframe\">\n",
       "  <thead>\n",
       "    <tr style=\"text-align: right;\">\n",
       "      <th></th>\n",
       "      <th>loss</th>\n",
       "      <th>accuracy</th>\n",
       "      <th>mae</th>\n",
       "      <th>mse</th>\n",
       "      <th>val_loss</th>\n",
       "      <th>val_accuracy</th>\n",
       "      <th>val_mae</th>\n",
       "      <th>val_mse</th>\n",
       "      <th>epoch</th>\n",
       "    </tr>\n",
       "  </thead>\n",
       "  <tbody>\n",
       "    <tr>\n",
       "      <th>59</th>\n",
       "      <td>5.419645</td>\n",
       "      <td>0.316327</td>\n",
       "      <td>1.480044</td>\n",
       "      <td>5.419645</td>\n",
       "      <td>3.760603</td>\n",
       "      <td>0.340741</td>\n",
       "      <td>1.274553</td>\n",
       "      <td>3.760603</td>\n",
       "      <td>59</td>\n",
       "    </tr>\n",
       "    <tr>\n",
       "      <th>60</th>\n",
       "      <td>5.355025</td>\n",
       "      <td>0.309524</td>\n",
       "      <td>1.476508</td>\n",
       "      <td>5.355025</td>\n",
       "      <td>4.207407</td>\n",
       "      <td>0.348148</td>\n",
       "      <td>1.297466</td>\n",
       "      <td>4.207407</td>\n",
       "      <td>60</td>\n",
       "    </tr>\n",
       "    <tr>\n",
       "      <th>61</th>\n",
       "      <td>4.557559</td>\n",
       "      <td>0.305813</td>\n",
       "      <td>1.439653</td>\n",
       "      <td>4.557559</td>\n",
       "      <td>4.024309</td>\n",
       "      <td>0.348148</td>\n",
       "      <td>1.302672</td>\n",
       "      <td>4.024309</td>\n",
       "      <td>61</td>\n",
       "    </tr>\n",
       "    <tr>\n",
       "      <th>62</th>\n",
       "      <td>5.572003</td>\n",
       "      <td>0.313853</td>\n",
       "      <td>1.501676</td>\n",
       "      <td>5.572003</td>\n",
       "      <td>4.088043</td>\n",
       "      <td>0.343210</td>\n",
       "      <td>1.303659</td>\n",
       "      <td>4.088043</td>\n",
       "      <td>62</td>\n",
       "    </tr>\n",
       "    <tr>\n",
       "      <th>63</th>\n",
       "      <td>4.936740</td>\n",
       "      <td>0.307669</td>\n",
       "      <td>1.452372</td>\n",
       "      <td>4.936740</td>\n",
       "      <td>3.965236</td>\n",
       "      <td>0.348148</td>\n",
       "      <td>1.231737</td>\n",
       "      <td>3.965236</td>\n",
       "      <td>63</td>\n",
       "    </tr>\n",
       "  </tbody>\n",
       "</table>"
      ],
      "text/plain": [
       "<IPython.core.display.HTML object>"
      ]
     },
     "metadata": {},
     "output_type": "display_data"
    },
    {
     "name": "stdout",
     "output_type": "stream",
     "text": [
      "Plotting the training history model per epoch\n"
     ]
    },
    {
     "data": {
      "image/png": "[encoded data removed]",
      "text/plain": [
       "<Figure size 640x480 with 1 Axes>"
      ]
     },
     "metadata": {},
     "output_type": "display_data"
    }
   ],
   "source": [
    "evaluating_neural_network_model(history)\n",
    "# evaluating_svc_model(history, test_predictions)"
   ]
  },
  {
   "cell_type": "markdown",
   "metadata": {},
   "source": [
    "## Predicting the data"
   ]
  },
  {
   "cell_type": "code",
   "execution_count": 35,
   "metadata": {},
   "outputs": [
    {
     "name": "stdout",
     "output_type": "stream",
     "text": [
      "1/1 [==============================] - 0s 101ms/step\n",
      "Example for the first 5 samples\n",
      "Predicted Hours Logged\n",
      "[[2.8356524]\n",
      " [4.2625628]\n",
      " [2.9963799]\n",
      " [2.8356524]\n",
      " [3.7932506]]\n",
      "Real Hours Logged\n",
      "3791    3\n",
      "2912    4\n",
      "1695    4\n",
      "1665    2\n",
      "1221    2\n",
      "Name: Hours_logged, dtype: int32\n",
      "13/13 [==============================] - 0s 2ms/step\n"
     ]
    }
   ],
   "source": [
    "example_batch = normed_train_data[:5]\n",
    "example_result = model.predict(example_batch)\n",
    "\n",
    "print(\"Example for the first 5 samples\")\n",
    "print(\"Predicted Hours Logged\")\n",
    "print(example_result)\n",
    "    \n",
    "print(\"Real Hours Logged\")\n",
    "print(train_label[:5])\n",
    "\n",
    "test_predictions = model.predict(normed_test_data)"
   ]
  },
  {
   "cell_type": "code",
   "execution_count": 36,
   "metadata": {},
   "outputs": [
    {
     "name": "stdout",
     "output_type": "stream",
     "text": [
      "13/13 [==============================] - 0s 2ms/step\n"
     ]
    }
   ],
   "source": [
    "test_predictions = model.predict(normed_test_data).flatten()\n",
    "\n",
    "predictions_dataset = pd.DataFrame({\n",
    "    'Logged': test_label,\n",
    "    'Predicted': test_predictions\n",
    "})\n",
    "\n",
    "# test_predictions_to_csv = pd.DataFrame(test_predictions).to_csv(r\"./outputs/neural_network/test_predictions_sip.csv\", index=False)\n",
    "# test_label_to_csv = pd.DataFrame(test_label).to_csv(r\"./outputs/neural_network/test_label_sip.csv\", index=False)\n",
    "\n",
    "predictions_dataset_csv = predictions_dataset\n",
    "predictions_dataset_csv.to_csv(r\"./outputs/neural_network/predictions_sip.csv\", index=False)"
   ]
  },
  {
   "cell_type": "markdown",
   "metadata": {},
   "source": [
    "Predictions VS. True Values for Hours Logged"
   ]
  },
  {
   "cell_type": "code",
   "execution_count": 37,
   "metadata": {},
   "outputs": [
    {
     "data": {
      "image/png": "[encoded data removed]",
      "text/plain": [
       "<Figure size 640x480 with 1 Axes>"
      ]
     },
     "metadata": {},
     "output_type": "display_data"
    }
   ],
   "source": [
    "axes = plt.axes(aspect='equal')\n",
    "plt.scatter(test_label, test_predictions)\n",
    "plt.xlabel('True Values [Hours Logged]')\n",
    "plt.ylabel('Predictions [Hours Logged]')\n",
    "# calculate the limit\n",
    "max_value = max(test_label.max(), test_predictions[0].max())\n",
    "_ = plt.plot([0, max_value], [0, max_value])"
   ]
  }
 ],
 "metadata": {
  "kernelspec": {
   "display_name": "Python 3",
   "language": "python",
   "name": "python3"
  },
  "language_info": {
   "codemirror_mode": {
    "name": "ipython",
    "version": 3
   },
   "file_extension": ".py",
   "mimetype": "text/x-python",
   "name": "python",
   "nbconvert_exporter": "python",
   "pygments_lexer": "ipython3",
   "version": "3.10.11"
  }
 },
 "nbformat": 4,
 "nbformat_minor": 2
}
