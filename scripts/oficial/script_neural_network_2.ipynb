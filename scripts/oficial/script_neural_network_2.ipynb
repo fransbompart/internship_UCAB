{
 "cells": [
  {
   "cell_type": "code",
   "execution_count": 64,
   "metadata": {},
   "outputs": [],
   "source": [
    "import os\n",
    "# for the model\n",
    "import tensorflow as tf\n",
    "import tensorflow_docs as tfdocs\n",
    "import tensorflow_docs.plots\n",
    "import tensorflow_docs.modeling\n",
    "from tensorflow import keras\n",
    "from tensorflow.keras.models import Sequential\n",
    "from tensorflow.keras.layers import *\n",
    "from tensorflow.keras import optimizers\n",
    "from sklearn.model_selection import train_test_split, KFold, GridSearchCV\n",
    "from sklearn.svm import SVR\n",
    "from sklearn.metrics import mean_squared_error\n",
    "\n",
    "# for data manipulation and graphing\n",
    "import pathlib\n",
    "import numpy as np\n",
    "import matplotlib.pyplot as plt\n",
    "import pandas as pd\n",
    "import seaborn as sns\n",
    "\n",
    "from IPython.display import display, HTML\n",
    "\n",
    "tf.random.set_seed(42) # set seed for reproducibility\n",
    "tf.debugging.set_log_device_placement(False)"
   ]
  },
  {
   "cell_type": "markdown",
   "metadata": {},
   "source": [
    "## Data preprocessing"
   ]
  },
  {
   "cell_type": "code",
   "execution_count": 2,
   "metadata": {},
   "outputs": [
    {
     "data": {
      "text/html": [
       "<div>\n",
       "<style scoped>\n",
       "    .dataframe tbody tr th:only-of-type {\n",
       "        vertical-align: middle;\n",
       "    }\n",
       "\n",
       "    .dataframe tbody tr th {\n",
       "        vertical-align: top;\n",
       "    }\n",
       "\n",
       "    .dataframe thead th {\n",
       "        text-align: right;\n",
       "    }\n",
       "</style>\n",
       "<table border=\"1\" class=\"dataframe\">\n",
       "  <thead>\n",
       "    <tr style=\"text-align: right;\">\n",
       "      <th></th>\n",
       "      <th>Task_ID</th>\n",
       "      <th>Priority</th>\n",
       "      <th>Project_ID</th>\n",
       "      <th>Project_code</th>\n",
       "      <th>Category</th>\n",
       "      <th>Total_developers</th>\n",
       "      <th>TaskPerformance</th>\n",
       "      <th>DeveloperPerformance</th>\n",
       "      <th>Hours_estimate</th>\n",
       "      <th>Hours_logged</th>\n",
       "      <th>Difference</th>\n",
       "    </tr>\n",
       "  </thead>\n",
       "  <tbody>\n",
       "    <tr>\n",
       "      <th>0</th>\n",
       "      <td>7963</td>\n",
       "      <td>4</td>\n",
       "      <td>9</td>\n",
       "      <td>PC9</td>\n",
       "      <td>Release</td>\n",
       "      <td>1</td>\n",
       "      <td>-8.95</td>\n",
       "      <td>-5.95</td>\n",
       "      <td>3.0</td>\n",
       "      <td>11.95</td>\n",
       "      <td>8.95</td>\n",
       "    </tr>\n",
       "    <tr>\n",
       "      <th>1</th>\n",
       "      <td>7963</td>\n",
       "      <td>4</td>\n",
       "      <td>9</td>\n",
       "      <td>PC9</td>\n",
       "      <td>Release</td>\n",
       "      <td>1</td>\n",
       "      <td>-8.95</td>\n",
       "      <td>NaN</td>\n",
       "      <td>3.0</td>\n",
       "      <td>11.95</td>\n",
       "      <td>8.95</td>\n",
       "    </tr>\n",
       "    <tr>\n",
       "      <th>2</th>\n",
       "      <td>12609</td>\n",
       "      <td>1</td>\n",
       "      <td>6</td>\n",
       "      <td>PC6</td>\n",
       "      <td>Enhancement</td>\n",
       "      <td>1</td>\n",
       "      <td>-8.94</td>\n",
       "      <td>-8.94</td>\n",
       "      <td>35.0</td>\n",
       "      <td>43.94</td>\n",
       "      <td>8.94</td>\n",
       "    </tr>\n",
       "    <tr>\n",
       "      <th>3</th>\n",
       "      <td>13397</td>\n",
       "      <td>1</td>\n",
       "      <td>5</td>\n",
       "      <td>PC5</td>\n",
       "      <td>Testing</td>\n",
       "      <td>1</td>\n",
       "      <td>-8.92</td>\n",
       "      <td>-8.92</td>\n",
       "      <td>14.0</td>\n",
       "      <td>22.92</td>\n",
       "      <td>8.92</td>\n",
       "    </tr>\n",
       "    <tr>\n",
       "      <th>4</th>\n",
       "      <td>6063</td>\n",
       "      <td>1</td>\n",
       "      <td>9</td>\n",
       "      <td>PC9</td>\n",
       "      <td>Enhancement</td>\n",
       "      <td>1</td>\n",
       "      <td>8.82</td>\n",
       "      <td>NaN</td>\n",
       "      <td>35.0</td>\n",
       "      <td>26.18</td>\n",
       "      <td>8.82</td>\n",
       "    </tr>\n",
       "  </tbody>\n",
       "</table>\n",
       "</div>"
      ],
      "text/plain": [
       "   Task_ID  Priority  Project_ID Project_code     Category  Total_developers  \\\n",
       "0     7963         4           9          PC9      Release                 1   \n",
       "1     7963         4           9          PC9      Release                 1   \n",
       "2    12609         1           6          PC6  Enhancement                 1   \n",
       "3    13397         1           5          PC5      Testing                 1   \n",
       "4     6063         1           9          PC9  Enhancement                 1   \n",
       "\n",
       "   TaskPerformance  DeveloperPerformance  Hours_estimate  Hours_logged  \\\n",
       "0            -8.95                 -5.95             3.0         11.95   \n",
       "1            -8.95                   NaN             3.0         11.95   \n",
       "2            -8.94                 -8.94            35.0         43.94   \n",
       "3            -8.92                 -8.92            14.0         22.92   \n",
       "4             8.82                   NaN            35.0         26.18   \n",
       "\n",
       "   Difference  \n",
       "0        8.95  \n",
       "1        8.95  \n",
       "2        8.94  \n",
       "3        8.92  \n",
       "4        8.82  "
      ]
     },
     "execution_count": 2,
     "metadata": {},
     "output_type": "execute_result"
    }
   ],
   "source": [
    "# load the dataset\n",
    "# connectium\n",
    "# original_dataset = pd.read_csv(\"C:/Users/franc/pasantia_IA/datasets/data_connectium.csv\")\n",
    "# sip\n",
    "original_dataset = pd.read_csv(\"C:/Users/franc/pasantia_IA/datasets/data_sip.csv\")\n",
    "\n",
    "# show the original data\n",
    "original_dataset.head()"
   ]
  },
  {
   "cell_type": "code",
   "execution_count": 3,
   "metadata": {},
   "outputs": [
    {
     "name": "stdout",
     "output_type": "stream",
     "text": [
      "<class 'pandas.core.frame.DataFrame'>\n",
      "RangeIndex: 4267 entries, 0 to 4266\n",
      "Data columns (total 11 columns):\n",
      " #   Column                Non-Null Count  Dtype  \n",
      "---  ------                --------------  -----  \n",
      " 0   Task_ID               4267 non-null   int64  \n",
      " 1   Priority              4267 non-null   int64  \n",
      " 2   Project_ID            4267 non-null   int64  \n",
      " 3   Project_code          4267 non-null   object \n",
      " 4   Category              4267 non-null   object \n",
      " 5   Total_developers      4267 non-null   int64  \n",
      " 6   TaskPerformance       4267 non-null   float64\n",
      " 7   DeveloperPerformance  3830 non-null   float64\n",
      " 8   Hours_estimate        4267 non-null   float64\n",
      " 9   Hours_logged          4267 non-null   float64\n",
      " 10  Difference            4267 non-null   float64\n",
      "dtypes: float64(5), int64(4), object(2)\n",
      "memory usage: 366.8+ KB\n"
     ]
    }
   ],
   "source": [
    "# show the metadata\n",
    "original_dataset.info()"
   ]
  },
  {
   "cell_type": "code",
   "execution_count": 4,
   "metadata": {},
   "outputs": [],
   "source": [
    "# drop all the unnecessary columns\n",
    "clean_dataset = original_dataset[[\n",
    "    'Task_ID',\n",
    "    'Project_ID',\n",
    "    'Priority',\n",
    "    'Category',\n",
    "    'Total_developers',\n",
    "    'Hours_estimate',\n",
    "    'Hours_logged',\n",
    "]]\n",
    "\n",
    "# desnormalizing data\n",
    "clean_dataset = pd.get_dummies(clean_dataset, columns=['Category'])\n",
    "clean_dataset = clean_dataset.astype(int)"
   ]
  },
  {
   "cell_type": "code",
   "execution_count": 5,
   "metadata": {},
   "outputs": [
    {
     "data": {
      "text/html": [
       "<div>\n",
       "<style scoped>\n",
       "    .dataframe tbody tr th:only-of-type {\n",
       "        vertical-align: middle;\n",
       "    }\n",
       "\n",
       "    .dataframe tbody tr th {\n",
       "        vertical-align: top;\n",
       "    }\n",
       "\n",
       "    .dataframe thead th {\n",
       "        text-align: right;\n",
       "    }\n",
       "</style>\n",
       "<table border=\"1\" class=\"dataframe\">\n",
       "  <thead>\n",
       "    <tr style=\"text-align: right;\">\n",
       "      <th></th>\n",
       "      <th>Task_ID</th>\n",
       "      <th>Project_ID</th>\n",
       "      <th>Priority</th>\n",
       "      <th>Total_developers</th>\n",
       "      <th>Hours_estimate</th>\n",
       "      <th>Hours_logged</th>\n",
       "      <th>Category_Bug</th>\n",
       "      <th>Category_Enhancement</th>\n",
       "      <th>Category_Release</th>\n",
       "      <th>Category_Testing</th>\n",
       "    </tr>\n",
       "  </thead>\n",
       "  <tbody>\n",
       "    <tr>\n",
       "      <th>0</th>\n",
       "      <td>7963</td>\n",
       "      <td>9</td>\n",
       "      <td>4</td>\n",
       "      <td>1</td>\n",
       "      <td>3</td>\n",
       "      <td>11</td>\n",
       "      <td>0</td>\n",
       "      <td>0</td>\n",
       "      <td>1</td>\n",
       "      <td>0</td>\n",
       "    </tr>\n",
       "    <tr>\n",
       "      <th>1</th>\n",
       "      <td>7963</td>\n",
       "      <td>9</td>\n",
       "      <td>4</td>\n",
       "      <td>1</td>\n",
       "      <td>3</td>\n",
       "      <td>11</td>\n",
       "      <td>0</td>\n",
       "      <td>0</td>\n",
       "      <td>1</td>\n",
       "      <td>0</td>\n",
       "    </tr>\n",
       "    <tr>\n",
       "      <th>2</th>\n",
       "      <td>12609</td>\n",
       "      <td>6</td>\n",
       "      <td>1</td>\n",
       "      <td>1</td>\n",
       "      <td>35</td>\n",
       "      <td>43</td>\n",
       "      <td>0</td>\n",
       "      <td>1</td>\n",
       "      <td>0</td>\n",
       "      <td>0</td>\n",
       "    </tr>\n",
       "    <tr>\n",
       "      <th>3</th>\n",
       "      <td>13397</td>\n",
       "      <td>5</td>\n",
       "      <td>1</td>\n",
       "      <td>1</td>\n",
       "      <td>14</td>\n",
       "      <td>22</td>\n",
       "      <td>0</td>\n",
       "      <td>0</td>\n",
       "      <td>0</td>\n",
       "      <td>1</td>\n",
       "    </tr>\n",
       "    <tr>\n",
       "      <th>4</th>\n",
       "      <td>6063</td>\n",
       "      <td>9</td>\n",
       "      <td>1</td>\n",
       "      <td>1</td>\n",
       "      <td>35</td>\n",
       "      <td>26</td>\n",
       "      <td>0</td>\n",
       "      <td>1</td>\n",
       "      <td>0</td>\n",
       "      <td>0</td>\n",
       "    </tr>\n",
       "  </tbody>\n",
       "</table>\n",
       "</div>"
      ],
      "text/plain": [
       "   Task_ID  Project_ID  Priority  Total_developers  Hours_estimate  \\\n",
       "0     7963           9         4                 1               3   \n",
       "1     7963           9         4                 1               3   \n",
       "2    12609           6         1                 1              35   \n",
       "3    13397           5         1                 1              14   \n",
       "4     6063           9         1                 1              35   \n",
       "\n",
       "   Hours_logged  Category_Bug  Category_Enhancement  Category_Release  \\\n",
       "0            11             0                     0                 1   \n",
       "1            11             0                     0                 1   \n",
       "2            43             0                     1                 0   \n",
       "3            22             0                     0                 0   \n",
       "4            26             0                     1                 0   \n",
       "\n",
       "   Category_Testing  \n",
       "0                 0  \n",
       "1                 0  \n",
       "2                 0  \n",
       "3                 1  \n",
       "4                 0  "
      ]
     },
     "execution_count": 5,
     "metadata": {},
     "output_type": "execute_result"
    }
   ],
   "source": [
    "clean_dataset.head()"
   ]
  },
  {
   "cell_type": "code",
   "execution_count": 6,
   "metadata": {},
   "outputs": [
    {
     "name": "stdout",
     "output_type": "stream",
     "text": [
      "<class 'pandas.core.frame.DataFrame'>\n",
      "RangeIndex: 4267 entries, 0 to 4266\n",
      "Data columns (total 10 columns):\n",
      " #   Column                Non-Null Count  Dtype\n",
      "---  ------                --------------  -----\n",
      " 0   Task_ID               4267 non-null   int32\n",
      " 1   Project_ID            4267 non-null   int32\n",
      " 2   Priority              4267 non-null   int32\n",
      " 3   Total_developers      4267 non-null   int32\n",
      " 4   Hours_estimate        4267 non-null   int32\n",
      " 5   Hours_logged          4267 non-null   int32\n",
      " 6   Category_Bug          4267 non-null   int32\n",
      " 7   Category_Enhancement  4267 non-null   int32\n",
      " 8   Category_Release      4267 non-null   int32\n",
      " 9   Category_Testing      4267 non-null   int32\n",
      "dtypes: int32(10)\n",
      "memory usage: 166.8 KB\n"
     ]
    }
   ],
   "source": [
    "clean_dataset.info()"
   ]
  },
  {
   "cell_type": "markdown",
   "metadata": {},
   "source": [
    "### Data sampling\n",
    "\n",
    "Split the data into train, test and validate samples to fit and evaluate the model\n",
    "\n",
    "The percentage of each one will be\n",
    "\n",
    "- 60% training\n",
    "- 20% testing\n",
    "- 20% validating"
   ]
  },
  {
   "cell_type": "code",
   "execution_count": 7,
   "metadata": {},
   "outputs": [
    {
     "name": "stdout",
     "output_type": "stream",
     "text": [
      "Samples shape\n",
      "    Train: (3413, 10)\n",
      "    Test: (854, 10)\n"
     ]
    }
   ],
   "source": [
    "train_dataset, test_dataset = train_test_split(clean_dataset, test_size=0.20)\n",
    "\n",
    "# validation_dataset, test_dataset = train_test_split(temp_test_dataset, test_size=0.50)\n",
    "\n",
    "print(\"Samples shape\")\n",
    "print(f\"    Train: {train_dataset.shape}\")\n",
    "print(f\"    Test: {test_dataset.shape}\")\n",
    "# print(f\"    Validation: {validation_dataset.shape}\")"
   ]
  },
  {
   "cell_type": "markdown",
   "metadata": {},
   "source": [
    "### Data analysis\n",
    "\n",
    "Calculate the correlation and other statistics on the train dataset"
   ]
  },
  {
   "cell_type": "code",
   "execution_count": 8,
   "metadata": {},
   "outputs": [
    {
     "data": {
      "image/png": "[encoded data removed]",
      "text/plain": [
       "<Figure size 1200x400 with 2 Axes>"
      ]
     },
     "metadata": {},
     "output_type": "display_data"
    }
   ],
   "source": [
    "# correlation between the features and the target\n",
    "\n",
    "correlation_matrix = clean_dataset.corr()\n",
    "correlation_matrix['Hours_logged'].sort_values(ascending=False)\n",
    "\n",
    "# plot the correlation matrix\n",
    "plt.figure(figsize=(12, 4))\n",
    "sns.heatmap(correlation_matrix, annot=True, cmap='coolwarm')\n",
    "plt.title('Correlation Matrix')\n",
    "plt.show()"
   ]
  },
  {
   "cell_type": "code",
   "execution_count": 9,
   "metadata": {},
   "outputs": [
    {
     "data": {
      "text/html": [
       "<div>\n",
       "<style scoped>\n",
       "    .dataframe tbody tr th:only-of-type {\n",
       "        vertical-align: middle;\n",
       "    }\n",
       "\n",
       "    .dataframe tbody tr th {\n",
       "        vertical-align: top;\n",
       "    }\n",
       "\n",
       "    .dataframe thead th {\n",
       "        text-align: right;\n",
       "    }\n",
       "</style>\n",
       "<table border=\"1\" class=\"dataframe\">\n",
       "  <thead>\n",
       "    <tr style=\"text-align: right;\">\n",
       "      <th></th>\n",
       "      <th>count</th>\n",
       "      <th>mean</th>\n",
       "      <th>std</th>\n",
       "      <th>min</th>\n",
       "      <th>25%</th>\n",
       "      <th>50%</th>\n",
       "      <th>75%</th>\n",
       "      <th>max</th>\n",
       "    </tr>\n",
       "  </thead>\n",
       "  <tbody>\n",
       "    <tr>\n",
       "      <th>Task_ID</th>\n",
       "      <td>3413.0</td>\n",
       "      <td>7205.862291</td>\n",
       "      <td>2878.501693</td>\n",
       "      <td>2134.0</td>\n",
       "      <td>4880.0</td>\n",
       "      <td>7001.0</td>\n",
       "      <td>9006.0</td>\n",
       "      <td>14355.0</td>\n",
       "    </tr>\n",
       "    <tr>\n",
       "      <th>Project_ID</th>\n",
       "      <td>3413.0</td>\n",
       "      <td>5.080574</td>\n",
       "      <td>4.287063</td>\n",
       "      <td>2.0</td>\n",
       "      <td>2.0</td>\n",
       "      <td>2.0</td>\n",
       "      <td>9.0</td>\n",
       "      <td>18.0</td>\n",
       "    </tr>\n",
       "    <tr>\n",
       "      <th>Priority</th>\n",
       "      <td>3413.0</td>\n",
       "      <td>2.258131</td>\n",
       "      <td>1.778271</td>\n",
       "      <td>1.0</td>\n",
       "      <td>1.0</td>\n",
       "      <td>1.0</td>\n",
       "      <td>3.0</td>\n",
       "      <td>10.0</td>\n",
       "    </tr>\n",
       "    <tr>\n",
       "      <th>Total_developers</th>\n",
       "      <td>3413.0</td>\n",
       "      <td>1.000000</td>\n",
       "      <td>0.000000</td>\n",
       "      <td>1.0</td>\n",
       "      <td>1.0</td>\n",
       "      <td>1.0</td>\n",
       "      <td>1.0</td>\n",
       "      <td>1.0</td>\n",
       "    </tr>\n",
       "    <tr>\n",
       "      <th>Hours_estimate</th>\n",
       "      <td>3413.0</td>\n",
       "      <td>4.702901</td>\n",
       "      <td>9.529874</td>\n",
       "      <td>0.0</td>\n",
       "      <td>1.0</td>\n",
       "      <td>2.0</td>\n",
       "      <td>7.0</td>\n",
       "      <td>260.0</td>\n",
       "    </tr>\n",
       "    <tr>\n",
       "      <th>Category_Bug</th>\n",
       "      <td>3413.0</td>\n",
       "      <td>0.436273</td>\n",
       "      <td>0.495995</td>\n",
       "      <td>0.0</td>\n",
       "      <td>0.0</td>\n",
       "      <td>0.0</td>\n",
       "      <td>1.0</td>\n",
       "      <td>1.0</td>\n",
       "    </tr>\n",
       "    <tr>\n",
       "      <th>Category_Enhancement</th>\n",
       "      <td>3413.0</td>\n",
       "      <td>0.426311</td>\n",
       "      <td>0.494613</td>\n",
       "      <td>0.0</td>\n",
       "      <td>0.0</td>\n",
       "      <td>0.0</td>\n",
       "      <td>1.0</td>\n",
       "      <td>1.0</td>\n",
       "    </tr>\n",
       "    <tr>\n",
       "      <th>Category_Release</th>\n",
       "      <td>3413.0</td>\n",
       "      <td>0.101670</td>\n",
       "      <td>0.302258</td>\n",
       "      <td>0.0</td>\n",
       "      <td>0.0</td>\n",
       "      <td>0.0</td>\n",
       "      <td>0.0</td>\n",
       "      <td>1.0</td>\n",
       "    </tr>\n",
       "    <tr>\n",
       "      <th>Category_Testing</th>\n",
       "      <td>3413.0</td>\n",
       "      <td>0.035746</td>\n",
       "      <td>0.185683</td>\n",
       "      <td>0.0</td>\n",
       "      <td>0.0</td>\n",
       "      <td>0.0</td>\n",
       "      <td>0.0</td>\n",
       "      <td>1.0</td>\n",
       "    </tr>\n",
       "  </tbody>\n",
       "</table>\n",
       "</div>"
      ],
      "text/plain": [
       "                       count         mean          std     min     25%  \\\n",
       "Task_ID               3413.0  7205.862291  2878.501693  2134.0  4880.0   \n",
       "Project_ID            3413.0     5.080574     4.287063     2.0     2.0   \n",
       "Priority              3413.0     2.258131     1.778271     1.0     1.0   \n",
       "Total_developers      3413.0     1.000000     0.000000     1.0     1.0   \n",
       "Hours_estimate        3413.0     4.702901     9.529874     0.0     1.0   \n",
       "Category_Bug          3413.0     0.436273     0.495995     0.0     0.0   \n",
       "Category_Enhancement  3413.0     0.426311     0.494613     0.0     0.0   \n",
       "Category_Release      3413.0     0.101670     0.302258     0.0     0.0   \n",
       "Category_Testing      3413.0     0.035746     0.185683     0.0     0.0   \n",
       "\n",
       "                         50%     75%      max  \n",
       "Task_ID               7001.0  9006.0  14355.0  \n",
       "Project_ID               2.0     9.0     18.0  \n",
       "Priority                 1.0     3.0     10.0  \n",
       "Total_developers         1.0     1.0      1.0  \n",
       "Hours_estimate           2.0     7.0    260.0  \n",
       "Category_Bug             0.0     1.0      1.0  \n",
       "Category_Enhancement     0.0     1.0      1.0  \n",
       "Category_Release         0.0     0.0      1.0  \n",
       "Category_Testing         0.0     0.0      1.0  "
      ]
     },
     "execution_count": 9,
     "metadata": {},
     "output_type": "execute_result"
    }
   ],
   "source": [
    "# another interesting statistics like the count, mean, std, min, quartiles and max, all per feature\n",
    "train_stats = train_dataset.describe()\n",
    "train_stats.pop(\"Hours_logged\")\n",
    "train_stats = train_stats.transpose()\n",
    "train_stats"
   ]
  },
  {
   "cell_type": "markdown",
   "metadata": {},
   "source": [
    "### Feature prediction\n",
    "\n",
    "The label \"Hours Logged\" is the actual goal for our model, we will remove it from every sample and keep it apart"
   ]
  },
  {
   "cell_type": "code",
   "execution_count": 10,
   "metadata": {},
   "outputs": [],
   "source": [
    "train_label = train_dataset.pop('Hours_logged')\n",
    "test_label = test_dataset.pop('Hours_logged')"
   ]
  },
  {
   "cell_type": "markdown",
   "metadata": {},
   "source": [
    "### Data normalization/Scaling\n",
    "\n",
    "Subtract the mean of the training data and divide by the standard deviation of the training data."
   ]
  },
  {
   "cell_type": "code",
   "execution_count": 12,
   "metadata": {},
   "outputs": [],
   "source": [
    "def norm(x):\n",
    "    return (x - train_stats['mean']) / train_stats['std']\n",
    "\n",
    "normed_train_data = norm(train_dataset)\n",
    "normed_test_data = norm(test_dataset)\n",
    "\n",
    "# is some of the data is NaN, fill it with 1\n",
    "if normed_train_data['Total_developers'].isna().any():\n",
    "    normed_train_data['Total_developers'] = normed_train_data['Total_developers'].fillna(1)\n",
    "    normed_test_data['Total_developers'] = normed_test_data['Total_developers'].fillna(1)"
   ]
  },
  {
   "cell_type": "code",
   "execution_count": 13,
   "metadata": {},
   "outputs": [
    {
     "data": {
      "text/html": [
       "<div>\n",
       "<style scoped>\n",
       "    .dataframe tbody tr th:only-of-type {\n",
       "        vertical-align: middle;\n",
       "    }\n",
       "\n",
       "    .dataframe tbody tr th {\n",
       "        vertical-align: top;\n",
       "    }\n",
       "\n",
       "    .dataframe thead th {\n",
       "        text-align: right;\n",
       "    }\n",
       "</style>\n",
       "<table border=\"1\" class=\"dataframe\">\n",
       "  <thead>\n",
       "    <tr style=\"text-align: right;\">\n",
       "      <th></th>\n",
       "      <th>Task_ID</th>\n",
       "      <th>Project_ID</th>\n",
       "      <th>Priority</th>\n",
       "      <th>Total_developers</th>\n",
       "      <th>Hours_estimate</th>\n",
       "      <th>Category_Bug</th>\n",
       "      <th>Category_Enhancement</th>\n",
       "      <th>Category_Release</th>\n",
       "      <th>Category_Testing</th>\n",
       "    </tr>\n",
       "  </thead>\n",
       "  <tbody>\n",
       "    <tr>\n",
       "      <th>1316</th>\n",
       "      <td>-1.013327</td>\n",
       "      <td>-0.718575</td>\n",
       "      <td>1.541874</td>\n",
       "      <td>1.0</td>\n",
       "      <td>-0.178691</td>\n",
       "      <td>1.136558</td>\n",
       "      <td>-0.861909</td>\n",
       "      <td>-0.336368</td>\n",
       "      <td>-0.19251</td>\n",
       "    </tr>\n",
       "    <tr>\n",
       "      <th>2096</th>\n",
       "      <td>-0.540164</td>\n",
       "      <td>-0.718575</td>\n",
       "      <td>1.541874</td>\n",
       "      <td>1.0</td>\n",
       "      <td>-0.178691</td>\n",
       "      <td>1.136558</td>\n",
       "      <td>-0.861909</td>\n",
       "      <td>-0.336368</td>\n",
       "      <td>-0.19251</td>\n",
       "    </tr>\n",
       "    <tr>\n",
       "      <th>2445</th>\n",
       "      <td>0.485717</td>\n",
       "      <td>-0.718575</td>\n",
       "      <td>-0.707502</td>\n",
       "      <td>1.0</td>\n",
       "      <td>-0.388557</td>\n",
       "      <td>1.136558</td>\n",
       "      <td>-0.861909</td>\n",
       "      <td>-0.336368</td>\n",
       "      <td>-0.19251</td>\n",
       "    </tr>\n",
       "    <tr>\n",
       "      <th>108</th>\n",
       "      <td>-0.417531</td>\n",
       "      <td>0.914245</td>\n",
       "      <td>-0.707502</td>\n",
       "      <td>1.0</td>\n",
       "      <td>0.975574</td>\n",
       "      <td>-0.879592</td>\n",
       "      <td>1.159875</td>\n",
       "      <td>-0.336368</td>\n",
       "      <td>-0.19251</td>\n",
       "    </tr>\n",
       "    <tr>\n",
       "      <th>790</th>\n",
       "      <td>0.926572</td>\n",
       "      <td>-0.252055</td>\n",
       "      <td>-0.707502</td>\n",
       "      <td>1.0</td>\n",
       "      <td>0.765708</td>\n",
       "      <td>-0.879592</td>\n",
       "      <td>-0.861909</td>\n",
       "      <td>2.972061</td>\n",
       "      <td>-0.19251</td>\n",
       "    </tr>\n",
       "  </tbody>\n",
       "</table>\n",
       "</div>"
      ],
      "text/plain": [
       "       Task_ID  Project_ID  Priority  Total_developers  Hours_estimate  \\\n",
       "1316 -1.013327   -0.718575  1.541874               1.0       -0.178691   \n",
       "2096 -0.540164   -0.718575  1.541874               1.0       -0.178691   \n",
       "2445  0.485717   -0.718575 -0.707502               1.0       -0.388557   \n",
       "108  -0.417531    0.914245 -0.707502               1.0        0.975574   \n",
       "790   0.926572   -0.252055 -0.707502               1.0        0.765708   \n",
       "\n",
       "      Category_Bug  Category_Enhancement  Category_Release  Category_Testing  \n",
       "1316      1.136558             -0.861909         -0.336368          -0.19251  \n",
       "2096      1.136558             -0.861909         -0.336368          -0.19251  \n",
       "2445      1.136558             -0.861909         -0.336368          -0.19251  \n",
       "108      -0.879592              1.159875         -0.336368          -0.19251  \n",
       "790      -0.879592             -0.861909          2.972061          -0.19251  "
      ]
     },
     "execution_count": 13,
     "metadata": {},
     "output_type": "execute_result"
    }
   ],
   "source": [
    "# show a part of the normalized data\n",
    "normed_train_data.head()"
   ]
  },
  {
   "cell_type": "markdown",
   "metadata": {},
   "source": [
    "## Building the Neural Network Model"
   ]
  },
  {
   "cell_type": "markdown",
   "metadata": {},
   "source": [
    "### Firts Model\n",
    "Two hidden layers with 50 neurons each\n",
    "\n",
    "Learning rate at 0.001"
   ]
  },
  {
   "cell_type": "code",
   "execution_count": 47,
   "metadata": {},
   "outputs": [],
   "source": [
    "def build_first_model_two_hidden_layers():\n",
    "    model = Sequential(name = \"FirstModelTwoHiddenLayers\")\n",
    "\n",
    "    # Input layer\n",
    "    model.add(Dense(10, input_shape = (normed_train_data.shape[1],)))\n",
    "\n",
    "    # Hidden layer \n",
    "    model.add(Dense(50, Activation('relu'), name='hidden_layer_1'))\n",
    "    model.add(Dense(50, Activation('relu'), name='hidden_layer_2'))\n",
    "\n",
    "    # Output layer \n",
    "    model.add(Dense(1))\n",
    "\n",
    "    learnig_rate = 0.001\n",
    "    optimizer = optimizers.RMSprop(learning_rate=learnig_rate)\n",
    "    model.compile(loss='mse', optimizer=optimizer, metrics=['accuracy', 'mae', 'mse'])\n",
    "\n",
    "    return model"
   ]
  },
  {
   "cell_type": "markdown",
   "metadata": {},
   "source": [
    "### Second Model\n",
    "\n",
    "Three hidden layers with 32, 64 and 128 neurons, respectively\n",
    "\n",
    "Learning rate at 0.01"
   ]
  },
  {
   "cell_type": "code",
   "execution_count": 43,
   "metadata": {},
   "outputs": [],
   "source": [
    "def build_second_model_three_hidden_layers():\n",
    "    model = Sequential(name = \"SecondModelThreeHiddenLayers\")\n",
    "\n",
    "    # Input layer\n",
    "    model.add(Dense(10, input_shape = (normed_train_data.shape[1],)))\n",
    "\n",
    "    # Hidden layer \n",
    "    model.add(Dense(32, Activation('relu'), name='hidden_layer_1'))\n",
    "    model.add(Dense(64, Activation('relu'), name='hidden_layer_2'))\n",
    "    model.add(Dense(128, Activation('relu'), name='hidden_layer_3'))\n",
    "\n",
    "    # Output layer \n",
    "    model.add(Dense(1))\n",
    "\n",
    "    learnig_rate = 0.01\n",
    "    optimizer = optimizers.RMSprop(learning_rate=learnig_rate)\n",
    "    model.compile(loss='mse', optimizer=optimizer, metrics=['accuracy', 'mae', 'mse'])\n",
    "\n",
    "    return model"
   ]
  },
  {
   "cell_type": "markdown",
   "metadata": {},
   "source": [
    "### Third Model\n",
    "\n",
    "Five hidden layers, all with 64 neurons\n",
    "\n",
    "Learning rate at 0.001"
   ]
  },
  {
   "cell_type": "code",
   "execution_count": 44,
   "metadata": {},
   "outputs": [],
   "source": [
    "def build_third_model_five_hidden_layers():\n",
    "    model = Sequential(name = \"ThirdModelFiveHiddenLayers\")\n",
    "\n",
    "    # Input layer\n",
    "    model.add(Dense(10, input_shape = (normed_train_data.shape[1],)))\n",
    "\n",
    "    # Hidden layer \n",
    "    model.add(Dense(64, Activation('relu'), name='hidden_layer_1'))\n",
    "    model.add(Dense(64, Activation('relu'), name='hidden_layer_2'))\n",
    "    model.add(Dense(64, Activation('relu'), name='hidden_layer_3'))\n",
    "    model.add(Dense(64, Activation('relu'), name='hidden_layer_4'))\n",
    "    model.add(Dense(64, Activation('relu'), name='hidden_layer_5'))\n",
    "\n",
    "    # Output layer \n",
    "    model.add(Dense(1))\n",
    "\n",
    "    learnig_rate = 0.01\n",
    "    optimizer = optimizers.RMSprop(learning_rate=learnig_rate)\n",
    "    model.compile(\n",
    "        loss='mse',\n",
    "        optimizer=optimizer,\n",
    "        metrics=['accuracy', 'mae', 'mse']\n",
    "    )\n",
    "\n",
    "    return model"
   ]
  },
  {
   "cell_type": "markdown",
   "metadata": {},
   "source": [
    "### Fourth Model\n",
    "\n",
    "Recurrent Neural Network"
   ]
  },
  {
   "cell_type": "code",
   "execution_count": 45,
   "metadata": {},
   "outputs": [],
   "source": [
    "def build_fourth_model_LSTM_hidden_layers():\n",
    "    model = Sequential(name = \"FourthModelLSTMHiddenLayers\")\n",
    "\n",
    "    model.add(Reshape(\n",
    "        (normed_train_data.shape[1], 1),\n",
    "        input_shape=(normed_train_data.shape[1],)\n",
    "    ))\n",
    "\n",
    "    model.add(SimpleRNN(128, return_sequences=True))\n",
    "    model.add(Dropout(0.2))\n",
    "    model.add(Dense(32, activation='relu'))\n",
    "    model.add(Dropout(0.2))\n",
    "  \n",
    "    model.add(Dense(1, Activation('linear')))\n",
    "\n",
    "    learnig_rate = 0.0001\n",
    "    optimizer = optimizers.Adam(learning_rate=learnig_rate)\n",
    "    model.compile(loss='mse', optimizer=optimizer, metrics=['accuracy', 'mae', 'mse'])\n",
    "\n",
    "    return model    "
   ]
  },
  {
   "cell_type": "markdown",
   "metadata": {},
   "source": [
    "### Fith Model\n",
    "\n",
    "Support Vector Machine"
   ]
  },
  {
   "cell_type": "code",
   "execution_count": 15,
   "metadata": {},
   "outputs": [],
   "source": [
    "def build_model_svc():\n",
    "    parameters = {'kernel':('linear', 'rbf')}\n",
    "    svr = SVR()\n",
    "    return GridSearchCV(svr, parameters)"
   ]
  },
  {
   "cell_type": "markdown",
   "metadata": {},
   "source": [
    "### Choose the model"
   ]
  },
  {
   "cell_type": "code",
   "execution_count": 16,
   "metadata": {},
   "outputs": [],
   "source": [
    "def choose_model(model_type, model_number):\n",
    "    if (model_type == 'Neuronal Network'):\n",
    "        if (model_number == 1):\n",
    "            return build_first_model_two_hidden_layers()\n",
    "        elif (model_number == 2):\n",
    "            return build_second_model_three_hidden_layers()\n",
    "        elif (model_number == 3):\n",
    "            return build_third_model_five_hidden_layers()\n",
    "        elif (model_number == 4):\n",
    "            return build_fourth_model_LSTM_hidden_layers()\n",
    "    else:\n",
    "        return build_model_svc()\n"
   ]
  },
  {
   "cell_type": "markdown",
   "metadata": {},
   "source": [
    "Save checkpoints during training"
   ]
  },
  {
   "cell_type": "code",
   "execution_count": 48,
   "metadata": {},
   "outputs": [],
   "source": [
    "# checkpoint_path = r\".\\checkpoint_logs\\connectium\\data.ckpt\"\n",
    "checkpoint_path = r\".\\checkpoint_logs\\sip\\data.ckpt\"\n",
    "\n",
    "# Create a callback that saves the model's weights\n",
    "ckpt_callback = tf.keras.callbacks.ModelCheckpoint(filepath=checkpoint_path,\n",
    "                                                 monitor='val_loss', # or val_accuracy if you have it.\n",
    "                                                 save_best_only=True, # Default false. If you don't change the file name then the output will be overritten at each step and only the last model will be saved.\n",
    "                                                 save_weights_only=True, # True => model.save_weights (weights and no structure, you need JSON file for structure), False => model.save (saves weights & structure)\n",
    "                                                 verbose=0,\n",
    ")"
   ]
  },
  {
   "cell_type": "markdown",
   "metadata": {},
   "source": [
    "## Model training"
   ]
  },
  {
   "cell_type": "code",
   "execution_count": 49,
   "metadata": {},
   "outputs": [],
   "source": [
    "def training_neural_network_model(model, n_folds):\n",
    "    kFold = KFold(n_splits=n_folds)\n",
    "\n",
    "    histories = []\n",
    "\n",
    "    print(\"Summary of the model\")\n",
    "    model.summary()\n",
    "\n",
    "    i = 0\n",
    "\n",
    "    for train_index, val_index in kFold.split(normed_train_data):\n",
    "        train_data_i, val_data_i = normed_train_data.iloc[train_index], normed_train_data.iloc[val_index]\n",
    "        train_label_i, val_label_i = train_label.iloc[train_index], train_label.iloc[val_index]\n",
    "\n",
    "\n",
    "        # for first model - is winning\n",
    "        epochs = 64\n",
    "        batch_size = 10\n",
    "\n",
    "        print(\"\\nTraining the model - K Validation: \", i, \"\\n\")\n",
    "\n",
    "        history = model.fit(\n",
    "            train_data_i,\n",
    "            train_label_i,\n",
    "            batch_size=batch_size,  \n",
    "            epochs=epochs, \n",
    "            verbose=0,\n",
    "            shuffle=True,\n",
    "            steps_per_epoch = int(train_data_i.shape[0] / batch_size),\n",
    "            validation_data=(val_data_i, val_label_i),\n",
    "            callbacks=[\n",
    "                tfdocs.modeling.EpochDots(),\n",
    "                ckpt_callback,\n",
    "            ]\n",
    "        )\n",
    "\n",
    "        histories.append(history)\n",
    "        i = i + 1\n",
    "    \n",
    "    return histories\n",
    "    "
   ]
  },
  {
   "cell_type": "code",
   "execution_count": 19,
   "metadata": {},
   "outputs": [],
   "source": [
    "def training_support_vector_machine_model(model):\n",
    "    model.fit(normed_train_data, train_label)\n",
    "    \n",
    "    history = pd.DataFrame({\n",
    "        'Accuracy': [model.score(normed_test_data, test_label)],\n",
    "        'Best params hash': [model.best_params_],\n",
    "        'Best score': [model.best_score_],\n",
    "        'Best estimator': [model.best_estimator_],\n",
    "    })\n",
    "\n",
    "    print(history)\n",
    "    return history"
   ]
  },
  {
   "cell_type": "code",
   "execution_count": 51,
   "metadata": {},
   "outputs": [
    {
     "name": "stdout",
     "output_type": "stream",
     "text": [
      "WARNING:tensorflow:From C:\\Users\\franc\\AppData\\Local\\Packages\\PythonSoftwareFoundation.Python.3.10_qbz5n2kfra8p0\\LocalCache\\local-packages\\Python310\\site-packages\\keras\\src\\backend.py:873: The name tf.get_default_graph is deprecated. Please use tf.compat.v1.get_default_graph instead.\n",
      "\n",
      "Summary of the model\n",
      "Model: \"FirstModelTwoHiddenLayers\"\n",
      "_________________________________________________________________\n",
      " Layer (type)                Output Shape              Param #   \n",
      "=================================================================\n",
      " dense (Dense)               (None, 10)                100       \n",
      "                                                                 \n",
      " hidden_layer_1 (Dense)      (None, 50)                550       \n",
      "                                                                 \n",
      " hidden_layer_2 (Dense)      (None, 50)                2550      \n",
      "                                                                 \n",
      " dense_1 (Dense)             (None, 1)                 51        \n",
      "                                                                 \n",
      "=================================================================\n",
      "Total params: 3251 (12.70 KB)\n",
      "Trainable params: 3251 (12.70 KB)\n",
      "Non-trainable params: 0 (0.00 Byte)\n",
      "_________________________________________________________________\n",
      "\n",
      "Training the model - K Validation:  0 \n",
      "\n",
      "WARNING:tensorflow:From C:\\Users\\franc\\AppData\\Local\\Packages\\PythonSoftwareFoundation.Python.3.10_qbz5n2kfra8p0\\LocalCache\\local-packages\\Python310\\site-packages\\keras\\src\\utils\\tf_utils.py:492: The name tf.ragged.RaggedTensorValue is deprecated. Please use tf.compat.v1.ragged.RaggedTensorValue instead.\n",
      "\n",
      "WARNING:tensorflow:From C:\\Users\\franc\\AppData\\Local\\Packages\\PythonSoftwareFoundation.Python.3.10_qbz5n2kfra8p0\\LocalCache\\local-packages\\Python310\\site-packages\\keras\\src\\engine\\base_layer_utils.py:384: The name tf.executing_eagerly_outside_functions is deprecated. Please use tf.compat.v1.executing_eagerly_outside_functions instead.\n",
      "\n",
      "\n",
      "Epoch: 0, accuracy:0.2082,  loss:38.1265,  mae:3.1797,  mse:38.1265,  val_accuracy:0.2564,  val_loss:8.8997,  val_mae:2.0139,  val_mse:8.8997,  \n",
      "................................................................\n",
      "Training the model - K Validation:  1 \n",
      "\n",
      "\n",
      "Epoch: 0, accuracy:0.2984,  loss:5.8856,  mae:1.6124,  mse:5.8856,  val_accuracy:0.3036,  val_loss:6.7009,  val_mae:1.7113,  val_mse:6.7009,  \n",
      "................................................................\n",
      "Training the model - K Validation:  2 \n",
      "\n",
      "\n",
      "Epoch: 0, accuracy:0.2949,  loss:6.2519,  mae:1.6378,  mse:6.2519,  val_accuracy:0.3224,  val_loss:5.3694,  val_mae:1.5568,  val_mse:5.3694,  \n",
      "................................................................\n",
      "Training the model - K Validation:  3 \n",
      "\n",
      "\n",
      "Epoch: 0, accuracy:0.3023,  loss:5.6700,  mae:1.5796,  mse:5.6700,  val_accuracy:0.3048,  val_loss:5.0964,  val_mae:1.5023,  val_mse:5.0964,  \n",
      "................................................................CPU times: total: 1min\n",
      "Wall time: 2min 15s\n"
     ]
    }
   ],
   "source": [
    "%%time\n",
    "\n",
    "model = choose_model('Neuronal Network', 1)\n",
    "# model = choose_model('Support Vector Machine', 0)\n",
    "\n",
    "histories = training_neural_network_model(model, 4)\n",
    "# history = training_support_vector_machine_model(model)"
   ]
  },
  {
   "cell_type": "markdown",
   "metadata": {},
   "source": [
    "### Predicted and real values\n",
    "\n",
    "Here we will see the first 10 rows of the predicted data, comparing it with the real one"
   ]
  },
  {
   "cell_type": "markdown",
   "metadata": {},
   "source": [
    "## Evaluating the model\n",
    "\n",
    "The metrics we choose to evaluate the model were **Mean Abs. Error** and **Mean squarred Error**"
   ]
  },
  {
   "cell_type": "markdown",
   "metadata": {},
   "source": [
    "### Showing the resulting metrics from the training"
   ]
  },
  {
   "cell_type": "code",
   "execution_count": 73,
   "metadata": {},
   "outputs": [],
   "source": [
    "def evaluating_neural_network_model(histories):\n",
    "    i = 0\n",
    "    history_datasets = []\n",
    "    for history in histories:\n",
    "        history_dataset = pd.DataFrame(history.history)\n",
    "        history_dataset['epoch'] = history.epoch\n",
    "        history_dataset['fold'] = i\n",
    "        i = i+1\n",
    "        history_datasets.append(history_dataset)\n",
    "\n",
    "        \n",
    "    history_dataset = pd.concat(history_datasets)\n",
    "\n",
    "    print(\"Resume of the training history model\")\n",
    "    display(HTML(history_dataset.head().to_html()))\n",
    "\n",
    "    history_datasets_csv = history_dataset\n",
    "    history_datasets_csv.to_csv(r\"./outputs/neural_network/history_sip.csv\", index=False)  \n",
    "\n",
    "    fold_histories = {\n",
    "        f'Fold {i}': history for i, history in enumerate(histories)\n",
    "    }\n",
    "\n",
    "    print(\"Plotting the training history model per epoch\")\n",
    "\n",
    "    plotter = tfdocs.plots.HistoryPlotter(smoothing_std=2)\n",
    "    plotter.plot(fold_histories, metric=\"mse\")\n",
    "    plt.ylabel('MSE [Metric]')\n",
    "    plt.show()\n"
   ]
  },
  {
   "cell_type": "code",
   "execution_count": 39,
   "metadata": {},
   "outputs": [],
   "source": [
    "def evaluating_svc_model(history, test_predictions):\n",
    "    history['MSE'] = [mean_squared_error(test_label, test_predictions)],\n",
    "    \n",
    "    print(history)\n",
    "\n",
    "    history.to_csv(r\"./outputs/svr/history_sip.csv\", index=False)   \n",
    "\n",
    "    # saving the results\n",
    "    pd.DataFrame({\n",
    "        'Logged': test_label,\n",
    "        'Predicted': test_predictions\n",
    "    }).to_csv(r\"./outputs/svr/history_sip.csv\", index=False)"
   ]
  },
  {
   "cell_type": "code",
   "execution_count": 74,
   "metadata": {},
   "outputs": [
    {
     "name": "stdout",
     "output_type": "stream",
     "text": [
      "Resume of the training history model\n"
     ]
    },
    {
     "data": {
      "text/html": [
       "<table border=\"1\" class=\"dataframe\">\n",
       "  <thead>\n",
       "    <tr style=\"text-align: right;\">\n",
       "      <th></th>\n",
       "      <th>loss</th>\n",
       "      <th>accuracy</th>\n",
       "      <th>mae</th>\n",
       "      <th>mse</th>\n",
       "      <th>val_loss</th>\n",
       "      <th>val_accuracy</th>\n",
       "      <th>val_mae</th>\n",
       "      <th>val_mse</th>\n",
       "      <th>epoch</th>\n",
       "      <th>fold</th>\n",
       "    </tr>\n",
       "  </thead>\n",
       "  <tbody>\n",
       "    <tr>\n",
       "      <th>0</th>\n",
       "      <td>38.126549</td>\n",
       "      <td>0.208235</td>\n",
       "      <td>3.179735</td>\n",
       "      <td>38.126549</td>\n",
       "      <td>8.899705</td>\n",
       "      <td>0.256440</td>\n",
       "      <td>2.013897</td>\n",
       "      <td>8.899706</td>\n",
       "      <td>0</td>\n",
       "      <td>0</td>\n",
       "    </tr>\n",
       "    <tr>\n",
       "      <th>1</th>\n",
       "      <td>8.144868</td>\n",
       "      <td>0.258140</td>\n",
       "      <td>1.892097</td>\n",
       "      <td>8.144868</td>\n",
       "      <td>6.179929</td>\n",
       "      <td>0.274005</td>\n",
       "      <td>1.706320</td>\n",
       "      <td>6.179929</td>\n",
       "      <td>1</td>\n",
       "      <td>0</td>\n",
       "    </tr>\n",
       "    <tr>\n",
       "      <th>2</th>\n",
       "      <td>7.144482</td>\n",
       "      <td>0.265987</td>\n",
       "      <td>1.777994</td>\n",
       "      <td>7.144482</td>\n",
       "      <td>6.945799</td>\n",
       "      <td>0.251756</td>\n",
       "      <td>1.833751</td>\n",
       "      <td>6.945799</td>\n",
       "      <td>2</td>\n",
       "      <td>0</td>\n",
       "    </tr>\n",
       "    <tr>\n",
       "      <th>3</th>\n",
       "      <td>7.176236</td>\n",
       "      <td>0.278541</td>\n",
       "      <td>1.772668</td>\n",
       "      <td>7.176236</td>\n",
       "      <td>6.156051</td>\n",
       "      <td>0.284543</td>\n",
       "      <td>1.684500</td>\n",
       "      <td>6.156049</td>\n",
       "      <td>3</td>\n",
       "      <td>0</td>\n",
       "    </tr>\n",
       "    <tr>\n",
       "      <th>4</th>\n",
       "      <td>6.966365</td>\n",
       "      <td>0.269910</td>\n",
       "      <td>1.753719</td>\n",
       "      <td>6.966365</td>\n",
       "      <td>6.221526</td>\n",
       "      <td>0.296253</td>\n",
       "      <td>1.666773</td>\n",
       "      <td>6.221525</td>\n",
       "      <td>4</td>\n",
       "      <td>0</td>\n",
       "    </tr>\n",
       "  </tbody>\n",
       "</table>"
      ],
      "text/plain": [
       "<IPython.core.display.HTML object>"
      ]
     },
     "metadata": {},
     "output_type": "display_data"
    },
    {
     "name": "stdout",
     "output_type": "stream",
     "text": [
      "Plotting the training history model per epoch\n"
     ]
    },
    {
     "data": {
      "image/png": "[encoded data removed]",
      "text/plain": [
       "<Figure size 640x480 with 1 Axes>"
      ]
     },
     "metadata": {},
     "output_type": "display_data"
    }
   ],
   "source": [
    "evaluating_neural_network_model(histories)\n",
    "# evaluating_svc_model(history, test_predictions)"
   ]
  },
  {
   "cell_type": "markdown",
   "metadata": {},
   "source": [
    "## Predicting the data"
   ]
  },
  {
   "cell_type": "code",
   "execution_count": 77,
   "metadata": {},
   "outputs": [
    {
     "name": "stdout",
     "output_type": "stream",
     "text": [
      "1/1 [==============================] - 0s 27ms/step\n",
      "Example for the first 5 samples\n",
      "Predicted Hours Logged\n",
      "[[ 3.0527854]\n",
      " [ 2.930684 ]\n",
      " [ 1.8740517]\n",
      " [10.728476 ]\n",
      " [15.760679 ]]\n",
      "Real Hours Logged\n",
      "1316     4\n",
      "2096     2\n",
      "2445     2\n",
      "108      6\n",
      "790     15\n",
      "Name: Hours_logged, dtype: int32\n",
      "27/27 [==============================] - 0s 2ms/step\n"
     ]
    }
   ],
   "source": [
    "example_batch = normed_train_data[:5]\n",
    "example_result = model.predict(example_batch)\n",
    "\n",
    "print(\"Example for the first 5 samples\")\n",
    "print(\"Predicted Hours Logged\")\n",
    "print(example_result)\n",
    "    \n",
    "print(\"Real Hours Logged\")\n",
    "print(train_label[:5])\n",
    "\n",
    "test_predictions = model.predict(normed_test_data)"
   ]
  },
  {
   "cell_type": "code",
   "execution_count": 78,
   "metadata": {},
   "outputs": [
    {
     "name": "stdout",
     "output_type": "stream",
     "text": [
      "27/27 [==============================] - 0s 2ms/step\n"
     ]
    }
   ],
   "source": [
    "test_predictions = model.predict(normed_test_data).flatten()\n",
    "\n",
    "predictions_dataset = pd.DataFrame({\n",
    "    'Logged': test_label,\n",
    "    'Predicted': test_predictions\n",
    "})\n",
    "\n",
    "# test_predictions_to_csv = pd.DataFrame(test_predictions).to_csv(r\"./outputs/neural_network/test_predictions_sip.csv\", index=False)\n",
    "# test_label_to_csv = pd.DataFrame(test_label).to_csv(r\"./outputs/neural_network/test_label_sip.csv\", index=False)\n",
    "\n",
    "predictions_dataset_csv = predictions_dataset\n",
    "predictions_dataset_csv.to_csv(r\"./outputs/neural_network/predictions_sip.csv\", index=False)"
   ]
  },
  {
   "cell_type": "markdown",
   "metadata": {},
   "source": [
    "Predictions VS. True Values for Hours Logged"
   ]
  },
  {
   "cell_type": "code",
   "execution_count": 76,
   "metadata": {},
   "outputs": [
    {
     "data": {
      "image/png": "[encoded data removed]",
      "text/plain": [
       "<Figure size 640x480 with 1 Axes>"
      ]
     },
     "metadata": {},
     "output_type": "display_data"
    }
   ],
   "source": [
    "axes = plt.axes(aspect='equal')\n",
    "plt.scatter(test_label, test_predictions)\n",
    "plt.xlabel('True Values [Hours Logged]')\n",
    "plt.ylabel('Predictions [Hours Logged]')\n",
    "# calculate the limit\n",
    "max_value = max(test_label.max(), test_predictions[0].max())\n",
    "_ = plt.plot([0, max_value], [0, max_value])"
   ]
  }
 ],
 "metadata": {
  "kernelspec": {
   "display_name": "Python 3",
   "language": "python",
   "name": "python3"
  },
  "language_info": {
   "codemirror_mode": {
    "name": "ipython",
    "version": 3
   },
   "file_extension": ".py",
   "mimetype": "text/x-python",
   "name": "python",
   "nbconvert_exporter": "python",
   "pygments_lexer": "ipython3",
   "version": "3.10.11"
  }
 },
 "nbformat": 4,
 "nbformat_minor": 2
}
