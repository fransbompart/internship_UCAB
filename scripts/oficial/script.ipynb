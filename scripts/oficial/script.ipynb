{
 "cells": [
  {
   "cell_type": "code",
   "execution_count": 1,
   "metadata": {},
   "outputs": [],
   "source": [
    "import os\n",
    "# for the model\n",
    "import tensorflow as tf\n",
    "import tensorflow_docs as tfdocs\n",
    "import tensorflow_docs.plots\n",
    "import tensorflow_docs.modeling\n",
    "from tensorflow import keras\n",
    "from tensorflow.keras.models import Sequential\n",
    "from tensorflow.keras.layers import *\n",
    "from tensorflow.keras import optimizers\n",
    "from tensorflow.keras.callbacks import TensorBoard\n",
    "\n",
    "from sklearn.model_selection import train_test_split, KFold, GridSearchCV, cross_val_score\n",
    "from sklearn.svm import SVR\n",
    "from sklearn.metrics import mean_squared_error, mean_absolute_error\n",
    "\n",
    "# for data manipulation and graphing\n",
    "import pathlib\n",
    "import numpy as np\n",
    "import matplotlib.pyplot as plt\n",
    "import pandas as pd\n",
    "import seaborn as sns\n",
    "\n",
    "from IPython.display import display, HTML\n",
    "\n",
    "import netron\n",
    "\n",
    "tf.random.set_seed(42) # set seed for reproducibility\n",
    "tf.debugging.set_log_device_placement(False)"
   ]
  },
  {
   "cell_type": "markdown",
   "metadata": {},
   "source": [
    "## Data preprocessing"
   ]
  },
  {
   "cell_type": "code",
   "execution_count": 2,
   "metadata": {},
   "outputs": [
    {
     "data": {
      "text/html": [
       "<div>\n",
       "<style scoped>\n",
       "    .dataframe tbody tr th:only-of-type {\n",
       "        vertical-align: middle;\n",
       "    }\n",
       "\n",
       "    .dataframe tbody tr th {\n",
       "        vertical-align: top;\n",
       "    }\n",
       "\n",
       "    .dataframe thead th {\n",
       "        text-align: right;\n",
       "    }\n",
       "</style>\n",
       "<table border=\"1\" class=\"dataframe\">\n",
       "  <thead>\n",
       "    <tr style=\"text-align: right;\">\n",
       "      <th></th>\n",
       "      <th>Task_ID</th>\n",
       "      <th>Priority</th>\n",
       "      <th>Project_ID</th>\n",
       "      <th>Project_code</th>\n",
       "      <th>Category</th>\n",
       "      <th>Total_developers</th>\n",
       "      <th>TaskPerformance</th>\n",
       "      <th>DeveloperPerformance</th>\n",
       "      <th>Hours_estimate</th>\n",
       "      <th>Hours_logged</th>\n",
       "      <th>Difference</th>\n",
       "      <th>Estimate_Effort</th>\n",
       "    </tr>\n",
       "  </thead>\n",
       "  <tbody>\n",
       "    <tr>\n",
       "      <th>0</th>\n",
       "      <td>13728</td>\n",
       "      <td>1</td>\n",
       "      <td>10</td>\n",
       "      <td>PC10</td>\n",
       "      <td>Enhancement</td>\n",
       "      <td>1</td>\n",
       "      <td>6.47</td>\n",
       "      <td>6.47</td>\n",
       "      <td>28.0</td>\n",
       "      <td>21.53</td>\n",
       "      <td>6.47</td>\n",
       "      <td>4.568966</td>\n",
       "    </tr>\n",
       "    <tr>\n",
       "      <th>1</th>\n",
       "      <td>3530</td>\n",
       "      <td>1</td>\n",
       "      <td>9</td>\n",
       "      <td>PC9</td>\n",
       "      <td>Bug</td>\n",
       "      <td>1</td>\n",
       "      <td>6.46</td>\n",
       "      <td>6.46</td>\n",
       "      <td>7.0</td>\n",
       "      <td>0.54</td>\n",
       "      <td>6.46</td>\n",
       "      <td>1.853448</td>\n",
       "    </tr>\n",
       "    <tr>\n",
       "      <th>2</th>\n",
       "      <td>6163</td>\n",
       "      <td>1</td>\n",
       "      <td>9</td>\n",
       "      <td>PC9</td>\n",
       "      <td>Release</td>\n",
       "      <td>1</td>\n",
       "      <td>-6.45</td>\n",
       "      <td>-3.95</td>\n",
       "      <td>2.0</td>\n",
       "      <td>8.45</td>\n",
       "      <td>6.45</td>\n",
       "      <td>1.206897</td>\n",
       "    </tr>\n",
       "    <tr>\n",
       "      <th>3</th>\n",
       "      <td>6163</td>\n",
       "      <td>1</td>\n",
       "      <td>9</td>\n",
       "      <td>PC9</td>\n",
       "      <td>Release</td>\n",
       "      <td>1</td>\n",
       "      <td>-6.45</td>\n",
       "      <td>NaN</td>\n",
       "      <td>2.0</td>\n",
       "      <td>8.45</td>\n",
       "      <td>6.45</td>\n",
       "      <td>1.206897</td>\n",
       "    </tr>\n",
       "    <tr>\n",
       "      <th>4</th>\n",
       "      <td>11241</td>\n",
       "      <td>1</td>\n",
       "      <td>9</td>\n",
       "      <td>PC9</td>\n",
       "      <td>Enhancement</td>\n",
       "      <td>1</td>\n",
       "      <td>-6.38</td>\n",
       "      <td>-5.68</td>\n",
       "      <td>70.0</td>\n",
       "      <td>76.38</td>\n",
       "      <td>6.38</td>\n",
       "      <td>10.000000</td>\n",
       "    </tr>\n",
       "  </tbody>\n",
       "</table>\n",
       "</div>"
      ],
      "text/plain": [
       "   Task_ID  Priority  Project_ID Project_code     Category  Total_developers  \\\n",
       "0    13728         1          10         PC10  Enhancement                 1   \n",
       "1     3530         1           9          PC9          Bug                 1   \n",
       "2     6163         1           9          PC9      Release                 1   \n",
       "3     6163         1           9          PC9      Release                 1   \n",
       "4    11241         1           9          PC9  Enhancement                 1   \n",
       "\n",
       "   TaskPerformance  DeveloperPerformance  Hours_estimate  Hours_logged  \\\n",
       "0             6.47                  6.47            28.0         21.53   \n",
       "1             6.46                  6.46             7.0          0.54   \n",
       "2            -6.45                 -3.95             2.0          8.45   \n",
       "3            -6.45                   NaN             2.0          8.45   \n",
       "4            -6.38                 -5.68            70.0         76.38   \n",
       "\n",
       "   Difference  Estimate_Effort  \n",
       "0        6.47         4.568966  \n",
       "1        6.46         1.853448  \n",
       "2        6.45         1.206897  \n",
       "3        6.45         1.206897  \n",
       "4        6.38        10.000000  "
      ]
     },
     "execution_count": 2,
     "metadata": {},
     "output_type": "execute_result"
    }
   ],
   "source": [
    "original_dataset = pd.read_csv('C:/Users/franc/pasantia_IA/datasets/data_sip.csv')\n",
    "original_dataset.head()"
   ]
  },
  {
   "cell_type": "code",
   "execution_count": 3,
   "metadata": {},
   "outputs": [
    {
     "name": "stdout",
     "output_type": "stream",
     "text": [
      "<class 'pandas.core.frame.DataFrame'>\n",
      "RangeIndex: 3937 entries, 0 to 3936\n",
      "Data columns (total 12 columns):\n",
      " #   Column                Non-Null Count  Dtype  \n",
      "---  ------                --------------  -----  \n",
      " 0   Task_ID               3937 non-null   int64  \n",
      " 1   Priority              3937 non-null   int64  \n",
      " 2   Project_ID            3937 non-null   int64  \n",
      " 3   Project_code          3937 non-null   object \n",
      " 4   Category              3937 non-null   object \n",
      " 5   Total_developers      3937 non-null   int64  \n",
      " 6   TaskPerformance       3937 non-null   float64\n",
      " 7   DeveloperPerformance  3548 non-null   float64\n",
      " 8   Hours_estimate        3937 non-null   float64\n",
      " 9   Hours_logged          3937 non-null   float64\n",
      " 10  Difference            3937 non-null   float64\n",
      " 11  Estimate_Effort       3937 non-null   float64\n",
      "dtypes: float64(6), int64(4), object(2)\n",
      "memory usage: 369.2+ KB\n"
     ]
    }
   ],
   "source": [
    "# show the metadata\n",
    "original_dataset.info()"
   ]
  },
  {
   "cell_type": "code",
   "execution_count": 4,
   "metadata": {},
   "outputs": [],
   "source": [
    "# drop all the unnecessary columns\n",
    "clean_dataset = original_dataset[[\n",
    "    'Priority',\n",
    "    'Category',\n",
    "    'Total_developers',\n",
    "    'Estimate_Effort',\n",
    "    'Hours_logged',\n",
    "]]\n",
    "\n",
    "# desnormalizing data\n",
    "clean_dataset = pd.get_dummies(clean_dataset, columns=['Category'])\n",
    "clean_dataset = clean_dataset.astype(int)"
   ]
  },
  {
   "cell_type": "code",
   "execution_count": 5,
   "metadata": {},
   "outputs": [
    {
     "data": {
      "text/html": [
       "<div>\n",
       "<style scoped>\n",
       "    .dataframe tbody tr th:only-of-type {\n",
       "        vertical-align: middle;\n",
       "    }\n",
       "\n",
       "    .dataframe tbody tr th {\n",
       "        vertical-align: top;\n",
       "    }\n",
       "\n",
       "    .dataframe thead th {\n",
       "        text-align: right;\n",
       "    }\n",
       "</style>\n",
       "<table border=\"1\" class=\"dataframe\">\n",
       "  <thead>\n",
       "    <tr style=\"text-align: right;\">\n",
       "      <th></th>\n",
       "      <th>Priority</th>\n",
       "      <th>Total_developers</th>\n",
       "      <th>Estimate_Effort</th>\n",
       "      <th>Hours_logged</th>\n",
       "      <th>Category_Bug</th>\n",
       "      <th>Category_Enhancement</th>\n",
       "      <th>Category_Release</th>\n",
       "      <th>Category_Testing</th>\n",
       "    </tr>\n",
       "  </thead>\n",
       "  <tbody>\n",
       "    <tr>\n",
       "      <th>0</th>\n",
       "      <td>1</td>\n",
       "      <td>1</td>\n",
       "      <td>4</td>\n",
       "      <td>21</td>\n",
       "      <td>0</td>\n",
       "      <td>1</td>\n",
       "      <td>0</td>\n",
       "      <td>0</td>\n",
       "    </tr>\n",
       "    <tr>\n",
       "      <th>1</th>\n",
       "      <td>1</td>\n",
       "      <td>1</td>\n",
       "      <td>1</td>\n",
       "      <td>0</td>\n",
       "      <td>1</td>\n",
       "      <td>0</td>\n",
       "      <td>0</td>\n",
       "      <td>0</td>\n",
       "    </tr>\n",
       "    <tr>\n",
       "      <th>2</th>\n",
       "      <td>1</td>\n",
       "      <td>1</td>\n",
       "      <td>1</td>\n",
       "      <td>8</td>\n",
       "      <td>0</td>\n",
       "      <td>0</td>\n",
       "      <td>1</td>\n",
       "      <td>0</td>\n",
       "    </tr>\n",
       "    <tr>\n",
       "      <th>3</th>\n",
       "      <td>1</td>\n",
       "      <td>1</td>\n",
       "      <td>1</td>\n",
       "      <td>8</td>\n",
       "      <td>0</td>\n",
       "      <td>0</td>\n",
       "      <td>1</td>\n",
       "      <td>0</td>\n",
       "    </tr>\n",
       "    <tr>\n",
       "      <th>4</th>\n",
       "      <td>1</td>\n",
       "      <td>1</td>\n",
       "      <td>10</td>\n",
       "      <td>76</td>\n",
       "      <td>0</td>\n",
       "      <td>1</td>\n",
       "      <td>0</td>\n",
       "      <td>0</td>\n",
       "    </tr>\n",
       "  </tbody>\n",
       "</table>\n",
       "</div>"
      ],
      "text/plain": [
       "   Priority  Total_developers  Estimate_Effort  Hours_logged  Category_Bug  \\\n",
       "0         1                 1                4            21             0   \n",
       "1         1                 1                1             0             1   \n",
       "2         1                 1                1             8             0   \n",
       "3         1                 1                1             8             0   \n",
       "4         1                 1               10            76             0   \n",
       "\n",
       "   Category_Enhancement  Category_Release  Category_Testing  \n",
       "0                     1                 0                 0  \n",
       "1                     0                 0                 0  \n",
       "2                     0                 1                 0  \n",
       "3                     0                 1                 0  \n",
       "4                     1                 0                 0  "
      ]
     },
     "execution_count": 5,
     "metadata": {},
     "output_type": "execute_result"
    }
   ],
   "source": [
    "clean_dataset.head()"
   ]
  },
  {
   "cell_type": "code",
   "execution_count": 6,
   "metadata": {},
   "outputs": [
    {
     "name": "stdout",
     "output_type": "stream",
     "text": [
      "<class 'pandas.core.frame.DataFrame'>\n",
      "RangeIndex: 3937 entries, 0 to 3936\n",
      "Data columns (total 8 columns):\n",
      " #   Column                Non-Null Count  Dtype\n",
      "---  ------                --------------  -----\n",
      " 0   Priority              3937 non-null   int32\n",
      " 1   Total_developers      3937 non-null   int32\n",
      " 2   Estimate_Effort       3937 non-null   int32\n",
      " 3   Hours_logged          3937 non-null   int32\n",
      " 4   Category_Bug          3937 non-null   int32\n",
      " 5   Category_Enhancement  3937 non-null   int32\n",
      " 6   Category_Release      3937 non-null   int32\n",
      " 7   Category_Testing      3937 non-null   int32\n",
      "dtypes: int32(8)\n",
      "memory usage: 123.2 KB\n"
     ]
    }
   ],
   "source": [
    "clean_dataset.info()"
   ]
  },
  {
   "cell_type": "markdown",
   "metadata": {},
   "source": [
    "### Data sampling\n",
    "\n",
    "Split the data into train, test and validate samples to fit and evaluate the model\n",
    "\n",
    "The percentage of each one will be\n",
    "\n",
    "- 60% training\n",
    "- 20% testing\n",
    "- 20% validating"
   ]
  },
  {
   "cell_type": "code",
   "execution_count": 7,
   "metadata": {},
   "outputs": [
    {
     "name": "stdout",
     "output_type": "stream",
     "text": [
      "Samples shape\n",
      "    Train: (3149, 8)\n",
      "    Test: (394, 8)\n",
      "    Validation: (394, 8)\n"
     ]
    }
   ],
   "source": [
    "train_dataset, temp_test_dataset = train_test_split(clean_dataset, test_size=0.20)\n",
    "\n",
    "validation_dataset, test_dataset = train_test_split(temp_test_dataset, test_size=0.50)\n",
    "\n",
    "print(\"Samples shape\")\n",
    "print(f\"    Train: {train_dataset.shape}\")\n",
    "print(f\"    Test: {test_dataset.shape}\")\n",
    "print(f\"    Validation: {validation_dataset.shape}\")"
   ]
  },
  {
   "cell_type": "markdown",
   "metadata": {},
   "source": [
    "### Data analysis\n",
    "\n",
    "Calculate the correlation and other statistics on the train dataset"
   ]
  },
  {
   "cell_type": "code",
   "execution_count": 8,
   "metadata": {},
   "outputs": [
    {
     "data": {
      "image/png": "[encoded data removed]",
      "text/plain": [
       "<Figure size 800x400 with 2 Axes>"
      ]
     },
     "metadata": {},
     "output_type": "display_data"
    }
   ],
   "source": [
    "# correlation between the features and the target\n",
    "\n",
    "correlation_matrix = clean_dataset.corr()\n",
    "correlation_matrix['Hours_logged'].sort_values(ascending=False)\n",
    "\n",
    "# plot the correlation matrix\n",
    "plt.figure(figsize=(8, 4))\n",
    "sns.heatmap(correlation_matrix, annot=True, cmap='coolwarm')\n",
    "plt.title('Correlation Matrix')\n",
    "plt.show()"
   ]
  },
  {
   "cell_type": "code",
   "execution_count": 9,
   "metadata": {},
   "outputs": [
    {
     "data": {
      "text/html": [
       "<div>\n",
       "<style scoped>\n",
       "    .dataframe tbody tr th:only-of-type {\n",
       "        vertical-align: middle;\n",
       "    }\n",
       "\n",
       "    .dataframe tbody tr th {\n",
       "        vertical-align: top;\n",
       "    }\n",
       "\n",
       "    .dataframe thead th {\n",
       "        text-align: right;\n",
       "    }\n",
       "</style>\n",
       "<table border=\"1\" class=\"dataframe\">\n",
       "  <thead>\n",
       "    <tr style=\"text-align: right;\">\n",
       "      <th></th>\n",
       "      <th>count</th>\n",
       "      <th>mean</th>\n",
       "      <th>std</th>\n",
       "      <th>min</th>\n",
       "      <th>25%</th>\n",
       "      <th>50%</th>\n",
       "      <th>75%</th>\n",
       "      <th>max</th>\n",
       "    </tr>\n",
       "  </thead>\n",
       "  <tbody>\n",
       "    <tr>\n",
       "      <th>Priority</th>\n",
       "      <td>3149.0</td>\n",
       "      <td>2.259130</td>\n",
       "      <td>1.758673</td>\n",
       "      <td>1.0</td>\n",
       "      <td>1.0</td>\n",
       "      <td>1.0</td>\n",
       "      <td>3.0</td>\n",
       "      <td>10.0</td>\n",
       "    </tr>\n",
       "    <tr>\n",
       "      <th>Total_developers</th>\n",
       "      <td>3149.0</td>\n",
       "      <td>1.000000</td>\n",
       "      <td>0.000000</td>\n",
       "      <td>1.0</td>\n",
       "      <td>1.0</td>\n",
       "      <td>1.0</td>\n",
       "      <td>1.0</td>\n",
       "      <td>1.0</td>\n",
       "    </tr>\n",
       "    <tr>\n",
       "      <th>Estimate_Effort</th>\n",
       "      <td>3149.0</td>\n",
       "      <td>1.155605</td>\n",
       "      <td>0.637596</td>\n",
       "      <td>1.0</td>\n",
       "      <td>1.0</td>\n",
       "      <td>1.0</td>\n",
       "      <td>1.0</td>\n",
       "      <td>10.0</td>\n",
       "    </tr>\n",
       "    <tr>\n",
       "      <th>Category_Bug</th>\n",
       "      <td>3149.0</td>\n",
       "      <td>0.441728</td>\n",
       "      <td>0.496672</td>\n",
       "      <td>0.0</td>\n",
       "      <td>0.0</td>\n",
       "      <td>0.0</td>\n",
       "      <td>1.0</td>\n",
       "      <td>1.0</td>\n",
       "    </tr>\n",
       "    <tr>\n",
       "      <th>Category_Enhancement</th>\n",
       "      <td>3149.0</td>\n",
       "      <td>0.426485</td>\n",
       "      <td>0.494645</td>\n",
       "      <td>0.0</td>\n",
       "      <td>0.0</td>\n",
       "      <td>0.0</td>\n",
       "      <td>1.0</td>\n",
       "      <td>1.0</td>\n",
       "    </tr>\n",
       "    <tr>\n",
       "      <th>Category_Release</th>\n",
       "      <td>3149.0</td>\n",
       "      <td>0.097809</td>\n",
       "      <td>0.297103</td>\n",
       "      <td>0.0</td>\n",
       "      <td>0.0</td>\n",
       "      <td>0.0</td>\n",
       "      <td>0.0</td>\n",
       "      <td>1.0</td>\n",
       "    </tr>\n",
       "    <tr>\n",
       "      <th>Category_Testing</th>\n",
       "      <td>3149.0</td>\n",
       "      <td>0.033979</td>\n",
       "      <td>0.181204</td>\n",
       "      <td>0.0</td>\n",
       "      <td>0.0</td>\n",
       "      <td>0.0</td>\n",
       "      <td>0.0</td>\n",
       "      <td>1.0</td>\n",
       "    </tr>\n",
       "  </tbody>\n",
       "</table>\n",
       "</div>"
      ],
      "text/plain": [
       "                       count      mean       std  min  25%  50%  75%   max\n",
       "Priority              3149.0  2.259130  1.758673  1.0  1.0  1.0  3.0  10.0\n",
       "Total_developers      3149.0  1.000000  0.000000  1.0  1.0  1.0  1.0   1.0\n",
       "Estimate_Effort       3149.0  1.155605  0.637596  1.0  1.0  1.0  1.0  10.0\n",
       "Category_Bug          3149.0  0.441728  0.496672  0.0  0.0  0.0  1.0   1.0\n",
       "Category_Enhancement  3149.0  0.426485  0.494645  0.0  0.0  0.0  1.0   1.0\n",
       "Category_Release      3149.0  0.097809  0.297103  0.0  0.0  0.0  0.0   1.0\n",
       "Category_Testing      3149.0  0.033979  0.181204  0.0  0.0  0.0  0.0   1.0"
      ]
     },
     "execution_count": 9,
     "metadata": {},
     "output_type": "execute_result"
    }
   ],
   "source": [
    "# another interesting statistics like the count, mean, std, min, quartiles and max, all per feature\n",
    "train_stats = train_dataset.describe()\n",
    "train_stats.pop(\"Hours_logged\")\n",
    "train_stats = train_stats.transpose()\n",
    "train_stats"
   ]
  },
  {
   "cell_type": "markdown",
   "metadata": {},
   "source": [
    "### Feature prediction\n",
    "\n",
    "The label \"Hours Logged\" is the actual goal for our model, we will remove it from every sample and keep it apart"
   ]
  },
  {
   "cell_type": "code",
   "execution_count": 10,
   "metadata": {},
   "outputs": [],
   "source": [
    "train_label = train_dataset.pop('Hours_logged')\n",
    "test_label = test_dataset.pop('Hours_logged')\n",
    "validation_label = validation_dataset.pop('Hours_logged')"
   ]
  },
  {
   "cell_type": "markdown",
   "metadata": {},
   "source": [
    "### Data normalization/Scaling\n",
    "\n",
    "Subtract the mean of the training data and divide by the standard deviation of the training data."
   ]
  },
  {
   "cell_type": "code",
   "execution_count": 11,
   "metadata": {},
   "outputs": [],
   "source": [
    "def norm(x):\n",
    "    return (x - train_stats['mean']) / train_stats['std']\n",
    "\n",
    "normed_train_data = norm(train_dataset)\n",
    "normed_test_data = norm(test_dataset)\n",
    "normed_validation_data = norm(validation_dataset)\n",
    "\n",
    "# is some of the data is NaN, fill it with 1\n",
    "if normed_train_data['Total_developers'].isna().any():\n",
    "    normed_train_data['Total_developers'] = normed_train_data['Total_developers'].fillna(1)\n",
    "    normed_test_data['Total_developers'] = normed_test_data['Total_developers'].fillna(1)\n",
    "    normed_validation_data['Total_developers'] = normed_validation_data['Total_developers'].fillna(1)"
   ]
  },
  {
   "cell_type": "code",
   "execution_count": 12,
   "metadata": {},
   "outputs": [
    {
     "data": {
      "text/html": [
       "<div>\n",
       "<style scoped>\n",
       "    .dataframe tbody tr th:only-of-type {\n",
       "        vertical-align: middle;\n",
       "    }\n",
       "\n",
       "    .dataframe tbody tr th {\n",
       "        vertical-align: top;\n",
       "    }\n",
       "\n",
       "    .dataframe thead th {\n",
       "        text-align: right;\n",
       "    }\n",
       "</style>\n",
       "<table border=\"1\" class=\"dataframe\">\n",
       "  <thead>\n",
       "    <tr style=\"text-align: right;\">\n",
       "      <th></th>\n",
       "      <th>Priority</th>\n",
       "      <th>Total_developers</th>\n",
       "      <th>Estimate_Effort</th>\n",
       "      <th>Category_Bug</th>\n",
       "      <th>Category_Enhancement</th>\n",
       "      <th>Category_Release</th>\n",
       "      <th>Category_Testing</th>\n",
       "    </tr>\n",
       "  </thead>\n",
       "  <tbody>\n",
       "    <tr>\n",
       "      <th>121</th>\n",
       "      <td>-0.147344</td>\n",
       "      <td>1.0</td>\n",
       "      <td>-0.244049</td>\n",
       "      <td>1.124027</td>\n",
       "      <td>-0.862204</td>\n",
       "      <td>-0.329208</td>\n",
       "      <td>-0.187518</td>\n",
       "    </tr>\n",
       "    <tr>\n",
       "      <th>2675</th>\n",
       "      <td>-0.715954</td>\n",
       "      <td>1.0</td>\n",
       "      <td>-0.244049</td>\n",
       "      <td>-0.889375</td>\n",
       "      <td>1.159450</td>\n",
       "      <td>-0.329208</td>\n",
       "      <td>-0.187518</td>\n",
       "    </tr>\n",
       "    <tr>\n",
       "      <th>3855</th>\n",
       "      <td>-0.715954</td>\n",
       "      <td>1.0</td>\n",
       "      <td>-0.244049</td>\n",
       "      <td>-0.889375</td>\n",
       "      <td>1.159450</td>\n",
       "      <td>-0.329208</td>\n",
       "      <td>-0.187518</td>\n",
       "    </tr>\n",
       "    <tr>\n",
       "      <th>3110</th>\n",
       "      <td>1.558487</td>\n",
       "      <td>1.0</td>\n",
       "      <td>-0.244049</td>\n",
       "      <td>-0.889375</td>\n",
       "      <td>1.159450</td>\n",
       "      <td>-0.329208</td>\n",
       "      <td>-0.187518</td>\n",
       "    </tr>\n",
       "    <tr>\n",
       "      <th>986</th>\n",
       "      <td>-0.147344</td>\n",
       "      <td>1.0</td>\n",
       "      <td>-0.244049</td>\n",
       "      <td>-0.889375</td>\n",
       "      <td>1.159450</td>\n",
       "      <td>-0.329208</td>\n",
       "      <td>-0.187518</td>\n",
       "    </tr>\n",
       "  </tbody>\n",
       "</table>\n",
       "</div>"
      ],
      "text/plain": [
       "      Priority  Total_developers  Estimate_Effort  Category_Bug  \\\n",
       "121  -0.147344               1.0        -0.244049      1.124027   \n",
       "2675 -0.715954               1.0        -0.244049     -0.889375   \n",
       "3855 -0.715954               1.0        -0.244049     -0.889375   \n",
       "3110  1.558487               1.0        -0.244049     -0.889375   \n",
       "986  -0.147344               1.0        -0.244049     -0.889375   \n",
       "\n",
       "      Category_Enhancement  Category_Release  Category_Testing  \n",
       "121              -0.862204         -0.329208         -0.187518  \n",
       "2675              1.159450         -0.329208         -0.187518  \n",
       "3855              1.159450         -0.329208         -0.187518  \n",
       "3110              1.159450         -0.329208         -0.187518  \n",
       "986               1.159450         -0.329208         -0.187518  "
      ]
     },
     "execution_count": 12,
     "metadata": {},
     "output_type": "execute_result"
    }
   ],
   "source": [
    "# show a part of the normalized data\n",
    "normed_train_data.head()"
   ]
  },
  {
   "cell_type": "markdown",
   "metadata": {},
   "source": [
    "## Building the Models"
   ]
  },
  {
   "cell_type": "markdown",
   "metadata": {},
   "source": [
    "### Firts Model\n",
    "Two hidden layers with 50 neurons each"
   ]
  },
  {
   "cell_type": "code",
   "execution_count": 35,
   "metadata": {},
   "outputs": [],
   "source": [
    "def build_first_model_two_hidden_layers():\n",
    "    model = Sequential(name = \"FirstModelTwoHiddenLayers\")\n",
    "\n",
    "    # Input layer\n",
    "    model.add(Input(shape=(normed_train_data.shape[1],)))\n",
    "\n",
    "    # Hidden layer \n",
    "    model.add(Dense(50, Activation('relu'), name='hidden_layer_1'))\n",
    "    model.add(Dense(50, Activation('relu'), name='hidden_layer_2'))\n",
    "\n",
    "    # Output layer \n",
    "    model.add(Dense(1))\n",
    "\n",
    "    learnig_rate = 0.0001\n",
    "    optimizer = optimizers.RMSprop(learning_rate=learnig_rate)\n",
    "    model.compile(loss='mse', optimizer=optimizer, metrics=['accuracy', 'mae', 'mse'])\n",
    "\n",
    "    return model"
   ]
  },
  {
   "cell_type": "markdown",
   "metadata": {},
   "source": [
    "### Second Model\n",
    "\n",
    "Three hidden layers with 32, 64 and 128 neurons, respectively"
   ]
  },
  {
   "cell_type": "code",
   "execution_count": 14,
   "metadata": {},
   "outputs": [],
   "source": [
    "def build_second_model_three_hidden_layers():\n",
    "    model = Sequential(name = \"SecondModelThreeHiddenLayers\")\n",
    "\n",
    "    # Input layer\n",
    "    model.add(Input(shape=(normed_train_data.shape[1],)))\n",
    "\n",
    "    # Hidden layer \n",
    "    model.add(Dense(128, Activation('relu'), name='hidden_layer_1'))\n",
    "    model.add(Dense(64, Activation('relu'), name='hidden_layer_3'))\n",
    "    model.add(Dense(32, Activation('relu'), name='hidden_layer_2'))\n",
    "    \n",
    "    \n",
    "    # Output layer \n",
    "    model.add(Dense(1))\n",
    "\n",
    "    learnig_rate = 0.0001\n",
    "    optimizer = optimizers.RMSprop(learning_rate=learnig_rate)\n",
    "    model.compile(loss='mse', optimizer=optimizer, metrics=['accuracy', 'mae', 'mse'])\n",
    "\n",
    "    return model"
   ]
  },
  {
   "cell_type": "markdown",
   "metadata": {},
   "source": [
    "### Third Model\n",
    "\n",
    "LSTM Neural Network"
   ]
  },
  {
   "cell_type": "code",
   "execution_count": 15,
   "metadata": {},
   "outputs": [],
   "source": [
    "def build_third_model_LSTM_hidden_layer():\n",
    "    model = Sequential(name = \"ThirdModelLSTMHiddenLayer\")\n",
    "\n",
    "    model.add(Input(shape=(normed_train_data.shape[1],)))\n",
    "\n",
    "    model.add(Reshape((normed_train_data.shape[1], 1)))\n",
    "\n",
    "    model.add(LSTM(128, return_sequences=True))\n",
    "    model.add(Dropout(0.3))\n",
    "    model.add(Flatten())\n",
    "    model.add(Dense(32, Activation('relu')))\n",
    "  \n",
    "    \n",
    "    model.add(Dense(1))\n",
    "\n",
    "    learnig_rate = 0.0001\n",
    "    optimizer = optimizers.Adam(learning_rate=learnig_rate)\n",
    "    model.compile(loss='mse', optimizer=optimizer, metrics=['accuracy', 'mae', 'mse'])\n",
    "\n",
    "    return model    "
   ]
  },
  {
   "cell_type": "markdown",
   "metadata": {},
   "source": [
    "### Fourth Model\n",
    "\n",
    "Support Vector Machine"
   ]
  },
  {
   "cell_type": "code",
   "execution_count": 71,
   "metadata": {},
   "outputs": [],
   "source": [
    "def build_model_svc():\n",
    "    parameters = {'kernel':('linear', 'rbf')}\n",
    "    svr = SVR()\n",
    "    return GridSearchCV(svr, parameters)"
   ]
  },
  {
   "cell_type": "markdown",
   "metadata": {},
   "source": [
    "### Choose the model"
   ]
  },
  {
   "cell_type": "code",
   "execution_count": 17,
   "metadata": {},
   "outputs": [],
   "source": [
    "def choose_model(model_type, model_number):\n",
    "    if (model_type == 'Neuronal Network'):\n",
    "        if (model_number == 1):\n",
    "            return build_first_model_two_hidden_layers()\n",
    "        elif (model_number == 2):\n",
    "            return build_second_model_three_hidden_layers()\n",
    "        elif (model_number == 3):\n",
    "            return build_third_model_LSTM_hidden_layer()\n",
    "    else:\n",
    "        return build_model_svc()"
   ]
  },
  {
   "cell_type": "markdown",
   "metadata": {},
   "source": [
    "Save checkpoints during training"
   ]
  },
  {
   "cell_type": "code",
   "execution_count": 60,
   "metadata": {},
   "outputs": [],
   "source": [
    "checkpoint_path = r\".\\checkpoint_logs\\data.weights.h5\"\n",
    "\n",
    "ckpt_callback = tf.keras.callbacks.ModelCheckpoint(filepath=checkpoint_path,\n",
    "                                                 monitor='val_loss', \n",
    "                                                 save_best_only=True, # Default false. If you don't change the file name then the output will be overritten at each step and only the last model will be saved.\n",
    "                                                 save_weights_only=True, # True => model.save_weights (weights and no structure, you need JSON file for structure), False => model.save (saves weights & structure)\n",
    "                                                 verbose=0,\n",
    ")\n",
    "\n",
    "tensorboard_callback = TensorBoard(log_dir='./logs', histogram_freq=1, write_graph=True)"
   ]
  },
  {
   "cell_type": "markdown",
   "metadata": {},
   "source": [
    "## Model training"
   ]
  },
  {
   "cell_type": "code",
   "execution_count": 61,
   "metadata": {},
   "outputs": [],
   "source": [
    "def training_neural_network_model(n_folds, model_number):\n",
    "    kFold = KFold(n_splits=n_folds)\n",
    "\n",
    "    histories = []\n",
    "\n",
    "    i = 0\n",
    "\n",
    "    for train_index, val_index in kFold.split(normed_train_data):\n",
    "        train_data_i, val_data_i = normed_train_data.iloc[train_index], normed_train_data.iloc[val_index]\n",
    "        train_label_i, val_label_i = train_label.iloc[train_index], train_label.iloc[val_index]\n",
    "\n",
    "\n",
    "        # for first model - second place\n",
    "        # epochs = 90\n",
    "        # batch_size = 20\n",
    "\n",
    "        # for second model - worst for now\n",
    "        epochs = 80\n",
    "        batch_size = 20\n",
    "\n",
    "        # for third model - is winning\n",
    "        # epochs = 150\n",
    "        # batch_size = 80    \n",
    "\n",
    "        model = choose_model('Neuronal Network', model_number)\n",
    "\n",
    "        if i == 0:\n",
    "            print(\"Summary of the model\")\n",
    "            model.summary()\n",
    "\n",
    "        print(\"\\n\\nTraining the model - K Validation: \", i)\n",
    "\n",
    "        history = model.fit(\n",
    "            train_data_i,\n",
    "            train_label_i,\n",
    "            batch_size=batch_size,  \n",
    "            epochs=epochs, \n",
    "            verbose=0,\n",
    "            shuffle=True,\n",
    "            steps_per_epoch = int(train_data_i.shape[0] / batch_size),\n",
    "            validation_data=(val_data_i, val_label_i),\n",
    "            callbacks=[\n",
    "                tfdocs.modeling.EpochDots(),\n",
    "                ckpt_callback,\n",
    "            ]\n",
    "        )\n",
    "\n",
    "        histories.append(history)\n",
    "        i = i + 1\n",
    "\n",
    "    model = choose_model('Neuronal Network', model_number)\n",
    "    model.load_weights(checkpoint_path)\n",
    "    \n",
    "    return model, histories"
   ]
  },
  {
   "cell_type": "code",
   "execution_count": 72,
   "metadata": {},
   "outputs": [],
   "source": [
    "def training_support_vector_machine_model(n_folds):\n",
    "    model = choose_model('Support Vector Machine', 0)\n",
    "    scores = cross_val_score(model, normed_train_data, train_label, cv=n_folds)\n",
    "    \n",
    "    print(\"Scores:\", scores)\n",
    "    print(\"Mean:\", scores.mean())\n",
    "    print(\"Standard deviation:\", scores.std())\n",
    "    \n",
    "    model.fit(normed_train_data, train_label)\n",
    "    \n",
    "    history = pd.DataFrame({\n",
    "        'Accuracy': [model.score(normed_test_data, test_label)],\n",
    "        'Best params hash': [model.best_params_],\n",
    "        'Best score': [model.best_score_],\n",
    "        'Best estimator': [model.best_estimator_],\n",
    "    })\n",
    "\n",
    "    print(history)\n",
    "    return model, history"
   ]
  },
  {
   "cell_type": "markdown",
   "metadata": {},
   "source": [
    "To run the NN model"
   ]
  },
  {
   "cell_type": "code",
   "execution_count": 62,
   "metadata": {},
   "outputs": [
    {
     "name": "stdout",
     "output_type": "stream",
     "text": [
      "Summary of the model\n"
     ]
    },
    {
     "data": {
      "text/html": [
       "<pre style=\"white-space:pre;overflow-x:auto;line-height:normal;font-family:Menlo,'DejaVu Sans Mono',consolas,'Courier New',monospace\"><span style=\"font-weight: bold\">Model: \"SecondModelThreeHiddenLayers\"</span>\n",
       "</pre>\n"
      ],
      "text/plain": [
       "\u001b[1mModel: \"SecondModelThreeHiddenLayers\"\u001b[0m\n"
      ]
     },
     "metadata": {},
     "output_type": "display_data"
    },
    {
     "data": {
      "text/html": [
       "<pre style=\"white-space:pre;overflow-x:auto;line-height:normal;font-family:Menlo,'DejaVu Sans Mono',consolas,'Courier New',monospace\">┏━━━━━━━━━━━━━━━━━━━━━━━━━━━━━━━━━┳━━━━━━━━━━━━━━━━━━━━━━━━┳━━━━━━━━━━━━━━━┓\n",
       "┃<span style=\"font-weight: bold\"> Layer (type)                    </span>┃<span style=\"font-weight: bold\"> Output Shape           </span>┃<span style=\"font-weight: bold\">       Param # </span>┃\n",
       "┡━━━━━━━━━━━━━━━━━━━━━━━━━━━━━━━━━╇━━━━━━━━━━━━━━━━━━━━━━━━╇━━━━━━━━━━━━━━━┩\n",
       "│ hidden_layer_1 (<span style=\"color: #0087ff; text-decoration-color: #0087ff\">Dense</span>)          │ (<span style=\"color: #00d7ff; text-decoration-color: #00d7ff\">None</span>, <span style=\"color: #00af00; text-decoration-color: #00af00\">128</span>)            │         <span style=\"color: #00af00; text-decoration-color: #00af00\">1,024</span> │\n",
       "├─────────────────────────────────┼────────────────────────┼───────────────┤\n",
       "│ hidden_layer_3 (<span style=\"color: #0087ff; text-decoration-color: #0087ff\">Dense</span>)          │ (<span style=\"color: #00d7ff; text-decoration-color: #00d7ff\">None</span>, <span style=\"color: #00af00; text-decoration-color: #00af00\">64</span>)             │         <span style=\"color: #00af00; text-decoration-color: #00af00\">8,256</span> │\n",
       "├─────────────────────────────────┼────────────────────────┼───────────────┤\n",
       "│ hidden_layer_2 (<span style=\"color: #0087ff; text-decoration-color: #0087ff\">Dense</span>)          │ (<span style=\"color: #00d7ff; text-decoration-color: #00d7ff\">None</span>, <span style=\"color: #00af00; text-decoration-color: #00af00\">32</span>)             │         <span style=\"color: #00af00; text-decoration-color: #00af00\">2,080</span> │\n",
       "├─────────────────────────────────┼────────────────────────┼───────────────┤\n",
       "│ dense_42 (<span style=\"color: #0087ff; text-decoration-color: #0087ff\">Dense</span>)                │ (<span style=\"color: #00d7ff; text-decoration-color: #00d7ff\">None</span>, <span style=\"color: #00af00; text-decoration-color: #00af00\">1</span>)              │            <span style=\"color: #00af00; text-decoration-color: #00af00\">33</span> │\n",
       "└─────────────────────────────────┴────────────────────────┴───────────────┘\n",
       "</pre>\n"
      ],
      "text/plain": [
       "┏━━━━━━━━━━━━━━━━━━━━━━━━━━━━━━━━━┳━━━━━━━━━━━━━━━━━━━━━━━━┳━━━━━━━━━━━━━━━┓\n",
       "┃\u001b[1m \u001b[0m\u001b[1mLayer (type)                   \u001b[0m\u001b[1m \u001b[0m┃\u001b[1m \u001b[0m\u001b[1mOutput Shape          \u001b[0m\u001b[1m \u001b[0m┃\u001b[1m \u001b[0m\u001b[1m      Param #\u001b[0m\u001b[1m \u001b[0m┃\n",
       "┡━━━━━━━━━━━━━━━━━━━━━━━━━━━━━━━━━╇━━━━━━━━━━━━━━━━━━━━━━━━╇━━━━━━━━━━━━━━━┩\n",
       "│ hidden_layer_1 (\u001b[38;5;33mDense\u001b[0m)          │ (\u001b[38;5;45mNone\u001b[0m, \u001b[38;5;34m128\u001b[0m)            │         \u001b[38;5;34m1,024\u001b[0m │\n",
       "├─────────────────────────────────┼────────────────────────┼───────────────┤\n",
       "│ hidden_layer_3 (\u001b[38;5;33mDense\u001b[0m)          │ (\u001b[38;5;45mNone\u001b[0m, \u001b[38;5;34m64\u001b[0m)             │         \u001b[38;5;34m8,256\u001b[0m │\n",
       "├─────────────────────────────────┼────────────────────────┼───────────────┤\n",
       "│ hidden_layer_2 (\u001b[38;5;33mDense\u001b[0m)          │ (\u001b[38;5;45mNone\u001b[0m, \u001b[38;5;34m32\u001b[0m)             │         \u001b[38;5;34m2,080\u001b[0m │\n",
       "├─────────────────────────────────┼────────────────────────┼───────────────┤\n",
       "│ dense_42 (\u001b[38;5;33mDense\u001b[0m)                │ (\u001b[38;5;45mNone\u001b[0m, \u001b[38;5;34m1\u001b[0m)              │            \u001b[38;5;34m33\u001b[0m │\n",
       "└─────────────────────────────────┴────────────────────────┴───────────────┘\n"
      ]
     },
     "metadata": {},
     "output_type": "display_data"
    },
    {
     "data": {
      "text/html": [
       "<pre style=\"white-space:pre;overflow-x:auto;line-height:normal;font-family:Menlo,'DejaVu Sans Mono',consolas,'Courier New',monospace\"><span style=\"font-weight: bold\"> Total params: </span><span style=\"color: #00af00; text-decoration-color: #00af00\">11,393</span> (44.50 KB)\n",
       "</pre>\n"
      ],
      "text/plain": [
       "\u001b[1m Total params: \u001b[0m\u001b[38;5;34m11,393\u001b[0m (44.50 KB)\n"
      ]
     },
     "metadata": {},
     "output_type": "display_data"
    },
    {
     "data": {
      "text/html": [
       "<pre style=\"white-space:pre;overflow-x:auto;line-height:normal;font-family:Menlo,'DejaVu Sans Mono',consolas,'Courier New',monospace\"><span style=\"font-weight: bold\"> Trainable params: </span><span style=\"color: #00af00; text-decoration-color: #00af00\">11,393</span> (44.50 KB)\n",
       "</pre>\n"
      ],
      "text/plain": [
       "\u001b[1m Trainable params: \u001b[0m\u001b[38;5;34m11,393\u001b[0m (44.50 KB)\n"
      ]
     },
     "metadata": {},
     "output_type": "display_data"
    },
    {
     "data": {
      "text/html": [
       "<pre style=\"white-space:pre;overflow-x:auto;line-height:normal;font-family:Menlo,'DejaVu Sans Mono',consolas,'Courier New',monospace\"><span style=\"font-weight: bold\"> Non-trainable params: </span><span style=\"color: #00af00; text-decoration-color: #00af00\">0</span> (0.00 B)\n",
       "</pre>\n"
      ],
      "text/plain": [
       "\u001b[1m Non-trainable params: \u001b[0m\u001b[38;5;34m0\u001b[0m (0.00 B)\n"
      ]
     },
     "metadata": {},
     "output_type": "display_data"
    },
    {
     "name": "stdout",
     "output_type": "stream",
     "text": [
      "\n",
      "\n",
      "Training the model - K Validation:  0\n",
      "\n",
      "Epoch: 0, accuracy:0.2229,  loss:46.5512,  mae:3.5681,  mse:46.5512,  val_accuracy:0.2335,  val_loss:34.4266,  val_mae:3.2062,  val_mse:34.8229,  \n",
      "................................................................................\n",
      "\n",
      "Training the model - K Validation:  1\n",
      "\n",
      "Epoch: 0, accuracy:0.2191,  loss:45.9459,  mae:3.6008,  mse:45.9459,  val_accuracy:0.2236,  val_loss:37.3123,  val_mae:3.0774,  val_mse:37.2186,  \n",
      "................................................................................\n",
      "\n",
      "Training the model - K Validation:  2\n",
      "\n",
      "Epoch: 0, accuracy:0.2030,  loss:45.0647,  mae:3.6485,  mse:45.0646,  val_accuracy:0.2147,  val_loss:49.8517,  val_mae:3.6711,  val_mse:50.1375,  \n",
      "................................................................................\n",
      "\n",
      "Training the model - K Validation:  3\n",
      "\n",
      "Epoch: 0, accuracy:0.2089,  loss:44.0581,  mae:3.5741,  mse:44.0581,  val_accuracy:0.2579,  val_loss:44.5712,  val_mae:3.3971,  val_mse:44.9439,  \n",
      "................................................................................CPU times: total: 51.3 s\n",
      "Wall time: 2min\n"
     ]
    }
   ],
   "source": [
    "%%time\n",
    "model, histories = training_neural_network_model(n_folds=4, model_number=2)"
   ]
  },
  {
   "cell_type": "markdown",
   "metadata": {},
   "source": [
    "To run the SVR model"
   ]
  },
  {
   "cell_type": "code",
   "execution_count": 73,
   "metadata": {},
   "outputs": [
    {
     "name": "stdout",
     "output_type": "stream",
     "text": [
      "Scores: [0.683599   0.75887118 0.79924887 0.77012018]\n",
      "Mean: 0.7529598047150406\n",
      "Standard deviation: 0.042670308945320784\n",
      "   Accuracy      Best params hash  Best score        Best estimator\n",
      "0  0.817596  {'kernel': 'linear'}    0.746547  SVR(kernel='linear')\n",
      "CPU times: total: 13.8 s\n",
      "Wall time: 21.2 s\n"
     ]
    }
   ],
   "source": [
    "%%time\n",
    "model, history = training_support_vector_machine_model(n_folds=4)"
   ]
  },
  {
   "cell_type": "markdown",
   "metadata": {},
   "source": [
    "## Predicting the data"
   ]
  },
  {
   "cell_type": "markdown",
   "metadata": {},
   "source": [
    "### Predicted and real values\n",
    "\n",
    "Here we will see the first 5 rows of the predicted data, comparing it with the real one"
   ]
  },
  {
   "cell_type": "code",
   "execution_count": 74,
   "metadata": {},
   "outputs": [
    {
     "name": "stdout",
     "output_type": "stream",
     "text": [
      "Example for the first 5 samples\n",
      "Predicted Hours Logged\n",
      "[1.1001551  2.09979589 2.09979589 2.09979262 2.09979507]\n",
      "Real Hours Logged\n",
      "121     1\n",
      "2675    0\n",
      "3855    1\n",
      "3110    2\n",
      "986     5\n",
      "Name: Hours_logged, dtype: int32\n"
     ]
    }
   ],
   "source": [
    "example_batch = normed_train_data[:5]\n",
    "example_result = model.predict(example_batch)\n",
    "\n",
    "print(\"Example for the first 5 samples\")\n",
    "print(\"Predicted Hours Logged\")\n",
    "print(example_result)\n",
    "    \n",
    "print(\"Real Hours Logged\")\n",
    "print(train_label[:5])\n",
    "\n",
    "test_predictions = model.predict(normed_test_data)"
   ]
  },
  {
   "cell_type": "code",
   "execution_count": 75,
   "metadata": {},
   "outputs": [],
   "source": [
    "test_predictions = model.predict(normed_test_data).flatten()\n",
    "\n",
    "predictions_dataset = pd.DataFrame({\n",
    "    'Logged': test_label,\n",
    "    'Predicted': test_predictions\n",
    "})\n",
    "\n",
    "predictions_dataset_csv = predictions_dataset"
   ]
  },
  {
   "cell_type": "markdown",
   "metadata": {},
   "source": [
    "To save histories from the NN model"
   ]
  },
  {
   "cell_type": "code",
   "execution_count": 65,
   "metadata": {},
   "outputs": [],
   "source": [
    "predictions_dataset_csv.to_csv(r\"./outputs/neural_network/predictions_sip.csv\", index=False)"
   ]
  },
  {
   "cell_type": "markdown",
   "metadata": {},
   "source": [
    "To save history from the SVR model"
   ]
  },
  {
   "cell_type": "code",
   "execution_count": 76,
   "metadata": {},
   "outputs": [],
   "source": [
    "predictions_dataset_csv.to_csv(r\"./outputs/svr/predictions_sip.csv\", index=False)"
   ]
  },
  {
   "cell_type": "markdown",
   "metadata": {},
   "source": [
    "Predictions VS. True Values for Hours Logged"
   ]
  },
  {
   "cell_type": "code",
   "execution_count": 77,
   "metadata": {},
   "outputs": [
    {
     "data": {
      "image/png": "[encoded data removed]",
      "text/plain": [
       "<Figure size 640x480 with 1 Axes>"
      ]
     },
     "metadata": {},
     "output_type": "display_data"
    }
   ],
   "source": [
    "axes = plt.axes(aspect='equal')\n",
    "plt.scatter(test_label, test_predictions, color='#DBBFDF')\n",
    "plt.xlabel('True Values [Hours Logged]')\n",
    "plt.ylabel('Predictions [Hours Logged]')\n",
    "# calculate the limit\n",
    "max_value = max(test_label.max(), test_predictions[0].max())\n",
    "_ = plt.plot([0, max_value], [0, max_value], color = '#5B0B4C')"
   ]
  },
  {
   "cell_type": "markdown",
   "metadata": {},
   "source": [
    "To save prediction plot from the NN model"
   ]
  },
  {
   "cell_type": "code",
   "execution_count": 67,
   "metadata": {},
   "outputs": [
    {
     "data": {
      "text/plain": [
       "<Figure size 640x480 with 0 Axes>"
      ]
     },
     "metadata": {},
     "output_type": "display_data"
    }
   ],
   "source": [
    "plt.savefig(r\"./outputs/neural_network/prediction_plot_sip.png\")"
   ]
  },
  {
   "cell_type": "markdown",
   "metadata": {},
   "source": [
    "To save prediction plot from the SVR model"
   ]
  },
  {
   "cell_type": "code",
   "execution_count": 78,
   "metadata": {},
   "outputs": [
    {
     "data": {
      "text/plain": [
       "<Figure size 640x480 with 0 Axes>"
      ]
     },
     "metadata": {},
     "output_type": "display_data"
    }
   ],
   "source": [
    "plt.savefig(r\"./outputs/svr/prediction_plot_sip.png\")"
   ]
  },
  {
   "cell_type": "markdown",
   "metadata": {},
   "source": [
    "## Evaluating the model\n",
    "\n",
    "The metrics we choose to evaluate the model were **Mean Absolute Error** and **Mean Squarred Error**"
   ]
  },
  {
   "cell_type": "markdown",
   "metadata": {},
   "source": [
    "### Showing the resulting metrics from the training"
   ]
  },
  {
   "cell_type": "code",
   "execution_count": 68,
   "metadata": {},
   "outputs": [],
   "source": [
    "def evaluating_neural_network_model(histories):\n",
    "    i = 0\n",
    "    history_datasets = []\n",
    "    for history in histories:\n",
    "        history_dataset = pd.DataFrame(history.history)\n",
    "        history_dataset['epoch'] = history.epoch\n",
    "        history_dataset['fold'] = i\n",
    "        i = i+1\n",
    "        history_datasets.append(history_dataset)\n",
    "\n",
    "        \n",
    "    history_dataset = pd.concat(history_datasets)\n",
    "\n",
    "    print(\"Resume of the training history model\")\n",
    "    display(HTML(history_dataset.tail(5).to_html()))\n",
    "\n",
    "    history_datasets_csv = history_dataset\n",
    "    history_datasets_csv.to_csv(r\"./outputs/neural_network/history_sip.csv\", index=False)  \n",
    "\n",
    "    fold_histories = {\n",
    "        f'Fold {i}': history for i, history in enumerate(histories)\n",
    "    }\n",
    "\n",
    "    print(\"Plotting the training history model per epoch\")\n",
    "\n",
    "    plotter = tfdocs.plots.HistoryPlotter(smoothing_std=2)\n",
    "    plotter.plot(fold_histories, metric=\"mse\")\n",
    "    plt.ylabel('MSE [Metric]')\n",
    "    plt.show()"
   ]
  },
  {
   "cell_type": "code",
   "execution_count": 79,
   "metadata": {},
   "outputs": [],
   "source": [
    "def evaluating_svc_model(history, test_predictions):\n",
    "    history['MAE'] = [mean_absolute_error(test_label, test_predictions)]\n",
    "    history['MSE'] = [mean_squared_error(test_label, test_predictions)]\n",
    "\n",
    "    display(HTML(history.to_html()))\n",
    "\n",
    "    history.to_csv(r\"./outputs/svr/metrics_sip.csv\", index=False)   "
   ]
  },
  {
   "cell_type": "markdown",
   "metadata": {},
   "source": [
    "To evaluate the NN model"
   ]
  },
  {
   "cell_type": "code",
   "execution_count": 69,
   "metadata": {},
   "outputs": [
    {
     "name": "stdout",
     "output_type": "stream",
     "text": [
      "Resume of the training history model\n"
     ]
    },
    {
     "data": {
      "text/html": [
       "<table border=\"1\" class=\"dataframe\">\n",
       "  <thead>\n",
       "    <tr style=\"text-align: right;\">\n",
       "      <th></th>\n",
       "      <th>accuracy</th>\n",
       "      <th>loss</th>\n",
       "      <th>mae</th>\n",
       "      <th>mse</th>\n",
       "      <th>val_accuracy</th>\n",
       "      <th>val_loss</th>\n",
       "      <th>val_mae</th>\n",
       "      <th>val_mse</th>\n",
       "      <th>epoch</th>\n",
       "      <th>fold</th>\n",
       "    </tr>\n",
       "  </thead>\n",
       "  <tbody>\n",
       "    <tr>\n",
       "      <th>75</th>\n",
       "      <td>0.000</td>\n",
       "      <td>6.350420</td>\n",
       "      <td>2.956337</td>\n",
       "      <td>12.700839</td>\n",
       "      <td>0.257942</td>\n",
       "      <td>7.741706</td>\n",
       "      <td>2.174763</td>\n",
       "      <td>7.583293</td>\n",
       "      <td>75</td>\n",
       "      <td>3</td>\n",
       "    </tr>\n",
       "    <tr>\n",
       "      <th>76</th>\n",
       "      <td>0.225</td>\n",
       "      <td>7.252870</td>\n",
       "      <td>2.082927</td>\n",
       "      <td>7.252869</td>\n",
       "      <td>0.257942</td>\n",
       "      <td>7.722961</td>\n",
       "      <td>2.160906</td>\n",
       "      <td>7.566000</td>\n",
       "      <td>76</td>\n",
       "      <td>3</td>\n",
       "    </tr>\n",
       "    <tr>\n",
       "      <th>77</th>\n",
       "      <td>0.000</td>\n",
       "      <td>6.356126</td>\n",
       "      <td>2.961621</td>\n",
       "      <td>12.712253</td>\n",
       "      <td>0.257942</td>\n",
       "      <td>7.737882</td>\n",
       "      <td>2.173893</td>\n",
       "      <td>7.579518</td>\n",
       "      <td>77</td>\n",
       "      <td>3</td>\n",
       "    </tr>\n",
       "    <tr>\n",
       "      <th>78</th>\n",
       "      <td>0.225</td>\n",
       "      <td>7.251234</td>\n",
       "      <td>2.082806</td>\n",
       "      <td>7.251236</td>\n",
       "      <td>0.257942</td>\n",
       "      <td>7.719698</td>\n",
       "      <td>2.160858</td>\n",
       "      <td>7.562700</td>\n",
       "      <td>78</td>\n",
       "      <td>3</td>\n",
       "    </tr>\n",
       "    <tr>\n",
       "      <th>79</th>\n",
       "      <td>0.000</td>\n",
       "      <td>6.354084</td>\n",
       "      <td>2.964810</td>\n",
       "      <td>12.708169</td>\n",
       "      <td>0.257942</td>\n",
       "      <td>7.734582</td>\n",
       "      <td>2.173857</td>\n",
       "      <td>7.576194</td>\n",
       "      <td>79</td>\n",
       "      <td>3</td>\n",
       "    </tr>\n",
       "  </tbody>\n",
       "</table>"
      ],
      "text/plain": [
       "<IPython.core.display.HTML object>"
      ]
     },
     "metadata": {},
     "output_type": "display_data"
    },
    {
     "name": "stdout",
     "output_type": "stream",
     "text": [
      "Plotting the training history model per epoch\n"
     ]
    },
    {
     "data": {
      "image/png": "[encoded data removed]",
      "text/plain": [
       "<Figure size 640x480 with 1 Axes>"
      ]
     },
     "metadata": {},
     "output_type": "display_data"
    }
   ],
   "source": [
    "evaluating_neural_network_model(histories)"
   ]
  },
  {
   "cell_type": "markdown",
   "metadata": {},
   "source": [
    "To evaluate the SVR model"
   ]
  },
  {
   "cell_type": "code",
   "execution_count": 80,
   "metadata": {},
   "outputs": [
    {
     "data": {
      "text/html": [
       "<table border=\"1\" class=\"dataframe\">\n",
       "  <thead>\n",
       "    <tr style=\"text-align: right;\">\n",
       "      <th></th>\n",
       "      <th>Accuracy</th>\n",
       "      <th>Best params hash</th>\n",
       "      <th>Best score</th>\n",
       "      <th>Best estimator</th>\n",
       "      <th>MAE</th>\n",
       "      <th>MSE</th>\n",
       "    </tr>\n",
       "  </thead>\n",
       "  <tbody>\n",
       "    <tr>\n",
       "      <th>0</th>\n",
       "      <td>0.817596</td>\n",
       "      <td>{'kernel': 'linear'}</td>\n",
       "      <td>0.746547</td>\n",
       "      <td>SVR(kernel='linear')</td>\n",
       "      <td>2.105328</td>\n",
       "      <td>8.525605</td>\n",
       "    </tr>\n",
       "  </tbody>\n",
       "</table>"
      ],
      "text/plain": [
       "<IPython.core.display.HTML object>"
      ]
     },
     "metadata": {},
     "output_type": "display_data"
    }
   ],
   "source": [
    "evaluating_svc_model(history, test_predictions)"
   ]
  },
  {
   "cell_type": "markdown",
   "metadata": {},
   "source": [
    "Only if the model is a NN"
   ]
  },
  {
   "cell_type": "code",
   "execution_count": 70,
   "metadata": {},
   "outputs": [
    {
     "name": "stdout",
     "output_type": "stream",
     "text": [
      "Serving './outputs/neural_network/model_sip.keras' at http://localhost:8080\n"
     ]
    },
    {
     "data": {
      "text/plain": [
       "('localhost', 8080)"
      ]
     },
     "execution_count": 70,
     "metadata": {},
     "output_type": "execute_result"
    }
   ],
   "source": [
    "model.save(r\"./outputs/neural_network/model_sip.keras\")\n",
    "netron.start(r\"./outputs/neural_network/model_sip.keras\")"
   ]
  }
 ],
 "metadata": {
  "kernelspec": {
   "display_name": "Python 3",
   "language": "python",
   "name": "python3"
  },
  "language_info": {
   "codemirror_mode": {
    "name": "ipython",
    "version": 3
   },
   "file_extension": ".py",
   "mimetype": "text/x-python",
   "name": "python",
   "nbconvert_exporter": "python",
   "pygments_lexer": "ipython3",
   "version": "3.10.11"
  }
 },
 "nbformat": 4,
 "nbformat_minor": 2
}
