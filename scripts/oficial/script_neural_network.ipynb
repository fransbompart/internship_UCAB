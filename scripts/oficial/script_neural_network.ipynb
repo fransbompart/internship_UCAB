{
 "cells": [
  {
   "cell_type": "code",
   "execution_count": 9,
   "metadata": {},
   "outputs": [],
   "source": [
    "# imports\n",
    "import os\n",
    "# for the model\n",
    "import tensorflow as tf\n",
    "import tensorflow_docs as tfdocs\n",
    "import tensorflow_docs.plots\n",
    "import tensorflow_docs.modeling\n",
    "from tensorflow import keras\n",
    "from tensorflow.keras.models import Sequential\n",
    "from tensorflow.keras.layers import Activation, Dense, BatchNormalization, Dropout \n",
    "from tensorflow.keras import optimizers\n",
    "from sklearn.model_selection import train_test_split\n",
    "\n",
    "# for data manipulation and graphing\n",
    "import pathlib\n",
    "import numpy as np\n",
    "import matplotlib.pyplot as plt\n",
    "import pandas as pd\n",
    "import seaborn as sns\n",
    "\n",
    "tf.random.set_seed(42) # set seed for reproducibility\n",
    "tf.debugging.set_log_device_placement(False)"
   ]
  },
  {
   "cell_type": "markdown",
   "metadata": {},
   "source": [
    "## Data preprocessing"
   ]
  },
  {
   "cell_type": "code",
   "execution_count": 10,
   "metadata": {},
   "outputs": [
    {
     "data": {
      "text/html": [
       "<div>\n",
       "<style scoped>\n",
       "    .dataframe tbody tr th:only-of-type {\n",
       "        vertical-align: middle;\n",
       "    }\n",
       "\n",
       "    .dataframe tbody tr th {\n",
       "        vertical-align: top;\n",
       "    }\n",
       "\n",
       "    .dataframe thead th {\n",
       "        text-align: right;\n",
       "    }\n",
       "</style>\n",
       "<table border=\"1\" class=\"dataframe\">\n",
       "  <thead>\n",
       "    <tr style=\"text-align: right;\">\n",
       "      <th></th>\n",
       "      <th>Task ID</th>\n",
       "      <th>Assignee</th>\n",
       "      <th>TotalAssignee</th>\n",
       "      <th>Time Estimate</th>\n",
       "      <th>Time Logged</th>\n",
       "      <th>Mes (drop down)</th>\n",
       "      <th>HoursEstimate</th>\n",
       "      <th>HoursLogged</th>\n",
       "    </tr>\n",
       "  </thead>\n",
       "  <tbody>\n",
       "    <tr>\n",
       "      <th>0</th>\n",
       "      <td>3cy8bv6</td>\n",
       "      <td>Andrea Rijana</td>\n",
       "      <td>1</td>\n",
       "      <td>16h 30m</td>\n",
       "      <td>16h 30m</td>\n",
       "      <td>3</td>\n",
       "      <td>16.5</td>\n",
       "      <td>16.5</td>\n",
       "    </tr>\n",
       "    <tr>\n",
       "      <th>1</th>\n",
       "      <td>3cy8c35</td>\n",
       "      <td>Andrea Rijana</td>\n",
       "      <td>1</td>\n",
       "      <td>14h</td>\n",
       "      <td>14h</td>\n",
       "      <td>3</td>\n",
       "      <td>14.0</td>\n",
       "      <td>14.0</td>\n",
       "    </tr>\n",
       "    <tr>\n",
       "      <th>2</th>\n",
       "      <td>3cy8c62</td>\n",
       "      <td>Andrea Rijana</td>\n",
       "      <td>1</td>\n",
       "      <td>4h 30m</td>\n",
       "      <td>4h 30m</td>\n",
       "      <td>4</td>\n",
       "      <td>4.5</td>\n",
       "      <td>4.5</td>\n",
       "    </tr>\n",
       "    <tr>\n",
       "      <th>3</th>\n",
       "      <td>3dv0hrf</td>\n",
       "      <td>Richard Pacheco</td>\n",
       "      <td>1</td>\n",
       "      <td>13h</td>\n",
       "      <td>13h</td>\n",
       "      <td>1</td>\n",
       "      <td>13.0</td>\n",
       "      <td>13.0</td>\n",
       "    </tr>\n",
       "    <tr>\n",
       "      <th>4</th>\n",
       "      <td>3dv0ht9</td>\n",
       "      <td>Richard Pacheco</td>\n",
       "      <td>1</td>\n",
       "      <td>6h</td>\n",
       "      <td>6h</td>\n",
       "      <td>1</td>\n",
       "      <td>6.0</td>\n",
       "      <td>6.0</td>\n",
       "    </tr>\n",
       "  </tbody>\n",
       "</table>\n",
       "</div>"
      ],
      "text/plain": [
       "   Task ID         Assignee  TotalAssignee Time Estimate Time Logged  \\\n",
       "0  3cy8bv6    Andrea Rijana              1       16h 30m     16h 30m   \n",
       "1  3cy8c35    Andrea Rijana              1           14h         14h   \n",
       "2  3cy8c62    Andrea Rijana              1        4h 30m      4h 30m   \n",
       "3  3dv0hrf  Richard Pacheco              1           13h         13h   \n",
       "4  3dv0ht9  Richard Pacheco              1            6h          6h   \n",
       "\n",
       "   Mes (drop down)  HoursEstimate  HoursLogged  \n",
       "0                3           16.5         16.5  \n",
       "1                3           14.0         14.0  \n",
       "2                4            4.5          4.5  \n",
       "3                1           13.0         13.0  \n",
       "4                1            6.0          6.0  "
      ]
     },
     "execution_count": 10,
     "metadata": {},
     "output_type": "execute_result"
    }
   ],
   "source": [
    "# load the dataset\n",
    "original_dataset = pd.read_csv(\"C:/Users/franc/pasantia_IA/datasets/data-clickup.csv\")\n",
    "\n",
    "# show the original data\n",
    "original_dataset.head()"
   ]
  },
  {
   "cell_type": "code",
   "execution_count": 11,
   "metadata": {},
   "outputs": [
    {
     "name": "stdout",
     "output_type": "stream",
     "text": [
      "<class 'pandas.core.frame.DataFrame'>\n",
      "RangeIndex: 634 entries, 0 to 633\n",
      "Data columns (total 8 columns):\n",
      " #   Column           Non-Null Count  Dtype  \n",
      "---  ------           --------------  -----  \n",
      " 0   Task ID          634 non-null    object \n",
      " 1   Assignee         631 non-null    object \n",
      " 2   TotalAssignee    634 non-null    int64  \n",
      " 3   Time Estimate    634 non-null    object \n",
      " 4   Time Logged      634 non-null    object \n",
      " 5   Mes (drop down)  634 non-null    int64  \n",
      " 6   HoursEstimate    634 non-null    float64\n",
      " 7   HoursLogged      634 non-null    float64\n",
      "dtypes: float64(2), int64(2), object(4)\n",
      "memory usage: 39.8+ KB\n"
     ]
    }
   ],
   "source": [
    "# show the metadata\n",
    "original_dataset.info()"
   ]
  },
  {
   "cell_type": "code",
   "execution_count": 33,
   "metadata": {},
   "outputs": [
    {
     "name": "stdout",
     "output_type": "stream",
     "text": [
      "<class 'pandas.core.frame.DataFrame'>\n",
      "RangeIndex: 634 entries, 0 to 633\n",
      "Data columns (total 4 columns):\n",
      " #   Column           Non-Null Count  Dtype  \n",
      "---  ------           --------------  -----  \n",
      " 0   TotalAssignee    634 non-null    int64  \n",
      " 1   Mes (drop down)  634 non-null    int64  \n",
      " 2   HoursEstimate    634 non-null    float64\n",
      " 3   HoursLogged      634 non-null    float64\n",
      "dtypes: float64(2), int64(2)\n",
      "memory usage: 19.9 KB\n"
     ]
    }
   ],
   "source": [
    "# drop all the unnecessary columns\n",
    "clean_dataset = original_dataset.drop(columns=[\n",
    "    'Task ID',\n",
    "    'Assignee',\n",
    "    'Time Estimate',\n",
    "    'Time Logged',  \n",
    "])\n",
    "\n",
    "# check if is necessary to drop any row with NaN/empty/null values\n",
    "clean_dataset.info()"
   ]
  },
  {
   "cell_type": "markdown",
   "metadata": {},
   "source": [
    "### Data sampling\n",
    "\n",
    "Split the data into train, test and validate samples to fit and evaluate the model\n",
    "\n",
    "The percentage of each one will be\n",
    "\n",
    "- 60% training\n",
    "- 20% testing\n",
    "- 20% validating"
   ]
  },
  {
   "cell_type": "code",
   "execution_count": 34,
   "metadata": {},
   "outputs": [
    {
     "name": "stdout",
     "output_type": "stream",
     "text": [
      "Samples shape\n",
      "    Train: (380, 4)\n",
      "    Test: (51, 4)\n",
      "    Validation: (203, 4)\n"
     ]
    }
   ],
   "source": [
    "train_dataset, temp_test_dataset = train_test_split(clean_dataset, test_size=0.4)\n",
    "\n",
    "validation_dataset, test_dataset = train_test_split(temp_test_dataset, test_size=0.20)\n",
    "\n",
    "print(\"Samples shape\")\n",
    "print(f\"    Train: {train_dataset.shape}\")\n",
    "print(f\"    Test: {test_dataset.shape}\")\n",
    "print(f\"    Validation: {validation_dataset.shape}\")"
   ]
  },
  {
   "cell_type": "markdown",
   "metadata": {},
   "source": [
    "### Data analysis\n",
    "\n",
    "Calculate the correlation and other statistics on the train dataset"
   ]
  },
  {
   "cell_type": "code",
   "execution_count": 35,
   "metadata": {},
   "outputs": [
    {
     "data": {
      "image/png": "[encoded data removed]",
      "text/plain": [
       "<Figure size 800x400 with 2 Axes>"
      ]
     },
     "metadata": {},
     "output_type": "display_data"
    }
   ],
   "source": [
    "# correlation between the features and the target\n",
    "\n",
    "correlation_matrix = clean_dataset.corr()\n",
    "correlation_matrix['HoursLogged'].sort_values(ascending=False)\n",
    "\n",
    "# plot the correlation matrix\n",
    "plt.figure(figsize=(8, 4))\n",
    "sns.heatmap(correlation_matrix, annot=True, cmap='coolwarm')\n",
    "plt.title('Correlation Matrix')\n",
    "plt.show()"
   ]
  },
  {
   "cell_type": "code",
   "execution_count": 36,
   "metadata": {},
   "outputs": [
    {
     "data": {
      "text/plain": [
       "<seaborn.axisgrid.PairGrid at 0x23ed89d8fa0>"
      ]
     },
     "execution_count": 36,
     "metadata": {},
     "output_type": "execute_result"
    },
    {
     "data": {
      "image/png": "[encoded data removed]",
      "text/plain": [
       "<Figure size 750x750 with 12 Axes>"
      ]
     },
     "metadata": {},
     "output_type": "display_data"
    }
   ],
   "source": [
    "# correlation only between the features \n",
    "train_stats = train_dataset.describe()\n",
    "train_stats.pop(\"HoursLogged\")\n",
    "sns.pairplot(train_stats[train_stats.columns], diag_kind=\"kde\")"
   ]
  },
  {
   "cell_type": "code",
   "execution_count": 37,
   "metadata": {},
   "outputs": [
    {
     "data": {
      "text/html": [
       "<div>\n",
       "<style scoped>\n",
       "    .dataframe tbody tr th:only-of-type {\n",
       "        vertical-align: middle;\n",
       "    }\n",
       "\n",
       "    .dataframe tbody tr th {\n",
       "        vertical-align: top;\n",
       "    }\n",
       "\n",
       "    .dataframe thead th {\n",
       "        text-align: right;\n",
       "    }\n",
       "</style>\n",
       "<table border=\"1\" class=\"dataframe\">\n",
       "  <thead>\n",
       "    <tr style=\"text-align: right;\">\n",
       "      <th></th>\n",
       "      <th>count</th>\n",
       "      <th>mean</th>\n",
       "      <th>std</th>\n",
       "      <th>min</th>\n",
       "      <th>25%</th>\n",
       "      <th>50%</th>\n",
       "      <th>75%</th>\n",
       "      <th>max</th>\n",
       "    </tr>\n",
       "  </thead>\n",
       "  <tbody>\n",
       "    <tr>\n",
       "      <th>TotalAssignee</th>\n",
       "      <td>380.0</td>\n",
       "      <td>1.005263</td>\n",
       "      <td>0.072452</td>\n",
       "      <td>1.000000</td>\n",
       "      <td>1.0</td>\n",
       "      <td>1.0</td>\n",
       "      <td>1.0000</td>\n",
       "      <td>2.0</td>\n",
       "    </tr>\n",
       "    <tr>\n",
       "      <th>Mes (drop down)</th>\n",
       "      <td>380.0</td>\n",
       "      <td>4.344737</td>\n",
       "      <td>2.092731</td>\n",
       "      <td>1.000000</td>\n",
       "      <td>3.0</td>\n",
       "      <td>4.0</td>\n",
       "      <td>6.0000</td>\n",
       "      <td>9.0</td>\n",
       "    </tr>\n",
       "    <tr>\n",
       "      <th>HoursEstimate</th>\n",
       "      <td>380.0</td>\n",
       "      <td>5.141886</td>\n",
       "      <td>6.072547</td>\n",
       "      <td>0.166667</td>\n",
       "      <td>1.0</td>\n",
       "      <td>3.0</td>\n",
       "      <td>7.3125</td>\n",
       "      <td>40.0</td>\n",
       "    </tr>\n",
       "  </tbody>\n",
       "</table>\n",
       "</div>"
      ],
      "text/plain": [
       "                 count      mean       std       min  25%  50%     75%   max\n",
       "TotalAssignee    380.0  1.005263  0.072452  1.000000  1.0  1.0  1.0000   2.0\n",
       "Mes (drop down)  380.0  4.344737  2.092731  1.000000  3.0  4.0  6.0000   9.0\n",
       "HoursEstimate    380.0  5.141886  6.072547  0.166667  1.0  3.0  7.3125  40.0"
      ]
     },
     "execution_count": 37,
     "metadata": {},
     "output_type": "execute_result"
    }
   ],
   "source": [
    "# another interesting statistics \n",
    "train_stats = train_dataset.describe()\n",
    "train_stats.pop(\"HoursLogged\")\n",
    "train_stats = train_stats.transpose()\n",
    "train_stats"
   ]
  },
  {
   "cell_type": "markdown",
   "metadata": {},
   "source": [
    "### Feature prediction\n",
    "\n",
    "The label \"Hours Logged\" is the actual goal for our model, we will remove it from every sample and keep it apart"
   ]
  },
  {
   "cell_type": "code",
   "execution_count": 38,
   "metadata": {},
   "outputs": [],
   "source": [
    "train_label = train_dataset.pop('HoursLogged')\n",
    "test_label = test_dataset.pop('HoursLogged')\n",
    "validation_label = validation_dataset.pop('HoursLogged')"
   ]
  },
  {
   "cell_type": "markdown",
   "metadata": {},
   "source": [
    "### Data normalization/Scaling\n",
    "\n",
    "Subtract the mean of the training data and divide by the standard deviation of the training data."
   ]
  },
  {
   "cell_type": "code",
   "execution_count": 39,
   "metadata": {},
   "outputs": [],
   "source": [
    "def norm(x):\n",
    "    return (x - train_stats['mean']) / train_stats['std']\n",
    "\n",
    "normed_train_data = norm(train_dataset)\n",
    "normed_test_data = norm(test_dataset)\n",
    "normed_validation_data = norm(validation_dataset)"
   ]
  },
  {
   "cell_type": "code",
   "execution_count": 40,
   "metadata": {},
   "outputs": [
    {
     "data": {
      "text/html": [
       "<div>\n",
       "<style scoped>\n",
       "    .dataframe tbody tr th:only-of-type {\n",
       "        vertical-align: middle;\n",
       "    }\n",
       "\n",
       "    .dataframe tbody tr th {\n",
       "        vertical-align: top;\n",
       "    }\n",
       "\n",
       "    .dataframe thead th {\n",
       "        text-align: right;\n",
       "    }\n",
       "</style>\n",
       "<table border=\"1\" class=\"dataframe\">\n",
       "  <thead>\n",
       "    <tr style=\"text-align: right;\">\n",
       "      <th></th>\n",
       "      <th>TotalAssignee</th>\n",
       "      <th>Mes (drop down)</th>\n",
       "      <th>HoursEstimate</th>\n",
       "    </tr>\n",
       "  </thead>\n",
       "  <tbody>\n",
       "    <tr>\n",
       "      <th>495</th>\n",
       "      <td>-0.072644</td>\n",
       "      <td>0.313114</td>\n",
       "      <td>-0.188041</td>\n",
       "    </tr>\n",
       "    <tr>\n",
       "      <th>164</th>\n",
       "      <td>-0.072644</td>\n",
       "      <td>-0.642575</td>\n",
       "      <td>3.105470</td>\n",
       "    </tr>\n",
       "    <tr>\n",
       "      <th>616</th>\n",
       "      <td>-0.072644</td>\n",
       "      <td>2.224492</td>\n",
       "      <td>-0.682067</td>\n",
       "    </tr>\n",
       "    <tr>\n",
       "      <th>438</th>\n",
       "      <td>-0.072644</td>\n",
       "      <td>0.313114</td>\n",
       "      <td>-0.682067</td>\n",
       "    </tr>\n",
       "    <tr>\n",
       "      <th>211</th>\n",
       "      <td>-0.072644</td>\n",
       "      <td>-0.642575</td>\n",
       "      <td>4.093523</td>\n",
       "    </tr>\n",
       "  </tbody>\n",
       "</table>\n",
       "</div>"
      ],
      "text/plain": [
       "     TotalAssignee  Mes (drop down)  HoursEstimate\n",
       "495      -0.072644         0.313114      -0.188041\n",
       "164      -0.072644        -0.642575       3.105470\n",
       "616      -0.072644         2.224492      -0.682067\n",
       "438      -0.072644         0.313114      -0.682067\n",
       "211      -0.072644        -0.642575       4.093523"
      ]
     },
     "execution_count": 40,
     "metadata": {},
     "output_type": "execute_result"
    }
   ],
   "source": [
    "# show a part of the normalized data\n",
    "normed_train_data.head()"
   ]
  },
  {
   "cell_type": "markdown",
   "metadata": {},
   "source": [
    "## Building the Neural Network Model"
   ]
  },
  {
   "cell_type": "markdown",
   "metadata": {},
   "source": [
    "## Firts Model\n",
    "Two hidden layers with 50 neurons each\n",
    "\n",
    "Learning rate at 0.001"
   ]
  },
  {
   "cell_type": "code",
   "execution_count": 41,
   "metadata": {},
   "outputs": [],
   "source": [
    "def build_first_model_two_hidden_layers():\n",
    "    model = Sequential(name = \"FirstModelTwoHiddenLayers\")\n",
    "\n",
    "    # Input layer\n",
    "    model.add(Dense(10, input_shape = (normed_train_data.shape[1],)))\n",
    "\n",
    "    # Hidden layer \n",
    "    model.add(Dense(50, Activation('relu'), name='hidden_layer_1'))\n",
    "    model.add(Dense(50, Activation('relu'), name='hidden_layer_2'))\n",
    "\n",
    "    # Output layer \n",
    "    model.add(Dense(1))\n",
    "\n",
    "    learnig_rate = 0.001\n",
    "    optimizer = optimizers.RMSprop(learning_rate=learnig_rate)\n",
    "    model.compile(\n",
    "        loss='mse',\n",
    "        optimizer=optimizer,\n",
    "        metrics=['mae', 'mse']\n",
    "    )\n",
    "\n",
    "    return model"
   ]
  },
  {
   "cell_type": "markdown",
   "metadata": {},
   "source": [
    "### Second Model\n",
    "\n",
    "Three hidden layers with 32, 64 and 128 neurons, respectively\n",
    "\n",
    "Learning rate at 0.01"
   ]
  },
  {
   "cell_type": "code",
   "execution_count": 42,
   "metadata": {},
   "outputs": [],
   "source": [
    "def build_second_model_three_hidden_layers():\n",
    "    model = Sequential(name = \"SecondModelThreeHiddenLayers\")\n",
    "\n",
    "    # Input layer\n",
    "    model.add(Dense(10, input_shape = (normed_train_data.shape[1],)))\n",
    "\n",
    "    # Hidden layer \n",
    "    model.add(Dense(32, Activation('relu'), name='hidden_layer_1'))\n",
    "    model.add(Dense(64, Activation('relu'), name='hidden_layer_2'))\n",
    "    model.add(Dense(128, Activation('relu'), name='hidden_layer_3'))\n",
    "\n",
    "    # Output layer \n",
    "    model.add(Dense(1))\n",
    "\n",
    "    learnig_rate = 0.01\n",
    "    optimizer = optimizers.RMSprop(learning_rate=learnig_rate)\n",
    "    model.compile(\n",
    "        loss='mse',\n",
    "        optimizer=optimizer,\n",
    "        metrics=['mae', 'mse']\n",
    "    )\n",
    "\n",
    "    return model"
   ]
  },
  {
   "cell_type": "markdown",
   "metadata": {},
   "source": [
    "### Choose the model\n",
    "\n",
    "To choose the model uncomment the line of the one that you want yo fit"
   ]
  },
  {
   "cell_type": "code",
   "execution_count": 43,
   "metadata": {},
   "outputs": [],
   "source": [
    "model = build_first_model_two_hidden_layers()\n",
    "# model = build_second_model_three_hidden_layers()"
   ]
  },
  {
   "cell_type": "markdown",
   "metadata": {},
   "source": [
    "Test the model before training (this will use the initial weights) which in fact will generate random values. We will take the first 10 rows"
   ]
  },
  {
   "cell_type": "code",
   "execution_count": 44,
   "metadata": {},
   "outputs": [
    {
     "name": "stdout",
     "output_type": "stream",
     "text": [
      "1/1 [==============================] - 0s 164ms/step\n"
     ]
    },
    {
     "data": {
      "text/plain": [
       "array([[ 0.12612934],\n",
       "       [ 0.25441253],\n",
       "       [ 0.8336539 ],\n",
       "       [ 0.20114991],\n",
       "       [ 0.32925165],\n",
       "       [ 0.01179243],\n",
       "       [ 0.62918353],\n",
       "       [ 0.00951844],\n",
       "       [-0.00341669],\n",
       "       [ 0.02040142]], dtype=float32)"
      ]
     },
     "execution_count": 44,
     "metadata": {},
     "output_type": "execute_result"
    }
   ],
   "source": [
    "example_batch = normed_train_data[:10]\n",
    "example_result = model.predict(example_batch)\n",
    "example_result"
   ]
  },
  {
   "cell_type": "markdown",
   "metadata": {},
   "source": [
    "Save checkpoints during training"
   ]
  },
  {
   "cell_type": "code",
   "execution_count": 45,
   "metadata": {},
   "outputs": [],
   "source": [
    "checkpoint_path = r\".\\checkpoint_logs\\clickup\\data.ckpt\"\n",
    "\n",
    "# Create a callback that saves the model's weights\n",
    "ckpt_callback = tf.keras.callbacks.ModelCheckpoint(filepath=checkpoint_path,\n",
    "                                                 monitor='val_loss', # or val_accuracy if you have it.\n",
    "                                                 save_best_only=True, # Default false. If you don't change the file name then the output will be overritten at each step and only the last model will be saved.\n",
    "                                                 save_weights_only=True, # True => model.save_weights (weights and no structure, you need JSON file for structure), False => model.save (saves weights & structure)\n",
    "                                                 verbose=0,\n",
    "                                                  )"
   ]
  },
  {
   "cell_type": "markdown",
   "metadata": {},
   "source": [
    "## Model training"
   ]
  },
  {
   "cell_type": "code",
   "execution_count": 61,
   "metadata": {},
   "outputs": [
    {
     "name": "stdout",
     "output_type": "stream",
     "text": [
      "Summary of the model\n",
      "Model: \"FirstModelTwoHiddenLayers\"\n",
      "_________________________________________________________________\n",
      " Layer (type)                Output Shape              Param #   \n",
      "=================================================================\n",
      " dense_4 (Dense)             (None, 10)                40        \n",
      "                                                                 \n",
      " hidden_layer_1 (Dense)      (None, 50)                550       \n",
      "                                                                 \n",
      " hidden_layer_2 (Dense)      (None, 50)                2550      \n",
      "                                                                 \n",
      " dense_5 (Dense)             (None, 1)                 51        \n",
      "                                                                 \n",
      "=================================================================\n",
      "Total params: 3191 (12.46 KB)\n",
      "Trainable params: 3191 (12.46 KB)\n",
      "Non-trainable params: 0 (0.00 Byte)\n",
      "_________________________________________________________________\n",
      "\n",
      "Epoch: 0, loss:3.9465,  mae:1.0996,  mse:3.9465,  val_loss:33.6594,  val_mae:2.1921,  val_mse:33.6594,  \n",
      "....................................................................................................\n",
      "Epoch: 100, loss:4.0697,  mae:1.1583,  mse:4.0697,  val_loss:35.4941,  val_mae:2.1655,  val_mse:35.4941,  \n",
      "....................................................................................................\n",
      "Epoch: 200, loss:4.9379,  mae:1.2464,  mse:4.9379,  val_loss:35.9765,  val_mae:2.2060,  val_mse:35.9765,  \n",
      "....................................................................................................\n",
      "Epoch: 300, loss:4.2513,  mae:1.0928,  mse:4.2513,  val_loss:38.2730,  val_mae:2.2319,  val_mse:38.2730,  \n",
      "....................................................................................................\n",
      "Epoch: 400, loss:4.2244,  mae:1.1153,  mse:4.2244,  val_loss:35.3425,  val_mae:2.2924,  val_mse:35.3425,  \n",
      "....................................................................................................\n",
      "Epoch: 500, loss:4.0622,  mae:1.0913,  mse:4.0622,  val_loss:39.8829,  val_mae:2.2288,  val_mse:39.8829,  \n",
      "....................................................................................................\n",
      "Epoch: 600, loss:3.1540,  mae:0.9659,  mse:3.1540,  val_loss:34.3922,  val_mae:2.1410,  val_mse:34.3922,  \n",
      "....................................................................................................\n",
      "Epoch: 700, loss:2.5743,  mae:0.9401,  mse:2.5743,  val_loss:35.9308,  val_mae:2.2211,  val_mse:35.9308,  \n",
      "....................................................................................................CPU times: total: 43.5 s\n",
      "Wall time: 1min 32s\n"
     ]
    }
   ],
   "source": [
    "%%time\n",
    "\n",
    "# for first model\n",
    "epochs = 800\n",
    "batch_size = 35\n",
    "\n",
    "# for second model\n",
    "# epochs = 500\n",
    "# batch_size = 40\n",
    "# for third model\n",
    "\n",
    "print(\"Summary of the model\")\n",
    "model.summary()\n",
    "\n",
    "history = model.fit(\n",
    "    normed_train_data,\n",
    "    train_label,\n",
    "    batch_size=batch_size,  \n",
    "    epochs=epochs, \n",
    "    verbose=0,\n",
    "    shuffle=True,\n",
    "    steps_per_epoch = int(normed_train_data.shape[0] / batch_size),\n",
    "    validation_data=(normed_validation_data, validation_label),\n",
    "    callbacks=[\n",
    "        tfdocs.modeling.EpochDots(),\n",
    "        ckpt_callback,\n",
    "    ]\n",
    ")"
   ]
  },
  {
   "cell_type": "code",
   "execution_count": 62,
   "metadata": {},
   "outputs": [
    {
     "name": "stdout",
     "output_type": "stream",
     "text": [
      "Summary of the results after each epoch:\n"
     ]
    },
    {
     "data": {
      "text/html": [
       "<div>\n",
       "<style scoped>\n",
       "    .dataframe tbody tr th:only-of-type {\n",
       "        vertical-align: middle;\n",
       "    }\n",
       "\n",
       "    .dataframe tbody tr th {\n",
       "        vertical-align: top;\n",
       "    }\n",
       "\n",
       "    .dataframe thead th {\n",
       "        text-align: right;\n",
       "    }\n",
       "</style>\n",
       "<table border=\"1\" class=\"dataframe\">\n",
       "  <thead>\n",
       "    <tr style=\"text-align: right;\">\n",
       "      <th></th>\n",
       "      <th>loss</th>\n",
       "      <th>mae</th>\n",
       "      <th>mse</th>\n",
       "      <th>val_loss</th>\n",
       "      <th>val_mae</th>\n",
       "      <th>val_mse</th>\n",
       "      <th>epoch</th>\n",
       "    </tr>\n",
       "  </thead>\n",
       "  <tbody>\n",
       "    <tr>\n",
       "      <th>795</th>\n",
       "      <td>4.171651</td>\n",
       "      <td>1.077648</td>\n",
       "      <td>4.171651</td>\n",
       "      <td>44.156200</td>\n",
       "      <td>2.285653</td>\n",
       "      <td>44.156200</td>\n",
       "      <td>795</td>\n",
       "    </tr>\n",
       "    <tr>\n",
       "      <th>796</th>\n",
       "      <td>4.011229</td>\n",
       "      <td>1.096669</td>\n",
       "      <td>4.011229</td>\n",
       "      <td>39.249615</td>\n",
       "      <td>2.326982</td>\n",
       "      <td>39.249615</td>\n",
       "      <td>796</td>\n",
       "    </tr>\n",
       "    <tr>\n",
       "      <th>797</th>\n",
       "      <td>3.416383</td>\n",
       "      <td>0.984343</td>\n",
       "      <td>3.416383</td>\n",
       "      <td>40.057072</td>\n",
       "      <td>2.243398</td>\n",
       "      <td>40.057072</td>\n",
       "      <td>797</td>\n",
       "    </tr>\n",
       "    <tr>\n",
       "      <th>798</th>\n",
       "      <td>4.022787</td>\n",
       "      <td>1.120111</td>\n",
       "      <td>4.022787</td>\n",
       "      <td>36.866562</td>\n",
       "      <td>2.311322</td>\n",
       "      <td>36.866562</td>\n",
       "      <td>798</td>\n",
       "    </tr>\n",
       "    <tr>\n",
       "      <th>799</th>\n",
       "      <td>4.070325</td>\n",
       "      <td>1.126959</td>\n",
       "      <td>4.070325</td>\n",
       "      <td>40.282196</td>\n",
       "      <td>2.235078</td>\n",
       "      <td>40.282196</td>\n",
       "      <td>799</td>\n",
       "    </tr>\n",
       "  </tbody>\n",
       "</table>\n",
       "</div>"
      ],
      "text/plain": [
       "         loss       mae       mse   val_loss   val_mae    val_mse  epoch\n",
       "795  4.171651  1.077648  4.171651  44.156200  2.285653  44.156200    795\n",
       "796  4.011229  1.096669  4.011229  39.249615  2.326982  39.249615    796\n",
       "797  3.416383  0.984343  3.416383  40.057072  2.243398  40.057072    797\n",
       "798  4.022787  1.120111  4.022787  36.866562  2.311322  36.866562    798\n",
       "799  4.070325  1.126959  4.070325  40.282196  2.235078  40.282196    799"
      ]
     },
     "execution_count": 62,
     "metadata": {},
     "output_type": "execute_result"
    }
   ],
   "source": [
    "print(\"Summary of the results after each epoch:\")\n",
    "history_dataset = pd.DataFrame(history.history)\n",
    "history_dataset['epoch'] = history.epoch\n",
    "history_dataset.tail()"
   ]
  },
  {
   "cell_type": "markdown",
   "metadata": {},
   "source": [
    "### Predicted and real values\n",
    "\n",
    "Here we will see the first 10 rows of the predicted data, comparing it with the real one"
   ]
  },
  {
   "cell_type": "code",
   "execution_count": 63,
   "metadata": {},
   "outputs": [
    {
     "name": "stdout",
     "output_type": "stream",
     "text": [
      "1/1 [==============================] - 0s 50ms/step\n",
      "Predicted Hours Logged\n"
     ]
    },
    {
     "data": {
      "text/plain": [
       "array([[ 4.263616  ],\n",
       "       [26.995945  ],\n",
       "       [ 2.0414257 ],\n",
       "       [ 1.3257941 ],\n",
       "       [-0.17306322],\n",
       "       [ 3.4029317 ],\n",
       "       [ 7.2961903 ],\n",
       "       [ 2.769933  ],\n",
       "       [ 7.3200197 ],\n",
       "       [ 5.0992494 ]], dtype=float32)"
      ]
     },
     "execution_count": 63,
     "metadata": {},
     "output_type": "execute_result"
    }
   ],
   "source": [
    "example_batch = normed_train_data[:10]\n",
    "example_result = model.predict(example_batch)\n",
    "print(\"Predicted Hours Logged\")\n",
    "example_result"
   ]
  },
  {
   "cell_type": "code",
   "execution_count": 64,
   "metadata": {},
   "outputs": [
    {
     "name": "stdout",
     "output_type": "stream",
     "text": [
      "Real Hours Logged\n"
     ]
    },
    {
     "data": {
      "text/plain": [
       "495     4.000000\n",
       "164    26.000000\n",
       "616     1.000000\n",
       "438     0.166667\n",
       "211     0.500000\n",
       "191     2.000000\n",
       "594     8.000000\n",
       "376     1.150000\n",
       "62      7.500000\n",
       "281     0.500000\n",
       "Name: HoursLogged, dtype: float64"
      ]
     },
     "execution_count": 64,
     "metadata": {},
     "output_type": "execute_result"
    }
   ],
   "source": [
    "print(\"Real Hours Logged\")\n",
    "train_label[:10]"
   ]
  },
  {
   "cell_type": "markdown",
   "metadata": {},
   "source": [
    "## Evaluating the model\n",
    "\n",
    "The metrics we choose to evaluate the model were **Mean Abs. Error** and **Mean squarred Error**\n",
    "\n",
    "We will graph the error metrics across epochs and then see how the model evalutes itself"
   ]
  },
  {
   "cell_type": "code",
   "execution_count": 65,
   "metadata": {},
   "outputs": [
    {
     "data": {
      "text/plain": [
       "Text(0, 0.5, 'MAE [Hours Logged]')"
      ]
     },
     "execution_count": 65,
     "metadata": {},
     "output_type": "execute_result"
    },
    {
     "data": {
      "image/png": "[encoded data removed]",
      "text/plain": [
       "<Figure size 640x480 with 1 Axes>"
      ]
     },
     "metadata": {},
     "output_type": "display_data"
    }
   ],
   "source": [
    "plotter = tfdocs.plots.HistoryPlotter(smoothing_std=2)\n",
    "plotter.plot({'Basic': history}, metric = \"mae\")\n",
    "plt.ylabel('MAE [Hours Logged]')"
   ]
  },
  {
   "cell_type": "code",
   "execution_count": 66,
   "metadata": {},
   "outputs": [
    {
     "name": "stdout",
     "output_type": "stream",
     "text": [
      "Error Rate on Train Sample\n",
      "12/12 - 0s - loss: 3.5308 - mae: 0.9837 - mse: 3.5308 - 152ms/epoch - 13ms/step\n",
      "Train set Mean Abs Error:  0.98 Hours Logged\n",
      "Train set Mean Squared Error:  3.53 Hours Logged\n"
     ]
    }
   ],
   "source": [
    "print(\"Error Rate on Train Sample\")\n",
    "loss, mae, mse = model.evaluate(normed_train_data, train_label, verbose=2)\n",
    "\n",
    "print(\"Train set Mean Abs Error: {:5.2f} Hours Logged\".format(mae))\n",
    "print(\"Train set Mean Squared Error: {:5.2f} Hours Logged\".format(mse))\n"
   ]
  },
  {
   "cell_type": "code",
   "execution_count": 67,
   "metadata": {},
   "outputs": [
    {
     "name": "stdout",
     "output_type": "stream",
     "text": [
      "Error Rate on Validation Sample\n",
      "7/7 - 0s - loss: 40.2822 - mae: 2.2351 - mse: 40.2822 - 82ms/epoch - 12ms/step\n",
      "Train set Mean Abs Error:  2.24 Hours Logged\n",
      "Train set Mean Squared Error: 40.28 Hours Logged\n"
     ]
    }
   ],
   "source": [
    "print(\"Error Rate on Validation Sample\")\n",
    "loss, mae, mse = model.evaluate(normed_validation_data, validation_label, verbose=2)\n",
    "\n",
    "print(\"Train set Mean Abs Error: {:5.2f} Hours Logged\".format(mae))\n",
    "print(\"Train set Mean Squared Error: {:5.2f} Hours Logged\".format(mse))"
   ]
  },
  {
   "cell_type": "markdown",
   "metadata": {},
   "source": [
    "## Predicting the data"
   ]
  },
  {
   "cell_type": "code",
   "execution_count": 68,
   "metadata": {},
   "outputs": [
    {
     "name": "stdout",
     "output_type": "stream",
     "text": [
      "2/2 [==============================] - 0s 11ms/step\n"
     ]
    },
    {
     "data": {
      "image/png": "[encoded data removed]",
      "text/plain": [
       "<Figure size 640x480 with 1 Axes>"
      ]
     },
     "metadata": {},
     "output_type": "display_data"
    }
   ],
   "source": [
    "test_predictions = model.predict(normed_test_data).flatten()\n",
    "\n",
    "axes = plt.axes(aspect='equal')\n",
    "plt.scatter(test_label, test_predictions)\n",
    "plt.xlabel('True Values [Hours Logged]')\n",
    "plt.ylabel('Predictions [Hours Logged]')\n",
    "lims = [0, 25]\n",
    "plt.xlim(lims)\n",
    "plt.ylim(lims)\n",
    "_ = plt.plot(lims, lims)\n"
   ]
  }
 ],
 "metadata": {
  "kernelspec": {
   "display_name": "Python 3",
   "language": "python",
   "name": "python3"
  },
  "language_info": {
   "codemirror_mode": {
    "name": "ipython",
    "version": 3
   },
   "file_extension": ".py",
   "mimetype": "text/x-python",
   "name": "python",
   "nbconvert_exporter": "python",
   "pygments_lexer": "ipython3",
   "version": "3.10.11"
  }
 },
 "nbformat": 4,
 "nbformat_minor": 2
}
