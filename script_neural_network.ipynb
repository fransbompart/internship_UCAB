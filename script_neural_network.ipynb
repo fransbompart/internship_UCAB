{
 "cells": [
  {
   "cell_type": "code",
   "execution_count": 86,
   "metadata": {},
   "outputs": [],
   "source": [
    "# imports\n",
    "import os\n",
    "# for the model\n",
    "import tensorflow as tf\n",
    "import tensorflow_docs as tfdocs\n",
    "import tensorflow_docs.plots\n",
    "import tensorflow_docs.modeling\n",
    "from tensorflow import keras\n",
    "from tensorflow.keras.models import Sequential\n",
    "from tensorflow.keras.layers import Activation, Dense, BatchNormalization, Dropout \n",
    "from tensorflow.keras import optimizers\n",
    "from sklearn.model_selection import train_test_split\n",
    "\n",
    "# for data manipulation and graphing\n",
    "import pathlib\n",
    "import numpy as np\n",
    "import matplotlib.pyplot as plt\n",
    "import pandas as pd\n",
    "import seaborn as sns\n",
    "\n",
    "tf.random.set_seed(42) # set seed for reproducibility\n",
    "tf.debugging.set_log_device_placement(False)"
   ]
  },
  {
   "cell_type": "markdown",
   "metadata": {},
   "source": [
    "## Data preprocessing"
   ]
  },
  {
   "cell_type": "code",
   "execution_count": 64,
   "metadata": {},
   "outputs": [
    {
     "data": {
      "text/html": [
       "<div>\n",
       "<style scoped>\n",
       "    .dataframe tbody tr th:only-of-type {\n",
       "        vertical-align: middle;\n",
       "    }\n",
       "\n",
       "    .dataframe tbody tr th {\n",
       "        vertical-align: top;\n",
       "    }\n",
       "\n",
       "    .dataframe thead th {\n",
       "        text-align: right;\n",
       "    }\n",
       "</style>\n",
       "<table border=\"1\" class=\"dataframe\">\n",
       "  <thead>\n",
       "    <tr style=\"text-align: right;\">\n",
       "      <th></th>\n",
       "      <th>Task ID</th>\n",
       "      <th>Assignee</th>\n",
       "      <th>TotalAssignee</th>\n",
       "      <th>Status</th>\n",
       "      <th>Time Estimate</th>\n",
       "      <th>Time Logged</th>\n",
       "      <th>Mes (drop down)</th>\n",
       "      <th>Hours Estimate</th>\n",
       "      <th>Hours Logged</th>\n",
       "    </tr>\n",
       "  </thead>\n",
       "  <tbody>\n",
       "    <tr>\n",
       "      <th>0</th>\n",
       "      <td>3cy8bv6</td>\n",
       "      <td>Andrea Rijana</td>\n",
       "      <td>1</td>\n",
       "      <td>COMPLETADO</td>\n",
       "      <td>16h 30m</td>\n",
       "      <td>16h 30m</td>\n",
       "      <td>3</td>\n",
       "      <td>16.5</td>\n",
       "      <td>16.5</td>\n",
       "    </tr>\n",
       "    <tr>\n",
       "      <th>1</th>\n",
       "      <td>3cy8c35</td>\n",
       "      <td>Andrea Rijana</td>\n",
       "      <td>1</td>\n",
       "      <td>COMPLETADO</td>\n",
       "      <td>14h</td>\n",
       "      <td>14h</td>\n",
       "      <td>3</td>\n",
       "      <td>14.0</td>\n",
       "      <td>14.0</td>\n",
       "    </tr>\n",
       "    <tr>\n",
       "      <th>2</th>\n",
       "      <td>3cy8c62</td>\n",
       "      <td>Andrea Rijana</td>\n",
       "      <td>1</td>\n",
       "      <td>COMPLETADO</td>\n",
       "      <td>4h 30m</td>\n",
       "      <td>4h 30m</td>\n",
       "      <td>4</td>\n",
       "      <td>4.5</td>\n",
       "      <td>4.5</td>\n",
       "    </tr>\n",
       "    <tr>\n",
       "      <th>3</th>\n",
       "      <td>3dv0hrf</td>\n",
       "      <td>Richard Pacheco</td>\n",
       "      <td>1</td>\n",
       "      <td>COMPLETADO</td>\n",
       "      <td>13h</td>\n",
       "      <td>13h</td>\n",
       "      <td>1</td>\n",
       "      <td>13.0</td>\n",
       "      <td>13.0</td>\n",
       "    </tr>\n",
       "    <tr>\n",
       "      <th>4</th>\n",
       "      <td>3dv0ht9</td>\n",
       "      <td>Richard Pacheco</td>\n",
       "      <td>1</td>\n",
       "      <td>COMPLETADO</td>\n",
       "      <td>6h</td>\n",
       "      <td>6h</td>\n",
       "      <td>1</td>\n",
       "      <td>6.0</td>\n",
       "      <td>6.0</td>\n",
       "    </tr>\n",
       "  </tbody>\n",
       "</table>\n",
       "</div>"
      ],
      "text/plain": [
       "   Task ID         Assignee  ...  Hours Estimate  Hours Logged\n",
       "0  3cy8bv6    Andrea Rijana  ...             16.5         16.5\n",
       "1  3cy8c35    Andrea Rijana  ...             14.0         14.0\n",
       "2  3cy8c62    Andrea Rijana  ...              4.5          4.5\n",
       "3  3dv0hrf  Richard Pacheco  ...             13.0         13.0\n",
       "4  3dv0ht9  Richard Pacheco  ...              6.0          6.0\n",
       "\n",
       "[5 rows x 9 columns]"
      ]
     },
     "execution_count": 64,
     "metadata": {},
     "output_type": "execute_result"
    }
   ],
   "source": [
    "# load the dataset\n",
    "original_dataset = pd.read_csv('data-clickup.csv')\n",
    "\n",
    "# just meanwhile\n",
    "original_dataset.rename(columns={'Actual Hours' : 'Hours Logged'}, inplace=True)\n",
    "\n",
    "# show the original data\n",
    "original_dataset.head()\n"
   ]
  },
  {
   "cell_type": "code",
   "execution_count": 65,
   "metadata": {},
   "outputs": [
    {
     "name": "stdout",
     "output_type": "stream",
     "text": [
      "<class 'pandas.core.frame.DataFrame'>\n",
      "RangeIndex: 634 entries, 0 to 633\n",
      "Data columns (total 9 columns):\n",
      " #   Column           Non-Null Count  Dtype  \n",
      "---  ------           --------------  -----  \n",
      " 0   Task ID          634 non-null    object \n",
      " 1   Assignee         631 non-null    object \n",
      " 2   TotalAssignee    634 non-null    int64  \n",
      " 3   Status           634 non-null    object \n",
      " 4   Time Estimate    634 non-null    object \n",
      " 5   Time Logged      634 non-null    object \n",
      " 6   Mes (drop down)  634 non-null    int64  \n",
      " 7   Hours Estimate   634 non-null    float64\n",
      " 8   Hours Logged     634 non-null    float64\n",
      "dtypes: float64(2), int64(2), object(5)\n",
      "memory usage: 44.7+ KB\n"
     ]
    }
   ],
   "source": [
    "# show the metadata\n",
    "original_dataset.info()"
   ]
  },
  {
   "cell_type": "code",
   "execution_count": 66,
   "metadata": {},
   "outputs": [
    {
     "name": "stdout",
     "output_type": "stream",
     "text": [
      "<class 'pandas.core.frame.DataFrame'>\n",
      "RangeIndex: 634 entries, 0 to 633\n",
      "Data columns (total 4 columns):\n",
      " #   Column           Non-Null Count  Dtype  \n",
      "---  ------           --------------  -----  \n",
      " 0   TotalAssignee    634 non-null    int64  \n",
      " 1   Mes (drop down)  634 non-null    int64  \n",
      " 2   Hours Estimate   634 non-null    float64\n",
      " 3   Hours Logged     634 non-null    float64\n",
      "dtypes: float64(2), int64(2)\n",
      "memory usage: 19.9 KB\n"
     ]
    }
   ],
   "source": [
    "# drop all the unnecessary columns\n",
    "clean_dataset = original_dataset.drop(columns=[\n",
    "    'Task ID',\n",
    "    'Assignee',\n",
    "    'Status',\n",
    "    'Time Estimate',\n",
    "    'Time Logged',  \n",
    "])\n",
    "\n",
    "# check if is necessary to drop any row with NaN/empty/null values\n",
    "clean_dataset.info()"
   ]
  },
  {
   "cell_type": "markdown",
   "metadata": {},
   "source": [
    "### Data sampling\n",
    "\n",
    "Split the data into train, test and validate samples to fit and evaluate the model\n",
    "\n",
    "The percentage of each one will be\n",
    "\n",
    "- 60% training\n",
    "- 20% testing\n",
    "- 20% validating"
   ]
  },
  {
   "cell_type": "code",
   "execution_count": 67,
   "metadata": {},
   "outputs": [
    {
     "name": "stdout",
     "output_type": "stream",
     "text": [
      "Samples shape\n",
      "    Train: (380, 4)\n",
      "    Test: (127, 4)\n",
      "    Validation: (127, 4)\n"
     ]
    }
   ],
   "source": [
    "train_dataset, temp_test_dataset = train_test_split(clean_dataset, test_size=0.4)\n",
    "\n",
    "validation_dataset, test_dataset = train_test_split(temp_test_dataset, test_size=0.5)\n",
    "\n",
    "print(\"Samples shape\")\n",
    "print(f\"    Train: {train_dataset.shape}\")\n",
    "print(f\"    Test: {test_dataset.shape}\")\n",
    "print(f\"    Validation: {validation_dataset.shape}\")\n"
   ]
  },
  {
   "cell_type": "markdown",
   "metadata": {},
   "source": [
    "### Data analysis\n",
    "\n",
    "Calculate the correlation and other statistics on the train dataset"
   ]
  },
  {
   "cell_type": "code",
   "execution_count": 68,
   "metadata": {},
   "outputs": [
    {
     "data": {
      "image/png": "[encoded data removed]",
      "text/plain": [
       "<Figure size 1200x800 with 2 Axes>"
      ]
     },
     "metadata": {},
     "output_type": "display_data"
    }
   ],
   "source": [
    "# correlation between the features and the target\n",
    "\n",
    "correlation_matrix = clean_dataset.corr()\n",
    "correlation_matrix['Hours Logged'].sort_values(ascending=False)\n",
    "\n",
    "# plot the correlation matrix\n",
    "plt.figure(figsize=(12, 8))\n",
    "sns.heatmap(correlation_matrix, annot=True, cmap='coolwarm')\n",
    "plt.title('Correlation Matrix')\n",
    "plt.show()"
   ]
  },
  {
   "cell_type": "code",
   "execution_count": 69,
   "metadata": {},
   "outputs": [
    {
     "data": {
      "text/plain": [
       "<seaborn.axisgrid.PairGrid at 0x1a6a9f1e0b0>"
      ]
     },
     "execution_count": 69,
     "metadata": {},
     "output_type": "execute_result"
    },
    {
     "data": {
      "image/png": "[encoded data removed]",
      "text/plain": [
       "<Figure size 750x750 with 12 Axes>"
      ]
     },
     "metadata": {},
     "output_type": "display_data"
    }
   ],
   "source": [
    "# correlation only between the features \n",
    "train_stats = train_dataset.describe()\n",
    "train_stats.pop(\"Hours Logged\")\n",
    "sns.pairplot(train_stats[train_stats.columns], diag_kind=\"kde\")"
   ]
  },
  {
   "cell_type": "code",
   "execution_count": 70,
   "metadata": {},
   "outputs": [
    {
     "data": {
      "text/html": [
       "<div>\n",
       "<style scoped>\n",
       "    .dataframe tbody tr th:only-of-type {\n",
       "        vertical-align: middle;\n",
       "    }\n",
       "\n",
       "    .dataframe tbody tr th {\n",
       "        vertical-align: top;\n",
       "    }\n",
       "\n",
       "    .dataframe thead th {\n",
       "        text-align: right;\n",
       "    }\n",
       "</style>\n",
       "<table border=\"1\" class=\"dataframe\">\n",
       "  <thead>\n",
       "    <tr style=\"text-align: right;\">\n",
       "      <th></th>\n",
       "      <th>count</th>\n",
       "      <th>mean</th>\n",
       "      <th>std</th>\n",
       "      <th>min</th>\n",
       "      <th>25%</th>\n",
       "      <th>50%</th>\n",
       "      <th>75%</th>\n",
       "      <th>max</th>\n",
       "    </tr>\n",
       "  </thead>\n",
       "  <tbody>\n",
       "    <tr>\n",
       "      <th>TotalAssignee</th>\n",
       "      <td>380.0</td>\n",
       "      <td>1.007895</td>\n",
       "      <td>0.088618</td>\n",
       "      <td>1.000000</td>\n",
       "      <td>1.0</td>\n",
       "      <td>1.0</td>\n",
       "      <td>1.0</td>\n",
       "      <td>2.0</td>\n",
       "    </tr>\n",
       "    <tr>\n",
       "      <th>Mes (drop down)</th>\n",
       "      <td>380.0</td>\n",
       "      <td>4.423684</td>\n",
       "      <td>2.150527</td>\n",
       "      <td>1.000000</td>\n",
       "      <td>3.0</td>\n",
       "      <td>4.0</td>\n",
       "      <td>6.0</td>\n",
       "      <td>9.0</td>\n",
       "    </tr>\n",
       "    <tr>\n",
       "      <th>Hours Estimate</th>\n",
       "      <td>380.0</td>\n",
       "      <td>5.066316</td>\n",
       "      <td>6.119963</td>\n",
       "      <td>0.166667</td>\n",
       "      <td>1.0</td>\n",
       "      <td>3.0</td>\n",
       "      <td>6.5</td>\n",
       "      <td>40.0</td>\n",
       "    </tr>\n",
       "  </tbody>\n",
       "</table>\n",
       "</div>"
      ],
      "text/plain": [
       "                 count      mean       std       min  25%  50%  75%   max\n",
       "TotalAssignee    380.0  1.007895  0.088618  1.000000  1.0  1.0  1.0   2.0\n",
       "Mes (drop down)  380.0  4.423684  2.150527  1.000000  3.0  4.0  6.0   9.0\n",
       "Hours Estimate   380.0  5.066316  6.119963  0.166667  1.0  3.0  6.5  40.0"
      ]
     },
     "execution_count": 70,
     "metadata": {},
     "output_type": "execute_result"
    }
   ],
   "source": [
    "# another interesting statistics \n",
    "train_stats = train_dataset.describe()\n",
    "train_stats.pop(\"Hours Logged\")\n",
    "train_stats = train_stats.transpose()\n",
    "train_stats"
   ]
  },
  {
   "cell_type": "markdown",
   "metadata": {},
   "source": [
    "### Feature prediction\n",
    "\n",
    "The label \"Hours Logged\" is the actual goal for our model, we will remove it from every sample and keep it apart"
   ]
  },
  {
   "cell_type": "code",
   "execution_count": 71,
   "metadata": {},
   "outputs": [],
   "source": [
    "train_label = train_dataset.pop('Hours Logged')\n",
    "test_label = test_dataset.pop('Hours Logged')\n",
    "validation_label = validation_dataset.pop('Hours Logged')"
   ]
  },
  {
   "cell_type": "markdown",
   "metadata": {},
   "source": [
    "### Data normalization/Scaling\n",
    "\n",
    "Subtract the mean of the training data and divide by the standard deviation of the training data."
   ]
  },
  {
   "cell_type": "code",
   "execution_count": 72,
   "metadata": {},
   "outputs": [],
   "source": [
    "def norm(x):\n",
    "    return (x - train_stats['mean']) / train_stats['std']\n",
    "\n",
    "normed_train_data = norm(train_dataset)\n",
    "normed_test_data = norm(test_dataset)\n",
    "normed_validation_data = norm(validation_dataset)"
   ]
  },
  {
   "cell_type": "code",
   "execution_count": 73,
   "metadata": {},
   "outputs": [
    {
     "data": {
      "text/html": [
       "<div>\n",
       "<style scoped>\n",
       "    .dataframe tbody tr th:only-of-type {\n",
       "        vertical-align: middle;\n",
       "    }\n",
       "\n",
       "    .dataframe tbody tr th {\n",
       "        vertical-align: top;\n",
       "    }\n",
       "\n",
       "    .dataframe thead th {\n",
       "        text-align: right;\n",
       "    }\n",
       "</style>\n",
       "<table border=\"1\" class=\"dataframe\">\n",
       "  <thead>\n",
       "    <tr style=\"text-align: right;\">\n",
       "      <th></th>\n",
       "      <th>TotalAssignee</th>\n",
       "      <th>Mes (drop down)</th>\n",
       "      <th>Hours Estimate</th>\n",
       "    </tr>\n",
       "  </thead>\n",
       "  <tbody>\n",
       "    <tr>\n",
       "      <th>355</th>\n",
       "      <td>-0.089088</td>\n",
       "      <td>-0.197014</td>\n",
       "      <td>-0.664435</td>\n",
       "    </tr>\n",
       "    <tr>\n",
       "      <th>295</th>\n",
       "      <td>-0.089088</td>\n",
       "      <td>0.267988</td>\n",
       "      <td>-0.174236</td>\n",
       "    </tr>\n",
       "    <tr>\n",
       "      <th>322</th>\n",
       "      <td>-0.089088</td>\n",
       "      <td>-0.197014</td>\n",
       "      <td>-0.786984</td>\n",
       "    </tr>\n",
       "    <tr>\n",
       "      <th>584</th>\n",
       "      <td>-0.089088</td>\n",
       "      <td>1.662995</td>\n",
       "      <td>-0.337635</td>\n",
       "    </tr>\n",
       "    <tr>\n",
       "      <th>231</th>\n",
       "      <td>-0.089088</td>\n",
       "      <td>-0.662016</td>\n",
       "      <td>-0.501035</td>\n",
       "    </tr>\n",
       "  </tbody>\n",
       "</table>\n",
       "</div>"
      ],
      "text/plain": [
       "     TotalAssignee  Mes (drop down)  Hours Estimate \n",
       "355      -0.089088        -0.197014        -0.664435\n",
       "295      -0.089088         0.267988        -0.174236\n",
       "322      -0.089088        -0.197014        -0.786984\n",
       "584      -0.089088         1.662995        -0.337635\n",
       "231      -0.089088        -0.662016        -0.501035"
      ]
     },
     "execution_count": 73,
     "metadata": {},
     "output_type": "execute_result"
    }
   ],
   "source": [
    "# show a part of the normalized data\n",
    "normed_train_data.head()"
   ]
  },
  {
   "cell_type": "markdown",
   "metadata": {},
   "source": [
    "## Building the Neural Network Model"
   ]
  },
  {
   "cell_type": "markdown",
   "metadata": {},
   "source": [
    "## Firts Model\n",
    "Two hidden layers with 50 neurons each"
   ]
  },
  {
   "cell_type": "code",
   "execution_count": 74,
   "metadata": {},
   "outputs": [
    {
     "name": "stdout",
     "output_type": "stream",
     "text": [
      "Summary of the model\n",
      "Model: \"FirstModelTwoHiddenLayers\"\n",
      "_________________________________________________________________\n"
     ]
    },
    {
     "name": "stdout",
     "output_type": "stream",
     "text": [
      " Layer (type)                Output Shape              Param #   \n",
      "=================================================================\n",
      " dense_12 (Dense)            (None, 10)                40        \n",
      "                                                                 \n",
      " dense_13 (Dense)            (None, 50)                550       \n",
      "                                                                 \n",
      " dense_14 (Dense)            (None, 50)                2550      \n",
      "                                                                 \n",
      " dense_15 (Dense)            (None, 1)                 51        \n",
      "                                                                 \n",
      "=================================================================\n",
      "Total params: 3191 (12.46 KB)\n",
      "Trainable params: 3191 (12.46 KB)\n",
      "Non-trainable params: 0 (0.00 Byte)\n",
      "_________________________________________________________________\n"
     ]
    }
   ],
   "source": [
    "def build_firts_model_two_hidden_layers():\n",
    "    model = Sequential(name = \"FirstModelTwoHiddenLayers\")\n",
    "\n",
    "    # Input layer\n",
    "    model.add(Dense(10, input_shape = (normed_train_data.shape[1],)))\n",
    "\n",
    "    # Hidden layer \n",
    "    model.add(Dense(50, Activation('relu')))\n",
    "    model.add(Dense(50, Activation('relu')))\n",
    "\n",
    "    # Output layer \n",
    "    model.add(Dense(1))\n",
    "\n",
    "    learnig_rate = 0.001\n",
    "    optimizer = optimizers.RMSprop(learning_rate=learnig_rate)\n",
    "    model.compile(\n",
    "        loss='mse',\n",
    "        optimizer=optimizer,\n",
    "        metrics=['mae', 'mse']\n",
    "    )\n",
    "\n",
    "    return model\n",
    "\n",
    "model = build_firts_model_two_hidden_layers()\n",
    "print(\"Summary of the model\")\n",
    "model.summary()\n",
    "\n"
   ]
  },
  {
   "cell_type": "markdown",
   "metadata": {},
   "source": [
    "Test the model before training (this will use the initial weights) which in fact will generate random values. We will take the first 10 rows"
   ]
  },
  {
   "cell_type": "code",
   "execution_count": 75,
   "metadata": {},
   "outputs": [
    {
     "name": "stdout",
     "output_type": "stream",
     "text": [
      "1/1 [==============================] - 0s 230ms/step\n"
     ]
    },
    {
     "data": {
      "text/plain": [
       "array([[-0.05597666],\n",
       "       [-0.03191815],\n",
       "       [-0.06339482],\n",
       "       [-0.2150632 ],\n",
       "       [-0.08371495],\n",
       "       [-0.06220605],\n",
       "       [-0.08891506],\n",
       "       [-0.07982253],\n",
       "       [-0.06339482],\n",
       "       [-0.25425193]], dtype=float32)"
      ]
     },
     "execution_count": 75,
     "metadata": {},
     "output_type": "execute_result"
    }
   ],
   "source": [
    "example_batch = normed_train_data[:10]\n",
    "example_result = model.predict(example_batch)\n",
    "example_result"
   ]
  },
  {
   "cell_type": "markdown",
   "metadata": {},
   "source": [
    "Save checkpoints during training"
   ]
  },
  {
   "cell_type": "code",
   "execution_count": 78,
   "metadata": {},
   "outputs": [],
   "source": [
    "checkpoint_path = r\".\\data-clickup.ckpt\"\n",
    "\n",
    "# Create a callback that saves the model's weights\n",
    "ckpt_callback = tf.keras.callbacks.ModelCheckpoint(filepath=checkpoint_path,\n",
    "                                                 monitor='val_loss', # or val_accuracy if you have it.\n",
    "                                                 save_best_only=True, # Default false. If you don't change the file name then the output will be overritten at each step and only the last model will be saved.\n",
    "                                                 save_weights_only=True, # True => model.save_weights (weights and no structure, you need JSON file for structure), False => model.save (saves weights & structure)\n",
    "                                                 verbose=0,\n",
    "                                                  )"
   ]
  },
  {
   "cell_type": "markdown",
   "metadata": {},
   "source": [
    "## Model training"
   ]
  },
  {
   "cell_type": "code",
   "execution_count": 102,
   "metadata": {},
   "outputs": [
    {
     "name": "stdout",
     "output_type": "stream",
     "text": [
      "Summary of the selected model\n",
      "Model: \"FirstModelTwoHiddenLayers\"\n",
      "_________________________________________________________________\n",
      " Layer (type)                Output Shape              Param #   \n",
      "=================================================================\n",
      " dense_96 (Dense)            (None, 10)                40        \n",
      "                                                                 \n",
      " dense_97 (Dense)            (None, 50)                550       \n",
      "                                                                 \n",
      " dense_98 (Dense)            (None, 50)                2550      \n",
      "                                                                 \n",
      " dense_99 (Dense)            (None, 1)                 51        \n",
      "                                                                 \n",
      "=================================================================\n",
      "Total params: 3191 (12.46 KB)\n",
      "Trainable params: 3191 (12.46 KB)\n",
      "Non-trainable params: 0 (0.00 Byte)\n",
      "_________________________________________________________________\n",
      "\n",
      "Epoch: 0, loss:51.9476,  mae:4.3751,  mse:51.9476,  val_loss:63.5994,  val_mae:4.7375,  val_mse:63.5994,  \n",
      "....................................................................................................\n",
      "Epoch: 100, loss:13.7570,  mae:1.6207,  mse:13.7570,  val_loss:13.3230,  val_mae:1.4868,  val_mse:13.3230,  \n",
      "....................................................................................................\n",
      "Epoch: 200, loss:12.7104,  mae:1.5546,  mse:12.7104,  val_loss:12.7649,  val_mae:1.5316,  val_mse:12.7649,  \n",
      "....................................................................................................\n",
      "Epoch: 300, loss:7.9680,  mae:1.3612,  mse:7.9680,  val_loss:12.9544,  val_mae:1.5748,  val_mse:12.9544,  \n",
      "....................................................................................................\n",
      "Epoch: 400, loss:6.1867,  mae:1.2754,  mse:6.1867,  val_loss:13.5625,  val_mae:1.6390,  val_mse:13.5625,  \n",
      "....................................................................................................CPU times: total: 27.2 s\n",
      "Wall time: 1min 2s\n"
     ]
    }
   ],
   "source": [
    "%%time\n",
    "epochs = 500 # number of iterations that the model will be fit it at once\n",
    "batch_size = 30 # number of samples that will be used to fit the model at once\n",
    "\n",
    "model = build_firts_model_two_hidden_layers()\n",
    "print(\"Summary of the selected model\")\n",
    "model.summary()\n",
    "\n",
    "history = model.fit(\n",
    "    normed_train_data,\n",
    "    train_label,\n",
    "    batch_size=batch_size,  \n",
    "    epochs=epochs, \n",
    "    verbose=0,\n",
    "    shuffle=True,\n",
    "    steps_per_epoch = int(normed_train_data.shape[0] / batch_size),\n",
    "    validation_data=(normed_validation_data, validation_label),\n",
    "    callbacks=[\n",
    "        tfdocs.modeling.EpochDots(),\n",
    "        ckpt_callback]\n",
    ")"
   ]
  },
  {
   "cell_type": "code",
   "execution_count": 103,
   "metadata": {},
   "outputs": [
    {
     "name": "stdout",
     "output_type": "stream",
     "text": [
      "Summary of the results after each epoch:\n"
     ]
    },
    {
     "data": {
      "text/html": [
       "<div>\n",
       "<style scoped>\n",
       "    .dataframe tbody tr th:only-of-type {\n",
       "        vertical-align: middle;\n",
       "    }\n",
       "\n",
       "    .dataframe tbody tr th {\n",
       "        vertical-align: top;\n",
       "    }\n",
       "\n",
       "    .dataframe thead th {\n",
       "        text-align: right;\n",
       "    }\n",
       "</style>\n",
       "<table border=\"1\" class=\"dataframe\">\n",
       "  <thead>\n",
       "    <tr style=\"text-align: right;\">\n",
       "      <th></th>\n",
       "      <th>loss</th>\n",
       "      <th>mae</th>\n",
       "      <th>mse</th>\n",
       "      <th>val_loss</th>\n",
       "      <th>val_mae</th>\n",
       "      <th>val_mse</th>\n",
       "      <th>epoch</th>\n",
       "    </tr>\n",
       "  </thead>\n",
       "  <tbody>\n",
       "    <tr>\n",
       "      <th>495</th>\n",
       "      <td>7.723767</td>\n",
       "      <td>1.346019</td>\n",
       "      <td>7.723767</td>\n",
       "      <td>13.966812</td>\n",
       "      <td>1.623211</td>\n",
       "      <td>13.966812</td>\n",
       "      <td>495</td>\n",
       "    </tr>\n",
       "    <tr>\n",
       "      <th>496</th>\n",
       "      <td>11.575407</td>\n",
       "      <td>1.574918</td>\n",
       "      <td>11.575407</td>\n",
       "      <td>13.626679</td>\n",
       "      <td>1.620623</td>\n",
       "      <td>13.626679</td>\n",
       "      <td>496</td>\n",
       "    </tr>\n",
       "    <tr>\n",
       "      <th>497</th>\n",
       "      <td>10.303738</td>\n",
       "      <td>1.513096</td>\n",
       "      <td>10.303738</td>\n",
       "      <td>14.083899</td>\n",
       "      <td>1.627209</td>\n",
       "      <td>14.083899</td>\n",
       "      <td>497</td>\n",
       "    </tr>\n",
       "    <tr>\n",
       "      <th>498</th>\n",
       "      <td>6.020568</td>\n",
       "      <td>1.396294</td>\n",
       "      <td>6.020568</td>\n",
       "      <td>14.097332</td>\n",
       "      <td>1.651043</td>\n",
       "      <td>14.097332</td>\n",
       "      <td>498</td>\n",
       "    </tr>\n",
       "    <tr>\n",
       "      <th>499</th>\n",
       "      <td>11.877634</td>\n",
       "      <td>1.536394</td>\n",
       "      <td>11.877634</td>\n",
       "      <td>14.081456</td>\n",
       "      <td>1.624510</td>\n",
       "      <td>14.081456</td>\n",
       "      <td>499</td>\n",
       "    </tr>\n",
       "  </tbody>\n",
       "</table>\n",
       "</div>"
      ],
      "text/plain": [
       "          loss       mae        mse   val_loss   val_mae    val_mse  epoch\n",
       "495   7.723767  1.346019   7.723767  13.966812  1.623211  13.966812    495\n",
       "496  11.575407  1.574918  11.575407  13.626679  1.620623  13.626679    496\n",
       "497  10.303738  1.513096  10.303738  14.083899  1.627209  14.083899    497\n",
       "498   6.020568  1.396294   6.020568  14.097332  1.651043  14.097332    498\n",
       "499  11.877634  1.536394  11.877634  14.081456  1.624510  14.081456    499"
      ]
     },
     "execution_count": 103,
     "metadata": {},
     "output_type": "execute_result"
    }
   ],
   "source": [
    "print(\"Summary of the results after each epoch:\")\n",
    "history_dataset = pd.DataFrame(history.history)\n",
    "history_dataset['epoch'] = history.epoch\n",
    "history_dataset.tail()"
   ]
  },
  {
   "cell_type": "markdown",
   "metadata": {},
   "source": [
    "### Predicted and real values\n",
    "\n",
    "Here we will see the first 10 rows of the predicted data, comparing it with the real one"
   ]
  },
  {
   "cell_type": "code",
   "execution_count": 105,
   "metadata": {},
   "outputs": [
    {
     "name": "stdout",
     "output_type": "stream",
     "text": [
      "1/1 [==============================] - 0s 70ms/step\n",
      "Predicted Hours Logged\n"
     ]
    },
    {
     "data": {
      "text/plain": [
       "array([[1.0418551 ],\n",
       "       [4.333436  ],\n",
       "       [0.28024668],\n",
       "       [2.9008002 ],\n",
       "       [2.6011133 ],\n",
       "       [5.500915  ],\n",
       "       [2.0055606 ],\n",
       "       [3.6659925 ],\n",
       "       [0.28024668],\n",
       "       [1.5801457 ]], dtype=float32)"
      ]
     },
     "execution_count": 105,
     "metadata": {},
     "output_type": "execute_result"
    }
   ],
   "source": [
    "example_batch = normed_train_data[:10]\n",
    "example_result = model.predict(example_batch)\n",
    "print(\"Predicted Hours Logged\")\n",
    "example_result"
   ]
  },
  {
   "cell_type": "code",
   "execution_count": 106,
   "metadata": {},
   "outputs": [
    {
     "name": "stdout",
     "output_type": "stream",
     "text": [
      "Real Hours Logged\n"
     ]
    },
    {
     "data": {
      "text/plain": [
       "355     1.00\n",
       "295     4.00\n",
       "322     0.25\n",
       "584     3.00\n",
       "231    10.00\n",
       "107     6.00\n",
       "538     1.00\n",
       "499     1.00\n",
       "320     0.25\n",
       "591     1.50\n",
       "Name: Hours Logged, dtype: float64"
      ]
     },
     "execution_count": 106,
     "metadata": {},
     "output_type": "execute_result"
    }
   ],
   "source": [
    "print(\"Real Hours Logged\")\n",
    "train_label[:10]"
   ]
  }
 ],
 "metadata": {
  "kernelspec": {
   "display_name": "Python 3",
   "language": "python",
   "name": "python3"
  },
  "language_info": {
   "codemirror_mode": {
    "name": "ipython",
    "version": 3
   },
   "file_extension": ".py",
   "mimetype": "text/x-python",
   "name": "python",
   "nbconvert_exporter": "python",
   "pygments_lexer": "ipython3",
   "version": "3.10.11"
  }
 },
 "nbformat": 4,
 "nbformat_minor": 2
}
