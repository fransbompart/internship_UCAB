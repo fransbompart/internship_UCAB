{
 "cells": [
  {
   "cell_type": "code",
   "execution_count": 1,
   "metadata": {},
   "outputs": [],
   "source": [
    "# for the model\n",
    "import tensorflow as tf\n",
    "import tensorflow_docs as tfdocs\n",
    "import tensorflow_docs.plots\n",
    "import tensorflow_docs.modeling\n",
    "from tensorflow import keras\n",
    "from tensorflow.keras.models import Sequential\n",
    "from tensorflow.keras.layers import *\n",
    "from tensorflow.keras import optimizers, regularizers\n",
    "from tensorflow.keras.callbacks import TensorBoard\n",
    "\n",
    "from sklearn.model_selection import train_test_split, KFold, GridSearchCV\n",
    "from sklearn.svm import SVR\n",
    "from sklearn.metrics import mean_squared_error, mean_absolute_error\n",
    "\n",
    "# for data manipulation and graphing\n",
    "from IPython.display import display, HTML\n",
    "\n",
    "import numpy as np\n",
    "import matplotlib.pyplot as plt\n",
    "import pandas as pd\n",
    "import seaborn as sns\n",
    "import glob\n",
    "\n",
    "import netron\n",
    "\n",
    "tf.random.set_seed(42) # set seed for reproducibility\n",
    "tf.debugging.set_log_device_placement(False)"
   ]
  },
  {
   "cell_type": "markdown",
   "metadata": {},
   "source": [
    "## Data preprocessing"
   ]
  },
  {
   "cell_type": "markdown",
   "metadata": {},
   "source": [
    "Taking all the csv files from the directory and joining them in one dataset"
   ]
  },
  {
   "cell_type": "code",
   "execution_count": 2,
   "metadata": {},
   "outputs": [],
   "source": [
    "# Obtén una lista de todos los archivos CSV en la carpeta\n",
    "csv_files = glob.glob('C:/Users/franc/pasantia_IA/datasets/*.csv')\n",
    "\n",
    "datasets = [pd.read_csv(file) for file in csv_files]\n",
    "\n",
    "dataset = pd.concat(datasets, ignore_index=True)"
   ]
  },
  {
   "cell_type": "code",
   "execution_count": 3,
   "metadata": {},
   "outputs": [
    {
     "data": {
      "text/html": [
       "<div>\n",
       "<style scoped>\n",
       "    .dataframe tbody tr th:only-of-type {\n",
       "        vertical-align: middle;\n",
       "    }\n",
       "\n",
       "    .dataframe tbody tr th {\n",
       "        vertical-align: top;\n",
       "    }\n",
       "\n",
       "    .dataframe thead th {\n",
       "        text-align: right;\n",
       "    }\n",
       "</style>\n",
       "<table border=\"1\" class=\"dataframe\">\n",
       "  <thead>\n",
       "    <tr style=\"text-align: right;\">\n",
       "      <th></th>\n",
       "      <th>ID</th>\n",
       "      <th>Issue_Key</th>\n",
       "      <th>Type</th>\n",
       "      <th>Status</th>\n",
       "      <th>Resolution</th>\n",
       "      <th>Creation_Date</th>\n",
       "      <th>Resolution_Date</th>\n",
       "      <th>Story_Point</th>\n",
       "      <th>Timespent</th>\n",
       "      <th>In_Progress_Minutes</th>\n",
       "      <th>Total_Effort_Minutes</th>\n",
       "      <th>Resolution_Time_Minutes</th>\n",
       "    </tr>\n",
       "  </thead>\n",
       "  <tbody>\n",
       "    <tr>\n",
       "      <th>0</th>\n",
       "      <td>384741</td>\n",
       "      <td>APIKIT-77</td>\n",
       "      <td>Enhancement Request</td>\n",
       "      <td>Closed</td>\n",
       "      <td>Fixed</td>\n",
       "      <td>2013-05-03 18:25:11</td>\n",
       "      <td>2014-08-14 23:32:03</td>\n",
       "      <td>8.0</td>\n",
       "      <td>NaN</td>\n",
       "      <td>0</td>\n",
       "      <td>0</td>\n",
       "      <td>674226</td>\n",
       "    </tr>\n",
       "    <tr>\n",
       "      <th>1</th>\n",
       "      <td>384774</td>\n",
       "      <td>APIKIT-31</td>\n",
       "      <td>Bug</td>\n",
       "      <td>Closed</td>\n",
       "      <td>Fixed</td>\n",
       "      <td>2013-07-09 00:25:17</td>\n",
       "      <td>2013-07-15 20:30:29</td>\n",
       "      <td>1.0</td>\n",
       "      <td>NaN</td>\n",
       "      <td>0</td>\n",
       "      <td>0</td>\n",
       "      <td>9845</td>\n",
       "    </tr>\n",
       "    <tr>\n",
       "      <th>2</th>\n",
       "      <td>384770</td>\n",
       "      <td>APIKIT-38</td>\n",
       "      <td>Bug</td>\n",
       "      <td>Closed</td>\n",
       "      <td>Fixed</td>\n",
       "      <td>2013-07-10 02:35:20</td>\n",
       "      <td>2013-08-16 19:52:51</td>\n",
       "      <td>8.0</td>\n",
       "      <td>NaN</td>\n",
       "      <td>0</td>\n",
       "      <td>0</td>\n",
       "      <td>54317</td>\n",
       "    </tr>\n",
       "    <tr>\n",
       "      <th>3</th>\n",
       "      <td>384769</td>\n",
       "      <td>APIKIT-39</td>\n",
       "      <td>Bug</td>\n",
       "      <td>Closed</td>\n",
       "      <td>Fixed</td>\n",
       "      <td>2013-07-10 03:10:02</td>\n",
       "      <td>2013-07-19 18:34:24</td>\n",
       "      <td>2.0</td>\n",
       "      <td>NaN</td>\n",
       "      <td>0</td>\n",
       "      <td>0</td>\n",
       "      <td>13884</td>\n",
       "    </tr>\n",
       "    <tr>\n",
       "      <th>4</th>\n",
       "      <td>384767</td>\n",
       "      <td>APIKIT-41</td>\n",
       "      <td>Bug</td>\n",
       "      <td>Closed</td>\n",
       "      <td>Fixed</td>\n",
       "      <td>2013-07-10 19:44:35</td>\n",
       "      <td>2013-07-15 20:27:39</td>\n",
       "      <td>1.0</td>\n",
       "      <td>NaN</td>\n",
       "      <td>54</td>\n",
       "      <td>54</td>\n",
       "      <td>7243</td>\n",
       "    </tr>\n",
       "  </tbody>\n",
       "</table>\n",
       "</div>"
      ],
      "text/plain": [
       "       ID  Issue_Key                 Type  Status Resolution  \\\n",
       "0  384741  APIKIT-77  Enhancement Request  Closed      Fixed   \n",
       "1  384774  APIKIT-31                  Bug  Closed      Fixed   \n",
       "2  384770  APIKIT-38                  Bug  Closed      Fixed   \n",
       "3  384769  APIKIT-39                  Bug  Closed      Fixed   \n",
       "4  384767  APIKIT-41                  Bug  Closed      Fixed   \n",
       "\n",
       "         Creation_Date      Resolution_Date  Story_Point  Timespent  \\\n",
       "0  2013-05-03 18:25:11  2014-08-14 23:32:03          8.0        NaN   \n",
       "1  2013-07-09 00:25:17  2013-07-15 20:30:29          1.0        NaN   \n",
       "2  2013-07-10 02:35:20  2013-08-16 19:52:51          8.0        NaN   \n",
       "3  2013-07-10 03:10:02  2013-07-19 18:34:24          2.0        NaN   \n",
       "4  2013-07-10 19:44:35  2013-07-15 20:27:39          1.0        NaN   \n",
       "\n",
       "   In_Progress_Minutes  Total_Effort_Minutes  Resolution_Time_Minutes  \n",
       "0                    0                     0                   674226  \n",
       "1                    0                     0                     9845  \n",
       "2                    0                     0                    54317  \n",
       "3                    0                     0                    13884  \n",
       "4                   54                    54                     7243  "
      ]
     },
     "execution_count": 3,
     "metadata": {},
     "output_type": "execute_result"
    }
   ],
   "source": [
    "dataset.head()"
   ]
  },
  {
   "cell_type": "code",
   "execution_count": 4,
   "metadata": {},
   "outputs": [
    {
     "name": "stdout",
     "output_type": "stream",
     "text": [
      "<class 'pandas.core.frame.DataFrame'>\n",
      "RangeIndex: 54109 entries, 0 to 54108\n",
      "Data columns (total 12 columns):\n",
      " #   Column                   Non-Null Count  Dtype  \n",
      "---  ------                   --------------  -----  \n",
      " 0   ID                       54109 non-null  int64  \n",
      " 1   Issue_Key                54109 non-null  object \n",
      " 2   Type                     47205 non-null  object \n",
      " 3   Status                   47205 non-null  object \n",
      " 4   Resolution               54109 non-null  object \n",
      " 5   Creation_Date            47205 non-null  object \n",
      " 6   Resolution_Date          47186 non-null  object \n",
      " 7   Story_Point              47824 non-null  float64\n",
      " 8   Timespent                7540 non-null   float64\n",
      " 9   In_Progress_Minutes      54109 non-null  int64  \n",
      " 10  Total_Effort_Minutes     54109 non-null  int64  \n",
      " 11  Resolution_Time_Minutes  54109 non-null  int64  \n",
      "dtypes: float64(2), int64(4), object(6)\n",
      "memory usage: 5.0+ MB\n"
     ]
    }
   ],
   "source": [
    "dataset.info()"
   ]
  },
  {
   "cell_type": "markdown",
   "metadata": {},
   "source": [
    "### Cleaning the data\n",
    "\n",
    "We will select only the columns that are high relevant to this study, also we will drop all the samples with NaN values, the ones that has zero in time_effort or with a time higher that 100 hours"
   ]
  },
  {
   "cell_type": "code",
   "execution_count": 5,
   "metadata": {},
   "outputs": [],
   "source": [
    "clean_dataset = dataset[[\n",
    "    'Type',\n",
    "    'Story_Point',\n",
    "    # 'Total_Effort_Minutes',\n",
    "    # 'Resolution_Time_Minutes',\n",
    "    'Timespent'\n",
    "]]\n",
    "\n",
    "clean_dataset = clean_dataset[\n",
    "    (clean_dataset['Type'] != 'Question') |\n",
    "    (clean_dataset['Type'] != 'Epic') |\n",
    "    (clean_dataset['Type'] != 'Documentation') |\n",
    "    (clean_dataset['Type'] != 'Suggestion') |\n",
    "    (clean_dataset['Type'] != 'Wish')\n",
    "]\n",
    "\n",
    "clean_dataset = clean_dataset[[\n",
    "    'Story_Point',\n",
    "    'Timespent'\n",
    "]]"
   ]
  },
  {
   "cell_type": "markdown",
   "metadata": {},
   "source": [
    "Clean all the NaN values"
   ]
  },
  {
   "cell_type": "code",
   "execution_count": 6,
   "metadata": {},
   "outputs": [],
   "source": [
    "clean_dataset = clean_dataset.dropna()"
   ]
  },
  {
   "cell_type": "markdown",
   "metadata": {},
   "source": [
    "Clean all the values with high story points"
   ]
  },
  {
   "cell_type": "code",
   "execution_count": 7,
   "metadata": {},
   "outputs": [
    {
     "name": "stdout",
     "output_type": "stream",
     "text": [
      "Min: 0.0, Max: 9430.0\n",
      "Min: 0.0, Max: 100.0\n"
     ]
    }
   ],
   "source": [
    "clean_dataset['Story_Point'] = clean_dataset['Story_Point'].round().astype(int)\n",
    "\n",
    "min_value = clean_dataset['Timespent'].min()\n",
    "max_value = clean_dataset['Timespent'].max()\n",
    "\n",
    "print(f'Min: {min_value}, Max: {max_value}')\n",
    "\n",
    "clean_dataset = clean_dataset[clean_dataset['Timespent'] <= 100]\n",
    "clean_dataset = clean_dataset[(clean_dataset['Story_Point'] != 0) & (clean_dataset['Story_Point'] < 17)]\n",
    "\n",
    "min_value = clean_dataset['Timespent'].min()\n",
    "max_value = clean_dataset['Timespent'].max()\n",
    "print(f'Min: {min_value}, Max: {max_value}')"
   ]
  },
  {
   "cell_type": "code",
   "execution_count": 8,
   "metadata": {},
   "outputs": [
    {
     "name": "stdout",
     "output_type": "stream",
     "text": [
      "<class 'pandas.core.frame.DataFrame'>\n",
      "Index: 267 entries, 934 to 53425\n",
      "Data columns (total 2 columns):\n",
      " #   Column       Non-Null Count  Dtype  \n",
      "---  ------       --------------  -----  \n",
      " 0   Story_Point  267 non-null    int32  \n",
      " 1   Timespent    267 non-null    float64\n",
      "dtypes: float64(1), int32(1)\n",
      "memory usage: 5.2 KB\n"
     ]
    }
   ],
   "source": [
    "clean_dataset.info()"
   ]
  },
  {
   "cell_type": "markdown",
   "metadata": {},
   "source": [
    "### Data sampling\n",
    "\n",
    "Split the data into train, test and validate samples to fit and evaluate the model\n",
    "\n",
    "The percentage of each one will be\n",
    "\n",
    "- 60% training\n",
    "- 20% testing\n",
    "- 20% validating"
   ]
  },
  {
   "cell_type": "code",
   "execution_count": 9,
   "metadata": {},
   "outputs": [
    {
     "name": "stdout",
     "output_type": "stream",
     "text": [
      "Samples shape\n",
      "    Train: (213, 2)\n",
      "    Test: (27, 2)\n",
      "    Validation: (27, 2)\n"
     ]
    }
   ],
   "source": [
    "train_dataset, temp_test_dataset = train_test_split(clean_dataset, test_size=0.20)\n",
    "\n",
    "validation_dataset, test_dataset = train_test_split(temp_test_dataset, test_size=0.50)\n",
    "\n",
    "print(\"Samples shape\")\n",
    "print(f\"    Train: {train_dataset.shape}\")\n",
    "print(f\"    Test: {test_dataset.shape}\")\n",
    "print(f\"    Validation: {validation_dataset.shape}\")"
   ]
  },
  {
   "cell_type": "markdown",
   "metadata": {},
   "source": [
    "### Data analysis\n",
    "\n",
    "Calculate the correlation and other statistics on the train dataset"
   ]
  },
  {
   "cell_type": "code",
   "execution_count": 10,
   "metadata": {},
   "outputs": [
    {
     "data": {
      "image/png": "[encoded data removed]",
      "text/plain": [
       "<Figure size 1200x400 with 2 Axes>"
      ]
     },
     "metadata": {},
     "output_type": "display_data"
    }
   ],
   "source": [
    "# correlation between the features and the target\n",
    "correlation_matrix = clean_dataset.corr()\n",
    "correlation_matrix['Timespent'].sort_values(ascending=False)\n",
    "\n",
    "# plot the correlation matrix\n",
    "plt.figure(figsize=(12, 4))\n",
    "sns.heatmap(correlation_matrix, annot=True, cmap='coolwarm')\n",
    "plt.title('Correlation Matrix')\n",
    "plt.show()"
   ]
  },
  {
   "cell_type": "code",
   "execution_count": 11,
   "metadata": {},
   "outputs": [
    {
     "data": {
      "text/html": [
       "<div>\n",
       "<style scoped>\n",
       "    .dataframe tbody tr th:only-of-type {\n",
       "        vertical-align: middle;\n",
       "    }\n",
       "\n",
       "    .dataframe tbody tr th {\n",
       "        vertical-align: top;\n",
       "    }\n",
       "\n",
       "    .dataframe thead th {\n",
       "        text-align: right;\n",
       "    }\n",
       "</style>\n",
       "<table border=\"1\" class=\"dataframe\">\n",
       "  <thead>\n",
       "    <tr style=\"text-align: right;\">\n",
       "      <th></th>\n",
       "      <th>count</th>\n",
       "      <th>mean</th>\n",
       "      <th>std</th>\n",
       "      <th>min</th>\n",
       "      <th>25%</th>\n",
       "      <th>50%</th>\n",
       "      <th>75%</th>\n",
       "      <th>max</th>\n",
       "    </tr>\n",
       "  </thead>\n",
       "  <tbody>\n",
       "    <tr>\n",
       "      <th>Story_Point</th>\n",
       "      <td>213.0</td>\n",
       "      <td>2.061033</td>\n",
       "      <td>1.82773</td>\n",
       "      <td>1.0</td>\n",
       "      <td>1.0</td>\n",
       "      <td>1.0</td>\n",
       "      <td>3.0</td>\n",
       "      <td>12.0</td>\n",
       "    </tr>\n",
       "  </tbody>\n",
       "</table>\n",
       "</div>"
      ],
      "text/plain": [
       "             count      mean      std  min  25%  50%  75%   max\n",
       "Story_Point  213.0  2.061033  1.82773  1.0  1.0  1.0  3.0  12.0"
      ]
     },
     "execution_count": 11,
     "metadata": {},
     "output_type": "execute_result"
    }
   ],
   "source": [
    "# another interesting statistics like the count, mean, std, min, quartiles and max, all per feature\n",
    "train_stats = train_dataset.describe()\n",
    "train_stats.pop('Timespent')\n",
    "train_stats = train_stats.transpose()\n",
    "train_stats"
   ]
  },
  {
   "cell_type": "markdown",
   "metadata": {},
   "source": [
    "### Feature prediction\n",
    "\n",
    "The label \"Hours Logged\" is the actual goal for our model, we will remove it from every sample and keep it apart"
   ]
  },
  {
   "cell_type": "code",
   "execution_count": 12,
   "metadata": {},
   "outputs": [],
   "source": [
    "train_label = train_dataset.pop('Timespent')\n",
    "test_label = test_dataset.pop('Timespent')\n",
    "validation_label = validation_dataset.pop('Timespent')"
   ]
  },
  {
   "cell_type": "markdown",
   "metadata": {},
   "source": [
    "### Data normalization/Scaling\n",
    "\n",
    "Subtract the mean of the training data and divide by the standard deviation of the training data."
   ]
  },
  {
   "cell_type": "code",
   "execution_count": 13,
   "metadata": {},
   "outputs": [],
   "source": [
    "def norm(x):\n",
    "    return (x - train_stats['mean']) / train_stats['std']\n",
    "\n",
    "normed_train_data = norm(train_dataset)\n",
    "normed_test_data = norm(test_dataset)\n",
    "normed_validation_data = norm(validation_dataset)"
   ]
  },
  {
   "cell_type": "code",
   "execution_count": 14,
   "metadata": {},
   "outputs": [
    {
     "data": {
      "text/html": [
       "<div>\n",
       "<style scoped>\n",
       "    .dataframe tbody tr th:only-of-type {\n",
       "        vertical-align: middle;\n",
       "    }\n",
       "\n",
       "    .dataframe tbody tr th {\n",
       "        vertical-align: top;\n",
       "    }\n",
       "\n",
       "    .dataframe thead th {\n",
       "        text-align: right;\n",
       "    }\n",
       "</style>\n",
       "<table border=\"1\" class=\"dataframe\">\n",
       "  <thead>\n",
       "    <tr style=\"text-align: right;\">\n",
       "      <th></th>\n",
       "      <th>Story_Point</th>\n",
       "    </tr>\n",
       "  </thead>\n",
       "  <tbody>\n",
       "    <tr>\n",
       "      <th>934</th>\n",
       "      <td>1.607988</td>\n",
       "    </tr>\n",
       "    <tr>\n",
       "      <th>1920</th>\n",
       "      <td>0.513734</td>\n",
       "    </tr>\n",
       "    <tr>\n",
       "      <th>37785</th>\n",
       "      <td>-0.580519</td>\n",
       "    </tr>\n",
       "    <tr>\n",
       "      <th>49035</th>\n",
       "      <td>-0.580519</td>\n",
       "    </tr>\n",
       "    <tr>\n",
       "      <th>49024</th>\n",
       "      <td>-0.580519</td>\n",
       "    </tr>\n",
       "  </tbody>\n",
       "</table>\n",
       "</div>"
      ],
      "text/plain": [
       "       Story_Point\n",
       "934       1.607988\n",
       "1920      0.513734\n",
       "37785    -0.580519\n",
       "49035    -0.580519\n",
       "49024    -0.580519"
      ]
     },
     "execution_count": 14,
     "metadata": {},
     "output_type": "execute_result"
    }
   ],
   "source": [
    "normed_train_data.head()"
   ]
  },
  {
   "cell_type": "markdown",
   "metadata": {},
   "source": [
    "### Firts Model\n",
    "Two hidden layers with 50 neurons each\n",
    "\n",
    "Learning rate at 0.001"
   ]
  },
  {
   "cell_type": "code",
   "execution_count": 15,
   "metadata": {},
   "outputs": [],
   "source": [
    "def build_first_model_two_hidden_layers():\n",
    "    model = Sequential(name = \"FirstModelTwoHiddenLayers\")\n",
    "\n",
    "    # Input layer\n",
    "    model.add(Input(shape=(normed_train_data.shape[1],)))\n",
    "\n",
    "    # Hidden layer \n",
    "    model.add(Dense(50, Activation('relu'), name='hidden_layer_1'))\n",
    "    model.add(Dense(50, Activation('relu'), name='hidden_layer_2'))\n",
    "\n",
    "    # Output layer \n",
    "    model.add(Dense(1))\n",
    "\n",
    "    learnig_rate = 0.0001\n",
    "    optimizer = optimizers.RMSprop(learning_rate=learnig_rate)\n",
    "    model.compile(loss='mse', optimizer=optimizer, metrics=['accuracy', 'mae', 'mse'])\n",
    "\n",
    "    return model"
   ]
  },
  {
   "cell_type": "markdown",
   "metadata": {},
   "source": [
    "### Second Model\n",
    "\n",
    "Three hidden layers with 32, 64 and 128 neurons, respectively\n",
    "\n",
    "Learning rate at 0.01"
   ]
  },
  {
   "cell_type": "code",
   "execution_count": 16,
   "metadata": {},
   "outputs": [],
   "source": [
    "def build_second_model_three_hidden_layers():\n",
    "    model = Sequential(name = \"SecondModelThreeHiddenLayers\")\n",
    "\n",
    "    # Input layer\n",
    "    model.add(Input(shape=(normed_train_data.shape[1],)))\n",
    "\n",
    "    # Hidden layer \n",
    "    model.add(Dense(128, Activation('relu'), name='hidden_layer_1'))\n",
    "    model.add(Dense(64, Activation('relu'), name='hidden_layer_3'))\n",
    "    model.add(Dense(32, Activation('relu'), name='hidden_layer_2'))\n",
    "    \n",
    "    \n",
    "    # Output layer \n",
    "    model.add(Dense(1))\n",
    "\n",
    "    learnig_rate = 0.0001\n",
    "    optimizer = optimizers.RMSprop(learning_rate=learnig_rate)\n",
    "    model.compile(loss='mse', optimizer=optimizer, metrics=['accuracy', 'mae', 'mse'])\n",
    "\n",
    "    return model"
   ]
  },
  {
   "cell_type": "markdown",
   "metadata": {},
   "source": [
    "### Third Model\n",
    "\n",
    "LSTM - Recurrent Neural Network"
   ]
  },
  {
   "cell_type": "code",
   "execution_count": 17,
   "metadata": {},
   "outputs": [],
   "source": [
    "def build_third_model_LSTM_hidden_layers():\n",
    "    model = Sequential(name = \"FourthModelLSTMHiddenLayers\")\n",
    "\n",
    "    model.add(Input(shape=(normed_train_data.shape[1],)))\n",
    "\n",
    "    model.add(Reshape((normed_train_data.shape[1], 1)))\n",
    "\n",
    "    model.add(LSTM(128))\n",
    "    model.add(Dropout(0.5))\n",
    "    model.add(Dense(32, kernel_regularizer=regularizers.l1_l2(l1=1e-5, l2=1e-4)))\n",
    "    model.add(PReLU())\n",
    "    model.add(Dense(1))\n",
    "\n",
    "    learning_rate = 0.001\n",
    "    optimizer = optimizers.Adam(learning_rate=learning_rate)\n",
    "    model.compile(\n",
    "        loss='mse',\n",
    "        optimizer=optimizer,\n",
    "        metrics=['accuracy', 'mae', 'mse'])\n",
    "\n",
    "    return model "
   ]
  },
  {
   "cell_type": "markdown",
   "metadata": {},
   "source": [
    "### Fourth Model\n",
    "\n",
    "Support Vector Machine"
   ]
  },
  {
   "cell_type": "code",
   "execution_count": 18,
   "metadata": {},
   "outputs": [],
   "source": [
    "def build_model_svc():\n",
    "    parameters = {'kernel':('linear', 'rbf')}\n",
    "    svr = SVR()\n",
    "    return GridSearchCV(svr, parameters)"
   ]
  },
  {
   "cell_type": "markdown",
   "metadata": {},
   "source": [
    "### Choose the model"
   ]
  },
  {
   "cell_type": "code",
   "execution_count": 19,
   "metadata": {},
   "outputs": [],
   "source": [
    "def choose_model(model_type, model_number):\n",
    "    if (model_type == 'Neuronal Network'):\n",
    "        if (model_number == 1):\n",
    "            return build_first_model_two_hidden_layers()\n",
    "        elif (model_number == 2):\n",
    "            return build_second_model_three_hidden_layers()\n",
    "        elif (model_number == 3):\n",
    "            return build_third_model_LSTM_hidden_layers()\n",
    "    else:\n",
    "        return build_model_svc()"
   ]
  },
  {
   "cell_type": "markdown",
   "metadata": {},
   "source": [
    "Save checkpoints during training"
   ]
  },
  {
   "cell_type": "code",
   "execution_count": 23,
   "metadata": {},
   "outputs": [],
   "source": [
    "checkpoint_path = r\".\\checkpoint_logs\\data.weights.h5\"\n",
    "\n",
    "ckpt_callback = tf.keras.callbacks.ModelCheckpoint(filepath=checkpoint_path,\n",
    "                                                 monitor='val_loss', \n",
    "                                                 save_best_only=True, # Default false. If you don't change the file name then the output will be overritten at each step and only the last model will be saved.\n",
    "                                                 save_weights_only=True, # True => model.save_weights (weights and no structure, you need JSON file for structure), False => model.save (saves weights & structure)\n",
    "                                                 verbose=0,\n",
    ")\n",
    "\n",
    "tensorboard_callback = TensorBoard(log_dir='./logs', histogram_freq=1, write_graph=True)"
   ]
  },
  {
   "cell_type": "markdown",
   "metadata": {},
   "source": [
    "## Model training"
   ]
  },
  {
   "cell_type": "code",
   "execution_count": 26,
   "metadata": {},
   "outputs": [],
   "source": [
    "def training_neural_network_model(model):\n",
    "        \n",
    "        # for first model - second place\n",
    "        # epochs = 80\n",
    "        # batch_size = 15\n",
    "\n",
    "        # for second model - worst for now\n",
    "        # epochs = 90\n",
    "        # batch_size = 20\n",
    "\n",
    "        # for fourth model - is winning\n",
    "        epochs = 70\n",
    "        batch_size = 5\n",
    "\n",
    "        history = model.fit(\n",
    "            normed_train_data,\n",
    "            train_label,\n",
    "            batch_size=batch_size,  \n",
    "            epochs=epochs, \n",
    "            verbose=0,\n",
    "            shuffle=True,\n",
    "            steps_per_epoch = int(normed_train_data.shape[0] / batch_size),\n",
    "            validation_data=(normed_validation_data, validation_label),\n",
    "            callbacks=[\n",
    "                tfdocs.modeling.EpochDots(),\n",
    "                tensorboard_callback,\n",
    "                ckpt_callback,\n",
    "            ]\n",
    "        )\n",
    "\n",
    "        return history"
   ]
  },
  {
   "cell_type": "code",
   "execution_count": 21,
   "metadata": {},
   "outputs": [],
   "source": [
    "def training_support_vector_machine_model(model):\n",
    "    model.fit(normed_train_data, train_label)\n",
    "    \n",
    "    history = pd.DataFrame({\n",
    "        'Accuracy': [model.score(normed_test_data, test_label)],\n",
    "        'Best params hash': [model.best_params_],\n",
    "        'Best score': [model.best_score_],\n",
    "        'Best estimator': [model.best_estimator_],\n",
    "    })\n",
    "\n",
    "    print(history)\n",
    "    return history"
   ]
  },
  {
   "cell_type": "markdown",
   "metadata": {},
   "source": [
    "To train NN model"
   ]
  },
  {
   "cell_type": "code",
   "execution_count": 27,
   "metadata": {},
   "outputs": [
    {
     "name": "stdout",
     "output_type": "stream",
     "text": [
      "\n",
      "Epoch: 0, accuracy:0.0048,  loss:1954.1946,  mae:35.6666,  mse:1954.1851,  val_accuracy:0.0000,  val_loss:1830.8978,  val_mae:34.8713,  val_mse:1896.3649,  \n",
      "......................................................................CPU times: total: 12.1 s\n",
      "Wall time: 30.7 s\n"
     ]
    }
   ],
   "source": [
    "%%time\n",
    "model = choose_model('Neuronal Network', 3)\n",
    "history = training_neural_network_model(model)"
   ]
  },
  {
   "cell_type": "markdown",
   "metadata": {},
   "source": [
    "To train SVM"
   ]
  },
  {
   "cell_type": "code",
   "execution_count": null,
   "metadata": {},
   "outputs": [],
   "source": [
    "%%time\n",
    "model = choose_model('Support Vector Machine', 0)\n",
    "history = training_support_vector_machine_model(model)"
   ]
  },
  {
   "cell_type": "markdown",
   "metadata": {},
   "source": [
    "## Predicting the data\n",
    "\n",
    "Here we will see the first 10 rows of the predicted data, comparing it with the real one"
   ]
  },
  {
   "cell_type": "code",
   "execution_count": 28,
   "metadata": {},
   "outputs": [
    {
     "name": "stdout",
     "output_type": "stream",
     "text": [
      "\u001b[1m1/1\u001b[0m \u001b[32m━━━━━━━━━━━━━━━━━━━━\u001b[0m\u001b[37m\u001b[0m \u001b[1m0s\u001b[0m 391ms/step\n",
      "Example for the first 5 samples\n",
      "Predicted Hours Logged\n",
      "[[38.73479 ]\n",
      " [37.06119 ]\n",
      " [33.728626]\n",
      " [33.728626]\n",
      " [33.728626]]\n",
      "Real Hours Logged\n",
      "934       1.0\n",
      "1920     22.0\n",
      "37785     5.0\n",
      "49035     5.0\n",
      "49024    15.0\n",
      "Name: Timespent, dtype: float64\n",
      "\u001b[1m1/1\u001b[0m \u001b[32m━━━━━━━━━━━━━━━━━━━━\u001b[0m\u001b[37m\u001b[0m \u001b[1m0s\u001b[0m 429ms/step\n"
     ]
    }
   ],
   "source": [
    "example_batch = normed_train_data[:5]\n",
    "example_result = model.predict(example_batch)\n",
    "\n",
    "print(\"Example for the first 5 samples\")\n",
    "print(\"Predicted Hours Logged\")\n",
    "print(example_result)\n",
    "    \n",
    "print(\"Real Hours Logged\")\n",
    "print(train_label[:5])\n",
    "\n",
    "test_predictions = model.predict(normed_test_data)"
   ]
  },
  {
   "cell_type": "code",
   "execution_count": 29,
   "metadata": {},
   "outputs": [
    {
     "name": "stdout",
     "output_type": "stream",
     "text": [
      "\u001b[1m1/1\u001b[0m \u001b[32m━━━━━━━━━━━━━━━━━━━━\u001b[0m\u001b[37m\u001b[0m \u001b[1m0s\u001b[0m 50ms/step\n"
     ]
    }
   ],
   "source": [
    "test_predictions = model.predict(normed_test_data).flatten()\n",
    "predictions_dataset = pd.DataFrame({\n",
    "    'Logged': test_label,\n",
    "    'Predicted': test_predictions\n",
    "})\n",
    "predictions_dataset_csv = predictions_dataset"
   ]
  },
  {
   "cell_type": "markdown",
   "metadata": {},
   "source": [
    "To save NN model"
   ]
  },
  {
   "cell_type": "code",
   "execution_count": 30,
   "metadata": {},
   "outputs": [],
   "source": [
    "predictions_dataset_csv.to_csv(r\"./outputs/neural_network/predictions_sip.csv\", index=False)"
   ]
  },
  {
   "cell_type": "markdown",
   "metadata": {},
   "source": [
    "To save SVM model"
   ]
  },
  {
   "cell_type": "code",
   "execution_count": 31,
   "metadata": {},
   "outputs": [],
   "source": [
    "predictions_dataset_csv.to_csv(r\"./outputs/svr/predictions_sip.csv\", index=False)"
   ]
  },
  {
   "cell_type": "markdown",
   "metadata": {},
   "source": [
    "Predictions VS. True Values for Hours Logged"
   ]
  },
  {
   "cell_type": "code",
   "execution_count": 32,
   "metadata": {},
   "outputs": [
    {
     "data": {
      "image/png": "[encoded data removed]",
      "text/plain": [
       "<Figure size 640x480 with 1 Axes>"
      ]
     },
     "metadata": {},
     "output_type": "display_data"
    }
   ],
   "source": [
    "axes = plt.axes(aspect='equal')\n",
    "plt.scatter(test_label, test_predictions)\n",
    "plt.xlabel('True Values [Hours Logged]')\n",
    "plt.ylabel('Predictions [Hours Logged]')\n",
    "# calculate the limit\n",
    "max_value = max(test_label.max(), test_predictions[0].max())\n",
    "_ = plt.plot([0, max_value], [0, max_value])\n",
    "plt.savefig(r\"./outputs/neural_network/prediction_plot_sip.png\")"
   ]
  },
  {
   "cell_type": "markdown",
   "metadata": {},
   "source": [
    "## Evaluating the model\n",
    "\n",
    "The metrics we choose to evaluate the model were **Mean Abs. Error** and **Mean squarred Error**"
   ]
  },
  {
   "cell_type": "markdown",
   "metadata": {},
   "source": [
    "### Showing the resulting metrics from the training"
   ]
  },
  {
   "cell_type": "code",
   "execution_count": 33,
   "metadata": {},
   "outputs": [],
   "source": [
    "def evaluating_neural_network_model(history):\n",
    "\n",
    "    history_dataset = pd.DataFrame(history.history)\n",
    "    history_dataset['epoch'] = history.epoch\n",
    "\n",
    "\n",
    "    print(\"Resume of the training history model\")\n",
    "    display(HTML(history_dataset.tail(5).to_html()))\n",
    "\n",
    "    history_dataset_csv = history_dataset\n",
    "    history_dataset_csv.to_csv(r\"./outputs/neural_network/history_sip.csv\", index=False)  \n",
    "\n",
    "    print(\"Plotting the training history model per epoch\")\n",
    "\n",
    "    plotter = tfdocs.plots.HistoryPlotter(smoothing_std=2)\n",
    "    plotter.plot({'Basic': history}, metric=\"mse\")\n",
    "    plt.ylabel('MSE [Metric]')\n",
    "\n",
    "    plt.savefig(r\"./outputs/neural_network/training_plot_sip.png\")\n",
    "    plt.show()\n"
   ]
  },
  {
   "cell_type": "code",
   "execution_count": 34,
   "metadata": {},
   "outputs": [],
   "source": [
    "def evaluating_svr_model(history, test_predictions):\n",
    "    history['MAE'] = [mean_absolute_error(test_label, test_predictions)]\n",
    "    history['MSE'] = [mean_squared_error(test_label, test_predictions)]\n",
    "\n",
    "    display(HTML(history.to_html()))\n",
    "\n",
    "    history.to_csv(r\"./outputs/svr/history_sip.csv\", index=False)   \n",
    "\n",
    "    # saving the results\n",
    "    pd.DataFrame({\n",
    "        'Logged': test_label,\n",
    "        'Predicted': test_predictions\n",
    "    }).to_csv(r\"./outputs/svr/history_sip.csv\", index=False)"
   ]
  },
  {
   "cell_type": "markdown",
   "metadata": {},
   "source": [
    "To evaluate NN model"
   ]
  },
  {
   "cell_type": "code",
   "execution_count": 35,
   "metadata": {},
   "outputs": [
    {
     "name": "stdout",
     "output_type": "stream",
     "text": [
      "Resume of the training history model\n"
     ]
    },
    {
     "data": {
      "text/html": [
       "<table border=\"1\" class=\"dataframe\">\n",
       "  <thead>\n",
       "    <tr style=\"text-align: right;\">\n",
       "      <th></th>\n",
       "      <th>accuracy</th>\n",
       "      <th>loss</th>\n",
       "      <th>mae</th>\n",
       "      <th>mse</th>\n",
       "      <th>val_accuracy</th>\n",
       "      <th>val_loss</th>\n",
       "      <th>val_mae</th>\n",
       "      <th>val_mse</th>\n",
       "      <th>epoch</th>\n",
       "    </tr>\n",
       "  </thead>\n",
       "  <tbody>\n",
       "    <tr>\n",
       "      <th>65</th>\n",
       "      <td>0.000000</td>\n",
       "      <td>138.335938</td>\n",
       "      <td>10.944874</td>\n",
       "      <td>276.636536</td>\n",
       "      <td>0.074074</td>\n",
       "      <td>658.395447</td>\n",
       "      <td>23.479929</td>\n",
       "      <td>694.425720</td>\n",
       "      <td>65</td>\n",
       "    </tr>\n",
       "    <tr>\n",
       "      <th>66</th>\n",
       "      <td>0.028571</td>\n",
       "      <td>671.034851</td>\n",
       "      <td>22.405260</td>\n",
       "      <td>670.999329</td>\n",
       "      <td>0.074074</td>\n",
       "      <td>659.602478</td>\n",
       "      <td>23.499084</td>\n",
       "      <td>695.160034</td>\n",
       "      <td>66</td>\n",
       "    </tr>\n",
       "    <tr>\n",
       "      <th>67</th>\n",
       "      <td>0.000000</td>\n",
       "      <td>168.811783</td>\n",
       "      <td>12.591266</td>\n",
       "      <td>337.588043</td>\n",
       "      <td>0.074074</td>\n",
       "      <td>659.240540</td>\n",
       "      <td>23.500521</td>\n",
       "      <td>694.906616</td>\n",
       "      <td>67</td>\n",
       "    </tr>\n",
       "    <tr>\n",
       "      <th>68</th>\n",
       "      <td>0.028571</td>\n",
       "      <td>692.365173</td>\n",
       "      <td>22.885017</td>\n",
       "      <td>692.329895</td>\n",
       "      <td>0.074074</td>\n",
       "      <td>661.826843</td>\n",
       "      <td>23.480064</td>\n",
       "      <td>697.210022</td>\n",
       "      <td>68</td>\n",
       "    </tr>\n",
       "    <tr>\n",
       "      <th>69</th>\n",
       "      <td>0.000000</td>\n",
       "      <td>209.481903</td>\n",
       "      <td>13.556430</td>\n",
       "      <td>418.928436</td>\n",
       "      <td>0.074074</td>\n",
       "      <td>661.591858</td>\n",
       "      <td>23.479237</td>\n",
       "      <td>697.038696</td>\n",
       "      <td>69</td>\n",
       "    </tr>\n",
       "  </tbody>\n",
       "</table>"
      ],
      "text/plain": [
       "<IPython.core.display.HTML object>"
      ]
     },
     "metadata": {},
     "output_type": "display_data"
    },
    {
     "name": "stdout",
     "output_type": "stream",
     "text": [
      "Plotting the training history model per epoch\n"
     ]
    },
    {
     "data": {
      "image/png": "[encoded data removed]",
      "text/plain": [
       "<Figure size 640x480 with 1 Axes>"
      ]
     },
     "metadata": {},
     "output_type": "display_data"
    }
   ],
   "source": [
    "evaluating_neural_network_model(history)"
   ]
  },
  {
   "cell_type": "markdown",
   "metadata": {},
   "source": [
    "To evaluate SVR model"
   ]
  },
  {
   "cell_type": "code",
   "execution_count": null,
   "metadata": {},
   "outputs": [],
   "source": [
    "evaluating_svr_model(history, test_predictions)"
   ]
  },
  {
   "cell_type": "markdown",
   "metadata": {},
   "source": [
    "Only if the model is a NN"
   ]
  },
  {
   "cell_type": "code",
   "execution_count": 36,
   "metadata": {},
   "outputs": [
    {
     "name": "stderr",
     "output_type": "stream",
     "text": [
      "WARNING:absl:You are saving your model as an HDF5 file via `model.save()` or `keras.saving.save_model(model)`. This file format is considered legacy. We recommend using instead the native Keras format, e.g. `model.save('my_model.keras')` or `keras.saving.save_model(model, 'my_model.keras')`. \n"
     ]
    },
    {
     "name": "stdout",
     "output_type": "stream",
     "text": [
      "Serving './outputs/neural_network/model_sip.h5' at http://localhost:8080\n"
     ]
    },
    {
     "data": {
      "text/plain": [
       "('localhost', 8080)"
      ]
     },
     "execution_count": 36,
     "metadata": {},
     "output_type": "execute_result"
    }
   ],
   "source": [
    "model.save(r\"./outputs/neural_network/model_sip.h5\")\n",
    "netron.start(r\"./outputs/neural_network/model_sip.h5\")"
   ]
  }
 ],
 "metadata": {
  "kernelspec": {
   "display_name": "Python 3",
   "language": "python",
   "name": "python3"
  },
  "language_info": {
   "codemirror_mode": {
    "name": "ipython",
    "version": 3
   },
   "file_extension": ".py",
   "mimetype": "text/x-python",
   "name": "python",
   "nbconvert_exporter": "python",
   "pygments_lexer": "ipython3",
   "version": "3.10.11"
  }
 },
 "nbformat": 4,
 "nbformat_minor": 2
}
